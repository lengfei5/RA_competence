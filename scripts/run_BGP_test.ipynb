{
 "cells": [
  {
   "cell_type": "code",
   "execution_count": null,
   "id": "68e7a104",
   "metadata": {},
   "outputs": [],
   "source": [
    "import time\n",
    "import numpy as np\n",
    "import pandas as pd\n",
    "from matplotlib import pyplot as plt"
   ]
  },
  {
   "cell_type": "code",
   "execution_count": null,
   "id": "f9cd7cfd",
   "metadata": {},
   "outputs": [],
   "source": [
    "import BranchedGP"
   ]
  },
  {
   "cell_type": "code",
   "execution_count": null,
   "id": "81970b46",
   "metadata": {},
   "outputs": [],
   "source": [
    "import sys\n",
    "import os"
   ]
  },
  {
   "cell_type": "code",
   "execution_count": null,
   "id": "99d5c91e",
   "metadata": {},
   "outputs": [],
   "source": [
    "plt.style.use(\"ggplot\")\n",
    "%matplotlib inline\n"
   ]
  },
  {
   "cell_type": "code",
   "execution_count": null,
   "id": "cfedd3a3",
   "metadata": {},
   "outputs": [],
   "source": [
    "Y = pd.read_csv(\"../results/scRNAseq_R13547_10x_mNT_20220813/RA_symetryBreaking/branching_genes_BGP/symmetry_breaking_scRNAseq_data_tfs.csv\", index_col=[0])\n",
    "monocle = pd.read_csv(\"../results/scRNAseq_R13547_10x_mNT_20220813/RA_symetryBreaking/branching_genes_BGP/symmetry_breaking_dpt.csv\", index_col=[0])"
   ]
  },
  {
   "cell_type": "code",
   "execution_count": null,
   "id": "cecd7187",
   "metadata": {},
   "outputs": [],
   "source": [
    "outDir = \"../results/scRNAseq_R13547_10x_mNT_20220813/RA_symetryBreaking/branching_genes_BGP/BGP_out_tfs/\""
   ]
  },
  {
   "cell_type": "code",
   "execution_count": null,
   "id": "8bdfa551",
   "metadata": {},
   "outputs": [],
   "source": [
    "Y.head()"
   ]
  },
  {
   "cell_type": "code",
   "execution_count": null,
   "id": "6a765329",
   "metadata": {},
   "outputs": [],
   "source": [
    "monocle.head()"
   ]
  },
  {
   "cell_type": "code",
   "execution_count": null,
   "id": "7cb8484f",
   "metadata": {},
   "outputs": [],
   "source": [
    "Y.shape"
   ]
  },
  {
   "cell_type": "code",
   "execution_count": null,
   "id": "58795eb9",
   "metadata": {},
   "outputs": [],
   "source": [
    "# Plot Monocle DDRTree space\n",
    "genelist = [\"Foxa2\", \"Pax6\", \"Skil\"]\n",
    "f, ax = plt.subplots(1, len(genelist), figsize=(10, 5), sharex=True, sharey=True)\n",
    "for ig, g in enumerate(genelist):\n",
    "    y = Y[g].values\n",
    "    yt = np.log(1 + y / y.max())\n",
    "    yt = yt / yt.max()\n",
    "    h = ax[ig].scatter(\n",
    "        monocle[\"DC_1\"],\n",
    "        monocle[\"DC_4\"],\n",
    "        c=yt,\n",
    "        s=50,\n",
    "        alpha=1.0,\n",
    "        vmin=0,\n",
    "        vmax=1,\n",
    "    )\n",
    "    ax[ig].set_title(g)"
   ]
  },
  {
   "cell_type": "code",
   "execution_count": null,
   "id": "94827ffd",
   "metadata": {},
   "outputs": [],
   "source": [
    "def PlotGene(label, X, Y, s=3, alpha=1.0, ax=None):\n",
    "    fig = None\n",
    "    if ax is None:\n",
    "        fig, ax = plt.subplots(1, 1, figsize=(5, 5))\n",
    "    for li in np.unique(label):\n",
    "        idxN = (label == li).flatten()\n",
    "        ax.scatter(X[idxN], Y[idxN], s=s, alpha=alpha, label=int(np.round(li)))\n",
    "    return fig, ax\n"
   ]
  },
  {
   "cell_type": "code",
   "execution_count": null,
   "id": "1f1b2423",
   "metadata": {},
   "outputs": [],
   "source": [
    "# np.linspace(0.05, 0.95, 5)"
   ]
  },
  {
   "cell_type": "code",
   "execution_count": null,
   "id": "e8478402",
   "metadata": {},
   "outputs": [],
   "source": [
    "def FitGene(g, ns=20):  # for quick results subsample data\n",
    "    t = time.time()\n",
    "    Bsearch = list(np.linspace(0.05, 0.95, 5)) + [\n",
    "        1.1\n",
    "    ]  # set of candidate branching points\n",
    "    GPy = (Y[g].iloc[::ns].values - Y[g].iloc[::ns].values.mean())[\n",
    "        :, None\n",
    "    ]  # remove mean from gene expression data\n",
    "    GPt = monocle[\"pseudotime\"].values[::ns]\n",
    "    globalBranching = monocle[\"state\"].values[::ns].astype(int)\n",
    "    d = BranchedGP.FitBranchingModel.FitModel(Bsearch, GPt, GPy, globalBranching)\n",
    "    print(g, \"BGP inference completed in %.1f seconds.\" % (time.time() - t))\n",
    "    # plot BGP\n",
    "    fig, ax = BranchedGP.VBHelperFunctions.PlotBGPFit(\n",
    "        GPy, GPt, Bsearch, d, figsize=(10, 10)\n",
    "    )\n",
    "    # overplot data\n",
    "    f, a = PlotGene(\n",
    "        monocle[\"state\"].values,\n",
    "        monocle[\"pseudotime\"].values,\n",
    "        Y[g].values - Y[g].iloc[::ns].values.mean(),\n",
    "        ax=ax[0],\n",
    "        s=10,\n",
    "        alpha=0.5,\n",
    "    )\n",
    "    # Calculate Bayes factor of branching vs non-branching\n",
    "    bf = BranchedGP.VBHelperFunctions.CalculateBranchingEvidence(d)[\"logBayesFactor\"]\n",
    "\n",
    "    fig.suptitle(\"%s log Bayes factor of branching %.1f\" % (g, bf))\n",
    "    return d, fig, ax, bf\n",
    "\n"
   ]
  },
  {
   "cell_type": "code",
   "execution_count": null,
   "id": "2801300d",
   "metadata": {},
   "outputs": [],
   "source": [
    "#gene = 'Foxa2'\n",
    "#n = 0;\n",
    "#outDir = \"../results/scRNAseq_R13547_10x_mNT_20220813/RA_symetryBreaking/branching_genes_BGP/BGP_out/\"\n",
    "#d_c, fig, ax, bf = FitGene(gene);   \n",
    "# save the plot\n",
    "#fig.savefig(os.path.join(outDir, gene + \"_branching_time.pdf\"));     \n"
   ]
  },
  {
   "cell_type": "code",
   "execution_count": null,
   "id": "f0ff7712",
   "metadata": {},
   "outputs": [],
   "source": [
    "#d_c"
   ]
  },
  {
   "cell_type": "code",
   "execution_count": null,
   "id": "d5703667",
   "metadata": {},
   "outputs": [],
   "source": [
    "#bf"
   ]
  },
  {
   "cell_type": "code",
   "execution_count": null,
   "id": "1346e7b5",
   "metadata": {},
   "outputs": [],
   "source": [
    "#with open(os.path.join(outDir, gene + \"_branching_time.txt\"), 'w') as f:\n",
    "#        f.write(gene + '\\t' + str(braching_time) + '\\t' + str(bf))   "
   ]
  },
  {
   "cell_type": "code",
   "execution_count": null,
   "id": "21b84772",
   "metadata": {},
   "outputs": [],
   "source": [
    "n = 0;\n",
    "for gene in Y.columns:\n",
    "    print(gene)\n",
    "    n = n + 1 \n",
    "    \n",
    "    # gene = 'Foxa2'\n",
    "    d_c, fig, ax, bf = FitGene(gene);\n",
    "    \n",
    "    # save the plot\n",
    "    fig.savefig(os.path.join(outDir, gene + \"_branching_time.pdf\")); \n",
    "    \n",
    "    braching_time = d_c['posteriorB']['Bmode']\n",
    "    \n",
    "    with open(os.path.join(outDir, gene + \"_branching_time.txt\"), 'w') as f:\n",
    "        f.write(gene + '\\t' + str(braching_time) + '\\t' + str(bf))\n",
    "    \n",
    "    #if(n > 3):\n",
    "    #    break\n",
    "    "
   ]
  },
  {
   "cell_type": "code",
   "execution_count": null,
   "id": "87547b7c",
   "metadata": {},
   "outputs": [],
   "source": []
  },
  {
   "cell_type": "code",
   "execution_count": null,
   "id": "bc8585b8",
   "metadata": {},
   "outputs": [],
   "source": []
  },
  {
   "cell_type": "code",
   "execution_count": null,
   "id": "227b6cec",
   "metadata": {},
   "outputs": [],
   "source": []
  },
  {
   "cell_type": "code",
   "execution_count": null,
   "id": "be27bb7d",
   "metadata": {},
   "outputs": [],
   "source": []
  },
  {
   "cell_type": "code",
   "execution_count": null,
   "id": "d1c150ab",
   "metadata": {},
   "outputs": [],
   "source": []
  },
  {
   "cell_type": "code",
   "execution_count": null,
   "id": "27c1ad63",
   "metadata": {},
   "outputs": [],
   "source": []
  },
  {
   "cell_type": "code",
   "execution_count": null,
   "id": "aeec1998",
   "metadata": {},
   "outputs": [],
   "source": []
  },
  {
   "cell_type": "code",
   "execution_count": null,
   "id": "2a2ff3fc",
   "metadata": {},
   "outputs": [],
   "source": []
  },
  {
   "cell_type": "code",
   "execution_count": null,
   "id": "f3965621",
   "metadata": {},
   "outputs": [],
   "source": [
    "fig\n",
    "gene = 'Foxa2'"
   ]
  },
  {
   "cell_type": "code",
   "execution_count": null,
   "id": "4bec2f52",
   "metadata": {},
   "outputs": [],
   "source": [
    "outDir = \"../results/scRNAseq_R13547_10x_mNT_20220813/RA_symetryBreaking/branching_genes_BGP/BGP_out/\"\n",
    "fig.savefig(os.path.join(outDir, gene+ \"_branching_time.pdf\")) "
   ]
  },
  {
   "cell_type": "code",
   "execution_count": null,
   "id": "bd1a5cc4",
   "metadata": {},
   "outputs": [],
   "source": [
    "braching_time = d_c['posteriorB']['Bmode']\n",
    "    \n",
    "with open(os.path.join(outDir, gene + \"_branching_time.txt\"), 'w') as f:\n",
    "    f.write(str(braching_time))"
   ]
  },
  {
   "cell_type": "code",
   "execution_count": null,
   "id": "e40d53f0",
   "metadata": {},
   "outputs": [],
   "source": [
    "braching_time = d_c['posteriorB']['Bmode']\n",
    "braching_time"
   ]
  },
  {
   "cell_type": "code",
   "execution_count": null,
   "id": "342e8e86",
   "metadata": {},
   "outputs": [],
   "source": [
    "d, fig, ax = FitGene(\"Foxa2\")"
   ]
  },
  {
   "cell_type": "code",
   "execution_count": null,
   "id": "729c23f0",
   "metadata": {},
   "outputs": [],
   "source": [
    "d_c, fig_c, ax_c = FitGene(\"Pax6\")"
   ]
  },
  {
   "cell_type": "code",
   "execution_count": null,
   "id": "b5905d72",
   "metadata": {},
   "outputs": [],
   "source": [
    "d_c, fig_c, ax_c = FitGene(\"Tcf15\")"
   ]
  },
  {
   "cell_type": "code",
   "execution_count": null,
   "id": "14ba6f0c",
   "metadata": {},
   "outputs": [],
   "source": [
    "d_c, fig_c, ax_c = FitGene(\"Peg3\")"
   ]
  },
  {
   "cell_type": "code",
   "execution_count": null,
   "id": "df5ae66e",
   "metadata": {},
   "outputs": [],
   "source": [
    "d_c['posteriorB']\n"
   ]
  },
  {
   "cell_type": "code",
   "execution_count": null,
   "id": "8a89b233",
   "metadata": {},
   "outputs": [],
   "source": [
    "d_c['posteriorB']['Bmode']"
   ]
  },
  {
   "cell_type": "code",
   "execution_count": null,
   "id": "242e7a75",
   "metadata": {},
   "outputs": [],
   "source": [
    "np.linspace(0.05, 0.95, 10)"
   ]
  },
  {
   "cell_type": "code",
   "execution_count": null,
   "id": "494cf9b6",
   "metadata": {},
   "outputs": [],
   "source": [
    "d_c, fig_c, ax_c = FitGene(\"Lef1\")"
   ]
  },
  {
   "cell_type": "code",
   "execution_count": null,
   "id": "cedb1673",
   "metadata": {},
   "outputs": [],
   "source": []
  },
  {
   "cell_type": "code",
   "execution_count": null,
   "id": "723dcc4c",
   "metadata": {},
   "outputs": [],
   "source": [
    "import pickle\n",
    "\n",
    "import numpy as np\n",
    "import pandas as pd\n",
    "from matplotlib import pyplot as plt\n",
    "\n",
    "from BranchedGP import VBHelperFunctions as bplot\n",
    "\n",
    "plt.style.use(\"ggplot\")\n",
    "%matplotlib inline\n"
   ]
  },
  {
   "cell_type": "code",
   "execution_count": null,
   "id": "72abcd0c",
   "metadata": {},
   "outputs": [],
   "source": [
    "datafile = \"analysis_examples/BranchedGP/notebooks/syntheticdata/synthetic20.csv\"\n",
    "data = pd.read_csv(datafile, index_col=[0])\n",
    "G = data.shape[1] - 2  # all data - time columns - state column\n",
    "Y = data.iloc[:, 2:]\n",
    "trueBranchingTimes = np.array([float(Y.columns[i][-3:]) for i in range(G)])"
   ]
  },
  {
   "cell_type": "code",
   "execution_count": null,
   "id": "69e6a7c0",
   "metadata": {},
   "outputs": [],
   "source": [
    "data.head()\n"
   ]
  },
  {
   "cell_type": "code",
   "execution_count": null,
   "id": "0719862e",
   "metadata": {},
   "outputs": [],
   "source": [
    "data.shape"
   ]
  },
  {
   "cell_type": "code",
   "execution_count": null,
   "id": "15d8b783",
   "metadata": {},
   "outputs": [],
   "source": [
    "f, ax = plt.subplots(5, 8, figsize=(10, 8))\n",
    "ax = ax.flatten()\n",
    "for i in range(G):\n",
    "    for s in np.unique(data[\"MonocleState\"]):\n",
    "        idxs = s == data[\"MonocleState\"].values\n",
    "        ax[i].scatter(data[\"Time\"].loc[idxs], Y.iloc[:, i].loc[idxs])\n",
    "        ax[i].set_title(Y.columns[i])\n",
    "        ax[i].set_yticklabels([])\n",
    "        ax[i].set_xticklabels([])\n",
    "f.suptitle(\"Branching genes, location=1.1 indicates no branching\")"
   ]
  },
  {
   "cell_type": "code",
   "execution_count": null,
   "id": "5596856a",
   "metadata": {},
   "outputs": [],
   "source": [
    "#Run the BGP model\n",
    "# Run script runsyntheticData.py to obtain a pickle file with results. \n",
    "# This script can take ~10 to 20 minutes depending on your hardware. \n",
    "# It performs a gene-by-gene branch model fitting.\n"
   ]
  },
  {
   "cell_type": "code",
   "execution_count": null,
   "id": "294efb73",
   "metadata": {},
   "outputs": [],
   "source": [
    "r = pickle.load(open(\"analysis_examples/BranchedGP/notebooks/syntheticdata/syntheticDataRun.p\", \"rb\"))"
   ]
  },
  {
   "cell_type": "code",
   "execution_count": null,
   "id": "1cdaff00",
   "metadata": {},
   "outputs": [],
   "source": [
    "r.keys()"
   ]
  },
  {
   "cell_type": "code",
   "execution_count": null,
   "id": "e112460c",
   "metadata": {},
   "outputs": [],
   "source": [
    "# plot fit for a gene\n",
    "g = 0\n",
    "GPy = Y.iloc[:, g][:, None]\n",
    "GPt = data[\"Time\"].values\n",
    "globalBranching = data[\"MonocleState\"].values.astype(int)\n",
    "bmode = r[\"Bsearch\"][np.argmax(r[\"gpmodels\"][g][\"loglik\"])]\n",
    "print(\"True branching time\", trueBranchingTimes[g], \"BGP Maximum at b=%.2f\" % bmode)\n",
    "_ = bplot.PlotBGPFit(GPy, GPt, r[\"Bsearch\"], r[\"gpmodels\"][g])"
   ]
  },
  {
   "cell_type": "code",
   "execution_count": null,
   "id": "210ee309",
   "metadata": {},
   "outputs": [],
   "source": [
    "g = 0\n",
    "bmode = r[\"Bsearch\"][np.argmax(r[\"gpmodels\"][g][\"loglik\"])]\n",
    "pred = r[\"gpmodels\"][g][\"prediction\"]  # prediction object from GP\n"
   ]
  },
  {
   "cell_type": "code",
   "execution_count": null,
   "id": "106eeda3",
   "metadata": {},
   "outputs": [],
   "source": [
    "pred[\"mu\"];"
   ]
  },
  {
   "cell_type": "code",
   "execution_count": null,
   "id": "f98d2492",
   "metadata": {},
   "outputs": [],
   "source": [
    "_ = bplot.plotBranchModel(\n",
    "    bmode,\n",
    "    GPt,\n",
    "    GPy,\n",
    "    pred[\"xtest\"],\n",
    "    pred[\"mu\"],\n",
    "    pred[\"var\"],\n",
    "    r[\"gpmodels\"][g][\"Phi\"],\n",
    "    fPlotPhi=True,\n",
    "    fColorBar=True,\n",
    "    fPlotVar=True,\n",
    ")"
   ]
  },
  {
   "cell_type": "code",
   "execution_count": null,
   "id": "55caea7a",
   "metadata": {},
   "outputs": [],
   "source": [
    "fs, ax = plt.subplots(1, 1, figsize=(5, 5))\n",
    "for g in range(G):\n",
    "    bmode = r[\"Bsearch\"][np.argmax(r[\"gpmodels\"][g][\"loglik\"])]\n",
    "    ax.scatter(bmode, g, s=100, color=\"b\")  # BGP mode\n",
    "    ax.scatter(trueBranchingTimes[g] + 0.05, g, s=100, color=\"k\")  # True"
   ]
  },
  {
   "cell_type": "code",
   "execution_count": null,
   "id": "400e015c",
   "metadata": {},
   "outputs": [],
   "source": []
  }
 ],
 "metadata": {
  "kernelspec": {
   "display_name": "cellrank",
   "language": "python",
   "name": "cellrank"
  },
  "language_info": {
   "codemirror_mode": {
    "name": "ipython",
    "version": 3
   },
   "file_extension": ".py",
   "mimetype": "text/x-python",
   "name": "python",
   "nbconvert_exporter": "python",
   "pygments_lexer": "ipython3",
   "version": "3.7.15"
  }
 },
 "nbformat": 4,
 "nbformat_minor": 5
}
