{
 "cells": [
  {
   "cell_type": "code",
   "execution_count": 2,
   "id": "19fefc1d",
   "metadata": {},
   "outputs": [
    {
     "name": "stderr",
     "output_type": "stream",
     "text": [
      "/Users/jingkui.wang/anaconda3/envs/pyscenic2/lib/python3.8/site-packages/pyscenic/transform.py:42: FutureWarning: In the future `np.object` will be defined as the corresponding NumPy scalar.\n",
      "  (\"Enrichment\", COLUMN_NAME_ANNOTATION): np.object,\n"
     ]
    },
    {
     "ename": "AttributeError",
     "evalue": "module 'numpy' has no attribute 'object'.\n`np.object` was a deprecated alias for the builtin `object`. To avoid this error in existing code, use `object` by itself. Doing this will not modify any behavior and is safe. \nThe aliases was originally deprecated in NumPy 1.20; for more details and guidance see the original release note at:\n    https://numpy.org/devdocs/release/1.20.0-notes.html#deprecations",
     "output_type": "error",
     "traceback": [
      "\u001b[0;31m---------------------------------------------------------------------------\u001b[0m",
      "\u001b[0;31mAttributeError\u001b[0m                            Traceback (most recent call last)",
      "Cell \u001b[0;32mIn[2], line 17\u001b[0m\n\u001b[1;32m     15\u001b[0m \u001b[38;5;28;01mfrom\u001b[39;00m \u001b[38;5;21;01mpyscenic\u001b[39;00m\u001b[38;5;21;01m.\u001b[39;00m\u001b[38;5;21;01mplotting\u001b[39;00m \u001b[38;5;28;01mimport\u001b[39;00m plot_binarization\n\u001b[1;32m     16\u001b[0m \u001b[38;5;28;01mfrom\u001b[39;00m \u001b[38;5;21;01mpyscenic\u001b[39;00m\u001b[38;5;21;01m.\u001b[39;00m\u001b[38;5;21;01mexport\u001b[39;00m \u001b[38;5;28;01mimport\u001b[39;00m add_scenic_metadata\n\u001b[0;32m---> 17\u001b[0m \u001b[38;5;28;01mfrom\u001b[39;00m \u001b[38;5;21;01mpyscenic\u001b[39;00m\u001b[38;5;21;01m.\u001b[39;00m\u001b[38;5;21;01mcli\u001b[39;00m\u001b[38;5;21;01m.\u001b[39;00m\u001b[38;5;21;01mutils\u001b[39;00m \u001b[38;5;28;01mimport\u001b[39;00m load_signatures\n\u001b[1;32m     18\u001b[0m \u001b[38;5;28;01mimport\u001b[39;00m \u001b[38;5;21;01mmatplotlib\u001b[39;00m \u001b[38;5;28;01mas\u001b[39;00m \u001b[38;5;21;01mmpl\u001b[39;00m\n\u001b[1;32m     19\u001b[0m \u001b[38;5;28;01mimport\u001b[39;00m \u001b[38;5;21;01mmatplotlib\u001b[39;00m\u001b[38;5;21;01m.\u001b[39;00m\u001b[38;5;21;01mpyplot\u001b[39;00m \u001b[38;5;28;01mas\u001b[39;00m \u001b[38;5;21;01mplt\u001b[39;00m\n",
      "File \u001b[0;32m~/anaconda3/envs/pyscenic2/lib/python3.8/site-packages/pyscenic/cli/utils.py:18\u001b[0m\n\u001b[1;32m     15\u001b[0m \u001b[38;5;28;01mfrom\u001b[39;00m \u001b[38;5;21;01mctxcore\u001b[39;00m\u001b[38;5;21;01m.\u001b[39;00m\u001b[38;5;21;01mgenesig\u001b[39;00m \u001b[38;5;28;01mimport\u001b[39;00m GeneSignature, openfile\n\u001b[1;32m     17\u001b[0m \u001b[38;5;28;01mfrom\u001b[39;00m \u001b[38;5;21;01mpyscenic\u001b[39;00m\u001b[38;5;21;01m.\u001b[39;00m\u001b[38;5;21;01mbinarization\u001b[39;00m \u001b[38;5;28;01mimport\u001b[39;00m binarize\n\u001b[0;32m---> 18\u001b[0m \u001b[38;5;28;01mfrom\u001b[39;00m \u001b[38;5;21;01mpyscenic\u001b[39;00m\u001b[38;5;21;01m.\u001b[39;00m\u001b[38;5;21;01mtransform\u001b[39;00m \u001b[38;5;28;01mimport\u001b[39;00m df2regulons\n\u001b[1;32m     19\u001b[0m \u001b[38;5;28;01mfrom\u001b[39;00m \u001b[38;5;21;01mpyscenic\u001b[39;00m\u001b[38;5;21;01m.\u001b[39;00m\u001b[38;5;21;01mutils\u001b[39;00m \u001b[38;5;28;01mimport\u001b[39;00m load_from_yaml, load_motifs, save_to_yaml\n\u001b[1;32m     21\u001b[0m __all__ \u001b[38;5;241m=\u001b[39m [\n\u001b[1;32m     22\u001b[0m     \u001b[38;5;124m\"\u001b[39m\u001b[38;5;124msave_matrix\u001b[39m\u001b[38;5;124m\"\u001b[39m,\n\u001b[1;32m     23\u001b[0m     \u001b[38;5;124m\"\u001b[39m\u001b[38;5;124mload_exp_matrix\u001b[39m\u001b[38;5;124m\"\u001b[39m,\n\u001b[0;32m   (...)\u001b[0m\n\u001b[1;32m     28\u001b[0m     \u001b[38;5;124m\"\u001b[39m\u001b[38;5;124mappend_auc_mtx\u001b[39m\u001b[38;5;124m\"\u001b[39m,\n\u001b[1;32m     29\u001b[0m ]\n",
      "File \u001b[0;32m~/anaconda3/envs/pyscenic2/lib/python3.8/site-packages/pyscenic/transform.py:42\u001b[0m\n\u001b[1;32m     34\u001b[0m COLUMN_NAME_TYPE \u001b[38;5;241m=\u001b[39m \u001b[38;5;124m\"\u001b[39m\u001b[38;5;124mType\u001b[39m\u001b[38;5;124m\"\u001b[39m\n\u001b[1;32m     35\u001b[0m \u001b[38;5;66;03m# TODO: Should actually be a function depending on return_recovery_curves and rank_threshold\u001b[39;00m\n\u001b[1;32m     36\u001b[0m DF_META_DATA \u001b[38;5;241m=\u001b[39m make_meta(\n\u001b[1;32m     37\u001b[0m     {\n\u001b[1;32m     38\u001b[0m         (\u001b[38;5;124m\"\u001b[39m\u001b[38;5;124mEnrichment\u001b[39m\u001b[38;5;124m\"\u001b[39m, COLUMN_NAME_AUC): np\u001b[38;5;241m.\u001b[39mfloat64,\n\u001b[1;32m     39\u001b[0m         (\u001b[38;5;124m\"\u001b[39m\u001b[38;5;124mEnrichment\u001b[39m\u001b[38;5;124m\"\u001b[39m, COLUMN_NAME_NES): np\u001b[38;5;241m.\u001b[39mfloat64,\n\u001b[1;32m     40\u001b[0m         (\u001b[38;5;124m\"\u001b[39m\u001b[38;5;124mEnrichment\u001b[39m\u001b[38;5;124m\"\u001b[39m, COLUMN_NAME_MOTIF_SIMILARITY_QVALUE): np\u001b[38;5;241m.\u001b[39mfloat64,\n\u001b[1;32m     41\u001b[0m         (\u001b[38;5;124m\"\u001b[39m\u001b[38;5;124mEnrichment\u001b[39m\u001b[38;5;124m\"\u001b[39m, COLUMN_NAME_ORTHOLOGOUS_IDENTITY): np\u001b[38;5;241m.\u001b[39mfloat64,\n\u001b[0;32m---> 42\u001b[0m         (\u001b[38;5;124m\"\u001b[39m\u001b[38;5;124mEnrichment\u001b[39m\u001b[38;5;124m\"\u001b[39m, COLUMN_NAME_ANNOTATION): \u001b[43mnp\u001b[49m\u001b[38;5;241;43m.\u001b[39;49m\u001b[43mobject\u001b[49m,\n\u001b[1;32m     43\u001b[0m         (\u001b[38;5;124m\"\u001b[39m\u001b[38;5;124mEnrichment\u001b[39m\u001b[38;5;124m\"\u001b[39m, COLUMN_NAME_CONTEXT): np\u001b[38;5;241m.\u001b[39mobject,\n\u001b[1;32m     44\u001b[0m         (\u001b[38;5;124m\"\u001b[39m\u001b[38;5;124mEnrichment\u001b[39m\u001b[38;5;124m\"\u001b[39m, COLUMN_NAME_TARGET_GENES): np\u001b[38;5;241m.\u001b[39mobject,\n\u001b[1;32m     45\u001b[0m         (\u001b[38;5;124m\"\u001b[39m\u001b[38;5;124mEnrichment\u001b[39m\u001b[38;5;124m\"\u001b[39m, COLUMN_NAME_RANK_AT_MAX): np\u001b[38;5;241m.\u001b[39mint64,\n\u001b[1;32m     46\u001b[0m     },\n\u001b[1;32m     47\u001b[0m     index\u001b[38;5;241m=\u001b[39mpd\u001b[38;5;241m.\u001b[39mMultiIndex\u001b[38;5;241m.\u001b[39mfrom_arrays(\n\u001b[1;32m     48\u001b[0m         [[], []], names\u001b[38;5;241m=\u001b[39m(COLUMN_NAME_TF, COLUMN_NAME_MOTIF_ID)\n\u001b[1;32m     49\u001b[0m     ),\n\u001b[1;32m     50\u001b[0m )\n\u001b[1;32m     53\u001b[0m __all__ \u001b[38;5;241m=\u001b[39m [\n\u001b[1;32m     54\u001b[0m     \u001b[38;5;124m\"\u001b[39m\u001b[38;5;124mmodule2features\u001b[39m\u001b[38;5;124m\"\u001b[39m,\n\u001b[1;32m     55\u001b[0m     \u001b[38;5;124m\"\u001b[39m\u001b[38;5;124mmodule2df\u001b[39m\u001b[38;5;124m\"\u001b[39m,\n\u001b[0;32m   (...)\u001b[0m\n\u001b[1;32m     59\u001b[0m     \u001b[38;5;124m\"\u001b[39m\u001b[38;5;124mmodules2regulons\u001b[39m\u001b[38;5;124m\"\u001b[39m,\n\u001b[1;32m     60\u001b[0m ]\n\u001b[1;32m     63\u001b[0m LOGGER \u001b[38;5;241m=\u001b[39m logging\u001b[38;5;241m.\u001b[39mgetLogger(\u001b[38;5;18m__name__\u001b[39m)\n",
      "File \u001b[0;32m~/anaconda3/envs/pyscenic2/lib/python3.8/site-packages/numpy/__init__.py:305\u001b[0m, in \u001b[0;36m__getattr__\u001b[0;34m(attr)\u001b[0m\n\u001b[1;32m    300\u001b[0m     warnings\u001b[38;5;241m.\u001b[39mwarn(\n\u001b[1;32m    301\u001b[0m         \u001b[38;5;124mf\u001b[39m\u001b[38;5;124m\"\u001b[39m\u001b[38;5;124mIn the future `np.\u001b[39m\u001b[38;5;132;01m{\u001b[39;00mattr\u001b[38;5;132;01m}\u001b[39;00m\u001b[38;5;124m` will be defined as the \u001b[39m\u001b[38;5;124m\"\u001b[39m\n\u001b[1;32m    302\u001b[0m         \u001b[38;5;124m\"\u001b[39m\u001b[38;5;124mcorresponding NumPy scalar.\u001b[39m\u001b[38;5;124m\"\u001b[39m, \u001b[38;5;167;01mFutureWarning\u001b[39;00m, stacklevel\u001b[38;5;241m=\u001b[39m\u001b[38;5;241m2\u001b[39m)\n\u001b[1;32m    304\u001b[0m \u001b[38;5;28;01mif\u001b[39;00m attr \u001b[38;5;129;01min\u001b[39;00m __former_attrs__:\n\u001b[0;32m--> 305\u001b[0m     \u001b[38;5;28;01mraise\u001b[39;00m \u001b[38;5;167;01mAttributeError\u001b[39;00m(__former_attrs__[attr])\n\u001b[1;32m    307\u001b[0m \u001b[38;5;66;03m# Importing Tester requires importing all of UnitTest which is not a\u001b[39;00m\n\u001b[1;32m    308\u001b[0m \u001b[38;5;66;03m# cheap import Since it is mainly used in test suits, we lazy import it\u001b[39;00m\n\u001b[1;32m    309\u001b[0m \u001b[38;5;66;03m# here to save on the order of 10 ms of import time for most users\u001b[39;00m\n\u001b[1;32m    310\u001b[0m \u001b[38;5;66;03m#\u001b[39;00m\n\u001b[1;32m    311\u001b[0m \u001b[38;5;66;03m# The previous way Tester was imported also had a side effect of adding\u001b[39;00m\n\u001b[1;32m    312\u001b[0m \u001b[38;5;66;03m# the full `numpy.testing` namespace\u001b[39;00m\n\u001b[1;32m    313\u001b[0m \u001b[38;5;28;01mif\u001b[39;00m attr \u001b[38;5;241m==\u001b[39m \u001b[38;5;124m'\u001b[39m\u001b[38;5;124mtesting\u001b[39m\u001b[38;5;124m'\u001b[39m:\n",
      "\u001b[0;31mAttributeError\u001b[0m: module 'numpy' has no attribute 'object'.\n`np.object` was a deprecated alias for the builtin `object`. To avoid this error in existing code, use `object` by itself. Doing this will not modify any behavior and is safe. \nThe aliases was originally deprecated in NumPy 1.20; for more details and guidance see the original release note at:\n    https://numpy.org/devdocs/release/1.20.0-notes.html#deprecations"
     ]
    }
   ],
   "source": [
    "## original code from \n",
    "#http://htmlpreview.github.io/?https://github.com/aertslab/SCENICprotocol/blob/master/notebooks/\n",
    "# PBMC10k_downstream-analysis.html\n",
    "# import dependencies \n",
    "import os\n",
    "import numpy as np\n",
    "import pandas as pd\n",
    "import scanpy as sc\n",
    "import collections.abc as collections # \n",
    "import loompy as lp\n",
    "from MulticoreTSNE import MulticoreTSNE as TSNE\n",
    "import json\n",
    "import base64\n",
    "import zlib\n",
    "from pyscenic.plotting import plot_binarization\n",
    "from pyscenic.export import add_scenic_metadata\n",
    "from pyscenic.cli.utils import load_signatures\n",
    "import matplotlib as mpl\n",
    "import matplotlib.pyplot as plt\n",
    "from scanpy.plotting._tools.scatterplots import plot_scatter\n",
    "import seaborn as sns"
   ]
  },
  {
   "cell_type": "code",
   "execution_count": null,
   "id": "40fa5163",
   "metadata": {},
   "outputs": [],
   "source": []
  },
  {
   "cell_type": "code",
   "execution_count": null,
   "id": "d85ca06d",
   "metadata": {},
   "outputs": [],
   "source": []
  }
 ],
 "metadata": {
  "kernelspec": {
   "display_name": "pyscenic2",
   "language": "python",
   "name": "pyscenic2"
  },
  "language_info": {
   "codemirror_mode": {
    "name": "ipython",
    "version": 3
   },
   "file_extension": ".py",
   "mimetype": "text/x-python",
   "name": "python",
   "nbconvert_exporter": "python",
   "pygments_lexer": "ipython3",
   "version": "3.8.17"
  }
 },
 "nbformat": 4,
 "nbformat_minor": 5
}
