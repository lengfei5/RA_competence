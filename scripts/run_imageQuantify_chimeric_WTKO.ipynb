{
 "cells": [
  {
   "cell_type": "code",
   "execution_count": 1,
   "id": "f7338d4d-f404-477f-81a8-69654f7c6a07",
   "metadata": {},
   "outputs": [],
   "source": [
    "## original code from https://biapol.github.io/Image-data-science-with-Python-and-Napari-EPFL2022/day2d_image_segmentation/12_Segmentation_3D.html\n",
    "## env setting to see https://github.com/clEsperanto/pyclesperanto_prototype/tree/master"
   ]
  },
  {
   "cell_type": "code",
   "execution_count": 2,
   "id": "95c3316e-0ae6-43a9-b5d2-03887d56b090",
   "metadata": {},
   "outputs": [],
   "source": [
    "from skimage.io import imread\n",
    "from skimage.io import imsave\n",
    "from skimage import filters\n",
    "from skimage import morphology\n",
    "from pyclesperanto_prototype import imshow\n",
    "import pyclesperanto_prototype as cle\n",
    "import matplotlib.pyplot as plt"
   ]
  },
  {
   "cell_type": "code",
   "execution_count": null,
   "id": "67558da2-c483-425d-b13a-80e768d016fa",
   "metadata": {},
   "outputs": [],
   "source": [
    "import napari\n",
    "from napari.utils import nbscreenshot"
   ]
  },
  {
   "cell_type": "code",
   "execution_count": null,
   "id": "c7310633-d0c0-485b-a42a-00ae47d78ea5",
   "metadata": {},
   "outputs": [],
   "source": [
    "import numpy as np\n",
    "import matplotlib\n",
    "import matplotlib.pyplot as plt\n",
    "import pandas as pd\n",
    "from skimage import measure"
   ]
  },
  {
   "cell_type": "code",
   "execution_count": null,
   "id": "a387c1e5-4aa9-466e-9bd7-883b0f3671ae",
   "metadata": {},
   "outputs": [],
   "source": [
    "import os\n",
    "os.getcwd()"
   ]
  },
  {
   "cell_type": "code",
   "execution_count": null,
   "id": "a5e4e447-279b-492a-bdf5-f78225d41e3b",
   "metadata": {},
   "outputs": [],
   "source": [
    "cle.available_device_names()"
   ]
  },
  {
   "cell_type": "code",
   "execution_count": null,
   "id": "9851aa73-846a-4f62-944d-a31b140a629e",
   "metadata": {},
   "outputs": [],
   "source": [
    "# For 3D processing, powerful graphics\n",
    "# processing units might be necessary\n",
    "cle.select_device('TX')"
   ]
  },
  {
   "cell_type": "code",
   "execution_count": 8,
   "id": "7f44fe4e-a315-4a85-8904-a78c1ff13121",
   "metadata": {},
   "outputs": [],
   "source": [
    "def show(image_to_show, labels=False):\n",
    "    \"\"\"\n",
    "    This function generates three projections: in X-, Y- and Z-direction and shows them.\n",
    "    \"\"\"\n",
    "    projection_x = cle.maximum_x_projection(image_to_show)\n",
    "    projection_y = cle.maximum_y_projection(image_to_show)\n",
    "    projection_z = cle.maximum_z_projection(image_to_show)\n",
    "\n",
    "    fig, axs = plt.subplots(1, 3, figsize=(15, 15))\n",
    "    cle.imshow(projection_x, plot=axs[0], labels=labels)\n",
    "    cle.imshow(projection_y, plot=axs[1], labels=labels)\n",
    "    cle.imshow(projection_z, plot=axs[2], labels=labels)\n",
    "    plt.show()\n"
   ]
  },
  {
   "cell_type": "code",
   "execution_count": null,
   "id": "b44961c0-b185-4225-b6dc-cc085fa4e28b",
   "metadata": {},
   "outputs": [],
   "source": []
  },
  {
   "cell_type": "code",
   "execution_count": null,
   "id": "d8bcd661-0989-433b-a4c5-4a7795a3efd4",
   "metadata": {},
   "outputs": [],
   "source": []
  },
  {
   "cell_type": "code",
   "execution_count": null,
   "id": "db8f1915-15de-44ac-a171-681b435f8f2a",
   "metadata": {},
   "outputs": [],
   "source": [
    "############################################################\n",
    "###\n",
    "### Pax6 KO\n",
    "### counting the voxels based on the masked and cyst-level background \n",
    "###\n",
    "############################################################"
   ]
  },
  {
   "cell_type": "code",
   "execution_count": 8,
   "id": "975a458d-271a-44ed-a395-734dc21fa360",
   "metadata": {},
   "outputs": [],
   "source": [
    "ImageDir = \"../images_data/d4_10x_Pax6KO_WTchim/original\"\n",
    "ImageDir = \"../images_data/d4_10x_Pax6KO_WTchim/test_jetraw_compression\"\n",
    "outDir = \"../images_data/results/Pax6KO_WTchim_d4\"\n",
    "\n",
    "if not os.path.exists(outDir):\n",
    "    os.mkdir(outDir)"
   ]
  },
  {
   "cell_type": "code",
   "execution_count": 115,
   "id": "5b6da52a-ea91-4551-9dd2-84b0d284ae17",
   "metadata": {},
   "outputs": [],
   "source": [
    "fileName = '241023_10x_d4-2umZ_4-PS-WG_RA_FA2-Px6_F9_95_01_isotropic'"
   ]
  },
  {
   "cell_type": "code",
   "execution_count": 116,
   "id": "b27b8c47-810c-4204-83b8-0ba472b01a2b",
   "metadata": {},
   "outputs": [],
   "source": [
    "mask = imread(os.path.join(CPoutDir, str(fileName + \"_C5_CystMask.tiff\"))) # mask segmeted cysts\n",
    "#C1 = imread(os.path.join(CPoutDir, str(fileName + \"_FoxA2mask.tiff\"))) # FoxA2, nuclei\n",
    "#C2 = imread(os.path.join(CPoutDir, str(fileName + \"_P6KOSCmask.tiff\"))) # Pax6-KO genotype Scarlet, nuclei\n",
    "#C3 = imread(os.path.join(CPoutDir, str(fileName + \"_WTGFPmask.tiff\"))) # WT genotype GFP, whole cell \n",
    "#C4 = imread(os.path.join(CPoutDir, str(fileName + \"_Pax6mask.tiff\"))) # Pax6, nuclei\n",
    "C1 = imread(os.path.join(ImageDir, str(fileName + \"_C1.tif\"))) # FoxA2, nuclei\n",
    "C2 = imread(os.path.join(ImageDir, str(fileName + \"_C2.tif\"))) # Pax6-KO genotype Scarlet, nuclei\n",
    "C3 = imread(os.path.join(ImageDir, str(fileName + \"_C3.tif\"))) # WT genotype GFP, whole cell \n",
    "C4 = imread(os.path.join(ImageDir, str(fileName + \"_C4.tif\"))) # Pax6, nuclei"
   ]
  },
  {
   "cell_type": "code",
   "execution_count": 117,
   "id": "43eef66c-cd72-4ccc-bf02-4d2e7209807d",
   "metadata": {},
   "outputs": [],
   "source": [
    "C1 = C1 / np.quantile(C1, 0.99)\n",
    "C2 = C2 / np.quantile(C2, 0.99)\n",
    "C3 = C3 / np.quantile(C3, 0.99)\n",
    "C4 = C4 / np.quantile(C4, 0.99)"
   ]
  },
  {
   "cell_type": "code",
   "execution_count": 43,
   "id": "6d2eb9cf-42b8-4720-a08f-8675c13d4098",
   "metadata": {},
   "outputs": [
    {
     "name": "stderr",
     "output_type": "stream",
     "text": [
      "/groups/tanaka/People/current/jiwang/local/anaconda3/envs/image_py3.9/lib/python3.9/site-packages/pyclesperanto_prototype/_tier9/_imshow.py:35: UserWarning: cle.imshow is deprecated, use stackview.imshow instead.\n",
      "  warnings.warn(\"cle.imshow is deprecated, use stackview.imshow instead.\")\n"
     ]
    },
    {
     "data": {
      "image/png": "[encoded data removed]",
      "text/plain": [
       "<Figure size 640x480 with 1 Axes>"
      ]
     },
     "metadata": {},
     "output_type": "display_data"
    }
   ],
   "source": [
    "projection_z = cle.maximum_z_projection(mask)\n",
    "cle.imshow(projection_z, labels=True)"
   ]
  },
  {
   "cell_type": "code",
   "execution_count": 118,
   "id": "5acdd0c7-018f-4d0b-968e-42d9086995d4",
   "metadata": {},
   "outputs": [],
   "source": [
    "from skimage import measure\n",
    "from skimage.morphology import disk\n",
    "from skimage.filters import threshold_otsu, rank\n",
    "\n",
    "labels_mask, nb_cyst = measure.label(mask, return_num = True)"
   ]
  },
  {
   "cell_type": "code",
   "execution_count": 23,
   "id": "7698650a-99e3-4fea-b30f-e353f40e13ee",
   "metadata": {},
   "outputs": [
    {
     "data": {
      "text/plain": [
       "array([6.34075201e-05, 1.26815040e-04, 1.90222560e-04, ...,\n",
       "       3.28374865e+00, 3.31177478e+00, 3.32547080e+00])"
      ]
     },
     "execution_count": 23,
     "metadata": {},
     "output_type": "execute_result"
    }
   ],
   "source": [
    "np.max(mask)\n",
    "np.min(mask)\n",
    "np.unique(mask)\n",
    "np.unique(C3)\n",
    "np.unique(C3)"
   ]
  },
  {
   "cell_type": "code",
   "execution_count": 24,
   "id": "094e6eeb-7805-48d3-9271-057609d9cbb2",
   "metadata": {},
   "outputs": [
    {
     "data": {
      "text/plain": [
       "64"
      ]
     },
     "execution_count": 24,
     "metadata": {},
     "output_type": "execute_result"
    }
   ],
   "source": [
    "nb_cyst"
   ]
  },
  {
   "cell_type": "code",
   "execution_count": 120,
   "id": "698d3d25-faf5-4717-9b2b-4b69a2981f2c",
   "metadata": {},
   "outputs": [
    {
     "name": "stdout",
     "output_type": "stream",
     "text": [
      "0.5001735037806734 0.4327891607704403 0.44733443161801717 0.6657661769701086\n"
     ]
    }
   ],
   "source": [
    "#local_otsu = rank.otsu(img, footprint)\n",
    "#global_otsu = img >= threshold_global_otsu\n",
    "cutoff_wt = threshold_otsu(C3)\n",
    "cutoff_ko = threshold_otsu(C2)\n",
    "cutoff_foxa2 = threshold_otsu(C1)\n",
    "cutoff_pax6 = threshold_otsu(C4)\n",
    "print(cutoff_wt, cutoff_ko, cutoff_foxa2, cutoff_pax6)"
   ]
  },
  {
   "cell_type": "code",
   "execution_count": 91,
   "id": "807eafbf-7db1-4044-83c5-8804c0c0e10b",
   "metadata": {},
   "outputs": [
    {
     "name": "stdout",
     "output_type": "stream",
     "text": [
      "19348\n"
     ]
    }
   ],
   "source": [
    "cyst_index = np.where(labels_mask == 4)\n",
    "print(cyst_index[0].size)\n",
    "genotype_wt = C3[cyst_index]\n",
    "genotype_ko = C2[cyst_index]\n",
    "pax6 = C4[cyst_index]\n",
    "foxa2 = C1[cyst_index]"
   ]
  },
  {
   "cell_type": "code",
   "execution_count": 98,
   "id": "2a66e4bc-3edc-4bbb-9f1c-1d0fb97ae468",
   "metadata": {},
   "outputs": [
    {
     "name": "stdout",
     "output_type": "stream",
     "text": [
      "0.7223228651480565\n",
      "0.01966330090408805\n",
      "0.2925899859503439\n",
      "1.1475432022758154 0.7223228651480565\n"
     ]
    }
   ],
   "source": [
    "cutoff_wt = threshold_otsu(genotype_wt)\n",
    "print(cutoff_wt)\n",
    "cutoff_ko = threshold_otsu(genotype_ko)\n",
    "print(cutoff_ko)\n",
    "cutoff_foxa2 = threshold_otsu(foxa2)\n",
    "print(cutoff_foxa2)\n",
    "cutoff_pax6 = threshold_otsu(pax6)\n",
    "print(cutoff_pax6, cutoff_wt)"
   ]
  },
  {
   "cell_type": "code",
   "execution_count": 93,
   "id": "ff789eab-4c6b-490f-9ae6-1a79fc0d10f3",
   "metadata": {},
   "outputs": [
    {
     "name": "stdout",
     "output_type": "stream",
     "text": [
      "0.988474684047373\n",
      "0.1169076052796983\n"
     ]
    }
   ],
   "source": [
    "sels = np.where((genotype_wt > cutoff_wt) | (genotype_ko > cutoff_ko))\n",
    "\n",
    "genotype_wt_sels = genotype_wt[sels]\n",
    "genotype_ko_sels = genotype_ko[sels]\n",
    "pax6_sels = pax6[sels]\n",
    "foxa2_sels = foxa2[sels]\n",
    "sels[0].size\n",
    "index_wt = np.where(genotype_wt_sels > genotype_ko_sels) # compare GFP with Scarlet in the scaled intensities # this worth checking how many are double positive (to do)\n",
    "print(index_wt[0].size/sels[0].size)\n",
    "\n",
    "foxa2_wt = foxa2_sels[index_wt]\n",
    "pax6_wt = pax6_sels[index_wt]\n",
    "\n",
    "index_foxa2 = np.where((foxa2_wt > cutoff_foxa2) & (pax6_wt < cutoff_pax6))\n",
    "index_pax6 = np.where((foxa2_wt < cutoff_foxa2) & (pax6_wt > cutoff_pax6)) ##\n",
    "index_double = np.where((foxa2_wt > cutoff_foxa2) & (pax6_wt > cutoff_pax6))\n",
    "\n",
    "print(index_foxa2[0].size/(index_foxa2[0].size + index_pax6[0].size + index_double[0].size))\n",
    "\n"
   ]
  },
  {
   "cell_type": "code",
   "execution_count": 9,
   "id": "76ee5ea9-9841-4fcf-8fa0-7af79b6956fe",
   "metadata": {},
   "outputs": [
    {
     "data": {
      "text/html": [
       "<div>\n",
       "<style scoped>\n",
       "    .dataframe tbody tr th:only-of-type {\n",
       "        vertical-align: middle;\n",
       "    }\n",
       "\n",
       "    .dataframe tbody tr th {\n",
       "        vertical-align: top;\n",
       "    }\n",
       "\n",
       "    .dataframe thead th {\n",
       "        text-align: right;\n",
       "    }\n",
       "</style>\n",
       "<table border=\"1\" class=\"dataframe\">\n",
       "  <thead>\n",
       "    <tr style=\"text-align: right;\">\n",
       "      <th></th>\n",
       "      <th>image</th>\n",
       "      <th>cyst_index</th>\n",
       "      <th>cyst_size</th>\n",
       "      <th>pct_genotype</th>\n",
       "      <th>pct_wt</th>\n",
       "      <th>pct_foxa2</th>\n",
       "      <th>pct_pax6</th>\n",
       "      <th>cutoff_wt</th>\n",
       "      <th>cutoff_ko</th>\n",
       "      <th>cutoff_foxa2</th>\n",
       "      <th>cutoff_pax6</th>\n",
       "    </tr>\n",
       "  </thead>\n",
       "  <tbody>\n",
       "  </tbody>\n",
       "</table>\n",
       "</div>"
      ],
      "text/plain": [
       "Empty DataFrame\n",
       "Columns: [image, cyst_index, cyst_size, pct_genotype, pct_wt, pct_foxa2, pct_pax6, cutoff_wt, cutoff_ko, cutoff_foxa2, cutoff_pax6]\n",
       "Index: []"
      ]
     },
     "execution_count": 9,
     "metadata": {},
     "output_type": "execute_result"
    }
   ],
   "source": [
    "import pandas as pd\n",
    "from skimage import measure\n",
    "from skimage.morphology import disk\n",
    "from skimage.filters import threshold_otsu, rank\n",
    "from skimage import filters\n",
    "from skimage import measure\n",
    "data = {\"image\": [], \"cyst_index\": [], \"cyst_size\": [],  \"pct_genotype\": [], \"pct_wt\": [], \"pct_foxa2\": [], \"pct_pax6\": [],  \n",
    "        \"cutoff_wt\": [],  \"cutoff_ko\": [],  \"cutoff_foxa2\": [],  \"cutoff_pax6\": []}\n",
    "df = pd.DataFrame(data)\n",
    "df"
   ]
  },
  {
   "cell_type": "code",
   "execution_count": 10,
   "id": "a922076d-1af1-4cdc-85b5-88c5863f5e0a",
   "metadata": {},
   "outputs": [
    {
     "name": "stdout",
     "output_type": "stream",
     "text": [
      "241023_10x_d4-2umZ_4-PS-WG_RA_FA2-Px6_F7_85_01_isotropic\n",
      "241023_10x_d4-2umZ_4-PS-WG_RA_FA2-Px6_F9_93_01_isotropic\n",
      "241023_10x_d4-2umZ_4-PS-WG_RA_FA2-Px6_F8_90_01_isotropic\n",
      "241023_10x_d4-2umZ_4-PS-WG_RA_FA2-Px6_F8_91_01_isotropic\n",
      "241023_10x_d4-2umZ_4-PS-WG_RA_FA2-Px6_F8_89_01_isotropic\n",
      "241023_10x_d4-2umZ_4-PS-WG_RA_FA2-Px6_F7_87_01_isotropic\n",
      "241023_10x_d4-2umZ_4-PS-WG_RA_FA2-Px6_F7_86_01_isotropic\n",
      "241023_10x_d4-2umZ_4-PS-WG_RA_FA2-Px6_F9_94_01_isotropic\n",
      "241023_10x_d4-2umZ_4-PS-WG_RA_FA2-Px6_F9_95_01_isotropic\n"
     ]
    }
   ],
   "source": [
    "for nm in os.listdir(ImageDir):\n",
    "    if \"_C5_CystMask.tiff\" in nm:\n",
    "        #print(nm)\n",
    "        fileName = nm.replace('_C5_CystMask.tiff','')\n",
    "        #files += [nm]\n",
    "        print(fileName)\n",
    "        #make_composite_C5(newName, ImageDir, outDir)\n",
    "        \n",
    "        mask = imread(os.path.join(ImageDir, str(fileName + \"_C5_CystMask.tiff\"))) # mask segmeted cysts\n",
    "        #C1 = imread(os.path.join(CPoutDir, str(fileName + \"_FoxA2mask.tiff\"))) # FoxA2, nuclei\n",
    "        #C2 = imread(os.path.join(CPoutDir, str(fileName + \"_P6KOSCmask.tiff\"))) # Pax6-KO genotype Scarlet, nuclei\n",
    "        #C3 = imread(os.path.join(CPoutDir, str(fileName + \"_WTGFPmask.tiff\"))) # WT genotype GFP, whole cell \n",
    "        #C4 = imread(os.path.join(CPoutDir, str(fileName + \"_Pax6mask.tiff\"))) # Pax6, nuclei\n",
    "        C1 = imread(os.path.join(ImageDir, str(fileName + \"_C1.tif\"))) # FoxA2, nuclei\n",
    "        C2 = imread(os.path.join(ImageDir, str(fileName + \"_C2.tif\"))) # Pax6-KO genotype Scarlet, nuclei\n",
    "        C3 = imread(os.path.join(ImageDir, str(fileName + \"_C3.tif\"))) # WT genotype GFP, whole cell \n",
    "        C4 = imread(os.path.join(ImageDir, str(fileName + \"_C4.tif\"))) # Pax6, nuclei\n",
    "        \n",
    "        C1 = C1 / np.quantile(C1, 0.95)\n",
    "        C2 = C2 / np.quantile(C2, 0.95)\n",
    "        C3 = C3 / np.quantile(C3, 0.95)\n",
    "        C4 = C4 / np.quantile(C4, 0.95)\n",
    "        \n",
    "        props_C1 = measure.regionprops_table(\n",
    "                    labels_mask, \n",
    "                    intensity_image = C1,\n",
    "                    properties=('label', 'centroid',  \n",
    "                    'intensity_max')\n",
    "        )\n",
    "        #cutoff_wt = threshold_otsu(C3)\n",
    "        #cutoff_ko = threshold_otsu(C2)\n",
    "        #cutoff_foxa2 = threshold_otsu(C1)\n",
    "        #cutoff_pax6 = threshold_otsu(C4)\n",
    "        #print(cutoff_wt, cutoff_ko, cutoff_foxa2, cutoff_pax6)\n",
    "        \n",
    "        labels_mask, nb_cyst = measure.label(mask, return_num = True)\n",
    "       \n",
    "        for i in range(nb_cyst+1):\n",
    "            if i > 0:\n",
    "                cyst_index = np.where(labels_mask == i)\n",
    "                #print(cyst_index[0].size)\n",
    "                genotype_wt = C3[cyst_index]\n",
    "                genotype_ko = C2[cyst_index]\n",
    "                foxa2 = C1[cyst_index]\n",
    "                pax6 = C4[cyst_index]\n",
    "                \n",
    "                cutoff_wt = threshold_otsu(genotype_wt)\n",
    "                cutoff_ko = threshold_otsu(genotype_ko)\n",
    "                #cutoff_foxa2 = threshold_otsu(foxa2)\n",
    "                #cutoff_pax6 = threshold_otsu(pax6)\n",
    "                \n",
    "                #cutoff_wt = filters.threshold_mean(genotype_wt)\n",
    "                #cutoff_ko = filters.threshold_mean(genotype_ko)\n",
    "                cutoff_foxa2 = filters.threshold_mean(foxa2)\n",
    "                cutoff_pax6 = filters.threshold_mean(pax6)\n",
    "                \n",
    "                #print(cutoff_wt, cutoff_ko, cutoff_foxa2, cutoff_pax6)\n",
    "                \n",
    "                sels = np.where((genotype_wt > cutoff_wt) | (genotype_ko > cutoff_ko))\n",
    "                genotype_wt_sels = genotype_wt[sels]\n",
    "                genotype_ko_sels = genotype_ko[sels]\n",
    "                pax6_sels = pax6[sels]\n",
    "                foxa2_sels = foxa2[sels]\n",
    "                \n",
    "                index_wt = np.where(genotype_wt_sels > genotype_ko_sels)\n",
    "                #print(index_wt[0].size/sels[0].size)\n",
    "                \n",
    "                \n",
    "                #nb_wt += [geno_wt[0].size]\n",
    "                #pax6_wt = pax6[geno_wt]\n",
    "                #foxa2_wt = foxa2[geno_wt]\n",
    "                #index_foxa2 = np.where(foxa2_wt > 0)\n",
    "                #index_pax6 = np.where(pax6_wt > 0)\n",
    "                \n",
    "                #nb_wt_foxa2 += [index_foxa2[0].size]\n",
    "                #nb_wt_pax6 += [index_pax6[0].size]\n",
    "                \n",
    "                #nb_ko += [geno_ko[0].size]\n",
    "                #pax6_ko = pax6[geno_ko]\n",
    "                #foxa2_ko = foxa2[geno_ko]\n",
    "                #index_foxa2_ko = np.where(foxa2_ko > 0)\n",
    "                #index_pax6_ko = np.where(pax6_ko > 0)\n",
    "                \n",
    "                #nb_ko_foxa2 += [index_foxa2_ko[0].size]\n",
    "                #nb_ko_pax6 += [index_pax6_ko[0].size]\n",
    "                \n",
    "                \n",
    "                if index_wt[0].size > 0:\n",
    "                    foxa2_wt = foxa2_sels[index_wt]\n",
    "                    pax6_wt = pax6_sels[index_wt]\n",
    "\n",
    "                    index_foxa2 = np.where((foxa2_wt > cutoff_foxa2) & (pax6_wt < cutoff_pax6))\n",
    "                    index_pax6 = np.where((foxa2_wt < cutoff_foxa2) & (pax6_wt > cutoff_pax6))\n",
    "                    index_double = np.where((foxa2_wt >= cutoff_foxa2) & (pax6_wt >= cutoff_pax6))\n",
    "                    #print(index_foxa2[0].size/(index_foxa2[0].size + index_pax6[0].size))\n",
    "\n",
    "                    #pax6_wt = pax6[geno_wt]\n",
    "                    #foxa2_wt = foxa2[geno_wt]\n",
    "                    #index_foxa2 = np.where(foxa2_wt > 0)\n",
    "                    #index_pax6 = np.where(pax6_wt > 0)\n",
    "                    \n",
    "                    if (index_foxa2[0].size + index_pax6[0].size) > 50:\n",
    "                        df.loc[len(df)] = [fileName, i, cyst_index[0].size, \n",
    "                                            (genotype_wt_sels[0].size + genotype_ko_sels[0].size)/cyst_index[0].size, \n",
    "                                            index_wt[0].size/sels[0].size, \n",
    "                                            index_foxa2[0].size/(index_foxa2[0].size + index_pax6[0].size + index_double[0].size), \n",
    "                                            index_pax6[0].size/(index_foxa2[0].size + index_pax6[0].size + index_double[0].size),\n",
    "                                            cutoff_wt, cutoff_ko, cutoff_foxa2, cutoff_pax6\n",
    "                                          ]"
   ]
  },
  {
   "cell_type": "code",
   "execution_count": 11,
   "id": "45f93826-3b02-4616-ae0f-5972d2c2e0f4",
   "metadata": {},
   "outputs": [
    {
     "name": "stdout",
     "output_type": "stream",
     "text": [
      "6.781211931510558 0.08521611966080403 0.5707548273715973 0.7735470482640966\n"
     ]
    }
   ],
   "source": [
    "print(cutoff_wt, cutoff_ko, cutoff_foxa2, cutoff_pax6)"
   ]
  },
  {
   "cell_type": "code",
   "execution_count": 12,
   "id": "360d2a6c-f714-4b99-a115-4c35e164e922",
   "metadata": {},
   "outputs": [
    {
     "data": {
      "text/html": [
       "<div>\n",
       "<style scoped>\n",
       "    .dataframe tbody tr th:only-of-type {\n",
       "        vertical-align: middle;\n",
       "    }\n",
       "\n",
       "    .dataframe tbody tr th {\n",
       "        vertical-align: top;\n",
       "    }\n",
       "\n",
       "    .dataframe thead th {\n",
       "        text-align: right;\n",
       "    }\n",
       "</style>\n",
       "<table border=\"1\" class=\"dataframe\">\n",
       "  <thead>\n",
       "    <tr style=\"text-align: right;\">\n",
       "      <th></th>\n",
       "      <th>image</th>\n",
       "      <th>cyst_index</th>\n",
       "      <th>cyst_size</th>\n",
       "      <th>pct_genotype</th>\n",
       "      <th>pct_wt</th>\n",
       "      <th>pct_foxa2</th>\n",
       "      <th>pct_pax6</th>\n",
       "      <th>cutoff_wt</th>\n",
       "      <th>cutoff_ko</th>\n",
       "      <th>cutoff_foxa2</th>\n",
       "      <th>cutoff_pax6</th>\n",
       "    </tr>\n",
       "  </thead>\n",
       "  <tbody>\n",
       "    <tr>\n",
       "      <th>0</th>\n",
       "      <td>241023_10x_d4-2umZ_4-PS-WG_RA_FA2-Px6_F7_85_01...</td>\n",
       "      <td>1</td>\n",
       "      <td>55980</td>\n",
       "      <td>0.000036</td>\n",
       "      <td>0.565369</td>\n",
       "      <td>0.329023</td>\n",
       "      <td>0.312990</td>\n",
       "      <td>14.889283</td>\n",
       "      <td>2.554193</td>\n",
       "      <td>2.496690</td>\n",
       "      <td>1.803734</td>\n",
       "    </tr>\n",
       "    <tr>\n",
       "      <th>1</th>\n",
       "      <td>241023_10x_d4-2umZ_4-PS-WG_RA_FA2-Px6_F7_85_01...</td>\n",
       "      <td>2</td>\n",
       "      <td>29736</td>\n",
       "      <td>0.000067</td>\n",
       "      <td>0.336224</td>\n",
       "      <td>0.073253</td>\n",
       "      <td>0.167275</td>\n",
       "      <td>11.321192</td>\n",
       "      <td>3.565838</td>\n",
       "      <td>3.256635</td>\n",
       "      <td>1.015733</td>\n",
       "    </tr>\n",
       "    <tr>\n",
       "      <th>2</th>\n",
       "      <td>241023_10x_d4-2umZ_4-PS-WG_RA_FA2-Px6_F7_85_01...</td>\n",
       "      <td>3</td>\n",
       "      <td>49508</td>\n",
       "      <td>0.000040</td>\n",
       "      <td>0.998806</td>\n",
       "      <td>0.238258</td>\n",
       "      <td>0.423605</td>\n",
       "      <td>19.047592</td>\n",
       "      <td>1.191272</td>\n",
       "      <td>1.441048</td>\n",
       "      <td>3.478412</td>\n",
       "    </tr>\n",
       "    <tr>\n",
       "      <th>3</th>\n",
       "      <td>241023_10x_d4-2umZ_4-PS-WG_RA_FA2-Px6_F7_85_01...</td>\n",
       "      <td>5</td>\n",
       "      <td>54760</td>\n",
       "      <td>0.000037</td>\n",
       "      <td>0.861252</td>\n",
       "      <td>0.311354</td>\n",
       "      <td>0.319724</td>\n",
       "      <td>14.464744</td>\n",
       "      <td>1.715111</td>\n",
       "      <td>1.963938</td>\n",
       "      <td>2.255929</td>\n",
       "    </tr>\n",
       "    <tr>\n",
       "      <th>4</th>\n",
       "      <td>241023_10x_d4-2umZ_4-PS-WG_RA_FA2-Px6_F7_85_01...</td>\n",
       "      <td>6</td>\n",
       "      <td>91294</td>\n",
       "      <td>0.000022</td>\n",
       "      <td>0.692664</td>\n",
       "      <td>0.275400</td>\n",
       "      <td>0.406563</td>\n",
       "      <td>14.548412</td>\n",
       "      <td>2.530594</td>\n",
       "      <td>3.388796</td>\n",
       "      <td>2.222607</td>\n",
       "    </tr>\n",
       "    <tr>\n",
       "      <th>...</th>\n",
       "      <td>...</td>\n",
       "      <td>...</td>\n",
       "      <td>...</td>\n",
       "      <td>...</td>\n",
       "      <td>...</td>\n",
       "      <td>...</td>\n",
       "      <td>...</td>\n",
       "      <td>...</td>\n",
       "      <td>...</td>\n",
       "      <td>...</td>\n",
       "      <td>...</td>\n",
       "    </tr>\n",
       "    <tr>\n",
       "      <th>279</th>\n",
       "      <td>241023_10x_d4-2umZ_4-PS-WG_RA_FA2-Px6_F9_95_01...</td>\n",
       "      <td>58</td>\n",
       "      <td>992</td>\n",
       "      <td>0.002016</td>\n",
       "      <td>1.000000</td>\n",
       "      <td>0.220930</td>\n",
       "      <td>0.209302</td>\n",
       "      <td>5.138884</td>\n",
       "      <td>0.098034</td>\n",
       "      <td>0.178045</td>\n",
       "      <td>1.153390</td>\n",
       "    </tr>\n",
       "    <tr>\n",
       "      <th>280</th>\n",
       "      <td>241023_10x_d4-2umZ_4-PS-WG_RA_FA2-Px6_F9_95_01...</td>\n",
       "      <td>59</td>\n",
       "      <td>6296</td>\n",
       "      <td>0.000318</td>\n",
       "      <td>0.939899</td>\n",
       "      <td>0.118092</td>\n",
       "      <td>0.140424</td>\n",
       "      <td>6.946230</td>\n",
       "      <td>0.260536</td>\n",
       "      <td>1.966906</td>\n",
       "      <td>1.427041</td>\n",
       "    </tr>\n",
       "    <tr>\n",
       "      <th>281</th>\n",
       "      <td>241023_10x_d4-2umZ_4-PS-WG_RA_FA2-Px6_F9_95_01...</td>\n",
       "      <td>61</td>\n",
       "      <td>21860</td>\n",
       "      <td>0.000091</td>\n",
       "      <td>0.891928</td>\n",
       "      <td>0.342783</td>\n",
       "      <td>0.419758</td>\n",
       "      <td>4.754461</td>\n",
       "      <td>1.114518</td>\n",
       "      <td>1.357803</td>\n",
       "      <td>2.012346</td>\n",
       "    </tr>\n",
       "    <tr>\n",
       "      <th>282</th>\n",
       "      <td>241023_10x_d4-2umZ_4-PS-WG_RA_FA2-Px6_F9_95_01...</td>\n",
       "      <td>68</td>\n",
       "      <td>18184</td>\n",
       "      <td>0.000110</td>\n",
       "      <td>0.660487</td>\n",
       "      <td>0.071078</td>\n",
       "      <td>0.174205</td>\n",
       "      <td>5.000996</td>\n",
       "      <td>1.887533</td>\n",
       "      <td>1.310187</td>\n",
       "      <td>0.767132</td>\n",
       "    </tr>\n",
       "    <tr>\n",
       "      <th>283</th>\n",
       "      <td>241023_10x_d4-2umZ_4-PS-WG_RA_FA2-Px6_F9_95_01...</td>\n",
       "      <td>69</td>\n",
       "      <td>6412</td>\n",
       "      <td>0.000312</td>\n",
       "      <td>0.965841</td>\n",
       "      <td>0.100305</td>\n",
       "      <td>0.338421</td>\n",
       "      <td>6.781212</td>\n",
       "      <td>0.085216</td>\n",
       "      <td>0.570755</td>\n",
       "      <td>0.773547</td>\n",
       "    </tr>\n",
       "  </tbody>\n",
       "</table>\n",
       "<p>284 rows × 11 columns</p>\n",
       "</div>"
      ],
      "text/plain": [
       "                                                 image  cyst_index  cyst_size  \\\n",
       "0    241023_10x_d4-2umZ_4-PS-WG_RA_FA2-Px6_F7_85_01...           1      55980   \n",
       "1    241023_10x_d4-2umZ_4-PS-WG_RA_FA2-Px6_F7_85_01...           2      29736   \n",
       "2    241023_10x_d4-2umZ_4-PS-WG_RA_FA2-Px6_F7_85_01...           3      49508   \n",
       "3    241023_10x_d4-2umZ_4-PS-WG_RA_FA2-Px6_F7_85_01...           5      54760   \n",
       "4    241023_10x_d4-2umZ_4-PS-WG_RA_FA2-Px6_F7_85_01...           6      91294   \n",
       "..                                                 ...         ...        ...   \n",
       "279  241023_10x_d4-2umZ_4-PS-WG_RA_FA2-Px6_F9_95_01...          58        992   \n",
       "280  241023_10x_d4-2umZ_4-PS-WG_RA_FA2-Px6_F9_95_01...          59       6296   \n",
       "281  241023_10x_d4-2umZ_4-PS-WG_RA_FA2-Px6_F9_95_01...          61      21860   \n",
       "282  241023_10x_d4-2umZ_4-PS-WG_RA_FA2-Px6_F9_95_01...          68      18184   \n",
       "283  241023_10x_d4-2umZ_4-PS-WG_RA_FA2-Px6_F9_95_01...          69       6412   \n",
       "\n",
       "     pct_genotype    pct_wt  pct_foxa2  pct_pax6  cutoff_wt  cutoff_ko  \\\n",
       "0        0.000036  0.565369   0.329023  0.312990  14.889283   2.554193   \n",
       "1        0.000067  0.336224   0.073253  0.167275  11.321192   3.565838   \n",
       "2        0.000040  0.998806   0.238258  0.423605  19.047592   1.191272   \n",
       "3        0.000037  0.861252   0.311354  0.319724  14.464744   1.715111   \n",
       "4        0.000022  0.692664   0.275400  0.406563  14.548412   2.530594   \n",
       "..            ...       ...        ...       ...        ...        ...   \n",
       "279      0.002016  1.000000   0.220930  0.209302   5.138884   0.098034   \n",
       "280      0.000318  0.939899   0.118092  0.140424   6.946230   0.260536   \n",
       "281      0.000091  0.891928   0.342783  0.419758   4.754461   1.114518   \n",
       "282      0.000110  0.660487   0.071078  0.174205   5.000996   1.887533   \n",
       "283      0.000312  0.965841   0.100305  0.338421   6.781212   0.085216   \n",
       "\n",
       "     cutoff_foxa2  cutoff_pax6  \n",
       "0        2.496690     1.803734  \n",
       "1        3.256635     1.015733  \n",
       "2        1.441048     3.478412  \n",
       "3        1.963938     2.255929  \n",
       "4        3.388796     2.222607  \n",
       "..            ...          ...  \n",
       "279      0.178045     1.153390  \n",
       "280      1.966906     1.427041  \n",
       "281      1.357803     2.012346  \n",
       "282      1.310187     0.767132  \n",
       "283      0.570755     0.773547  \n",
       "\n",
       "[284 rows x 11 columns]"
      ]
     },
     "execution_count": 12,
     "metadata": {},
     "output_type": "execute_result"
    }
   ],
   "source": [
    "df"
   ]
  },
  {
   "cell_type": "code",
   "execution_count": 13,
   "id": "8cab0913-d98b-4808-9f48-2c2a3bb95b31",
   "metadata": {},
   "outputs": [
    {
     "data": {
      "text/plain": [
       "<Axes: xlabel='pct_wt', ylabel='pct_foxa2'>"
      ]
     },
     "execution_count": 13,
     "metadata": {},
     "output_type": "execute_result"
    },
    {
     "data": {
      "image/png": "[encoded data removed]",
      "text/plain": [
       "<Figure size 640x480 with 1 Axes>"
      ]
     },
     "metadata": {},
     "output_type": "display_data"
    }
   ],
   "source": [
    "df.plot(kind='scatter', x = 'pct_wt', y =  'pct_foxa2')"
   ]
  },
  {
   "cell_type": "code",
   "execution_count": 14,
   "id": "ad35fc14-3627-4116-b9cd-8bed2d29cfee",
   "metadata": {},
   "outputs": [
    {
     "data": {
      "text/plain": [
       "'../images_data/results/Pax6KO_WTchim_d4'"
      ]
     },
     "execution_count": 14,
     "metadata": {},
     "output_type": "execute_result"
    }
   ],
   "source": [
    "outDir "
   ]
  },
  {
   "cell_type": "code",
   "execution_count": 16,
   "id": "f45d0565-8306-4259-b276-50c1a41fae37",
   "metadata": {},
   "outputs": [],
   "source": [
    "df.to_csv(os.path.join(outDir, \"cyst_size_genotype_FoxA2_Pax6_cystThresholds_testMeanThreshodling_test_jetraw_compression.csv\"), index=True, header=True)"
   ]
  },
  {
   "cell_type": "code",
   "execution_count": 17,
   "id": "ca75a148-8ed1-4ba4-a2fa-4aa007a1ca0e",
   "metadata": {},
   "outputs": [
    {
     "data": {
      "image/png": "[encoded data removed]",
      "text/plain": [
       "<Figure size 640x480 with 1 Axes>"
      ]
     },
     "metadata": {},
     "output_type": "display_data"
    }
   ],
   "source": [
    "plt.hist(foxa2_wt, bins='auto')  # arguments are passed to np.histogram\n",
    "#plt.title(\"Histogram with 'auto' bins\")\n",
    "plt.show()"
   ]
  },
  {
   "cell_type": "code",
   "execution_count": 18,
   "id": "4b273d6d-ef00-493f-9a94-38dac940034d",
   "metadata": {},
   "outputs": [
    {
     "data": {
      "image/png": "[encoded data removed]",
      "text/plain": [
       "<Figure size 640x480 with 1 Axes>"
      ]
     },
     "metadata": {},
     "output_type": "display_data"
    }
   ],
   "source": [
    "plt.hist(pax6_wt, bins='auto')  # arguments are passed to np.histogram\n",
    "#plt.title(\"Histogram with 'auto' bins\")\n",
    "plt.show()"
   ]
  },
  {
   "cell_type": "code",
   "execution_count": 19,
   "id": "7f91b352-116d-41ba-a664-820ccfc27e58",
   "metadata": {},
   "outputs": [
    {
     "data": {
      "image/png": "[encoded data removed]",
      "text/plain": [
       "<Figure size 640x480 with 1 Axes>"
      ]
     },
     "metadata": {},
     "output_type": "display_data"
    }
   ],
   "source": [
    "plt.scatter(genotype_wt, genotype_ko) \n",
    "# To show the plot\n",
    "plt.show()"
   ]
  },
  {
   "cell_type": "code",
   "execution_count": 40,
   "id": "f342eca9-4f17-4d84-92ad-0e4d6fb4f150",
   "metadata": {},
   "outputs": [
    {
     "name": "stdout",
     "output_type": "stream",
     "text": [
      "121968\n",
      "121968\n"
     ]
    },
    {
     "data": {
      "text/plain": [
       "array([0.07006531, 0.06854353, 0.06296367, ..., 0.03537736, 0.04874214,\n",
       "       0.06053459])"
      ]
     },
     "execution_count": 40,
     "metadata": {},
     "output_type": "execute_result"
    }
   ],
   "source": [
    "#genotype_wt\n",
    "genotype_all = np.concatenate((genotype_wt, genotype_ko), axis=0)\n",
    "print(genotype_all.size)\n",
    "sels = np.where(genotype_all>0)\n",
    "genotype_sels = genotype_all[sels]\n",
    "print(genotype_sels.size)\n",
    "genotype_sels"
   ]
  },
  {
   "cell_type": "code",
   "execution_count": 41,
   "id": "8d2fd014-6b5a-4f92-9795-2599dc7f50d6",
   "metadata": {},
   "outputs": [
    {
     "data": {
      "image/png": "[encoded data removed]",
      "text/plain": [
       "<Figure size 640x480 with 1 Axes>"
      ]
     },
     "metadata": {},
     "output_type": "display_data"
    }
   ],
   "source": [
    "plt.hist(genotype_sels, bins='auto')  # arguments are passed to np.histogram\n",
    "#plt.title(\"Histogram with 'auto' bins\")\n",
    "plt.show()"
   ]
  },
  {
   "cell_type": "code",
   "execution_count": 101,
   "id": "dc3ca355-7808-4bb2-91e7-9ba01a956ab2",
   "metadata": {},
   "outputs": [
    {
     "data": {
      "image/png": "[encoded data removed]",
      "text/plain": [
       "<Figure size 640x480 with 1 Axes>"
      ]
     },
     "metadata": {},
     "output_type": "display_data"
    }
   ],
   "source": [
    "plt.scatter(foxa2_wt, pax6_wt) \n",
    "# To show the plot\n",
    "plt.show()"
   ]
  },
  {
   "cell_type": "code",
   "execution_count": null,
   "id": "09c05a5e-8299-4dfb-a187-f370a80e525f",
   "metadata": {},
   "outputs": [],
   "source": []
  },
  {
   "cell_type": "code",
   "execution_count": null,
   "id": "3080cc69-5296-4033-b2a2-031e3c795854",
   "metadata": {},
   "outputs": [],
   "source": [
    "############################################################\n",
    "###\n",
    "### FoxA2 KO \n",
    "### counting the voxels based on the masked and cyst-level background \n",
    "###\n",
    "############################################################"
   ]
  },
  {
   "cell_type": "code",
   "execution_count": 63,
   "id": "c05c870f-4d6a-440d-ae7e-d9c705991975",
   "metadata": {},
   "outputs": [],
   "source": []
  },
  {
   "cell_type": "code",
   "execution_count": 8,
   "id": "e3331a20-1029-4707-abbc-653ebaca40df",
   "metadata": {},
   "outputs": [],
   "source": [
    "ImageDir = \"../images_data/d4_10x_FoxA2KO_WTchim\"\n",
    "outDir = \"../images_data/results/FoxAKO_WTchim_d4\"\n",
    "\n",
    "if not os.path.exists(outDir):\n",
    "    os.mkdir(outDir)\n",
    "#os.path.exists(outDir)"
   ]
  },
  {
   "cell_type": "code",
   "execution_count": null,
   "id": "4af32462-c610-4bde-b6f5-ffe13d34c03d",
   "metadata": {},
   "outputs": [],
   "source": []
  },
  {
   "cell_type": "code",
   "execution_count": null,
   "id": "92a4d1b6-4af7-4eff-8d5e-b6cd45a7d213",
   "metadata": {},
   "outputs": [],
   "source": []
  },
  {
   "cell_type": "code",
   "execution_count": 11,
   "id": "d13de64e-081b-4e32-a97f-406e22c5623d",
   "metadata": {},
   "outputs": [],
   "source": [
    "fileName = '241023_10x_d4-2umZ_3-FS-WG_RA_FA2-Px6_E7_63_01_isotropic'"
   ]
  },
  {
   "cell_type": "code",
   "execution_count": 12,
   "id": "7cb0cc7a-4e57-4795-af9f-f8ae0182f475",
   "metadata": {},
   "outputs": [
    {
     "ename": "NameError",
     "evalue": "name 'CPoutDir' is not defined",
     "output_type": "error",
     "traceback": [
      "\u001b[0;31m---------------------------------------------------------------------------\u001b[0m",
      "\u001b[0;31mNameError\u001b[0m                                 Traceback (most recent call last)",
      "Cell \u001b[0;32mIn[12], line 1\u001b[0m\n\u001b[0;32m----> 1\u001b[0m mask \u001b[38;5;241m=\u001b[39m imread(os\u001b[38;5;241m.\u001b[39mpath\u001b[38;5;241m.\u001b[39mjoin(\u001b[43mCPoutDir\u001b[49m, \u001b[38;5;28mstr\u001b[39m(fileName \u001b[38;5;241m+\u001b[39m \u001b[38;5;124m\"\u001b[39m\u001b[38;5;124m_C5_CystMask.tiff\u001b[39m\u001b[38;5;124m\"\u001b[39m))) \u001b[38;5;66;03m# mask segmeted cysts\u001b[39;00m\n\u001b[1;32m      2\u001b[0m \u001b[38;5;66;03m#C1 = imread(os.path.join(CPoutDir, str(fileName + \"_FoxA2mask.tiff\"))) # FoxA2, nuclei\u001b[39;00m\n\u001b[1;32m      3\u001b[0m \u001b[38;5;66;03m#C2 = imread(os.path.join(CPoutDir, str(fileName + \"_P6KOSCmask.tiff\"))) # Pax6-KO genotype Scarlet, nuclei\u001b[39;00m\n\u001b[1;32m      4\u001b[0m \u001b[38;5;66;03m#C3 = imread(os.path.join(CPoutDir, str(fileName + \"_WTGFPmask.tiff\"))) # WT genotype GFP, whole cell \u001b[39;00m\n\u001b[1;32m      5\u001b[0m \u001b[38;5;66;03m#C4 = imread(os.path.join(CPoutDir, str(fileName + \"_Pax6mask.tiff\"))) # Pax6, nuclei\u001b[39;00m\n\u001b[1;32m      6\u001b[0m C1 \u001b[38;5;241m=\u001b[39m imread(os\u001b[38;5;241m.\u001b[39mpath\u001b[38;5;241m.\u001b[39mjoin(ImageDir, \u001b[38;5;28mstr\u001b[39m(fileName \u001b[38;5;241m+\u001b[39m \u001b[38;5;124m\"\u001b[39m\u001b[38;5;124m_C1.tif\u001b[39m\u001b[38;5;124m\"\u001b[39m))) \u001b[38;5;66;03m# FoxA2, nuclei\u001b[39;00m\n",
      "\u001b[0;31mNameError\u001b[0m: name 'CPoutDir' is not defined"
     ]
    }
   ],
   "source": [
    "mask = imread(os.path.join(CPoutDir, str(fileName + \"_C5_CystMask.tiff\"))) # mask segmeted cysts\n",
    "#C1 = imread(os.path.join(CPoutDir, str(fileName + \"_FoxA2mask.tiff\"))) # FoxA2, nuclei\n",
    "#C2 = imread(os.path.join(CPoutDir, str(fileName + \"_P6KOSCmask.tiff\"))) # Pax6-KO genotype Scarlet, nuclei\n",
    "#C3 = imread(os.path.join(CPoutDir, str(fileName + \"_WTGFPmask.tiff\"))) # WT genotype GFP, whole cell \n",
    "#C4 = imread(os.path.join(CPoutDir, str(fileName + \"_Pax6mask.tiff\"))) # Pax6, nuclei\n",
    "C1 = imread(os.path.join(ImageDir, str(fileName + \"_C1.tif\"))) # FoxA2, nuclei\n",
    "C2 = imread(os.path.join(ImageDir, str(fileName + \"_C2.tif\"))) # FoxA2-KO genotype Scarlet, nuclei\n",
    "C3 = imread(os.path.join(ImageDir, str(fileName + \"_C3.tif\"))) # WT genotype GFP, whole cell \n",
    "C4 = imread(os.path.join(ImageDir, str(fileName + \"_C4.tif\"))) # Pax6, nuclei"
   ]
  },
  {
   "cell_type": "code",
   "execution_count": 67,
   "id": "f1c303cb-20ce-47ea-ac05-5a5cd252ef2f",
   "metadata": {},
   "outputs": [],
   "source": [
    "C1 = C1 / np.quantile(C1, 0.99)\n",
    "C2 = C2 / np.quantile(C2, 0.99)\n",
    "C3 = C3 / np.quantile(C3, 0.99)\n",
    "C4 = C4 / np.quantile(C4, 0.99)"
   ]
  },
  {
   "cell_type": "code",
   "execution_count": 68,
   "id": "c1bbdb42-10ff-4bc2-8bf5-04d7612bf16e",
   "metadata": {},
   "outputs": [],
   "source": [
    "from skimage import measure\n",
    "from skimage.morphology import disk\n",
    "from skimage.filters import threshold_otsu, rank\n",
    "\n",
    "labels_mask, nb_cyst = measure.label(mask, return_num = True)"
   ]
  },
  {
   "cell_type": "code",
   "execution_count": 69,
   "id": "1c71c9dd-734e-439f-9dcd-ef28d4e30bd2",
   "metadata": {},
   "outputs": [
    {
     "data": {
      "text/plain": [
       "35"
      ]
     },
     "execution_count": 69,
     "metadata": {},
     "output_type": "execute_result"
    }
   ],
   "source": [
    "nb_cyst"
   ]
  },
  {
   "cell_type": "code",
   "execution_count": 9,
   "id": "af770f42-9f25-49a3-baa9-99f7d11186cd",
   "metadata": {},
   "outputs": [
    {
     "data": {
      "text/html": [
       "<div>\n",
       "<style scoped>\n",
       "    .dataframe tbody tr th:only-of-type {\n",
       "        vertical-align: middle;\n",
       "    }\n",
       "\n",
       "    .dataframe tbody tr th {\n",
       "        vertical-align: top;\n",
       "    }\n",
       "\n",
       "    .dataframe thead th {\n",
       "        text-align: right;\n",
       "    }\n",
       "</style>\n",
       "<table border=\"1\" class=\"dataframe\">\n",
       "  <thead>\n",
       "    <tr style=\"text-align: right;\">\n",
       "      <th></th>\n",
       "      <th>image</th>\n",
       "      <th>cyst_index</th>\n",
       "      <th>cyst_size</th>\n",
       "      <th>nb_wt_all_global</th>\n",
       "      <th>nb_ko_all_global</th>\n",
       "      <th>nb_foxa2_all_global</th>\n",
       "      <th>nb_pax6_all_global</th>\n",
       "      <th>nb_wt_all</th>\n",
       "      <th>nb_ko_all</th>\n",
       "      <th>nb_foxa2_all</th>\n",
       "      <th>...</th>\n",
       "      <th>nb_foxa2_ko_ll</th>\n",
       "      <th>nb_pax6_ko_ll</th>\n",
       "      <th>nb_foxa2_wt_lg</th>\n",
       "      <th>nb_pax6_wt_lg</th>\n",
       "      <th>nb_foxa2_ko_lg</th>\n",
       "      <th>nb_pax6_ko_lg</th>\n",
       "      <th>nb_foxa2_wt_gg</th>\n",
       "      <th>nb_pax6_wt_gg</th>\n",
       "      <th>nb_foxa2_ko_gg</th>\n",
       "      <th>nb_pax6_ko_gg</th>\n",
       "    </tr>\n",
       "  </thead>\n",
       "  <tbody>\n",
       "  </tbody>\n",
       "</table>\n",
       "<p>0 rows × 28 columns</p>\n",
       "</div>"
      ],
      "text/plain": [
       "Empty DataFrame\n",
       "Columns: [image, cyst_index, cyst_size, nb_wt_all_global, nb_ko_all_global, nb_foxa2_all_global, nb_pax6_all_global, nb_wt_all, nb_ko_all, nb_foxa2_all, nb_pax6_all, nb_double_all, nb_foxa2_wt, nb_pax6_wt, nb_foxa2_ko, nb_pax6_ko, nb_foxa2_wt_ll, nb_pax6_wt_ll, nb_foxa2_ko_ll, nb_pax6_ko_ll, nb_foxa2_wt_lg, nb_pax6_wt_lg, nb_foxa2_ko_lg, nb_pax6_ko_lg, nb_foxa2_wt_gg, nb_pax6_wt_gg, nb_foxa2_ko_gg, nb_pax6_ko_gg]\n",
       "Index: []\n",
       "\n",
       "[0 rows x 28 columns]"
      ]
     },
     "execution_count": 9,
     "metadata": {},
     "output_type": "execute_result"
    }
   ],
   "source": [
    "import pandas as pd\n",
    "from skimage import measure\n",
    "from skimage.morphology import disk\n",
    "from skimage.filters import threshold_otsu, rank\n",
    "\n",
    "ImageDir = \"../images_data/d4_10x_FoxA2KO_WTchim\"\n",
    "outDir = \"../images_data/results/FoxAKO_WTchim_d4\"\n",
    "\n",
    "if not os.path.exists(outDir):\n",
    "    os.mkdir(outDir)\n",
    "\n",
    "from skimage import measure\n",
    "data = {\"image\": [], \"cyst_index\": [], \"cyst_size\": [],\n",
    "        \"nb_wt_all_global\": [], \"nb_ko_all_global\": [], \"nb_foxa2_all_global\": [], \"nb_pax6_all_global\": [],\n",
    "        \"nb_wt_all\": [], \"nb_ko_all\": [], \"nb_foxa2_all\": [], \"nb_pax6_all\": [], \"nb_double_all\": [],\n",
    "        \"nb_foxa2_wt\": [], \"nb_pax6_wt\": [],  \"nb_foxa2_ko\": [], \"nb_pax6_ko\": [],\n",
    "        \"nb_foxa2_wt_ll\": [], \"nb_pax6_wt_ll\": [],  \"nb_foxa2_ko_ll\": [], \"nb_pax6_ko_ll\": [],\n",
    "        \"nb_foxa2_wt_lg\": [], \"nb_pax6_wt_lg\": [],  \"nb_foxa2_ko_lg\": [], \"nb_pax6_ko_lg\": [],\n",
    "        \"nb_foxa2_wt_gg\": [], \"nb_pax6_wt_gg\": [],  \"nb_foxa2_ko_gg\": [], \"nb_pax6_ko_gg\": []\n",
    "        \n",
    "       }\n",
    "\n",
    "df = pd.DataFrame(data)\n",
    "df"
   ]
  },
  {
   "cell_type": "code",
   "execution_count": 10,
   "id": "312a3d12-a4c7-4e17-bb08-7496e31d32ad",
   "metadata": {},
   "outputs": [
    {
     "name": "stdout",
     "output_type": "stream",
     "text": [
      "241023_10x_d4-2umZ_3-FS-WG_RA_FA2-Px6_E7_61_01_isotropic\n",
      "241023_10x_d4-2umZ_3-FS-WG_RA_FA2-Px6_E7_62_01_isotropic\n",
      "241023_10x_d4-2umZ_3-FS-WG_RA_FA2-Px6_E7_63_01_isotropic\n",
      "241023_10x_d4-2umZ_3-FS-WG_RA_FA2-Px6_E8_65_01_isotropic\n",
      "241023_10x_d4-2umZ_3-FS-WG_RA_FA2-Px6_E8_66_01_isotropic\n",
      "241023_10x_d4-2umZ_3-FS-WG_RA_FA2-Px6_E8_67_01_isotropic\n",
      "241023_10x_d4-2umZ_3-FS-WG_RA_FA2-Px6_E9_69_01_isotropic\n",
      "241023_10x_d4-2umZ_3-FS-WG_RA_FA2-Px6_E9_70_01_isotropic\n",
      "241023_10x_d4-2umZ_3-FS-WG_RA_FA2-Px6_E9_71_01_isotropic\n"
     ]
    }
   ],
   "source": [
    "for nm in os.listdir(ImageDir):\n",
    "    if \"_C5_CystMask.tiff\" in nm:\n",
    "        #print(nm)\n",
    "        fileName = nm.replace('_C5_CystMask.tiff','')\n",
    "        #files += [nm]\n",
    "        print(fileName)\n",
    "        #make_composite_C5(newName, ImageDir, outDir)\n",
    "        \n",
    "        mask = imread(os.path.join(ImageDir, str(fileName + \"_C5_CystMask.tiff\"))) # mask segmeted cysts\n",
    "        C1 = imread(os.path.join(ImageDir, str(fileName + \"_C1.tif\"))) # FoxA2, nuclei\n",
    "        C2 = imread(os.path.join(ImageDir, str(fileName + \"_C2.tif\"))) # FoxA2-KO genotype Scarlet, nuclei\n",
    "        C3 = imread(os.path.join(ImageDir, str(fileName + \"_C3.tif\"))) # WT genotype GFP, whole cell \n",
    "        C4 = imread(os.path.join(ImageDir, str(fileName + \"_C4.tif\"))) # Pax6, nuclei\n",
    "        \n",
    "        C1 = C1 / np.quantile(C1, 0.95)\n",
    "        C2 = C2 / np.quantile(C2, 0.95)\n",
    "        C3 = C3 / np.quantile(C3, 0.95)\n",
    "        C4 = C4 / np.quantile(C4, 0.95)\n",
    "        \n",
    "        labels_mask, nb_cyst = measure.label(mask, return_num = True)\n",
    "        \n",
    "        ######\n",
    "        ## global thresholding \n",
    "        #cutoff_fako_image = threshold_otsu(C2)\n",
    "        #cutoff_pxko_image = threshold_otsu(C3)\n",
    "        #cutoff_foxa2_image = threshold_otsu(C1)\n",
    "        #cutoff_pax6_image = threshold_otsu(C4)\n",
    "        cutoff_wt_image = filters.threshold_otsu(C3)\n",
    "        cutoff_ko_image = filters.threshold_otsu(C2)\n",
    "        \n",
    "        #cutoff_foxa2_image = filters.threshold_mean(C1)\n",
    "        #cutoff_pax6_image = filters.threshold_mean(C4)\n",
    "        \n",
    "        cutoff_foxa2_image = filters.threshold_otsu(C1)\n",
    "        cutoff_pax6_image = filters.threshold_otsu(C4)\n",
    "        \n",
    "        \n",
    "        for i in range(nb_cyst+1):\n",
    "            if i > 0:\n",
    "                \n",
    "                cyst_index = np.where(labels_mask == i)\n",
    "                \n",
    "                #print(cyst_index[0].size)\n",
    "                genotype_wt = C3[cyst_index]\n",
    "                genotype_ko = C2[cyst_index]\n",
    "                pax6 = C4[cyst_index]\n",
    "                foxa2 = C1[cyst_index]\n",
    "                \n",
    "                ########\n",
    "                ## local thresholdes\n",
    "                ########\n",
    "                cutoff_wt = threshold_otsu(genotype_wt)\n",
    "                cutoff_ko = threshold_otsu(genotype_ko)\n",
    "                cutoff_foxa2 = filters.threshold_mean(foxa2)\n",
    "                cutoff_pax6 = filters.threshold_mean(pax6)\n",
    "                \n",
    "                ###########\n",
    "                # genotype and FoxA2 proportion in whole cyst\n",
    "                ###########\n",
    "                index_foxa2_all_global = np.where((foxa2 > cutoff_foxa2_image) & (pax6 < cutoff_pax6_image))\n",
    "                index_pax6_all_global = np.where((foxa2 < cutoff_foxa2_image) & (pax6 > cutoff_pax6_image))\n",
    "                \n",
    "                index_wt_all_global = np.where((genotype_wt > cutoff_wt_image) & (genotype_ko < cutoff_ko_image))\n",
    "                index_ko_all_global = np.where((genotype_wt < cutoff_wt_image) & (genotype_ko > cutoff_ko_image))\n",
    "                \n",
    "                index_foxa2_all = np.where((foxa2 > cutoff_foxa2) & (pax6 < cutoff_pax6))\n",
    "                index_pax6_all = np.where((foxa2 < cutoff_foxa2) & (pax6 > cutoff_pax6))\n",
    "                index_double_all = np.where((foxa2 > cutoff_foxa2) & (pax6 > cutoff_pax6))\n",
    "                \n",
    "                index_wt_all = np.where((genotype_wt > cutoff_wt) & (genotype_ko < cutoff_ko))\n",
    "                index_ko_all = np.where((genotype_wt < cutoff_wt) & (genotype_ko > cutoff_ko))\n",
    "                \n",
    "                \n",
    "                #######\n",
    "                ## original computatoin of WT and KO genotype \n",
    "                #######\n",
    "                sels = np.where((genotype_wt > cutoff_wt) | (genotype_ko > cutoff_ko))\n",
    "                \n",
    "                genotype_wt_sels = genotype_wt[sels]\n",
    "                genotype_ko_sels = genotype_ko[sels]\n",
    "                pax6_sels = pax6[sels]\n",
    "                foxa2_sels = foxa2[sels]\n",
    "                \n",
    "                index_wt = np.where(genotype_wt_sels > genotype_ko_sels)\n",
    "                index_ko = np.where(genotype_wt_sels <= genotype_ko_sels)\n",
    "                #print(index_wt[0].size/sels[0].size)\n",
    "                \n",
    "                 # FoxA2+ or Pax6+ voxel counts in genotyep positive voxels\n",
    "                index_foxa2_sels = np.where((foxa2_sels > cutoff_foxa2) & (pax6_sels < cutoff_pax6))\n",
    "                index_pax6_sels = np.where((foxa2_sels < cutoff_foxa2) & (pax6_sels > cutoff_pax6))\n",
    "                \n",
    "                if index_wt[0].size > 0:\n",
    "                    #pax6_wt = pax6[geno_wt]\n",
    "                    #foxa2_wt = foxa2[geno_wt]\n",
    "                    #index_foxa2 = np.where(foxa2_wt > 0)\n",
    "                    #index_pax6 = np.where(pax6_wt > 0)\n",
    "                    foxa2_wt = foxa2_sels[index_wt]\n",
    "                    pax6_wt = pax6_sels[index_wt]\n",
    "                    \n",
    "                    index_foxa2_wt = np.where((foxa2_wt > cutoff_foxa2) & (pax6_wt < cutoff_pax6))\n",
    "                    index_pax6_wt = np.where((foxa2_wt < cutoff_foxa2) & (pax6_wt > cutoff_pax6))\n",
    "                    #print(index_foxa2[0].size/(index_foxa2[0].size + index_pax6[0].size))\n",
    "                    \n",
    "                    #foxa2_wt = foxa2[index_wt]\n",
    "                    #pax6_wt = pax6[index_wt]\n",
    "                    foxa2_ko = foxa2_sels[index_ko]\n",
    "                    pax6_ko = pax6_sels[index_ko]\n",
    "                    index_foxa2_ko = np.where((foxa2_ko > cutoff_foxa2) & (pax6_ko < cutoff_pax6))\n",
    "                    index_pax6_ko = np.where((foxa2_ko < cutoff_foxa2) & (pax6_ko > cutoff_pax6))\n",
    "                   \n",
    "                #######\n",
    "                ## second computaton of WT and KO genotype without cross channel comparison\n",
    "                #######\n",
    "                index_wt_2 = np.where((genotype_wt > cutoff_wt) & (genotype_ko < cutoff_ko))\n",
    "                index_ko_2 = np.where((genotype_wt < cutoff_wt) & (genotype_ko > cutoff_ko))\n",
    "                \n",
    "                if index_wt_2[0].size > 0:\n",
    "                    foxa2_wt_2 = foxa2[index_wt_2]\n",
    "                    pax6_wt_2 = pax6[index_wt_2]\n",
    "                    \n",
    "                    index_foxa2_wt_2 = np.where((foxa2_wt_2 > cutoff_foxa2) & (pax6_wt_2 < cutoff_pax6))\n",
    "                    index_pax6_wt_2 = np.where((foxa2_wt_2 < cutoff_foxa2) & (pax6_wt_2 > cutoff_pax6))\n",
    "                    \n",
    "                    foxa2_ko_2 = foxa2[index_ko_2]\n",
    "                    pax6_ko_2 = pax6[index_ko_2]\n",
    "                    index_foxa2_ko_2 = np.where((foxa2_ko_2 > cutoff_foxa2) & (pax6_ko_2 < cutoff_pax6))\n",
    "                    index_pax6_ko_2 = np.where((foxa2_ko_2 < cutoff_foxa2) & (pax6_ko_2 > cutoff_pax6))\n",
    "                \n",
    "                \n",
    "                \n",
    "                #######\n",
    "                ## third computaton of WT and KO genotype using global thresholds \n",
    "                #######\n",
    "                index_wt_3 = np.where((genotype_wt > cutoff_wt_image) & (genotype_ko < cutoff_ko_image))\n",
    "                index_ko_3 = np.where((genotype_wt < cutoff_wt_image) & (genotype_ko > cutoff_ko_image))\n",
    "                \n",
    "                if index_wt_3[0].size > 0:\n",
    "                    foxa2_wt_3 = foxa2[index_wt_3]\n",
    "                    pax6_wt_3 = pax6[index_wt_3]\n",
    "                    \n",
    "                    index_foxa2_wt_3 = np.where((foxa2_wt_3 > cutoff_foxa2) & (pax6_wt_3 < cutoff_pax6))\n",
    "                    index_pax6_wt_3 = np.where((foxa2_wt_3 < cutoff_foxa2) & (pax6_wt_3 > cutoff_pax6))\n",
    "                    \n",
    "                    index_foxa2_wt_4 = np.where((foxa2_wt_3 > cutoff_foxa2_image) & (pax6_wt_3 < cutoff_pax6_image))\n",
    "                    index_pax6_wt_4 = np.where((foxa2_wt_3 < cutoff_foxa2_image) & (pax6_wt_3 > cutoff_pax6_image))\n",
    "                    \n",
    "                    foxa2_ko_3 = foxa2[index_ko_3]\n",
    "                    pax6_ko_3 = pax6[index_ko_3]\n",
    "                    index_foxa2_ko_3 = np.where((foxa2_ko_3 > cutoff_foxa2) & (pax6_ko_3 < cutoff_pax6))\n",
    "                    index_pax6_ko_3 = np.where((foxa2_ko_3 < cutoff_foxa2) & (pax6_ko_3 > cutoff_pax6))\n",
    "                    \n",
    "                    index_foxa2_ko_4 = np.where((foxa2_ko_3 > cutoff_foxa2_image) & (pax6_ko_3 < cutoff_pax6_image))\n",
    "                    index_pax6_ko_4 = np.where((foxa2_ko_3 < cutoff_foxa2_image) & (pax6_ko_3 > cutoff_pax6_image))\n",
    "                    \n",
    "                \n",
    "                df.loc[len(df)] = [fileName, i, cyst_index[0].size,\n",
    "                                   index_wt_all_global[0].size, index_ko_all_global[0].size,  index_foxa2_all_global[0].size, index_pax6_all_global[0].size,  \n",
    "                                   index_wt_all[0].size, index_ko_all[0].size,  index_foxa2_all[0].size, index_pax6_all[0].size, index_double_all[0].size,\n",
    "                                   \n",
    "                                   index_foxa2_wt[0].size, index_pax6_wt[0].size, index_foxa2_ko[0].size, index_pax6_ko[0].size,\n",
    "                                   index_foxa2_wt_2[0].size, index_pax6_wt_2[0].size, index_foxa2_ko_2[0].size, index_pax6_ko_2[0].size,\n",
    "                                   index_foxa2_wt_3[0].size, index_pax6_wt_3[0].size, index_foxa2_ko_3[0].size, index_pax6_ko_3[0].size,\n",
    "                                   index_foxa2_wt_4[0].size, index_pax6_wt_4[0].size, index_foxa2_ko_4[0].size, index_pax6_ko_4[0].size,\n",
    "                                  ]\n",
    "                \n",
    "                "
   ]
  },
  {
   "cell_type": "code",
   "execution_count": 11,
   "id": "a324e27d-9743-4b31-9ee3-7c647eb5af97",
   "metadata": {},
   "outputs": [
    {
     "data": {
      "text/html": [
       "<div>\n",
       "<style scoped>\n",
       "    .dataframe tbody tr th:only-of-type {\n",
       "        vertical-align: middle;\n",
       "    }\n",
       "\n",
       "    .dataframe tbody tr th {\n",
       "        vertical-align: top;\n",
       "    }\n",
       "\n",
       "    .dataframe thead th {\n",
       "        text-align: right;\n",
       "    }\n",
       "</style>\n",
       "<table border=\"1\" class=\"dataframe\">\n",
       "  <thead>\n",
       "    <tr style=\"text-align: right;\">\n",
       "      <th></th>\n",
       "      <th>image</th>\n",
       "      <th>cyst_index</th>\n",
       "      <th>cyst_size</th>\n",
       "      <th>nb_wt_all_global</th>\n",
       "      <th>nb_ko_all_global</th>\n",
       "      <th>nb_foxa2_all_global</th>\n",
       "      <th>nb_pax6_all_global</th>\n",
       "      <th>nb_wt_all</th>\n",
       "      <th>nb_ko_all</th>\n",
       "      <th>nb_foxa2_all</th>\n",
       "      <th>...</th>\n",
       "      <th>nb_foxa2_ko_ll</th>\n",
       "      <th>nb_pax6_ko_ll</th>\n",
       "      <th>nb_foxa2_wt_lg</th>\n",
       "      <th>nb_pax6_wt_lg</th>\n",
       "      <th>nb_foxa2_ko_lg</th>\n",
       "      <th>nb_pax6_ko_lg</th>\n",
       "      <th>nb_foxa2_wt_gg</th>\n",
       "      <th>nb_pax6_wt_gg</th>\n",
       "      <th>nb_foxa2_ko_gg</th>\n",
       "      <th>nb_pax6_ko_gg</th>\n",
       "    </tr>\n",
       "  </thead>\n",
       "  <tbody>\n",
       "    <tr>\n",
       "      <th>0</th>\n",
       "      <td>241023_10x_d4-2umZ_3-FS-WG_RA_FA2-Px6_E7_61_01...</td>\n",
       "      <td>1</td>\n",
       "      <td>39740</td>\n",
       "      <td>23615</td>\n",
       "      <td>0</td>\n",
       "      <td>2373</td>\n",
       "      <td>11596</td>\n",
       "      <td>9273</td>\n",
       "      <td>7621</td>\n",
       "      <td>5053</td>\n",
       "      <td>...</td>\n",
       "      <td>1551</td>\n",
       "      <td>388</td>\n",
       "      <td>4091</td>\n",
       "      <td>8555</td>\n",
       "      <td>0</td>\n",
       "      <td>0</td>\n",
       "      <td>2241</td>\n",
       "      <td>11519</td>\n",
       "      <td>0</td>\n",
       "      <td>0</td>\n",
       "    </tr>\n",
       "    <tr>\n",
       "      <th>1</th>\n",
       "      <td>241023_10x_d4-2umZ_3-FS-WG_RA_FA2-Px6_E7_61_01...</td>\n",
       "      <td>2</td>\n",
       "      <td>37536</td>\n",
       "      <td>10340</td>\n",
       "      <td>6134</td>\n",
       "      <td>2822</td>\n",
       "      <td>13591</td>\n",
       "      <td>6664</td>\n",
       "      <td>9573</td>\n",
       "      <td>5670</td>\n",
       "      <td>...</td>\n",
       "      <td>116</td>\n",
       "      <td>7324</td>\n",
       "      <td>4257</td>\n",
       "      <td>1273</td>\n",
       "      <td>18</td>\n",
       "      <td>5335</td>\n",
       "      <td>2429</td>\n",
       "      <td>2910</td>\n",
       "      <td>2</td>\n",
       "      <td>5665</td>\n",
       "    </tr>\n",
       "    <tr>\n",
       "      <th>2</th>\n",
       "      <td>241023_10x_d4-2umZ_3-FS-WG_RA_FA2-Px6_E7_61_01...</td>\n",
       "      <td>3</td>\n",
       "      <td>80200</td>\n",
       "      <td>1501</td>\n",
       "      <td>48760</td>\n",
       "      <td>39</td>\n",
       "      <td>50934</td>\n",
       "      <td>7299</td>\n",
       "      <td>19562</td>\n",
       "      <td>6846</td>\n",
       "      <td>...</td>\n",
       "      <td>943</td>\n",
       "      <td>10965</td>\n",
       "      <td>218</td>\n",
       "      <td>483</td>\n",
       "      <td>4368</td>\n",
       "      <td>19043</td>\n",
       "      <td>21</td>\n",
       "      <td>1332</td>\n",
       "      <td>1</td>\n",
       "      <td>40329</td>\n",
       "    </tr>\n",
       "    <tr>\n",
       "      <th>3</th>\n",
       "      <td>241023_10x_d4-2umZ_3-FS-WG_RA_FA2-Px6_E7_61_01...</td>\n",
       "      <td>4</td>\n",
       "      <td>80692</td>\n",
       "      <td>19659</td>\n",
       "      <td>22758</td>\n",
       "      <td>2031</td>\n",
       "      <td>44182</td>\n",
       "      <td>15560</td>\n",
       "      <td>23670</td>\n",
       "      <td>8341</td>\n",
       "      <td>...</td>\n",
       "      <td>811</td>\n",
       "      <td>13587</td>\n",
       "      <td>3646</td>\n",
       "      <td>9823</td>\n",
       "      <td>772</td>\n",
       "      <td>12901</td>\n",
       "      <td>1310</td>\n",
       "      <td>15261</td>\n",
       "      <td>47</td>\n",
       "      <td>19887</td>\n",
       "    </tr>\n",
       "    <tr>\n",
       "      <th>4</th>\n",
       "      <td>241023_10x_d4-2umZ_3-FS-WG_RA_FA2-Px6_E7_61_01...</td>\n",
       "      <td>5</td>\n",
       "      <td>19452</td>\n",
       "      <td>12316</td>\n",
       "      <td>1</td>\n",
       "      <td>119</td>\n",
       "      <td>8458</td>\n",
       "      <td>8127</td>\n",
       "      <td>106</td>\n",
       "      <td>1375</td>\n",
       "      <td>...</td>\n",
       "      <td>0</td>\n",
       "      <td>32</td>\n",
       "      <td>1102</td>\n",
       "      <td>5255</td>\n",
       "      <td>0</td>\n",
       "      <td>0</td>\n",
       "      <td>119</td>\n",
       "      <td>8381</td>\n",
       "      <td>0</td>\n",
       "      <td>0</td>\n",
       "    </tr>\n",
       "    <tr>\n",
       "      <th>...</th>\n",
       "      <td>...</td>\n",
       "      <td>...</td>\n",
       "      <td>...</td>\n",
       "      <td>...</td>\n",
       "      <td>...</td>\n",
       "      <td>...</td>\n",
       "      <td>...</td>\n",
       "      <td>...</td>\n",
       "      <td>...</td>\n",
       "      <td>...</td>\n",
       "      <td>...</td>\n",
       "      <td>...</td>\n",
       "      <td>...</td>\n",
       "      <td>...</td>\n",
       "      <td>...</td>\n",
       "      <td>...</td>\n",
       "      <td>...</td>\n",
       "      <td>...</td>\n",
       "      <td>...</td>\n",
       "      <td>...</td>\n",
       "      <td>...</td>\n",
       "    </tr>\n",
       "    <tr>\n",
       "      <th>339</th>\n",
       "      <td>241023_10x_d4-2umZ_3-FS-WG_RA_FA2-Px6_E9_71_01...</td>\n",
       "      <td>26</td>\n",
       "      <td>536</td>\n",
       "      <td>31</td>\n",
       "      <td>25</td>\n",
       "      <td>13</td>\n",
       "      <td>126</td>\n",
       "      <td>32</td>\n",
       "      <td>152</td>\n",
       "      <td>50</td>\n",
       "      <td>...</td>\n",
       "      <td>1</td>\n",
       "      <td>126</td>\n",
       "      <td>28</td>\n",
       "      <td>0</td>\n",
       "      <td>0</td>\n",
       "      <td>24</td>\n",
       "      <td>13</td>\n",
       "      <td>0</td>\n",
       "      <td>0</td>\n",
       "      <td>23</td>\n",
       "    </tr>\n",
       "    <tr>\n",
       "      <th>340</th>\n",
       "      <td>241023_10x_d4-2umZ_3-FS-WG_RA_FA2-Px6_E9_71_01...</td>\n",
       "      <td>27</td>\n",
       "      <td>12612</td>\n",
       "      <td>5977</td>\n",
       "      <td>14</td>\n",
       "      <td>1735</td>\n",
       "      <td>1963</td>\n",
       "      <td>4816</td>\n",
       "      <td>472</td>\n",
       "      <td>1909</td>\n",
       "      <td>...</td>\n",
       "      <td>0</td>\n",
       "      <td>146</td>\n",
       "      <td>1529</td>\n",
       "      <td>1903</td>\n",
       "      <td>0</td>\n",
       "      <td>14</td>\n",
       "      <td>1671</td>\n",
       "      <td>1818</td>\n",
       "      <td>0</td>\n",
       "      <td>10</td>\n",
       "    </tr>\n",
       "    <tr>\n",
       "      <th>341</th>\n",
       "      <td>241023_10x_d4-2umZ_3-FS-WG_RA_FA2-Px6_E9_71_01...</td>\n",
       "      <td>28</td>\n",
       "      <td>24680</td>\n",
       "      <td>5733</td>\n",
       "      <td>5331</td>\n",
       "      <td>1883</td>\n",
       "      <td>3352</td>\n",
       "      <td>6385</td>\n",
       "      <td>4248</td>\n",
       "      <td>2916</td>\n",
       "      <td>...</td>\n",
       "      <td>444</td>\n",
       "      <td>1133</td>\n",
       "      <td>765</td>\n",
       "      <td>2118</td>\n",
       "      <td>614</td>\n",
       "      <td>1225</td>\n",
       "      <td>883</td>\n",
       "      <td>2817</td>\n",
       "      <td>334</td>\n",
       "      <td>242</td>\n",
       "    </tr>\n",
       "    <tr>\n",
       "      <th>342</th>\n",
       "      <td>241023_10x_d4-2umZ_3-FS-WG_RA_FA2-Px6_E9_71_01...</td>\n",
       "      <td>29</td>\n",
       "      <td>17508</td>\n",
       "      <td>0</td>\n",
       "      <td>4118</td>\n",
       "      <td>0</td>\n",
       "      <td>11408</td>\n",
       "      <td>644</td>\n",
       "      <td>7276</td>\n",
       "      <td>4023</td>\n",
       "      <td>...</td>\n",
       "      <td>1028</td>\n",
       "      <td>1794</td>\n",
       "      <td>765</td>\n",
       "      <td>2118</td>\n",
       "      <td>614</td>\n",
       "      <td>1225</td>\n",
       "      <td>883</td>\n",
       "      <td>2817</td>\n",
       "      <td>334</td>\n",
       "      <td>242</td>\n",
       "    </tr>\n",
       "    <tr>\n",
       "      <th>343</th>\n",
       "      <td>241023_10x_d4-2umZ_3-FS-WG_RA_FA2-Px6_E9_71_01...</td>\n",
       "      <td>30</td>\n",
       "      <td>16364</td>\n",
       "      <td>0</td>\n",
       "      <td>9745</td>\n",
       "      <td>0</td>\n",
       "      <td>2248</td>\n",
       "      <td>2258</td>\n",
       "      <td>7093</td>\n",
       "      <td>4029</td>\n",
       "      <td>...</td>\n",
       "      <td>991</td>\n",
       "      <td>1799</td>\n",
       "      <td>765</td>\n",
       "      <td>2118</td>\n",
       "      <td>614</td>\n",
       "      <td>1225</td>\n",
       "      <td>883</td>\n",
       "      <td>2817</td>\n",
       "      <td>334</td>\n",
       "      <td>242</td>\n",
       "    </tr>\n",
       "  </tbody>\n",
       "</table>\n",
       "<p>344 rows × 28 columns</p>\n",
       "</div>"
      ],
      "text/plain": [
       "                                                 image  cyst_index  cyst_size  \\\n",
       "0    241023_10x_d4-2umZ_3-FS-WG_RA_FA2-Px6_E7_61_01...           1      39740   \n",
       "1    241023_10x_d4-2umZ_3-FS-WG_RA_FA2-Px6_E7_61_01...           2      37536   \n",
       "2    241023_10x_d4-2umZ_3-FS-WG_RA_FA2-Px6_E7_61_01...           3      80200   \n",
       "3    241023_10x_d4-2umZ_3-FS-WG_RA_FA2-Px6_E7_61_01...           4      80692   \n",
       "4    241023_10x_d4-2umZ_3-FS-WG_RA_FA2-Px6_E7_61_01...           5      19452   \n",
       "..                                                 ...         ...        ...   \n",
       "339  241023_10x_d4-2umZ_3-FS-WG_RA_FA2-Px6_E9_71_01...          26        536   \n",
       "340  241023_10x_d4-2umZ_3-FS-WG_RA_FA2-Px6_E9_71_01...          27      12612   \n",
       "341  241023_10x_d4-2umZ_3-FS-WG_RA_FA2-Px6_E9_71_01...          28      24680   \n",
       "342  241023_10x_d4-2umZ_3-FS-WG_RA_FA2-Px6_E9_71_01...          29      17508   \n",
       "343  241023_10x_d4-2umZ_3-FS-WG_RA_FA2-Px6_E9_71_01...          30      16364   \n",
       "\n",
       "     nb_wt_all_global  nb_ko_all_global  nb_foxa2_all_global  \\\n",
       "0               23615                 0                 2373   \n",
       "1               10340              6134                 2822   \n",
       "2                1501             48760                   39   \n",
       "3               19659             22758                 2031   \n",
       "4               12316                 1                  119   \n",
       "..                ...               ...                  ...   \n",
       "339                31                25                   13   \n",
       "340              5977                14                 1735   \n",
       "341              5733              5331                 1883   \n",
       "342                 0              4118                    0   \n",
       "343                 0              9745                    0   \n",
       "\n",
       "     nb_pax6_all_global  nb_wt_all  nb_ko_all  nb_foxa2_all  ...  \\\n",
       "0                 11596       9273       7621          5053  ...   \n",
       "1                 13591       6664       9573          5670  ...   \n",
       "2                 50934       7299      19562          6846  ...   \n",
       "3                 44182      15560      23670          8341  ...   \n",
       "4                  8458       8127        106          1375  ...   \n",
       "..                  ...        ...        ...           ...  ...   \n",
       "339                 126         32        152            50  ...   \n",
       "340                1963       4816        472          1909  ...   \n",
       "341                3352       6385       4248          2916  ...   \n",
       "342               11408        644       7276          4023  ...   \n",
       "343                2248       2258       7093          4029  ...   \n",
       "\n",
       "     nb_foxa2_ko_ll  nb_pax6_ko_ll  nb_foxa2_wt_lg  nb_pax6_wt_lg  \\\n",
       "0              1551            388            4091           8555   \n",
       "1               116           7324            4257           1273   \n",
       "2               943          10965             218            483   \n",
       "3               811          13587            3646           9823   \n",
       "4                 0             32            1102           5255   \n",
       "..              ...            ...             ...            ...   \n",
       "339               1            126              28              0   \n",
       "340               0            146            1529           1903   \n",
       "341             444           1133             765           2118   \n",
       "342            1028           1794             765           2118   \n",
       "343             991           1799             765           2118   \n",
       "\n",
       "     nb_foxa2_ko_lg  nb_pax6_ko_lg  nb_foxa2_wt_gg  nb_pax6_wt_gg  \\\n",
       "0                 0              0            2241          11519   \n",
       "1                18           5335            2429           2910   \n",
       "2              4368          19043              21           1332   \n",
       "3               772          12901            1310          15261   \n",
       "4                 0              0             119           8381   \n",
       "..              ...            ...             ...            ...   \n",
       "339               0             24              13              0   \n",
       "340               0             14            1671           1818   \n",
       "341             614           1225             883           2817   \n",
       "342             614           1225             883           2817   \n",
       "343             614           1225             883           2817   \n",
       "\n",
       "     nb_foxa2_ko_gg  nb_pax6_ko_gg  \n",
       "0                 0              0  \n",
       "1                 2           5665  \n",
       "2                 1          40329  \n",
       "3                47          19887  \n",
       "4                 0              0  \n",
       "..              ...            ...  \n",
       "339               0             23  \n",
       "340               0             10  \n",
       "341             334            242  \n",
       "342             334            242  \n",
       "343             334            242  \n",
       "\n",
       "[344 rows x 28 columns]"
      ]
     },
     "execution_count": 11,
     "metadata": {},
     "output_type": "execute_result"
    }
   ],
   "source": [
    "df"
   ]
  },
  {
   "cell_type": "code",
   "execution_count": 12,
   "id": "8a35169f-db86-46ec-b0d9-6a7e30c6ae3a",
   "metadata": {},
   "outputs": [],
   "source": [
    "#df.plot(kind='scatter', x = 'pct_ko', y =  'pct_foxa2')"
   ]
  },
  {
   "cell_type": "code",
   "execution_count": 13,
   "id": "b6356ead-f006-484d-a340-bf3d81606edf",
   "metadata": {},
   "outputs": [
    {
     "data": {
      "text/plain": [
       "'../images_data/results/FoxAKO_WTchim_d4'"
      ]
     },
     "execution_count": 13,
     "metadata": {},
     "output_type": "execute_result"
    }
   ],
   "source": [
    "outDir "
   ]
  },
  {
   "cell_type": "code",
   "execution_count": 14,
   "id": "f0910b2a-4eb2-4895-bf21-db9df7183cfd",
   "metadata": {},
   "outputs": [],
   "source": [
    "df.to_csv(os.path.join(outDir, \"cyst_size_genotype_FoxA2_Pax6_cystThresholds_test_otsuThresholdGenotype_meanThresholdFoxA2_originalGenetype_Normallization_globallocalThreshods_v10.csv\"), \n",
    "          index=True, header=True)"
   ]
  },
  {
   "cell_type": "code",
   "execution_count": null,
   "id": "de7a0230-21d9-49f1-991b-f4d51d977fe3",
   "metadata": {},
   "outputs": [],
   "source": []
  },
  {
   "cell_type": "code",
   "execution_count": null,
   "id": "94326c64-884e-4721-9b79-68dbf27f2f27",
   "metadata": {},
   "outputs": [],
   "source": []
  },
  {
   "cell_type": "code",
   "execution_count": null,
   "id": "658f7ab5-2d0c-4efb-8e77-5c1ecf7904db",
   "metadata": {},
   "outputs": [],
   "source": []
  },
  {
   "cell_type": "code",
   "execution_count": null,
   "id": "ca6da178-32e9-4057-8ad6-ea1ec2973c74",
   "metadata": {},
   "outputs": [],
   "source": []
  },
  {
   "cell_type": "code",
   "execution_count": null,
   "id": "77e90c7c-cf26-426e-86a0-ca75a00f9dc9",
   "metadata": {},
   "outputs": [],
   "source": []
  },
  {
   "cell_type": "code",
   "execution_count": null,
   "id": "83721670-bbbb-4c05-a472-fe10deae4c85",
   "metadata": {},
   "outputs": [],
   "source": [
    "#############################################\n",
    "## Not used here \n",
    "## PAX6 KO with CP binary images by Hannah\n",
    "#############################################"
   ]
  },
  {
   "cell_type": "code",
   "execution_count": 127,
   "id": "2cb438fc-6eab-4ad6-b13d-ba9d6e1172b8",
   "metadata": {},
   "outputs": [
    {
     "data": {
      "text/html": [
       "<div>\n",
       "<style scoped>\n",
       "    .dataframe tbody tr th:only-of-type {\n",
       "        vertical-align: middle;\n",
       "    }\n",
       "\n",
       "    .dataframe tbody tr th {\n",
       "        vertical-align: top;\n",
       "    }\n",
       "\n",
       "    .dataframe thead th {\n",
       "        text-align: right;\n",
       "    }\n",
       "</style>\n",
       "<table border=\"1\" class=\"dataframe\">\n",
       "  <thead>\n",
       "    <tr style=\"text-align: right;\">\n",
       "      <th></th>\n",
       "      <th>image</th>\n",
       "      <th>cyst_index</th>\n",
       "      <th>cyst_size</th>\n",
       "      <th>pct_genotype</th>\n",
       "      <th>pct_wt</th>\n",
       "      <th>pct_foxa2</th>\n",
       "      <th>pct_pax6</th>\n",
       "    </tr>\n",
       "  </thead>\n",
       "  <tbody>\n",
       "  </tbody>\n",
       "</table>\n",
       "</div>"
      ],
      "text/plain": [
       "Empty DataFrame\n",
       "Columns: [image, cyst_index, cyst_size, pct_genotype, pct_wt, pct_foxa2, pct_pax6]\n",
       "Index: []"
      ]
     },
     "execution_count": 127,
     "metadata": {},
     "output_type": "execute_result"
    }
   ],
   "source": [
    "import pandas as pd\n",
    "from skimage import measure\n",
    "data = {\"image\": [], \"cyst_index\": [], \"cyst_size\": [],  \"pct_genotype\": [], \"pct_wt\": [], \"pct_foxa2\": [], \"pct_pax6\": []}\n",
    "df = pd.DataFrame(data)\n",
    "df"
   ]
  },
  {
   "cell_type": "code",
   "execution_count": 129,
   "id": "83253ca2-75fd-4b08-a24c-51d36c98b888",
   "metadata": {},
   "outputs": [],
   "source": [
    "nb_wt = []\n",
    "nb_wt_foxa2 = []\n",
    "nb_wt_pax6 = []\n",
    "\n",
    "nb_ko = []\n",
    "nb_ko_foxa2 = []\n",
    "nb_ko_pax6 = []"
   ]
  },
  {
   "cell_type": "code",
   "execution_count": 130,
   "id": "8e7082e5-d6c2-44fd-9476-6bce8cca597d",
   "metadata": {},
   "outputs": [
    {
     "name": "stdout",
     "output_type": "stream",
     "text": [
      "241023_10x_d4-2umZ_4-PS-WG_RA_FA2-Px6_F7_85_01_isotropic_C5\n",
      "241023_10x_d4-2umZ_4-PS-WG_RA_FA2-Px6_F7_86_01_isotropic_C5\n",
      "241023_10x_d4-2umZ_4-PS-WG_RA_FA2-Px6_F7_87_01_isotropic_C5\n",
      "241023_10x_d4-2umZ_4-PS-WG_RA_FA2-Px6_F8_89_01_isotropic_C5\n",
      "241023_10x_d4-2umZ_4-PS-WG_RA_FA2-Px6_F8_90_01_isotropic_C5\n",
      "241023_10x_d4-2umZ_4-PS-WG_RA_FA2-Px6_F8_91_01_isotropic_C5\n",
      "241023_10x_d4-2umZ_4-PS-WG_RA_FA2-Px6_F9_93_01_isotropic_C5\n",
      "241023_10x_d4-2umZ_4-PS-WG_RA_FA2-Px6_F9_94_01_isotropic_C5\n",
      "241023_10x_d4-2umZ_4-PS-WG_RA_FA2-Px6_F9_95_01_isotropic_C5\n"
     ]
    }
   ],
   "source": [
    "CPoutDir = \"../images_data/CPouts2\"\n",
    "for nm in os.listdir(CPoutDir):\n",
    "    if \"_CystMask.tiff\" in nm:\n",
    "        #print(nm)\n",
    "        fileName = nm.replace('_CystMask.tiff','')\n",
    "        #files += [nm]\n",
    "        print(fileName)\n",
    "        #make_composite_C5(newName, ImageDir, outDir)\n",
    "        \n",
    "        mask = imread(os.path.join(CPoutDir, str(fileName + \"_CystMask.tiff\"))) # mask segmeted cysts\n",
    "        C1 = imread(os.path.join(CPoutDir, str(fileName + \"_FoxA2mask.tiff\"))) # FoxA2, nuclei\n",
    "        C2 = imread(os.path.join(CPoutDir, str(fileName + \"_P6KOSCmask.tiff\"))) # Pax6-KO genotype Scarlet, nuclei\n",
    "        C3 = imread(os.path.join(CPoutDir, str(fileName + \"_WTGFPmask.tiff\"))) # WT genotype GFP, whole cell \n",
    "        C4 = imread(os.path.join(CPoutDir, str(fileName + \"_Pax6mask.tiff\"))) # Pax6, nuclei\n",
    "        \n",
    "        labels_mask, nb_cyst = measure.label(mask, return_num = True)\n",
    "\n",
    "        for i in range(nb_cyst+1):\n",
    "            if i > 0:\n",
    "                #print(i) # prints: -1, 0, 1, 2, 3, 4,\n",
    "                cyst_index = np.where(labels_mask == i)\n",
    "                genotype_wt = C3[cyst_index]\n",
    "                genotype_ko = C2[cyst_index]\n",
    "                pax6 = C4[cyst_index]\n",
    "                foxa2 = C1[cyst_index]\n",
    "        \n",
    "                geno_wt = np.where((genotype_wt > 0) & (genotype_ko == 0)) # for and\n",
    "                geno_ko = np.where((genotype_wt == 0) & (genotype_ko > 0)) # for and\n",
    "                \n",
    "                nb_wt += [geno_wt[0].size]\n",
    "                pax6_wt = pax6[geno_wt]\n",
    "                foxa2_wt = foxa2[geno_wt]\n",
    "                index_foxa2 = np.where(foxa2_wt > 0)\n",
    "                index_pax6 = np.where(pax6_wt > 0)\n",
    "                \n",
    "                nb_wt_foxa2 += [index_foxa2[0].size]\n",
    "                nb_wt_pax6 += [index_pax6[0].size]\n",
    "                \n",
    "                nb_ko += [geno_ko[0].size]\n",
    "                pax6_ko = pax6[geno_ko]\n",
    "                foxa2_ko = foxa2[geno_ko]\n",
    "                index_foxa2_ko = np.where(foxa2_ko > 0)\n",
    "                index_pax6_ko = np.where(pax6_ko > 0)\n",
    "                \n",
    "                nb_ko_foxa2 += [index_foxa2_ko[0].size]\n",
    "                nb_ko_pax6 += [index_pax6_ko[0].size]\n",
    "                \n",
    "                \n",
    "                if geno_wt[0].size > 0:\n",
    "                    pax6_wt = pax6[geno_wt]\n",
    "                    foxa2_wt = foxa2[geno_wt]\n",
    "                    index_foxa2 = np.where(foxa2_wt > 0)\n",
    "                    index_pax6 = np.where(pax6_wt > 0)\n",
    "                    \n",
    "                    df.loc[len(df)] = [fileName, i,  cyst_index[0].size, \n",
    "                                       (geno_ko[0].size + geno_wt[0].size)/cyst_index[0].size, \n",
    "                                        geno_wt[0].size/(geno_ko[0].size + geno_wt[0].size), \n",
    "                                        index_foxa2[0].size/geno_wt[0].size, \n",
    "                                        index_pax6[0].size/geno_wt[0].size]"
   ]
  },
  {
   "cell_type": "code",
   "execution_count": 131,
   "id": "b8164bae-a94a-4031-8a4a-c3c86200d332",
   "metadata": {},
   "outputs": [
    {
     "name": "stdout",
     "output_type": "stream",
     "text": [
      "2878203\n",
      "4250792\n",
      "0.33603814602375165\n",
      "0.4960226919366007\n",
      "0.571094986534274\n",
      "0.027127415314604903\n"
     ]
    }
   ],
   "source": [
    "print(np.sum(nb_wt))\n",
    "print(np.sum(nb_ko))\n",
    "print(np.sum(nb_wt_foxa2)/np.sum(nb_wt))\n",
    "print(np.sum(nb_wt_pax6)/np.sum(nb_wt))\n",
    "\n",
    "print(np.sum(nb_ko_foxa2)/np.sum(nb_ko))\n",
    "print(np.sum(nb_ko_pax6)/np.sum(nb_ko))\n"
   ]
  },
  {
   "cell_type": "code",
   "execution_count": null,
   "id": "69d31e29-8fd3-4004-afc3-6c36e3104761",
   "metadata": {},
   "outputs": [],
   "source": []
  },
  {
   "cell_type": "code",
   "execution_count": 132,
   "id": "28d747bc-b628-4660-80a2-b624da22c2dc",
   "metadata": {},
   "outputs": [
    {
     "data": {
      "text/html": [
       "<div>\n",
       "<style scoped>\n",
       "    .dataframe tbody tr th:only-of-type {\n",
       "        vertical-align: middle;\n",
       "    }\n",
       "\n",
       "    .dataframe tbody tr th {\n",
       "        vertical-align: top;\n",
       "    }\n",
       "\n",
       "    .dataframe thead th {\n",
       "        text-align: right;\n",
       "    }\n",
       "</style>\n",
       "<table border=\"1\" class=\"dataframe\">\n",
       "  <thead>\n",
       "    <tr style=\"text-align: right;\">\n",
       "      <th></th>\n",
       "      <th>image</th>\n",
       "      <th>cyst_index</th>\n",
       "      <th>cyst_size</th>\n",
       "      <th>pct_genotype</th>\n",
       "      <th>pct_wt</th>\n",
       "      <th>pct_foxa2</th>\n",
       "      <th>pct_pax6</th>\n",
       "    </tr>\n",
       "  </thead>\n",
       "  <tbody>\n",
       "    <tr>\n",
       "      <th>0</th>\n",
       "      <td>241023_10x_d4-2umZ_4-PS-WG_RA_FA2-Px6_F7_85_01...</td>\n",
       "      <td>1</td>\n",
       "      <td>58628</td>\n",
       "      <td>0.485365</td>\n",
       "      <td>0.332338</td>\n",
       "      <td>0.498995</td>\n",
       "      <td>0.450248</td>\n",
       "    </tr>\n",
       "    <tr>\n",
       "      <th>1</th>\n",
       "      <td>241023_10x_d4-2umZ_4-PS-WG_RA_FA2-Px6_F7_85_01...</td>\n",
       "      <td>2</td>\n",
       "      <td>30408</td>\n",
       "      <td>0.499474</td>\n",
       "      <td>0.138662</td>\n",
       "      <td>0.701330</td>\n",
       "      <td>0.001425</td>\n",
       "    </tr>\n",
       "    <tr>\n",
       "      <th>2</th>\n",
       "      <td>241023_10x_d4-2umZ_4-PS-WG_RA_FA2-Px6_F7_85_01...</td>\n",
       "      <td>3</td>\n",
       "      <td>60392</td>\n",
       "      <td>0.496788</td>\n",
       "      <td>0.700287</td>\n",
       "      <td>0.386816</td>\n",
       "      <td>0.549691</td>\n",
       "    </tr>\n",
       "    <tr>\n",
       "      <th>3</th>\n",
       "      <td>241023_10x_d4-2umZ_4-PS-WG_RA_FA2-Px6_F7_85_01...</td>\n",
       "      <td>4</td>\n",
       "      <td>52778</td>\n",
       "      <td>0.608492</td>\n",
       "      <td>0.995983</td>\n",
       "      <td>0.290721</td>\n",
       "      <td>0.734759</td>\n",
       "    </tr>\n",
       "    <tr>\n",
       "      <th>4</th>\n",
       "      <td>241023_10x_d4-2umZ_4-PS-WG_RA_FA2-Px6_F7_85_01...</td>\n",
       "      <td>5</td>\n",
       "      <td>40924</td>\n",
       "      <td>0.286531</td>\n",
       "      <td>0.533515</td>\n",
       "      <td>0.397219</td>\n",
       "      <td>0.453325</td>\n",
       "    </tr>\n",
       "    <tr>\n",
       "      <th>...</th>\n",
       "      <td>...</td>\n",
       "      <td>...</td>\n",
       "      <td>...</td>\n",
       "      <td>...</td>\n",
       "      <td>...</td>\n",
       "      <td>...</td>\n",
       "      <td>...</td>\n",
       "    </tr>\n",
       "    <tr>\n",
       "      <th>281</th>\n",
       "      <td>241023_10x_d4-2umZ_4-PS-WG_RA_FA2-Px6_F9_95_01...</td>\n",
       "      <td>56</td>\n",
       "      <td>44664</td>\n",
       "      <td>0.519210</td>\n",
       "      <td>0.028374</td>\n",
       "      <td>0.364742</td>\n",
       "      <td>0.346505</td>\n",
       "    </tr>\n",
       "    <tr>\n",
       "      <th>282</th>\n",
       "      <td>241023_10x_d4-2umZ_4-PS-WG_RA_FA2-Px6_F9_95_01...</td>\n",
       "      <td>58</td>\n",
       "      <td>516</td>\n",
       "      <td>0.934109</td>\n",
       "      <td>1.000000</td>\n",
       "      <td>0.000000</td>\n",
       "      <td>0.197095</td>\n",
       "    </tr>\n",
       "    <tr>\n",
       "      <th>283</th>\n",
       "      <td>241023_10x_d4-2umZ_4-PS-WG_RA_FA2-Px6_F9_95_01...</td>\n",
       "      <td>59</td>\n",
       "      <td>6968</td>\n",
       "      <td>0.565442</td>\n",
       "      <td>0.999746</td>\n",
       "      <td>0.743336</td>\n",
       "      <td>0.233054</td>\n",
       "    </tr>\n",
       "    <tr>\n",
       "      <th>284</th>\n",
       "      <td>241023_10x_d4-2umZ_4-PS-WG_RA_FA2-Px6_F9_95_01...</td>\n",
       "      <td>60</td>\n",
       "      <td>26028</td>\n",
       "      <td>0.510719</td>\n",
       "      <td>0.884225</td>\n",
       "      <td>0.225370</td>\n",
       "      <td>0.482729</td>\n",
       "    </tr>\n",
       "    <tr>\n",
       "      <th>285</th>\n",
       "      <td>241023_10x_d4-2umZ_4-PS-WG_RA_FA2-Px6_F9_95_01...</td>\n",
       "      <td>64</td>\n",
       "      <td>5760</td>\n",
       "      <td>0.595833</td>\n",
       "      <td>1.000000</td>\n",
       "      <td>0.081294</td>\n",
       "      <td>0.086538</td>\n",
       "    </tr>\n",
       "  </tbody>\n",
       "</table>\n",
       "<p>286 rows × 7 columns</p>\n",
       "</div>"
      ],
      "text/plain": [
       "                                                 image  cyst_index  cyst_size  \\\n",
       "0    241023_10x_d4-2umZ_4-PS-WG_RA_FA2-Px6_F7_85_01...           1      58628   \n",
       "1    241023_10x_d4-2umZ_4-PS-WG_RA_FA2-Px6_F7_85_01...           2      30408   \n",
       "2    241023_10x_d4-2umZ_4-PS-WG_RA_FA2-Px6_F7_85_01...           3      60392   \n",
       "3    241023_10x_d4-2umZ_4-PS-WG_RA_FA2-Px6_F7_85_01...           4      52778   \n",
       "4    241023_10x_d4-2umZ_4-PS-WG_RA_FA2-Px6_F7_85_01...           5      40924   \n",
       "..                                                 ...         ...        ...   \n",
       "281  241023_10x_d4-2umZ_4-PS-WG_RA_FA2-Px6_F9_95_01...          56      44664   \n",
       "282  241023_10x_d4-2umZ_4-PS-WG_RA_FA2-Px6_F9_95_01...          58        516   \n",
       "283  241023_10x_d4-2umZ_4-PS-WG_RA_FA2-Px6_F9_95_01...          59       6968   \n",
       "284  241023_10x_d4-2umZ_4-PS-WG_RA_FA2-Px6_F9_95_01...          60      26028   \n",
       "285  241023_10x_d4-2umZ_4-PS-WG_RA_FA2-Px6_F9_95_01...          64       5760   \n",
       "\n",
       "     pct_genotype    pct_wt  pct_foxa2  pct_pax6  \n",
       "0        0.485365  0.332338   0.498995  0.450248  \n",
       "1        0.499474  0.138662   0.701330  0.001425  \n",
       "2        0.496788  0.700287   0.386816  0.549691  \n",
       "3        0.608492  0.995983   0.290721  0.734759  \n",
       "4        0.286531  0.533515   0.397219  0.453325  \n",
       "..            ...       ...        ...       ...  \n",
       "281      0.519210  0.028374   0.364742  0.346505  \n",
       "282      0.934109  1.000000   0.000000  0.197095  \n",
       "283      0.565442  0.999746   0.743336  0.233054  \n",
       "284      0.510719  0.884225   0.225370  0.482729  \n",
       "285      0.595833  1.000000   0.081294  0.086538  \n",
       "\n",
       "[286 rows x 7 columns]"
      ]
     },
     "execution_count": 132,
     "metadata": {},
     "output_type": "execute_result"
    }
   ],
   "source": [
    "df "
   ]
  },
  {
   "cell_type": "code",
   "execution_count": 133,
   "id": "11381c23-07d6-4523-98f8-61427d8cb9bd",
   "metadata": {},
   "outputs": [],
   "source": [
    "df.to_csv(os.path.join(outDir, \"cyst_size_genotype_FoxA2_Pax6.csv\"), index=True, header=True)"
   ]
  },
  {
   "cell_type": "code",
   "execution_count": 17,
   "id": "980f790e-4965-41af-8e6e-95c268930ccb",
   "metadata": {},
   "outputs": [],
   "source": [
    "outDir\n",
    "df = pd.read_csv(os.path.join(outDir, \"genotype_FoxA2_Pax6.csv\"), index_col = 0) "
   ]
  },
  {
   "cell_type": "code",
   "execution_count": 18,
   "id": "779bc989-1079-48b5-8929-66fa7cc5e08d",
   "metadata": {},
   "outputs": [
    {
     "data": {
      "text/html": [
       "<div>\n",
       "<style scoped>\n",
       "    .dataframe tbody tr th:only-of-type {\n",
       "        vertical-align: middle;\n",
       "    }\n",
       "\n",
       "    .dataframe tbody tr th {\n",
       "        vertical-align: top;\n",
       "    }\n",
       "\n",
       "    .dataframe thead th {\n",
       "        text-align: right;\n",
       "    }\n",
       "</style>\n",
       "<table border=\"1\" class=\"dataframe\">\n",
       "  <thead>\n",
       "    <tr style=\"text-align: right;\">\n",
       "      <th></th>\n",
       "      <th>image</th>\n",
       "      <th>cyst_index</th>\n",
       "      <th>pct_genotype</th>\n",
       "      <th>pct_wt</th>\n",
       "      <th>pct_foxa2</th>\n",
       "      <th>pct_pax6</th>\n",
       "    </tr>\n",
       "  </thead>\n",
       "  <tbody>\n",
       "    <tr>\n",
       "      <th>0</th>\n",
       "      <td>241023_10x_d4-2umZ_4-PS-WG_RA_FA2-Px6_F7_85_01...</td>\n",
       "      <td>1</td>\n",
       "      <td>0.485365</td>\n",
       "      <td>0.332338</td>\n",
       "      <td>0.498995</td>\n",
       "      <td>0.450248</td>\n",
       "    </tr>\n",
       "    <tr>\n",
       "      <th>1</th>\n",
       "      <td>241023_10x_d4-2umZ_4-PS-WG_RA_FA2-Px6_F7_85_01...</td>\n",
       "      <td>2</td>\n",
       "      <td>0.499474</td>\n",
       "      <td>0.138662</td>\n",
       "      <td>0.701330</td>\n",
       "      <td>0.001425</td>\n",
       "    </tr>\n",
       "    <tr>\n",
       "      <th>2</th>\n",
       "      <td>241023_10x_d4-2umZ_4-PS-WG_RA_FA2-Px6_F7_85_01...</td>\n",
       "      <td>3</td>\n",
       "      <td>0.496788</td>\n",
       "      <td>0.700287</td>\n",
       "      <td>0.386816</td>\n",
       "      <td>0.549691</td>\n",
       "    </tr>\n",
       "    <tr>\n",
       "      <th>3</th>\n",
       "      <td>241023_10x_d4-2umZ_4-PS-WG_RA_FA2-Px6_F7_85_01...</td>\n",
       "      <td>4</td>\n",
       "      <td>0.608492</td>\n",
       "      <td>0.995983</td>\n",
       "      <td>0.290721</td>\n",
       "      <td>0.734759</td>\n",
       "    </tr>\n",
       "    <tr>\n",
       "      <th>4</th>\n",
       "      <td>241023_10x_d4-2umZ_4-PS-WG_RA_FA2-Px6_F7_85_01...</td>\n",
       "      <td>5</td>\n",
       "      <td>0.286531</td>\n",
       "      <td>0.533515</td>\n",
       "      <td>0.397219</td>\n",
       "      <td>0.453325</td>\n",
       "    </tr>\n",
       "    <tr>\n",
       "      <th>...</th>\n",
       "      <td>...</td>\n",
       "      <td>...</td>\n",
       "      <td>...</td>\n",
       "      <td>...</td>\n",
       "      <td>...</td>\n",
       "      <td>...</td>\n",
       "    </tr>\n",
       "    <tr>\n",
       "      <th>281</th>\n",
       "      <td>241023_10x_d4-2umZ_4-PS-WG_RA_FA2-Px6_F9_95_01...</td>\n",
       "      <td>56</td>\n",
       "      <td>0.519210</td>\n",
       "      <td>0.028374</td>\n",
       "      <td>0.364742</td>\n",
       "      <td>0.346505</td>\n",
       "    </tr>\n",
       "    <tr>\n",
       "      <th>282</th>\n",
       "      <td>241023_10x_d4-2umZ_4-PS-WG_RA_FA2-Px6_F9_95_01...</td>\n",
       "      <td>58</td>\n",
       "      <td>0.934109</td>\n",
       "      <td>1.000000</td>\n",
       "      <td>0.000000</td>\n",
       "      <td>0.197095</td>\n",
       "    </tr>\n",
       "    <tr>\n",
       "      <th>283</th>\n",
       "      <td>241023_10x_d4-2umZ_4-PS-WG_RA_FA2-Px6_F9_95_01...</td>\n",
       "      <td>59</td>\n",
       "      <td>0.565442</td>\n",
       "      <td>0.999746</td>\n",
       "      <td>0.743336</td>\n",
       "      <td>0.233054</td>\n",
       "    </tr>\n",
       "    <tr>\n",
       "      <th>284</th>\n",
       "      <td>241023_10x_d4-2umZ_4-PS-WG_RA_FA2-Px6_F9_95_01...</td>\n",
       "      <td>60</td>\n",
       "      <td>0.510719</td>\n",
       "      <td>0.884225</td>\n",
       "      <td>0.225370</td>\n",
       "      <td>0.482729</td>\n",
       "    </tr>\n",
       "    <tr>\n",
       "      <th>285</th>\n",
       "      <td>241023_10x_d4-2umZ_4-PS-WG_RA_FA2-Px6_F9_95_01...</td>\n",
       "      <td>64</td>\n",
       "      <td>0.595833</td>\n",
       "      <td>1.000000</td>\n",
       "      <td>0.081294</td>\n",
       "      <td>0.086538</td>\n",
       "    </tr>\n",
       "  </tbody>\n",
       "</table>\n",
       "<p>286 rows × 6 columns</p>\n",
       "</div>"
      ],
      "text/plain": [
       "                                                 image  cyst_index  \\\n",
       "0    241023_10x_d4-2umZ_4-PS-WG_RA_FA2-Px6_F7_85_01...           1   \n",
       "1    241023_10x_d4-2umZ_4-PS-WG_RA_FA2-Px6_F7_85_01...           2   \n",
       "2    241023_10x_d4-2umZ_4-PS-WG_RA_FA2-Px6_F7_85_01...           3   \n",
       "3    241023_10x_d4-2umZ_4-PS-WG_RA_FA2-Px6_F7_85_01...           4   \n",
       "4    241023_10x_d4-2umZ_4-PS-WG_RA_FA2-Px6_F7_85_01...           5   \n",
       "..                                                 ...         ...   \n",
       "281  241023_10x_d4-2umZ_4-PS-WG_RA_FA2-Px6_F9_95_01...          56   \n",
       "282  241023_10x_d4-2umZ_4-PS-WG_RA_FA2-Px6_F9_95_01...          58   \n",
       "283  241023_10x_d4-2umZ_4-PS-WG_RA_FA2-Px6_F9_95_01...          59   \n",
       "284  241023_10x_d4-2umZ_4-PS-WG_RA_FA2-Px6_F9_95_01...          60   \n",
       "285  241023_10x_d4-2umZ_4-PS-WG_RA_FA2-Px6_F9_95_01...          64   \n",
       "\n",
       "     pct_genotype    pct_wt  pct_foxa2  pct_pax6  \n",
       "0        0.485365  0.332338   0.498995  0.450248  \n",
       "1        0.499474  0.138662   0.701330  0.001425  \n",
       "2        0.496788  0.700287   0.386816  0.549691  \n",
       "3        0.608492  0.995983   0.290721  0.734759  \n",
       "4        0.286531  0.533515   0.397219  0.453325  \n",
       "..            ...       ...        ...       ...  \n",
       "281      0.519210  0.028374   0.364742  0.346505  \n",
       "282      0.934109  1.000000   0.000000  0.197095  \n",
       "283      0.565442  0.999746   0.743336  0.233054  \n",
       "284      0.510719  0.884225   0.225370  0.482729  \n",
       "285      0.595833  1.000000   0.081294  0.086538  \n",
       "\n",
       "[286 rows x 6 columns]"
      ]
     },
     "execution_count": 18,
     "metadata": {},
     "output_type": "execute_result"
    }
   ],
   "source": [
    "df"
   ]
  },
  {
   "cell_type": "code",
   "execution_count": 135,
   "id": "3118b620-af06-4fa9-9dbd-b7fe9649647a",
   "metadata": {},
   "outputs": [
    {
     "data": {
      "text/plain": [
       "<Axes: xlabel='cyst_size', ylabel='pct_foxa2'>"
      ]
     },
     "execution_count": 135,
     "metadata": {},
     "output_type": "execute_result"
    },
    {
     "data": {
      "image/png": "[encoded data removed]",
      "text/plain": [
       "<Figure size 640x480 with 1 Axes>"
      ]
     },
     "metadata": {},
     "output_type": "display_data"
    }
   ],
   "source": [
    "df.plot(kind='scatter', x = 'cyst_size', y =  'pct_foxa2')"
   ]
  },
  {
   "cell_type": "code",
   "execution_count": 136,
   "id": "6ef4840a-8193-4e8e-a2aa-9f6456d901d6",
   "metadata": {},
   "outputs": [
    {
     "data": {
      "text/plain": [
       "<Axes: xlabel='cyst_size', ylabel='pct_pax6'>"
      ]
     },
     "execution_count": 136,
     "metadata": {},
     "output_type": "execute_result"
    },
    {
     "data": {
      "image/png": "[encoded data removed]",
      "text/plain": [
       "<Figure size 640x480 with 1 Axes>"
      ]
     },
     "metadata": {},
     "output_type": "display_data"
    }
   ],
   "source": [
    "df.plot(kind='scatter', x = 'cyst_size', y =  'pct_pax6')"
   ]
  },
  {
   "cell_type": "code",
   "execution_count": 22,
   "id": "ec4c6f39-0318-4268-a8bd-d1f8a9ce69ab",
   "metadata": {},
   "outputs": [
    {
     "name": "stderr",
     "output_type": "stream",
     "text": [
      "/tmp/ipykernel_67286/2153116893.py:4: FutureWarning: The default of observed=False is deprecated and will be changed to True in a future version of pandas. Pass observed=False to retain current behavior or observed=True to adopt the future default and silence this warning.\n",
      "  grp = dff.groupby(by = data_cut)        #we group the data by the cut\n",
      "/tmp/ipykernel_67286/2153116893.py:6: FutureWarning: The provided callable <function median at 0x2aeaa281a790> is currently using DataFrameGroupBy.median. In a future version of pandas, the provided callable will be used directly. To keep current behavior pass the string \"median\" instead.\n",
      "  ret = grp.aggregate(np.median)         #we produce an aggregate representation (median) of each bin\n"
     ]
    },
    {
     "data": {
      "text/html": [
       "<div>\n",
       "<style scoped>\n",
       "    .dataframe tbody tr th:only-of-type {\n",
       "        vertical-align: middle;\n",
       "    }\n",
       "\n",
       "    .dataframe tbody tr th {\n",
       "        vertical-align: top;\n",
       "    }\n",
       "\n",
       "    .dataframe thead th {\n",
       "        text-align: right;\n",
       "    }\n",
       "</style>\n",
       "<table border=\"1\" class=\"dataframe\">\n",
       "  <thead>\n",
       "    <tr style=\"text-align: right;\">\n",
       "      <th></th>\n",
       "      <th>pct_wt</th>\n",
       "      <th>pct_foxa2</th>\n",
       "    </tr>\n",
       "    <tr>\n",
       "      <th>pct_wt</th>\n",
       "      <th></th>\n",
       "      <th></th>\n",
       "    </tr>\n",
       "  </thead>\n",
       "  <tbody>\n",
       "    <tr>\n",
       "      <th>(-0.000908, 0.1]</th>\n",
       "      <td>0.011182</td>\n",
       "      <td>0.316096</td>\n",
       "    </tr>\n",
       "    <tr>\n",
       "      <th>(0.1, 0.2]</th>\n",
       "      <td>0.138052</td>\n",
       "      <td>0.372969</td>\n",
       "    </tr>\n",
       "    <tr>\n",
       "      <th>(0.2, 0.3]</th>\n",
       "      <td>0.250484</td>\n",
       "      <td>0.369866</td>\n",
       "    </tr>\n",
       "    <tr>\n",
       "      <th>(0.3, 0.4]</th>\n",
       "      <td>0.339594</td>\n",
       "      <td>0.390062</td>\n",
       "    </tr>\n",
       "    <tr>\n",
       "      <th>(0.4, 0.5]</th>\n",
       "      <td>0.476663</td>\n",
       "      <td>0.393534</td>\n",
       "    </tr>\n",
       "    <tr>\n",
       "      <th>(0.5, 0.6]</th>\n",
       "      <td>0.562820</td>\n",
       "      <td>0.397484</td>\n",
       "    </tr>\n",
       "    <tr>\n",
       "      <th>(0.6, 0.7]</th>\n",
       "      <td>0.664430</td>\n",
       "      <td>0.337516</td>\n",
       "    </tr>\n",
       "    <tr>\n",
       "      <th>(0.7, 0.8]</th>\n",
       "      <td>0.747142</td>\n",
       "      <td>0.400039</td>\n",
       "    </tr>\n",
       "    <tr>\n",
       "      <th>(0.8, 0.9]</th>\n",
       "      <td>0.844303</td>\n",
       "      <td>0.499484</td>\n",
       "    </tr>\n",
       "    <tr>\n",
       "      <th>(0.9, 1.0]</th>\n",
       "      <td>1.000000</td>\n",
       "      <td>0.254315</td>\n",
       "    </tr>\n",
       "  </tbody>\n",
       "</table>\n",
       "</div>"
      ],
      "text/plain": [
       "                    pct_wt  pct_foxa2\n",
       "pct_wt                               \n",
       "(-0.000908, 0.1]  0.011182   0.316096\n",
       "(0.1, 0.2]        0.138052   0.372969\n",
       "(0.2, 0.3]        0.250484   0.369866\n",
       "(0.3, 0.4]        0.339594   0.390062\n",
       "(0.4, 0.5]        0.476663   0.393534\n",
       "(0.5, 0.6]        0.562820   0.397484\n",
       "(0.6, 0.7]        0.664430   0.337516\n",
       "(0.7, 0.8]        0.747142   0.400039\n",
       "(0.8, 0.9]        0.844303   0.499484\n",
       "(0.9, 1.0]        1.000000   0.254315"
      ]
     },
     "execution_count": 22,
     "metadata": {},
     "output_type": "execute_result"
    }
   ],
   "source": [
    "dff = df[[\"pct_wt\", \"pct_foxa2\"]]\n",
    "bins = 10\n",
    "data_cut = pd.cut(dff.pct_wt,bins)           #we cut the data following the bins\n",
    "grp = dff.groupby(by = data_cut)        #we group the data by the cut\n",
    "\n",
    "ret = grp.aggregate(np.median)         #we produce an aggregate representation (median) of each bin\n",
    "ret"
   ]
  },
  {
   "cell_type": "code",
   "execution_count": 23,
   "id": "0c5b835c-3e06-4c91-8b96-eb5d17525acb",
   "metadata": {},
   "outputs": [
    {
     "data": {
      "image/png": "[encoded data removed]",
      "text/plain": [
       "<Figure size 640x480 with 1 Axes>"
      ]
     },
     "metadata": {},
     "output_type": "display_data"
    }
   ],
   "source": [
    " #plotting\n",
    " plt.scatter(dff.pct_wt,dff.pct_foxa2,color='k',alpha=.2,s=2)\n",
    " plt.plot(ret.pct_wt,ret.pct_foxa2,'r--',lw=4,alpha=.8)\n",
    " plt.show()"
   ]
  },
  {
   "cell_type": "code",
   "execution_count": null,
   "id": "9eb1766b-363a-4fe3-bbf9-6d1b361903f3",
   "metadata": {},
   "outputs": [],
   "source": [
    "bins = np.linspace(X.min(),X.max(), total_bins)\n",
    "delta = bins[1]-bins[0]\n",
    "idx  = np.digitize(X,bins)\n",
    "running_median = [np.median(Y[idx==k]) for k in range(total_bins)]"
   ]
  },
  {
   "cell_type": "code",
   "execution_count": null,
   "id": "63ec43b2-6c66-4931-baef-daa7eb3819a2",
   "metadata": {},
   "outputs": [],
   "source": []
  },
  {
   "cell_type": "code",
   "execution_count": null,
   "id": "59504433-32e5-422f-acec-2e85e9d962b4",
   "metadata": {},
   "outputs": [],
   "source": []
  },
  {
   "cell_type": "code",
   "execution_count": null,
   "id": "4dd78be1-4526-4427-bf2f-e3c121822fd9",
   "metadata": {},
   "outputs": [],
   "source": []
  },
  {
   "cell_type": "code",
   "execution_count": 53,
   "id": "816c16e9-b12b-4f9e-a1a8-cad71f705647",
   "metadata": {},
   "outputs": [
    {
     "ename": "ZeroDivisionError",
     "evalue": "division by zero",
     "output_type": "error",
     "traceback": [
      "\u001b[0;31m---------------------------------------------------------------------------\u001b[0m",
      "\u001b[0;31mZeroDivisionError\u001b[0m                         Traceback (most recent call last)",
      "Cell \u001b[0;32mIn[53], line 9\u001b[0m\n\u001b[1;32m      7\u001b[0m xx \u001b[38;5;241m=\u001b[39m np\u001b[38;5;241m.\u001b[39mwhere((genotype_ko \u001b[38;5;241m>\u001b[39m \u001b[38;5;241m0\u001b[39m ) \u001b[38;5;241m&\u001b[39m (pax6 \u001b[38;5;241m>\u001b[39m \u001b[38;5;241m0\u001b[39m))\n\u001b[1;32m      8\u001b[0m yy \u001b[38;5;241m=\u001b[39m np\u001b[38;5;241m.\u001b[39mwhere(genotype_ko \u001b[38;5;241m>\u001b[39m \u001b[38;5;241m0\u001b[39m)\n\u001b[0;32m----> 9\u001b[0m \u001b[43mxx\u001b[49m\u001b[43m[\u001b[49m\u001b[38;5;241;43m0\u001b[39;49m\u001b[43m]\u001b[49m\u001b[38;5;241;43m.\u001b[39;49m\u001b[43msize\u001b[49m\u001b[38;5;241;43m/\u001b[39;49m\u001b[43myy\u001b[49m\u001b[43m[\u001b[49m\u001b[38;5;241;43m0\u001b[39;49m\u001b[43m]\u001b[49m\u001b[38;5;241;43m.\u001b[39;49m\u001b[43msize\u001b[49m\n",
      "\u001b[0;31mZeroDivisionError\u001b[0m: division by zero"
     ]
    }
   ],
   "source": []
  },
  {
   "cell_type": "code",
   "execution_count": 23,
   "id": "7da1464f-6e02-4cd8-99d6-a7fb8543fc9a",
   "metadata": {},
   "outputs": [
    {
     "data": {
      "text/plain": [
       "(array([ 5,  5,  5, ..., 62, 62, 62]),\n",
       " array([341, 341, 341, ..., 358, 358, 358]),\n",
       " array([200, 201, 202, ..., 199, 200, 201]))"
      ]
     },
     "execution_count": 23,
     "metadata": {},
     "output_type": "execute_result"
    }
   ],
   "source": [
    "cyst_index"
   ]
  },
  {
   "cell_type": "code",
   "execution_count": 24,
   "id": "08bbee7b-6a9c-439c-ab7a-c62f01175b0d",
   "metadata": {},
   "outputs": [],
   "source": []
  },
  {
   "cell_type": "code",
   "execution_count": 25,
   "id": "1b3488a4-cbe6-4848-9846-86cbfbf99f2f",
   "metadata": {},
   "outputs": [
    {
     "data": {
      "text/plain": [
       "array([0, 0, 0, ..., 0, 0, 0], dtype=uint16)"
      ]
     },
     "execution_count": 25,
     "metadata": {},
     "output_type": "execute_result"
    }
   ],
   "source": [
    "genotype_wt"
   ]
  },
  {
   "cell_type": "code",
   "execution_count": null,
   "id": "58431812-1e93-4025-87d4-0947961ab0b5",
   "metadata": {},
   "outputs": [],
   "source": []
  },
  {
   "cell_type": "code",
   "execution_count": 120,
   "id": "848f2cd7-0d37-498e-b46b-713fda1adccd",
   "metadata": {},
   "outputs": [],
   "source": [
    "geno_wt = np.where((genotype_wt > 0) & (genotype_ko == 0)) # for and\n",
    "geno_ko = np.where((genotype_wt == 0) & (genotype_ko > 0)) # for and\n",
    "#np.where((condition 1) | (condition 2)) # for or\n",
    "\n"
   ]
  },
  {
   "cell_type": "code",
   "execution_count": 121,
   "id": "848356f9-43a8-4ad1-9513-5be148c7839a",
   "metadata": {},
   "outputs": [
    {
     "data": {
      "text/plain": [
       "0"
      ]
     },
     "execution_count": 121,
     "metadata": {},
     "output_type": "execute_result"
    }
   ],
   "source": [
    "geno_wt[0].size"
   ]
  },
  {
   "cell_type": "code",
   "execution_count": 122,
   "id": "b9db93c8-6fd3-431f-b107-4667948aab62",
   "metadata": {},
   "outputs": [
    {
     "data": {
      "text/plain": [
       "16123"
      ]
     },
     "execution_count": 122,
     "metadata": {},
     "output_type": "execute_result"
    }
   ],
   "source": [
    "geno_ko[0].size"
   ]
  },
  {
   "cell_type": "code",
   "execution_count": 96,
   "id": "e618ca23-a9b4-45be-847e-e0f603b30729",
   "metadata": {},
   "outputs": [
    {
     "data": {
      "text/plain": [
       "0.6238930928996941"
      ]
     },
     "execution_count": 96,
     "metadata": {},
     "output_type": "execute_result"
    }
   ],
   "source": [
    "(geno_ko[0].size + geno_wt[0].size)/cyst_index[0].size\n",
    "geno_wt[0].size/(geno_ko[0].size + geno_wt[0].size)"
   ]
  },
  {
   "cell_type": "code",
   "execution_count": 97,
   "id": "ef27de43-4d84-46d9-8522-f71592159a9c",
   "metadata": {},
   "outputs": [],
   "source": [
    "pax6_wt = pax6[geno_wt]\n",
    "foxa2_wt = foxa2[geno_wt]"
   ]
  },
  {
   "cell_type": "code",
   "execution_count": 102,
   "id": "5617862e-306e-4bc8-9b75-da8c8a131519",
   "metadata": {},
   "outputs": [
    {
     "data": {
      "text/plain": [
       "0.3207741935483871"
      ]
     },
     "execution_count": 102,
     "metadata": {},
     "output_type": "execute_result"
    }
   ],
   "source": [
    "#plt.hist(genotype_wt, bins=100, color='skyblue', edgecolor='black')\n",
    "index_foxa2 = np.where(foxa2_wt > 0)\n",
    "index_foxa2[0].size/geno_wt[0].size"
   ]
  },
  {
   "cell_type": "code",
   "execution_count": 26,
   "id": "793f9412-f2c9-4423-94a0-d128b8989fcd",
   "metadata": {},
   "outputs": [
    {
     "data": {
      "image/png": "[encoded data removed]",
      "text/plain": [
       "<Figure size 640x480 with 1 Axes>"
      ]
     },
     "metadata": {},
     "output_type": "display_data"
    }
   ],
   "source": [
    "plt.scatter(genotype_wt, foxa2)\n",
    " \n",
    "# To show the plot\n",
    "plt.show()"
   ]
  },
  {
   "cell_type": "code",
   "execution_count": 28,
   "id": "f8debc4f-635e-43ad-aa03-1c5814158d14",
   "metadata": {},
   "outputs": [
    {
     "data": {
      "image/png": "[encoded data removed]",
      "text/plain": [
       "<Figure size 640x480 with 1 Axes>"
      ]
     },
     "metadata": {},
     "output_type": "display_data"
    }
   ],
   "source": [
    "plt.scatter(genotype_wt, genotype_ko)\n",
    "# To show the plot\n",
    "plt.show()"
   ]
  },
  {
   "cell_type": "code",
   "execution_count": 31,
   "id": "f6193676-bda8-4b73-9e1a-71e3d51e8df0",
   "metadata": {},
   "outputs": [
    {
     "data": {
      "image/png": "[encoded data removed]",
      "text/plain": [
       "<Figure size 640x480 with 1 Axes>"
      ]
     },
     "metadata": {},
     "output_type": "display_data"
    }
   ],
   "source": [
    "plt.scatter(genotype_ko, pax6)\n",
    " \n",
    "# To show the plot\n",
    "plt.show()\n"
   ]
  },
  {
   "cell_type": "code",
   "execution_count": 46,
   "id": "f0a4bb2b-c75f-4da6-b278-0dd0593d4d1a",
   "metadata": {},
   "outputs": [
    {
     "data": {
      "text/plain": [
       "0.3432126071329831"
      ]
     },
     "execution_count": 46,
     "metadata": {},
     "output_type": "execute_result"
    }
   ],
   "source": []
  },
  {
   "cell_type": "code",
   "execution_count": 42,
   "id": "2c710b2d-d9d5-4032-a266-f958813716a7",
   "metadata": {},
   "outputs": [
    {
     "data": {
      "text/plain": [
       "60984"
      ]
     },
     "execution_count": 42,
     "metadata": {},
     "output_type": "execute_result"
    }
   ],
   "source": [
    "genotype_ko.size"
   ]
  },
  {
   "cell_type": "code",
   "execution_count": 43,
   "id": "6bd2f4b9-c2df-49e2-8600-280c3aa95acc",
   "metadata": {},
   "outputs": [
    {
     "data": {
      "text/plain": [
       "60984"
      ]
     },
     "execution_count": 43,
     "metadata": {},
     "output_type": "execute_result"
    }
   ],
   "source": [
    "pax6.size"
   ]
  },
  {
   "cell_type": "code",
   "execution_count": 26,
   "id": "8db3ef02-3e90-4e59-a750-273cb9f8e79e",
   "metadata": {},
   "outputs": [],
   "source": [
    "#plt.hist(genotype_wt, bins=100, color='skyblue', edgecolor='black')"
   ]
  },
  {
   "cell_type": "code",
   "execution_count": null,
   "id": "e3f1bc74-0839-45b2-b6f9-89dfcddd3378",
   "metadata": {},
   "outputs": [],
   "source": [
    "# analyse objects\n",
    "#properties = measure.regionprops(label_image, intensity_image=image)"
   ]
  },
  {
   "cell_type": "code",
   "execution_count": null,
   "id": "da0f7010-3662-4bc0-9676-d4f14c1ef6a1",
   "metadata": {},
   "outputs": [],
   "source": []
  },
  {
   "cell_type": "code",
   "execution_count": null,
   "id": "9bfa0c50-a3f3-4623-9d2e-54a705ad1ca1",
   "metadata": {},
   "outputs": [],
   "source": []
  }
 ],
 "metadata": {
  "kernelspec": {
   "display_name": "Python [conda env:image_py3.9]",
   "language": "python",
   "name": "conda-env-image_py3.9-py"
  },
  "language_info": {
   "codemirror_mode": {
    "name": "ipython",
    "version": 3
   },
   "file_extension": ".py",
   "mimetype": "text/x-python",
   "name": "python",
   "nbconvert_exporter": "python",
   "pygments_lexer": "ipython3",
   "version": "3.9.19"
  }
 },
 "nbformat": 4,
 "nbformat_minor": 5
}
