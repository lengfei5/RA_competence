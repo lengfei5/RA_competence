{
 "cells": [
  {
   "cell_type": "code",
   "execution_count": 1,
   "id": "45aca13d-4575-48fd-b1b2-3368078ba212",
   "metadata": {},
   "outputs": [],
   "source": [
    "\n",
    "from sklearn.datasets import make_blobs\n",
    "import numpy as np\n",
    "import pandas as pd\n",
    "import time\n",
    "#from SMD_serial import SMD\n",
    "from SMD import SMD\n",
    "import ray\n",
    "## using conda env cellrank from CBE, not local conda"
   ]
  },
  {
   "cell_type": "code",
   "execution_count": null,
   "id": "0df006f6-07be-4619-a749-e830ed257e4c",
   "metadata": {},
   "outputs": [],
   "source": [
    "## test an example"
   ]
  },
  {
   "cell_type": "code",
   "execution_count": 2,
   "id": "e3d39acc-9df6-4534-a8ab-46ec4205f97a",
   "metadata": {},
   "outputs": [],
   "source": [
    "N = 1000\n",
    "#make 5 clusters in 10 dimensions\n",
    "X_s,y = make_blobs(N,n_features = 10,centers = 5)\n",
    "D_s = 10"
   ]
  },
  {
   "cell_type": "code",
   "execution_count": 3,
   "id": "f799e841-8ef1-4b9c-95f6-5963ef904851",
   "metadata": {},
   "outputs": [],
   "source": [
    "#Add 100 noisy dimensions, so D_s = 10, and D_n = 100. D/D_s = (D_N + D_s)/D_s = 11\n",
    "X = np.hstack([X_s,np.random.randn(N,100)])\n",
    "D_n = 20"
   ]
  },
  {
   "cell_type": "code",
   "execution_count": 4,
   "id": "c66b7374-0c4b-43f2-8399-fd885e67256e",
   "metadata": {},
   "outputs": [
    {
     "data": {
      "text/plain": [
       "array([[-1.46559589, -6.51524177, -6.7234546 , ...,  1.24334305,\n",
       "         0.66576692, -0.2807417 ],\n",
       "       [ 3.03432723, -5.0989274 , -1.55042815, ..., -0.07051904,\n",
       "         0.28538962,  0.01845486],\n",
       "       [ 8.10453605,  4.91450666,  2.44191981, ..., -1.02663853,\n",
       "         0.81866514, -0.05601722],\n",
       "       ...,\n",
       "       [ 5.02430313,  0.16278266,  8.27158166, ..., -0.61265682,\n",
       "        -0.25574222,  2.57170779],\n",
       "       [ 2.77647331, -7.85640236, -0.73731338, ...,  0.47202092,\n",
       "         0.08788283, -0.92072655],\n",
       "       [-1.50675799, -6.0145573 , -6.74267367, ..., -0.80564964,\n",
       "        -0.46813067, -0.02787389]])"
      ]
     },
     "execution_count": 4,
     "metadata": {},
     "output_type": "execute_result"
    }
   ],
   "source": [
    "X"
   ]
  },
  {
   "cell_type": "code",
   "execution_count": 5,
   "id": "e0c53e4c-8446-4a75-bc0c-997cede4e065",
   "metadata": {},
   "outputs": [
    {
     "data": {
      "text/plain": [
       "(1000, 110)"
      ]
     },
     "execution_count": 5,
     "metadata": {},
     "output_type": "execute_result"
    }
   ],
   "source": [
    "X.shape"
   ]
  },
  {
   "cell_type": "code",
   "execution_count": 6,
   "id": "7376e60e-711e-49ac-bda8-d851aeb2b4aa",
   "metadata": {},
   "outputs": [
    {
     "name": "stderr",
     "output_type": "stream",
     "text": [
      "2023-05-09 17:25:29,307\tINFO worker.py:1538 -- Started a local Ray instance.\n"
     ]
    },
    {
     "data": {
      "text/html": [
       "<div>\n",
       "    <div style=\"margin-left: 50px;display: flex;flex-direction: row;align-items: center\">\n",
       "        <h3 style=\"color: var(--jp-ui-font-color0)\">Ray</h3>\n",
       "        <svg version=\"1.1\" id=\"ray\" width=\"3em\" viewBox=\"0 0 144.5 144.6\" style=\"margin-left: 3em;margin-right: 3em\">\n",
       "            <g id=\"layer-1\">\n",
       "                <path fill=\"#00a2e9\" class=\"st0\" d=\"M97.3,77.2c-3.8-1.1-6.2,0.9-8.3,5.1c-3.5,6.8-9.9,9.9-17.4,9.6S58,88.1,54.8,81.2c-1.4-3-3-4-6.3-4.1\n",
       "                    c-5.6-0.1-9.9,0.1-13.1,6.4c-3.8,7.6-13.6,10.2-21.8,7.6C5.2,88.4-0.4,80.5,0,71.7c0.1-8.4,5.7-15.8,13.8-18.2\n",
       "                    c8.4-2.6,17.5,0.7,22.3,8c1.3,1.9,1.3,5.2,3.6,5.6c3.9,0.6,8,0.2,12,0.2c1.8,0,1.9-1.6,2.4-2.8c3.5-7.8,9.7-11.8,18-11.9\n",
       "                    c8.2-0.1,14.4,3.9,17.8,11.4c1.3,2.8,2.9,3.6,5.7,3.3c1-0.1,2,0.1,3,0c2.8-0.5,6.4,1.7,8.1-2.7s-2.3-5.5-4.1-7.5\n",
       "                    c-5.1-5.7-10.9-10.8-16.1-16.3C84,38,81.9,37.1,78,38.3C66.7,42,56.2,35.7,53,24.1C50.3,14,57.3,2.8,67.7,0.5\n",
       "                    C78.4-2,89,4.7,91.5,15.3c0.1,0.3,0.1,0.5,0.2,0.8c0.7,3.4,0.7,6.9-0.8,9.8c-1.7,3.2-0.8,5,1.5,7.2c6.7,6.5,13.3,13,19.8,19.7\n",
       "                    c1.8,1.8,3,2.1,5.5,1.2c9.1-3.4,17.9-0.6,23.4,7c4.8,6.9,4.6,16.1-0.4,22.9c-5.4,7.2-14.2,9.9-23.1,6.5c-2.3-0.9-3.5-0.6-5.1,1.1\n",
       "                    c-6.7,6.9-13.6,13.7-20.5,20.4c-1.8,1.8-2.5,3.2-1.4,5.9c3.5,8.7,0.3,18.6-7.7,23.6c-7.9,5-18.2,3.8-24.8-2.9\n",
       "                    c-6.4-6.4-7.4-16.2-2.5-24.3c4.9-7.8,14.5-11,23.1-7.8c3,1.1,4.7,0.5,6.9-1.7C91.7,98.4,98,92.3,104.2,86c1.6-1.6,4.1-2.7,2.6-6.2\n",
       "                    c-1.4-3.3-3.8-2.5-6.2-2.6C99.8,77.2,98.9,77.2,97.3,77.2z M72.1,29.7c5.5,0.1,9.9-4.3,10-9.8c0-0.1,0-0.2,0-0.3\n",
       "                    C81.8,14,77,9.8,71.5,10.2c-5,0.3-9,4.2-9.3,9.2c-0.2,5.5,4,10.1,9.5,10.3C71.8,29.7,72,29.7,72.1,29.7z M72.3,62.3\n",
       "                    c-5.4-0.1-9.9,4.2-10.1,9.7c0,0.2,0,0.3,0,0.5c0.2,5.4,4.5,9.7,9.9,10c5.1,0.1,9.9-4.7,10.1-9.8c0.2-5.5-4-10-9.5-10.3\n",
       "                    C72.6,62.3,72.4,62.3,72.3,62.3z M115,72.5c0.1,5.4,4.5,9.7,9.8,9.9c5.6-0.2,10-4.8,10-10.4c-0.2-5.4-4.6-9.7-10-9.7\n",
       "                    c-5.3-0.1-9.8,4.2-9.9,9.5C115,72.1,115,72.3,115,72.5z M19.5,62.3c-5.4,0.1-9.8,4.4-10,9.8c-0.1,5.1,5.2,10.4,10.2,10.3\n",
       "                    c5.6-0.2,10-4.9,9.8-10.5c-0.1-5.4-4.5-9.7-9.9-9.6C19.6,62.3,19.5,62.3,19.5,62.3z M71.8,134.6c5.9,0.2,10.3-3.9,10.4-9.6\n",
       "                    c0.5-5.5-3.6-10.4-9.1-10.8c-5.5-0.5-10.4,3.6-10.8,9.1c0,0.5,0,0.9,0,1.4c-0.2,5.3,4,9.8,9.3,10\n",
       "                    C71.6,134.6,71.7,134.6,71.8,134.6z\"/>\n",
       "            </g>\n",
       "        </svg>\n",
       "        <table>\n",
       "            <tr>\n",
       "                <td style=\"text-align: left\"><b>Python version:</b></td>\n",
       "                <td style=\"text-align: left\"><b>3.7.12</b></td>\n",
       "            </tr>\n",
       "            <tr>\n",
       "                <td style=\"text-align: left\"><b>Ray version:</b></td>\n",
       "                <td style=\"text-align: left\"><b> 2.2.0</b></td>\n",
       "            </tr>\n",
       "            \n",
       "        </table>\n",
       "    </div>\n",
       "</div>\n"
      ],
      "text/plain": [
       "RayContext(dashboard_url='', python_version='3.7.12', ray_version='2.2.0', ray_commit='b6af0887ee5f2e460202133791ad941a41f15beb', address_info={'node_ip_address': '172.24.96.131', 'raylet_ip_address': '172.24.96.131', 'redis_address': None, 'object_store_address': '/tmp/ray/session_2023-05-09_17-25-22_352744_49297/sockets/plasma_store', 'raylet_socket_name': '/tmp/ray/session_2023-05-09_17-25-22_352744_49297/sockets/raylet', 'webui_url': '', 'session_dir': '/tmp/ray/session_2023-05-09_17-25-22_352744_49297', 'metrics_export_port': 63921, 'gcs_address': '172.24.96.131:45782', 'address': '172.24.96.131:45782', 'dashboard_agent_listen_port': 52365, 'node_id': '96a0ae72b5a0a8921d62f0e680a5116963dd7fa38d339f8ad1bd47cb'})"
      ]
     },
     "execution_count": 6,
     "metadata": {},
     "output_type": "execute_result"
    }
   ],
   "source": [
    "ray.init(ignore_reinit_error=True, num_cpus=25)"
   ]
  },
  {
   "cell_type": "code",
   "execution_count": 9,
   "id": "cb7b965b-24d2-423b-9432-5f187f619462",
   "metadata": {},
   "outputs": [],
   "source": [
    "#Try SMD, pretend we don't know that there are 5 clusters, and guess 6\n",
    "z = SMD(X,k_guess = 6,trials = 100)"
   ]
  },
  {
   "cell_type": "code",
   "execution_count": 10,
   "id": "33fc7def-fcec-4027-af6b-2ba0f9318686",
   "metadata": {},
   "outputs": [
    {
     "name": "stdout",
     "output_type": "stream",
     "text": [
      "Good dimensions have an average Z-score: 18.79 +/- 7.79\n",
      "\n",
      "Noisy dimensions have an average Z-score: -1.88 +/- 0.18\n"
     ]
    }
   ],
   "source": [
    "print(f'Good dimensions have an average Z-score: {z[:D_s].mean():.2f} +/- {z[:D_s].std():.2f}\\n')\n",
    "print(f'Noisy dimensions have an average Z-score: {z[D_s:].mean():.2f} +/- {z[D_s:].std():.2f}')"
   ]
  },
  {
   "cell_type": "code",
   "execution_count": 11,
   "id": "7fece85e-0e22-4b47-8878-2386d2191686",
   "metadata": {},
   "outputs": [
    {
     "data": {
      "text/plain": [
       "array([14.21702057, 19.9863236 , 22.52872833, 19.88853881,  3.94961686,\n",
       "       17.63948847, 13.63031178, 16.6616405 , 35.92524556, 23.50657631])"
      ]
     },
     "execution_count": 11,
     "metadata": {},
     "output_type": "execute_result"
    }
   ],
   "source": [
    "z[:D_s]"
   ]
  },
  {
   "cell_type": "code",
   "execution_count": 12,
   "id": "8cd9b9f4-3979-40ce-990b-160d70647a60",
   "metadata": {},
   "outputs": [
    {
     "data": {
      "text/plain": [
       "array([-2.01525578, -1.91747098, -2.11304057, -1.81968618, -2.01525578,\n",
       "       -1.62411659, -2.01525578, -2.01525578, -2.11304057, -2.01525578,\n",
       "       -1.81968618, -1.72190138, -2.01525578, -1.91747098, -1.81968618,\n",
       "       -1.72190138, -2.01525578, -2.01525578, -1.81968618, -1.62411659,\n",
       "       -2.11304057, -1.91747098, -2.01525578, -1.81968618, -1.52633179,\n",
       "       -2.01525578, -1.81968618, -2.11304057, -1.81968618, -1.1351926 ,\n",
       "       -1.91747098, -2.01525578, -1.91747098, -2.11304057, -1.81968618,\n",
       "       -2.11304057, -1.81968618, -2.01525578, -1.91747098, -1.72190138,\n",
       "       -1.42854699, -1.81968618, -1.91747098, -2.11304057, -1.81968618,\n",
       "       -1.72190138, -1.72190138, -2.01525578, -1.72190138, -2.11304057,\n",
       "       -1.42854699, -2.01525578, -1.81968618, -1.91747098, -2.01525578,\n",
       "       -2.01525578, -1.72190138, -2.01525578, -1.72190138, -1.72190138,\n",
       "       -1.81968618, -1.91747098, -1.81968618, -2.01525578, -2.01525578,\n",
       "       -2.01525578, -1.91747098, -2.01525578, -1.91747098, -2.01525578,\n",
       "       -2.11304057, -1.72190138, -2.01525578, -1.72190138, -1.91747098,\n",
       "       -2.01525578, -2.01525578, -1.52633179, -2.01525578, -1.81968618,\n",
       "       -2.01525578, -1.52633179, -1.91747098, -2.01525578, -1.91747098,\n",
       "       -1.72190138, -1.62411659, -1.62411659, -1.62411659, -2.11304057,\n",
       "       -1.81968618, -2.11304057, -1.72190138, -2.01525578, -1.91747098,\n",
       "       -1.62411659, -1.81968618, -2.01525578, -1.72190138, -2.11304057])"
      ]
     },
     "execution_count": 12,
     "metadata": {},
     "output_type": "execute_result"
    }
   ],
   "source": [
    "z[D_s:]"
   ]
  },
  {
   "cell_type": "code",
   "execution_count": null,
   "id": "0116754f-c5d9-44b8-8fef-64356156bdc0",
   "metadata": {},
   "outputs": [],
   "source": []
  },
  {
   "cell_type": "code",
   "execution_count": null,
   "id": "09be8d15-d14a-4a45-bd44-024de42647fe",
   "metadata": {},
   "outputs": [],
   "source": [
    "## import the scRNA-seq data "
   ]
  },
  {
   "cell_type": "code",
   "execution_count": 7,
   "id": "d9b0ab83-78e9-4e40-a2df-a6ffb27ee62c",
   "metadata": {},
   "outputs": [],
   "source": [
    "# import the scRNA-seq data, lognormalized of TF expression matrix, scaled and transposed \n",
    "tf_matrix = \"../results/scRNAseq_R13547_10x_mNT_20220813/RA_symetryBreaking/sparse_featureSelection_d2_d2.5_d3_d3.5_d4_d5/exp_matrix_TFs_SPs_4SMD_12k.cells.csv\"\n",
    "expMat = pd.read_csv(tf_matrix, \n",
    "                index_col=None)\n",
    "X = np.genfromtxt(tf_matrix, \n",
    "                  delimiter=',', \n",
    "                 skip_header= 1)"
   ]
  },
  {
   "cell_type": "code",
   "execution_count": 8,
   "id": "720bdd96-029b-4532-acff-21c3f6ed98d8",
   "metadata": {},
   "outputs": [
    {
     "data": {
      "text/plain": [
       "array([[-0.36614657,  2.69204041, -0.46025243, ..., -0.39374638,\n",
       "        -0.26359799, -0.27150784],\n",
       "       [-0.36614657, -0.35937716, -0.46025243, ..., -0.39374638,\n",
       "        -0.26359799, -0.27150784],\n",
       "       [-0.36614657, -0.35937716, -0.46025243, ..., -0.39374638,\n",
       "        -0.26359799, -0.27150784],\n",
       "       ...,\n",
       "       [-0.36614657, -0.35937716, -0.46025243, ..., -0.39374638,\n",
       "        -0.26359799, -0.27150784],\n",
       "       [-0.36614657, -0.35937716, -0.46025243, ..., -0.39374638,\n",
       "        -0.26359799, -0.27150784],\n",
       "       [-0.3661466 , -0.3593772 , -0.4602524 , ..., -0.3937464 ,\n",
       "        -0.263598  , -0.2715078 ]])"
      ]
     },
     "execution_count": 8,
     "metadata": {},
     "output_type": "execute_result"
    }
   ],
   "source": [
    "X"
   ]
  },
  {
   "cell_type": "code",
   "execution_count": 9,
   "id": "74fb47ea-b2f4-48d0-a038-3102f1434594",
   "metadata": {},
   "outputs": [
    {
     "data": {
      "text/plain": [
       "(12000, 1144)"
      ]
     },
     "execution_count": 9,
     "metadata": {},
     "output_type": "execute_result"
    }
   ],
   "source": [
    "X.shape"
   ]
  },
  {
   "cell_type": "code",
   "execution_count": 10,
   "id": "b603da32-a28f-4ba4-9bbe-865004b1636e",
   "metadata": {},
   "outputs": [
    {
     "data": {
      "text/html": [
       "<div>\n",
       "<style scoped>\n",
       "    .dataframe tbody tr th:only-of-type {\n",
       "        vertical-align: middle;\n",
       "    }\n",
       "\n",
       "    .dataframe tbody tr th {\n",
       "        vertical-align: top;\n",
       "    }\n",
       "\n",
       "    .dataframe thead th {\n",
       "        text-align: right;\n",
       "    }\n",
       "</style>\n",
       "<table border=\"1\" class=\"dataframe\">\n",
       "  <thead>\n",
       "    <tr style=\"text-align: right;\">\n",
       "      <th></th>\n",
       "      <th>Sox17</th>\n",
       "      <th>Mybl1</th>\n",
       "      <th>Prex2</th>\n",
       "      <th>Sulf1</th>\n",
       "      <th>Ncoa2</th>\n",
       "      <th>Eya1</th>\n",
       "      <th>Terf1</th>\n",
       "      <th>Rab23</th>\n",
       "      <th>Zfp451</th>\n",
       "      <th>Pou3f3</th>\n",
       "      <th>...</th>\n",
       "      <th>Rarb</th>\n",
       "      <th>Hoxb4</th>\n",
       "      <th>Hoxb3</th>\n",
       "      <th>Hoxb2</th>\n",
       "      <th>Hoxb1</th>\n",
       "      <th>Hoxc5</th>\n",
       "      <th>Hoxc4</th>\n",
       "      <th>Robo2</th>\n",
       "      <th>Shh</th>\n",
       "      <th>Nkx6-1</th>\n",
       "    </tr>\n",
       "  </thead>\n",
       "  <tbody>\n",
       "    <tr>\n",
       "      <th>0</th>\n",
       "      <td>-0.366147</td>\n",
       "      <td>2.692040</td>\n",
       "      <td>-0.460252</td>\n",
       "      <td>-0.619824</td>\n",
       "      <td>-0.608774</td>\n",
       "      <td>-0.273523</td>\n",
       "      <td>0.967464</td>\n",
       "      <td>-0.693987</td>\n",
       "      <td>-1.004996</td>\n",
       "      <td>-0.334225</td>\n",
       "      <td>...</td>\n",
       "      <td>-0.540034</td>\n",
       "      <td>-0.306788</td>\n",
       "      <td>-0.291582</td>\n",
       "      <td>-0.667937</td>\n",
       "      <td>-0.428313</td>\n",
       "      <td>-0.303389</td>\n",
       "      <td>-0.453652</td>\n",
       "      <td>-0.393746</td>\n",
       "      <td>-0.263598</td>\n",
       "      <td>-0.271508</td>\n",
       "    </tr>\n",
       "    <tr>\n",
       "      <th>1</th>\n",
       "      <td>-0.366147</td>\n",
       "      <td>-0.359377</td>\n",
       "      <td>-0.460252</td>\n",
       "      <td>-0.619824</td>\n",
       "      <td>-0.608774</td>\n",
       "      <td>-0.273523</td>\n",
       "      <td>0.568549</td>\n",
       "      <td>0.421005</td>\n",
       "      <td>-0.071639</td>\n",
       "      <td>-0.334225</td>\n",
       "      <td>...</td>\n",
       "      <td>-0.540034</td>\n",
       "      <td>-0.306788</td>\n",
       "      <td>-0.291582</td>\n",
       "      <td>-0.667937</td>\n",
       "      <td>-0.428313</td>\n",
       "      <td>-0.303389</td>\n",
       "      <td>-0.453652</td>\n",
       "      <td>-0.393746</td>\n",
       "      <td>-0.263598</td>\n",
       "      <td>-0.271508</td>\n",
       "    </tr>\n",
       "    <tr>\n",
       "      <th>2</th>\n",
       "      <td>-0.366147</td>\n",
       "      <td>-0.359377</td>\n",
       "      <td>-0.460252</td>\n",
       "      <td>-0.619824</td>\n",
       "      <td>0.688410</td>\n",
       "      <td>-0.273523</td>\n",
       "      <td>0.323709</td>\n",
       "      <td>-0.693987</td>\n",
       "      <td>-1.004996</td>\n",
       "      <td>-0.334225</td>\n",
       "      <td>...</td>\n",
       "      <td>-0.540034</td>\n",
       "      <td>-0.306788</td>\n",
       "      <td>-0.291582</td>\n",
       "      <td>-0.667937</td>\n",
       "      <td>-0.428313</td>\n",
       "      <td>-0.303389</td>\n",
       "      <td>-0.453652</td>\n",
       "      <td>-0.393746</td>\n",
       "      <td>-0.263598</td>\n",
       "      <td>-0.271508</td>\n",
       "    </tr>\n",
       "    <tr>\n",
       "      <th>3</th>\n",
       "      <td>-0.366147</td>\n",
       "      <td>0.713019</td>\n",
       "      <td>-0.460252</td>\n",
       "      <td>0.020696</td>\n",
       "      <td>0.093384</td>\n",
       "      <td>-0.273523</td>\n",
       "      <td>1.093011</td>\n",
       "      <td>0.450703</td>\n",
       "      <td>-0.046778</td>\n",
       "      <td>-0.334225</td>\n",
       "      <td>...</td>\n",
       "      <td>-0.540034</td>\n",
       "      <td>-0.306788</td>\n",
       "      <td>-0.291582</td>\n",
       "      <td>-0.667937</td>\n",
       "      <td>-0.428313</td>\n",
       "      <td>-0.303389</td>\n",
       "      <td>-0.453652</td>\n",
       "      <td>-0.393746</td>\n",
       "      <td>-0.263598</td>\n",
       "      <td>-0.271508</td>\n",
       "    </tr>\n",
       "    <tr>\n",
       "      <th>4</th>\n",
       "      <td>-0.366147</td>\n",
       "      <td>1.258120</td>\n",
       "      <td>-0.460252</td>\n",
       "      <td>0.346274</td>\n",
       "      <td>-0.608774</td>\n",
       "      <td>-0.273523</td>\n",
       "      <td>0.366736</td>\n",
       "      <td>0.962231</td>\n",
       "      <td>0.381420</td>\n",
       "      <td>-0.334225</td>\n",
       "      <td>...</td>\n",
       "      <td>-0.540034</td>\n",
       "      <td>-0.306788</td>\n",
       "      <td>-0.291582</td>\n",
       "      <td>-0.667937</td>\n",
       "      <td>-0.428313</td>\n",
       "      <td>-0.303389</td>\n",
       "      <td>-0.453652</td>\n",
       "      <td>-0.393746</td>\n",
       "      <td>-0.263598</td>\n",
       "      <td>-0.271508</td>\n",
       "    </tr>\n",
       "  </tbody>\n",
       "</table>\n",
       "<p>5 rows × 1144 columns</p>\n",
       "</div>"
      ],
      "text/plain": [
       "      Sox17     Mybl1     Prex2     Sulf1     Ncoa2      Eya1     Terf1  \\\n",
       "0 -0.366147  2.692040 -0.460252 -0.619824 -0.608774 -0.273523  0.967464   \n",
       "1 -0.366147 -0.359377 -0.460252 -0.619824 -0.608774 -0.273523  0.568549   \n",
       "2 -0.366147 -0.359377 -0.460252 -0.619824  0.688410 -0.273523  0.323709   \n",
       "3 -0.366147  0.713019 -0.460252  0.020696  0.093384 -0.273523  1.093011   \n",
       "4 -0.366147  1.258120 -0.460252  0.346274 -0.608774 -0.273523  0.366736   \n",
       "\n",
       "      Rab23    Zfp451    Pou3f3  ...      Rarb     Hoxb4     Hoxb3     Hoxb2  \\\n",
       "0 -0.693987 -1.004996 -0.334225  ... -0.540034 -0.306788 -0.291582 -0.667937   \n",
       "1  0.421005 -0.071639 -0.334225  ... -0.540034 -0.306788 -0.291582 -0.667937   \n",
       "2 -0.693987 -1.004996 -0.334225  ... -0.540034 -0.306788 -0.291582 -0.667937   \n",
       "3  0.450703 -0.046778 -0.334225  ... -0.540034 -0.306788 -0.291582 -0.667937   \n",
       "4  0.962231  0.381420 -0.334225  ... -0.540034 -0.306788 -0.291582 -0.667937   \n",
       "\n",
       "      Hoxb1     Hoxc5     Hoxc4     Robo2       Shh    Nkx6-1  \n",
       "0 -0.428313 -0.303389 -0.453652 -0.393746 -0.263598 -0.271508  \n",
       "1 -0.428313 -0.303389 -0.453652 -0.393746 -0.263598 -0.271508  \n",
       "2 -0.428313 -0.303389 -0.453652 -0.393746 -0.263598 -0.271508  \n",
       "3 -0.428313 -0.303389 -0.453652 -0.393746 -0.263598 -0.271508  \n",
       "4 -0.428313 -0.303389 -0.453652 -0.393746 -0.263598 -0.271508  \n",
       "\n",
       "[5 rows x 1144 columns]"
      ]
     },
     "execution_count": 10,
     "metadata": {},
     "output_type": "execute_result"
    }
   ],
   "source": [
    "expMat.head()"
   ]
  },
  {
   "cell_type": "code",
   "execution_count": 11,
   "id": "60a2ca19-65bd-494f-a8b6-ca62cdd51601",
   "metadata": {},
   "outputs": [
    {
     "name": "stderr",
     "output_type": "stream",
     "text": [
      "2023-05-09 17:28:58,340\tINFO worker.py:1370 -- Calling ray.init() again after it has already been called.\n"
     ]
    },
    {
     "data": {
      "text/html": [
       "<div>\n",
       "    <div style=\"margin-left: 50px;display: flex;flex-direction: row;align-items: center\">\n",
       "        <h3 style=\"color: var(--jp-ui-font-color0)\">Ray</h3>\n",
       "        <svg version=\"1.1\" id=\"ray\" width=\"3em\" viewBox=\"0 0 144.5 144.6\" style=\"margin-left: 3em;margin-right: 3em\">\n",
       "            <g id=\"layer-1\">\n",
       "                <path fill=\"#00a2e9\" class=\"st0\" d=\"M97.3,77.2c-3.8-1.1-6.2,0.9-8.3,5.1c-3.5,6.8-9.9,9.9-17.4,9.6S58,88.1,54.8,81.2c-1.4-3-3-4-6.3-4.1\n",
       "                    c-5.6-0.1-9.9,0.1-13.1,6.4c-3.8,7.6-13.6,10.2-21.8,7.6C5.2,88.4-0.4,80.5,0,71.7c0.1-8.4,5.7-15.8,13.8-18.2\n",
       "                    c8.4-2.6,17.5,0.7,22.3,8c1.3,1.9,1.3,5.2,3.6,5.6c3.9,0.6,8,0.2,12,0.2c1.8,0,1.9-1.6,2.4-2.8c3.5-7.8,9.7-11.8,18-11.9\n",
       "                    c8.2-0.1,14.4,3.9,17.8,11.4c1.3,2.8,2.9,3.6,5.7,3.3c1-0.1,2,0.1,3,0c2.8-0.5,6.4,1.7,8.1-2.7s-2.3-5.5-4.1-7.5\n",
       "                    c-5.1-5.7-10.9-10.8-16.1-16.3C84,38,81.9,37.1,78,38.3C66.7,42,56.2,35.7,53,24.1C50.3,14,57.3,2.8,67.7,0.5\n",
       "                    C78.4-2,89,4.7,91.5,15.3c0.1,0.3,0.1,0.5,0.2,0.8c0.7,3.4,0.7,6.9-0.8,9.8c-1.7,3.2-0.8,5,1.5,7.2c6.7,6.5,13.3,13,19.8,19.7\n",
       "                    c1.8,1.8,3,2.1,5.5,1.2c9.1-3.4,17.9-0.6,23.4,7c4.8,6.9,4.6,16.1-0.4,22.9c-5.4,7.2-14.2,9.9-23.1,6.5c-2.3-0.9-3.5-0.6-5.1,1.1\n",
       "                    c-6.7,6.9-13.6,13.7-20.5,20.4c-1.8,1.8-2.5,3.2-1.4,5.9c3.5,8.7,0.3,18.6-7.7,23.6c-7.9,5-18.2,3.8-24.8-2.9\n",
       "                    c-6.4-6.4-7.4-16.2-2.5-24.3c4.9-7.8,14.5-11,23.1-7.8c3,1.1,4.7,0.5,6.9-1.7C91.7,98.4,98,92.3,104.2,86c1.6-1.6,4.1-2.7,2.6-6.2\n",
       "                    c-1.4-3.3-3.8-2.5-6.2-2.6C99.8,77.2,98.9,77.2,97.3,77.2z M72.1,29.7c5.5,0.1,9.9-4.3,10-9.8c0-0.1,0-0.2,0-0.3\n",
       "                    C81.8,14,77,9.8,71.5,10.2c-5,0.3-9,4.2-9.3,9.2c-0.2,5.5,4,10.1,9.5,10.3C71.8,29.7,72,29.7,72.1,29.7z M72.3,62.3\n",
       "                    c-5.4-0.1-9.9,4.2-10.1,9.7c0,0.2,0,0.3,0,0.5c0.2,5.4,4.5,9.7,9.9,10c5.1,0.1,9.9-4.7,10.1-9.8c0.2-5.5-4-10-9.5-10.3\n",
       "                    C72.6,62.3,72.4,62.3,72.3,62.3z M115,72.5c0.1,5.4,4.5,9.7,9.8,9.9c5.6-0.2,10-4.8,10-10.4c-0.2-5.4-4.6-9.7-10-9.7\n",
       "                    c-5.3-0.1-9.8,4.2-9.9,9.5C115,72.1,115,72.3,115,72.5z M19.5,62.3c-5.4,0.1-9.8,4.4-10,9.8c-0.1,5.1,5.2,10.4,10.2,10.3\n",
       "                    c5.6-0.2,10-4.9,9.8-10.5c-0.1-5.4-4.5-9.7-9.9-9.6C19.6,62.3,19.5,62.3,19.5,62.3z M71.8,134.6c5.9,0.2,10.3-3.9,10.4-9.6\n",
       "                    c0.5-5.5-3.6-10.4-9.1-10.8c-5.5-0.5-10.4,3.6-10.8,9.1c0,0.5,0,0.9,0,1.4c-0.2,5.3,4,9.8,9.3,10\n",
       "                    C71.6,134.6,71.7,134.6,71.8,134.6z\"/>\n",
       "            </g>\n",
       "        </svg>\n",
       "        <table>\n",
       "            <tr>\n",
       "                <td style=\"text-align: left\"><b>Python version:</b></td>\n",
       "                <td style=\"text-align: left\"><b>3.7.12</b></td>\n",
       "            </tr>\n",
       "            <tr>\n",
       "                <td style=\"text-align: left\"><b>Ray version:</b></td>\n",
       "                <td style=\"text-align: left\"><b> 2.2.0</b></td>\n",
       "            </tr>\n",
       "            \n",
       "        </table>\n",
       "    </div>\n",
       "</div>\n"
      ],
      "text/plain": [
       "RayContext(dashboard_url='', python_version='3.7.12', ray_version='2.2.0', ray_commit='b6af0887ee5f2e460202133791ad941a41f15beb', address_info={'node_ip_address': '172.24.96.131', 'raylet_ip_address': '172.24.96.131', 'redis_address': None, 'object_store_address': '/tmp/ray/session_2023-05-09_17-25-22_352744_49297/sockets/plasma_store', 'raylet_socket_name': '/tmp/ray/session_2023-05-09_17-25-22_352744_49297/sockets/raylet', 'webui_url': '', 'session_dir': '/tmp/ray/session_2023-05-09_17-25-22_352744_49297', 'metrics_export_port': 63921, 'gcs_address': '172.24.96.131:45782', 'address': '172.24.96.131:45782', 'dashboard_agent_listen_port': 52365, 'node_id': '96a0ae72b5a0a8921d62f0e680a5116963dd7fa38d339f8ad1bd47cb'})"
      ]
     },
     "execution_count": 11,
     "metadata": {},
     "output_type": "execute_result"
    }
   ],
   "source": [
    "ray.init(ignore_reinit_error=True, num_cpus=30)"
   ]
  },
  {
   "cell_type": "code",
   "execution_count": 12,
   "id": "21864872-bddd-49c8-b71a-3af799e05c52",
   "metadata": {},
   "outputs": [
    {
     "name": "stdout",
     "output_type": "stream",
     "text": [
      "--- 6546.4992933273315 seconds ---\n"
     ]
    }
   ],
   "source": [
    "#Try SMD, pretend we don't know that there are 5 clusters, and guess 6\n",
    "start_time = time.time()\n",
    "\n",
    "z = SMD(X,k_guess = 12, trials = 1000)\n",
    "\n",
    "print(\"--- %s seconds ---\" % (time.time() - start_time))"
   ]
  },
  {
   "cell_type": "code",
   "execution_count": 13,
   "id": "5be2646d-08dd-4658-bdee-7f74e025ee1c",
   "metadata": {},
   "outputs": [],
   "source": [
    "z;"
   ]
  },
  {
   "cell_type": "code",
   "execution_count": 14,
   "id": "eefdfd61-e263-4964-ace2-6279fcbff3fe",
   "metadata": {},
   "outputs": [
    {
     "data": {
      "text/plain": [
       "array([[   9],\n",
       "       [ 114],\n",
       "       [ 119],\n",
       "       [ 121],\n",
       "       [ 160],\n",
       "       [ 163],\n",
       "       [ 180],\n",
       "       [ 252],\n",
       "       [ 375],\n",
       "       [ 425],\n",
       "       [ 433],\n",
       "       [ 547],\n",
       "       [ 628],\n",
       "       [ 721],\n",
       "       [ 877],\n",
       "       [ 883],\n",
       "       [ 990],\n",
       "       [1053],\n",
       "       [1080],\n",
       "       [1127],\n",
       "       [1142]])"
      ]
     },
     "execution_count": 14,
     "metadata": {},
     "output_type": "execute_result"
    }
   ],
   "source": [
    "np.argwhere(z > 1)"
   ]
  },
  {
   "cell_type": "code",
   "execution_count": 15,
   "id": "a2b04dd7-01ac-4e9f-b408-d4c98e3f1c60",
   "metadata": {},
   "outputs": [
    {
     "name": "stderr",
     "output_type": "stream",
     "text": [
      "/groups/tanaka/People/current/jiwang/local/anaconda3/envs/cellrank/lib/python3.7/site-packages/ipykernel_launcher.py:1: FutureWarning: Support for multi-dimensional indexing (e.g. `obj[:, None]`) is deprecated and will be removed in a future version.  Convert to a numpy array before indexing instead.\n",
      "  \"\"\"Entry point for launching an IPython kernel.\n"
     ]
    },
    {
     "data": {
      "text/plain": [
       "array([['Pou3f3'],\n",
       "       ['Mdk'],\n",
       "       ['Pax6'],\n",
       "       ['Meis2'],\n",
       "       ['Cebpb'],\n",
       "       ['Tfap2c'],\n",
       "       ['Gpc3'],\n",
       "       ['Pou3f2'],\n",
       "       ['Peg10'],\n",
       "       ['Peg3'],\n",
       "       ['Apoe'],\n",
       "       ['Rfx4'],\n",
       "       ['Cdh1'],\n",
       "       ['Nedd4'],\n",
       "       ['Sox11'],\n",
       "       ['Foxa1'],\n",
       "       ['Dll1'],\n",
       "       ['Cdh2'],\n",
       "       ['Tshz1'],\n",
       "       ['Cyp26a1'],\n",
       "       ['Shh']], dtype=object)"
      ]
     },
     "execution_count": 15,
     "metadata": {},
     "output_type": "execute_result"
    }
   ],
   "source": [
    "expMat.columns[np.argwhere(z > 1)]"
   ]
  },
  {
   "cell_type": "code",
   "execution_count": 16,
   "id": "deaf8981-d47a-43c2-a6cb-6d85711faf7b",
   "metadata": {},
   "outputs": [
    {
     "data": {
      "text/html": [
       "<div>\n",
       "<style scoped>\n",
       "    .dataframe tbody tr th:only-of-type {\n",
       "        vertical-align: middle;\n",
       "    }\n",
       "\n",
       "    .dataframe tbody tr th {\n",
       "        vertical-align: top;\n",
       "    }\n",
       "\n",
       "    .dataframe thead th {\n",
       "        text-align: right;\n",
       "    }\n",
       "</style>\n",
       "<table border=\"1\" class=\"dataframe\">\n",
       "  <thead>\n",
       "    <tr style=\"text-align: right;\">\n",
       "      <th></th>\n",
       "      <th>gene</th>\n",
       "      <th>SMD_z</th>\n",
       "    </tr>\n",
       "  </thead>\n",
       "  <tbody>\n",
       "    <tr>\n",
       "      <th>0</th>\n",
       "      <td>Sox17</td>\n",
       "      <td>-0.055222</td>\n",
       "    </tr>\n",
       "    <tr>\n",
       "      <th>1</th>\n",
       "      <td>Mybl1</td>\n",
       "      <td>-0.140760</td>\n",
       "    </tr>\n",
       "    <tr>\n",
       "      <th>2</th>\n",
       "      <td>Prex2</td>\n",
       "      <td>-0.140760</td>\n",
       "    </tr>\n",
       "    <tr>\n",
       "      <th>3</th>\n",
       "      <td>Sulf1</td>\n",
       "      <td>-0.140760</td>\n",
       "    </tr>\n",
       "    <tr>\n",
       "      <th>4</th>\n",
       "      <td>Ncoa2</td>\n",
       "      <td>-0.140760</td>\n",
       "    </tr>\n",
       "    <tr>\n",
       "      <th>...</th>\n",
       "      <td>...</td>\n",
       "      <td>...</td>\n",
       "    </tr>\n",
       "    <tr>\n",
       "      <th>1139</th>\n",
       "      <td>Hoxc5</td>\n",
       "      <td>-0.140760</td>\n",
       "    </tr>\n",
       "    <tr>\n",
       "      <th>1140</th>\n",
       "      <td>Hoxc4</td>\n",
       "      <td>-0.140760</td>\n",
       "    </tr>\n",
       "    <tr>\n",
       "      <th>1141</th>\n",
       "      <td>Robo2</td>\n",
       "      <td>-0.140760</td>\n",
       "    </tr>\n",
       "    <tr>\n",
       "      <th>1142</th>\n",
       "      <td>Shh</td>\n",
       "      <td>12.125111</td>\n",
       "    </tr>\n",
       "    <tr>\n",
       "      <th>1143</th>\n",
       "      <td>Nkx6-1</td>\n",
       "      <td>-0.092342</td>\n",
       "    </tr>\n",
       "  </tbody>\n",
       "</table>\n",
       "<p>1144 rows × 2 columns</p>\n",
       "</div>"
      ],
      "text/plain": [
       "        gene      SMD_z\n",
       "0      Sox17  -0.055222\n",
       "1      Mybl1  -0.140760\n",
       "2      Prex2  -0.140760\n",
       "3      Sulf1  -0.140760\n",
       "4      Ncoa2  -0.140760\n",
       "...      ...        ...\n",
       "1139   Hoxc5  -0.140760\n",
       "1140   Hoxc4  -0.140760\n",
       "1141   Robo2  -0.140760\n",
       "1142     Shh  12.125111\n",
       "1143  Nkx6-1  -0.092342\n",
       "\n",
       "[1144 rows x 2 columns]"
      ]
     },
     "execution_count": 16,
     "metadata": {},
     "output_type": "execute_result"
    }
   ],
   "source": [
    "df = pd.DataFrame({'gene':expMat.columns, 'SMD_z':z})\n",
    "df"
   ]
  },
  {
   "cell_type": "code",
   "execution_count": 17,
   "id": "9b73009c-3b8b-41aa-957a-f041037c485b",
   "metadata": {},
   "outputs": [],
   "source": [
    "df.to_csv('../results/scRNAseq_R13547_10x_mNT_20220813/RA_symetryBreaking/sparse_featureSelection_d2_d2.5_d3_d3.5_d4_d5/output_SMD_12k.cells_tfs.sps_v4.csv', sep='\\t')"
   ]
  },
  {
   "cell_type": "code",
   "execution_count": null,
   "id": "a7ce020d-0787-4dba-96ba-a6238fbfe3eb",
   "metadata": {},
   "outputs": [],
   "source": []
  },
  {
   "cell_type": "code",
   "execution_count": null,
   "id": "9ab43ed3-6ddc-4e9e-be38-120c4101ab9f",
   "metadata": {},
   "outputs": [],
   "source": []
  }
 ],
 "metadata": {
  "kernelspec": {
   "display_name": "cellrank",
   "language": "python",
   "name": "cellrank"
  },
  "language_info": {
   "codemirror_mode": {
    "name": "ipython",
    "version": 3
   },
   "file_extension": ".py",
   "mimetype": "text/x-python",
   "name": "python",
   "nbconvert_exporter": "python",
   "pygments_lexer": "ipython3",
   "version": "3.7.12"
  }
 },
 "nbformat": 4,
 "nbformat_minor": 5
}
