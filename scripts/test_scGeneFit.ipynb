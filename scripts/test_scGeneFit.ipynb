{
 "cells": [
  {
   "cell_type": "code",
   "execution_count": 1,
   "id": "225534e1",
   "metadata": {},
   "outputs": [],
   "source": [
    "from scGeneFit.functions import *"
   ]
  },
  {
   "cell_type": "code",
   "execution_count": 2,
   "id": "3a913ddd",
   "metadata": {},
   "outputs": [],
   "source": [
    "%matplotlib inline\n",
    "import numpy as np\n",
    "np.random.seed(0) "
   ]
  },
  {
   "cell_type": "code",
   "execution_count": 3,
   "id": "57d72f8a",
   "metadata": {},
   "outputs": [],
   "source": [
    "from sklearn.neighbors import NearestCentroid\n",
    "clf=NearestCentroid()\n",
    "\n",
    "def performance(X_train, y_train, X_test, y_test, clf):\n",
    "    clf.fit(X_train, y_train)\n",
    "    return clf.score(X_test, y_test)"
   ]
  },
  {
   "cell_type": "code",
   "execution_count": 10,
   "id": "bebcf8f5",
   "metadata": {},
   "outputs": [
    {
     "name": "stdout",
     "output_type": "stream",
     "text": [
      "currently available options are only 'CITEseq' and 'zeisel'\n"
     ]
    },
    {
     "ename": "TypeError",
     "evalue": "cannot unpack non-iterable NoneType object",
     "output_type": "error",
     "traceback": [
      "\u001b[0;31m---------------------------------------------------------------------------\u001b[0m",
      "\u001b[0;31mTypeError\u001b[0m                                 Traceback (most recent call last)",
      "Input \u001b[0;32mIn [10]\u001b[0m, in \u001b[0;36m<cell line: 2>\u001b[0;34m()\u001b[0m\n\u001b[1;32m      1\u001b[0m \u001b[38;5;66;03m#load data from files\u001b[39;00m\n\u001b[0;32m----> 2\u001b[0m [data, labels, names] \u001b[38;5;241m=\u001b[39m load_example_data(\u001b[38;5;124m\"\u001b[39m\u001b[38;5;124m/Users/jingkui.wang/src_packages/scGeneFit-python/scGeneFit/data_files/CITEseq\u001b[39m\u001b[38;5;124m\"\u001b[39m)\n",
      "\u001b[0;31mTypeError\u001b[0m: cannot unpack non-iterable NoneType object"
     ]
    }
   ],
   "source": [
    "#load data from files\n",
    "[data, labels, names] = load_example_data(\"/Users/jingkui.wang/src_packages/scGeneFit-python/scGeneFit/data_files/CITEseq\")\n",
    "\n",
    "N,d = data.shape"
   ]
  },
  {
   "cell_type": "code",
   "execution_count": null,
   "id": "b0e28ce2",
   "metadata": {},
   "outputs": [],
   "source": []
  },
  {
   "cell_type": "code",
   "execution_count": null,
   "id": "a5391e76",
   "metadata": {},
   "outputs": [],
   "source": []
  }
 ],
 "metadata": {
  "kernelspec": {
   "display_name": "scGeneFit",
   "language": "python",
   "name": "scgenefit"
  },
  "language_info": {
   "codemirror_mode": {
    "name": "ipython",
    "version": 3
   },
   "file_extension": ".py",
   "mimetype": "text/x-python",
   "name": "python",
   "nbconvert_exporter": "python",
   "pygments_lexer": "ipython3",
   "version": "3.10.10"
  }
 },
 "nbformat": 4,
 "nbformat_minor": 5
}
