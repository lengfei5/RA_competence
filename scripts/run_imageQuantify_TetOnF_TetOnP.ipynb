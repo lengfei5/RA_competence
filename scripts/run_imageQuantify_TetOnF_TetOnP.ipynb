{
 "cells": [
  {
   "cell_type": "code",
   "execution_count": 6,
   "id": "cf0a0f13-c511-4e06-a56a-491849b4e696",
   "metadata": {},
   "outputs": [],
   "source": [
    "##############################################################\n",
    "##############################################################\n",
    "##\n",
    "## script to quantify the genotype and FoxA2, markers in TetOn-TetOn NT\n",
    "## \n",
    "##############################################################\n",
    "##############################################################"
   ]
  },
  {
   "cell_type": "code",
   "execution_count": 7,
   "id": "092c9c85-d6f4-47ff-ab76-82ce21ea6f6c",
   "metadata": {},
   "outputs": [],
   "source": [
    "from skimage.io import imread\n",
    "from skimage.io import imsave\n",
    "from skimage import filters\n",
    "from skimage import morphology\n",
    "from pyclesperanto_prototype import imshow\n",
    "import pyclesperanto_prototype as cle\n",
    "import matplotlib.pyplot as plt"
   ]
  },
  {
   "cell_type": "code",
   "execution_count": 8,
   "id": "076520f0-9b91-4282-84d2-878b857078a2",
   "metadata": {},
   "outputs": [],
   "source": [
    "import napari\n",
    "from napari.utils import nbscreenshot"
   ]
  },
  {
   "cell_type": "code",
   "execution_count": 9,
   "id": "e3129a78-2c0e-4235-b98d-734c7f2276b8",
   "metadata": {},
   "outputs": [
    {
     "data": {
      "text/plain": [
       "'/groups/tanaka/People/current/jiwang/projects/RA_competence/scripts'"
      ]
     },
     "execution_count": 9,
     "metadata": {},
     "output_type": "execute_result"
    }
   ],
   "source": [
    "import numpy as np\n",
    "import matplotlib\n",
    "import matplotlib.pyplot as plt\n",
    "import pandas as pd\n",
    "from skimage import measure\n",
    "import os\n",
    "os.getcwd()"
   ]
  },
  {
   "cell_type": "code",
   "execution_count": 10,
   "id": "6f51e750-84e9-4d2d-97a2-c393d1372798",
   "metadata": {},
   "outputs": [],
   "source": [
    "def show(image_to_show, labels=False):\n",
    "    \"\"\"\n",
    "    This function generates three projections: in X-, Y- and Z-direction and shows them.\n",
    "    \"\"\"\n",
    "    projection_x = cle.maximum_x_projection(image_to_show)\n",
    "    projection_y = cle.maximum_y_projection(image_to_show)\n",
    "    projection_z = cle.maximum_z_projection(image_to_show)\n",
    "\n",
    "    fig, axs = plt.subplots(1, 3, figsize=(15, 15))\n",
    "    cle.imshow(projection_x, plot=axs[0], labels=labels)\n",
    "    cle.imshow(projection_y, plot=axs[1], labels=labels)\n",
    "    cle.imshow(projection_z, plot=axs[2], labels=labels)\n",
    "    plt.show()\n"
   ]
  },
  {
   "cell_type": "code",
   "execution_count": 11,
   "id": "f624f488-a8fe-47df-93cf-77c0575822a7",
   "metadata": {},
   "outputs": [],
   "source": [
    "import pandas as pd\n",
    "from skimage import measure\n",
    "from skimage.morphology import disk\n",
    "from skimage.filters import threshold_otsu, rank\n",
    "import pyclesperanto_prototype as cle\n",
    "from skimage import filters\n",
    "from skimage.filters import try_all_threshold\n",
    "import napari_simpleitk_image_processing as nsitk"
   ]
  },
  {
   "cell_type": "code",
   "execution_count": null,
   "id": "39b168ef-e66b-4e53-aad4-b623e67a76d6",
   "metadata": {},
   "outputs": [],
   "source": []
  },
  {
   "cell_type": "code",
   "execution_count": 7,
   "id": "16f6ba93-ea75-4d86-8f99-d4016d86ab17",
   "metadata": {},
   "outputs": [],
   "source": [
    "############################################################\n",
    "###\n",
    "### FoxA2-TetOn Pax6-TetOn d3, d4, d6  \n",
    "### quantifying the FoxA2-KO and Pax6-KO genotypes and the FoxA2 and Pax6 voxels based on the masked and cyst-level background \n",
    "###\n",
    "############################################################"
   ]
  },
  {
   "cell_type": "code",
   "execution_count": 8,
   "id": "428882cd-e7e4-4d80-a449-da538f8efb01",
   "metadata": {},
   "outputs": [],
   "source": [
    "imageDir = \"../images_data/d3-4-6_10x_TetOnF_TetOnP_chim_fulldataset/d3-4-6_stain-FA2-Px6/d4\"\n",
    "outDir = \"../images_data/results/TetOnF_TetOnP_chim_d3_4_5_genotype_FoxA2_Pax6\"\n",
    "\n",
    "if not os.path.exists(outDir):\n",
    "    os.mkdir(outDir)\n",
    "#os.path.exists(outDir)"
   ]
  },
  {
   "cell_type": "code",
   "execution_count": null,
   "id": "0de39580-8edf-4720-8c88-bc6da868bda0",
   "metadata": {},
   "outputs": [],
   "source": []
  },
  {
   "cell_type": "code",
   "execution_count": 153,
   "id": "17a5356c-3cfa-4998-985d-bc679ceb65b0",
   "metadata": {},
   "outputs": [],
   "source": [
    "#fileName = '241023_10x_d3-2umZ_1-FS-PG_RA_FA2-Px6_C7_13_01_isotropic'\n",
    "fileName = \"241011_10x_d4-P6-FA2_iF-iP_dox_D7_25_01_isotropic\""
   ]
  },
  {
   "cell_type": "code",
   "execution_count": 154,
   "id": "29384e73-5bc9-4523-ba69-a16662ae261a",
   "metadata": {},
   "outputs": [],
   "source": [
    "mask = imread(os.path.join(imageDir, str(fileName + \"_C5_CystMask.tiff\"))) # mask segmeted cysts\n",
    "C1 = imread(os.path.join(imageDir, str(fileName + \"_C1.tif\"))) # FoxA2, nuclei\n",
    "C2 = imread(os.path.join(imageDir, str(fileName + \"_C2.tif\"))) # FoxA2-KO genotype Scarlet, nuclei\n",
    "C3 = imread(os.path.join(imageDir, str(fileName + \"_C3.tif\"))) # Pax6-KO genotype \n",
    "C4 = imread(os.path.join(imageDir, str(fileName + \"_C4.tif\"))) # Pax6, nuclei"
   ]
  },
  {
   "cell_type": "code",
   "execution_count": 155,
   "id": "dff557c0-d503-4a13-9fef-d7e3e5cfec11",
   "metadata": {},
   "outputs": [],
   "source": [
    "C1 = C1 / np.quantile(C1, 0.95)\n",
    "C2 = C2 / np.quantile(C2, 0.95)\n",
    "C3 = C3 / np.quantile(C3, 0.95)\n",
    "C4 = C4 / np.quantile(C4, 0.95)"
   ]
  },
  {
   "cell_type": "code",
   "execution_count": 156,
   "id": "56fbcb6d-bf2f-4dad-babf-9b9721f58a58",
   "metadata": {},
   "outputs": [
    {
     "name": "stdout",
     "output_type": "stream",
     "text": [
      "0.9769201510053174 2.388290777439024 2.4245577033069887 0.6062390819099378\n",
      "0.3137585013592943 0.8576986661545347 0.8107213309099232 0.42129085273056605\n",
      "0.9769201510053174 2.2983199949186988 2.2137989418677204 0.6062390819099378\n"
     ]
    },
    {
     "name": "stderr",
     "output_type": "stream",
     "text": [
      "/groups/tanaka/People/current/jiwang/local/anaconda3/envs/image_py3.9/lib/python3.9/site-packages/skimage/filters/thresholding.py:561: RuntimeWarning: divide by zero encountered in divide\n",
      "  higher = (csum_intensity[-1] - csum_intensity[:-1]) / csumh[:-1]\n"
     ]
    }
   ],
   "source": [
    "cutoff_pxko = threshold_otsu(C3)\n",
    "cutoff_fako = threshold_otsu(C2)\n",
    "cutoff_foxa2 = threshold_otsu(C1)\n",
    "cutoff_pax6 = threshold_otsu(C4)\n",
    "print(cutoff_pxko, cutoff_fako, cutoff_foxa2, cutoff_pax6)\n",
    "\n",
    "cutoff_pxko = filters.threshold_li(C3)\n",
    "cutoff_fako = filters.threshold_li(C2)\n",
    "cutoff_foxa2 = filters.threshold_li(C1)\n",
    "cutoff_pax6 = filters.threshold_li(C4)\n",
    "print(cutoff_pxko, cutoff_fako, cutoff_foxa2, cutoff_pax6)\n",
    "\n",
    "cutoff_pxko = filters.threshold_isodata(C3)\n",
    "cutoff_fako = filters.threshold_isodata(C2)\n",
    "cutoff_foxa2 = filters.threshold_isodata(C1)\n",
    "cutoff_pax6 = filters.threshold_isodata(C4)\n",
    "print(cutoff_pxko, cutoff_fako, cutoff_foxa2, cutoff_pax6)"
   ]
  },
  {
   "cell_type": "code",
   "execution_count": 157,
   "id": "e6068ee1-8912-451d-91cf-cca04d76dc5a",
   "metadata": {},
   "outputs": [],
   "source": [
    "from skimage import measure\n",
    "from skimage.morphology import disk\n",
    "from skimage.filters import threshold_otsu, rank\n",
    "import pyclesperanto_prototype as cle\n",
    "from skimage import filters\n",
    "from skimage.filters import try_all_threshold\n",
    "import napari_simpleitk_image_processing as nsitk"
   ]
  },
  {
   "cell_type": "code",
   "execution_count": 158,
   "id": "041a0306-6e5e-4f08-b6ef-f4dcbf08ac5d",
   "metadata": {},
   "outputs": [
    {
     "data": {
      "text/plain": [
       "50"
      ]
     },
     "execution_count": 158,
     "metadata": {},
     "output_type": "execute_result"
    }
   ],
   "source": [
    "labels_mask, nb_cyst = measure.label(mask, return_num = True)\n",
    "nb_cyst "
   ]
  },
  {
   "cell_type": "code",
   "execution_count": 203,
   "id": "a73c10f5-fe27-4b4c-a687-f737e2224ff3",
   "metadata": {},
   "outputs": [],
   "source": [
    "i = 8"
   ]
  },
  {
   "cell_type": "code",
   "execution_count": 204,
   "id": "929ceab0-8b38-4a50-afac-1e9f817b72bf",
   "metadata": {},
   "outputs": [],
   "source": [
    "cyst_index = np.where(labels_mask == i)\n",
    "#print(cyst_index[0].size)\n",
    "genotype_fako = C2[cyst_index]\n",
    "genotype_pxko = C3[cyst_index]\n",
    "foxa2 = C1[cyst_index]\n",
    "pax6 = C4[cyst_index]"
   ]
  },
  {
   "cell_type": "code",
   "execution_count": 205,
   "id": "cc74ae91-6925-40c8-ae3c-3d37f6f941bc",
   "metadata": {},
   "outputs": [
    {
     "name": "stdout",
     "output_type": "stream",
     "text": [
      "1.282672722160898 1.7990186737804876 2.1092856307196337 0.7985491071428572\n",
      "0.8185208203853325 0.2358404277773869 0.45435820145692035\n"
     ]
    }
   ],
   "source": [
    "cutoff_pxko = threshold_otsu(genotype_pxko)\n",
    "cutoff_fako = threshold_otsu(genotype_fako)\n",
    "cutoff_foxa2 = threshold_otsu(foxa2)\n",
    "cutoff_pax6 = threshold_otsu(pax6)\n",
    "print(cutoff_pxko, cutoff_fako, cutoff_foxa2, cutoff_pax6)\n",
    "\n",
    "index_foxa2_cyst = np.where((foxa2 > cutoff_foxa2) & (pax6 < cutoff_pax6))\n",
    "index_pax6_cyst = np.where((foxa2 < cutoff_foxa2) & (pax6 > cutoff_pax6))\n",
    "index_double = np.where((foxa2 >= cutoff_foxa2) & (pax6 >= cutoff_pax6))\n",
    "\n",
    "print((index_fako_cyst[0].size/ (index_fako_cyst[0].size + index_pxko_cyst[0].size)), index_foxa2_cyst[0].size/(index_pax6_cyst[0].size + index_foxa2_cyst[0].size), \n",
    "    (index_foxa2_cyst[0].size + index_double[0].size)/(index_pax6_cyst[0].size + index_foxa2_cyst[0].size + index_double[0].size) )"
   ]
  },
  {
   "cell_type": "code",
   "execution_count": 206,
   "id": "814895c0-7a47-4dfd-9a3c-d3369e9c4db9",
   "metadata": {},
   "outputs": [
    {
     "name": "stdout",
     "output_type": "stream",
     "text": [
      "0.8118496814113194 1.32577076867637 1.5955744510703536 0.6659099169474746\n",
      "0.8185208203853325 0.1896107829774345 0.5471394719025051\n"
     ]
    }
   ],
   "source": [
    "## entropy-based li\n",
    "cutoff_pxko = filters.threshold_li(genotype_pxko)\n",
    "cutoff_fako = filters.threshold_li(genotype_fako)\n",
    "cutoff_foxa2 = filters.threshold_li(foxa2)\n",
    "cutoff_pax6 = filters.threshold_li(pax6)\n",
    "print(cutoff_pxko, cutoff_fako, cutoff_foxa2, cutoff_pax6)\n",
    "\n",
    "index_foxa2_cyst = np.where((foxa2 > cutoff_foxa2) & (pax6 < cutoff_pax6))\n",
    "index_pax6_cyst = np.where((foxa2 < cutoff_foxa2) & (pax6 > cutoff_pax6))\n",
    "index_double = np.where((foxa2 >= cutoff_foxa2) & (pax6 >= cutoff_pax6))\n",
    "\n",
    "print((index_fako_cyst[0].size/ (index_fako_cyst[0].size + index_pxko_cyst[0].size)), index_foxa2_cyst[0].size/(index_pax6_cyst[0].size + index_foxa2_cyst[0].size), \n",
    "    (index_foxa2_cyst[0].size + index_double[0].size)/(index_pax6_cyst[0].size + index_foxa2_cyst[0].size + index_double[0].size) )"
   ]
  },
  {
   "cell_type": "code",
   "execution_count": 207,
   "id": "52c5ea9d-2098-4ac5-9eaf-e830288ade46",
   "metadata": {},
   "outputs": [
    {
     "name": "stdout",
     "output_type": "stream",
     "text": [
      "1.1130020466873187 4.164205411585366 3.8191019524750414 1.7605541537267082\n",
      "0.8185208203853325 0.6507319988049 0.651044776119403\n"
     ]
    }
   ],
   "source": [
    "## another entropy-based \n",
    "cutoff_pxko = filters.threshold_yen(genotype_pxko)\n",
    "cutoff_fako = filters.threshold_yen(genotype_fako)\n",
    "cutoff_foxa2 = filters.threshold_yen(foxa2)\n",
    "cutoff_pax6 = filters.threshold_yen(pax6)\n",
    "print(cutoff_pxko, cutoff_fako, cutoff_foxa2, cutoff_pax6)\n",
    "\n",
    "index_foxa2_cyst = np.where((foxa2 > cutoff_foxa2) & (pax6 < cutoff_pax6))\n",
    "index_pax6_cyst = np.where((foxa2 < cutoff_foxa2) & (pax6 > cutoff_pax6))\n",
    "index_double = np.where((foxa2 >= cutoff_foxa2) & (pax6 >= cutoff_pax6))\n",
    "\n",
    "print((index_fako_cyst[0].size/ (index_fako_cyst[0].size + index_pxko_cyst[0].size)), index_foxa2_cyst[0].size/(index_pax6_cyst[0].size + index_foxa2_cyst[0].size), \n",
    "    (index_foxa2_cyst[0].size + index_double[0].size)/(index_pax6_cyst[0].size + index_foxa2_cyst[0].size + index_double[0].size) )"
   ]
  },
  {
   "cell_type": "code",
   "execution_count": 208,
   "id": "ed30728d-a132-413a-8e2a-244250ba7bb0",
   "metadata": {},
   "outputs": [
    {
     "name": "stdout",
     "output_type": "stream",
     "text": [
      "0.5038982736216818 0.3523069023692511 0.6070315976858033\n"
     ]
    }
   ],
   "source": [
    "cutoff_pxko = filters.threshold_mean(genotype_pxko)\n",
    "cutoff_fako = filters.threshold_mean(genotype_fako)\n",
    "cutoff_foxa2 = filters.threshold_mean(foxa2)\n",
    "cutoff_pax6 = filters.threshold_mean(pax6)\n",
    "#print(cutoff_pxko, cutoff_fako, cutoff_foxa2, cutoff_pax6)\n",
    "index_fako_cyst = np.where((genotype_fako > cutoff_fako) & (genotype_pxko < cutoff_pxko))\n",
    "index_pxko_cyst = np.where((genotype_pxko > cutoff_pxko) & (genotype_fako < cutoff_fako))\n",
    "index_foxa2_cyst = np.where((foxa2 > cutoff_foxa2) & (pax6 < cutoff_pax6))\n",
    "index_pax6_cyst = np.where((foxa2 < cutoff_foxa2) & (pax6 > cutoff_pax6))\n",
    "index_double = np.where((foxa2 >= cutoff_foxa2) & (pax6 >= cutoff_pax6))\n",
    "\n",
    "print((index_fako_cyst[0].size/ (index_fako_cyst[0].size + index_pxko_cyst[0].size)), index_foxa2_cyst[0].size/(index_pax6_cyst[0].size + index_foxa2_cyst[0].size), \n",
    "    (index_foxa2_cyst[0].size + index_double[0].size)/(index_pax6_cyst[0].size + index_foxa2_cyst[0].size + index_double[0].size) )"
   ]
  },
  {
   "cell_type": "code",
   "execution_count": null,
   "id": "1760bb0d-47f9-47e8-8c40-65887c2e76d1",
   "metadata": {},
   "outputs": [],
   "source": []
  },
  {
   "cell_type": "code",
   "execution_count": 21,
   "id": "872b08dc-fe2c-47b1-9c49-bd111979807f",
   "metadata": {},
   "outputs": [
    {
     "data": {
      "text/plain": [
       "1"
      ]
     },
     "execution_count": 21,
     "metadata": {},
     "output_type": "execute_result"
    }
   ],
   "source": [
    "i"
   ]
  },
  {
   "cell_type": "code",
   "execution_count": null,
   "id": "d5aa779d-0a0e-42e0-b9a3-eaf7508db259",
   "metadata": {},
   "outputs": [],
   "source": [
    "sels = np.where((genotype_pxko > cutoff_pxko) | (genotype_fako > cutoff_fako))\n",
    "genotype_pxko_sels = genotype_pxko[sels]\n",
    "genotype_fako_sels = genotype_fako[sels]\n",
    "pax6_sels = pax6[sels]\n",
    "foxa2_sels = foxa2[sels]"
   ]
  },
  {
   "cell_type": "code",
   "execution_count": null,
   "id": "283b5419-9844-4142-8815-3154464213b3",
   "metadata": {},
   "outputs": [],
   "source": [
    "# specify the FoxA2-KO and Pax6-KO genotype voxels \n",
    "index_pxko = np.where(genotype_pxko_sels > genotype_fako_sels)\n",
    "index_fako = np.where(genotype_pxko_sels < genotype_fako_sels)\n",
    "\n",
    "index_pxko[0].size/(index_pxko[0].size + index_fako[0].size)"
   ]
  },
  {
   "cell_type": "code",
   "execution_count": null,
   "id": "fdc79115-130f-4daf-8945-56073f3565a1",
   "metadata": {},
   "outputs": [],
   "source": [
    "foxa2_fako = foxa2_sels[index_fako]\n",
    "pax6_fako = pax6_sels[index_fako]\n",
    "index_foxa2_fako = np.where((foxa2_fako > cutoff_foxa2) & (pax6_fako < cutoff_pax6))\n",
    "index_pax6_fako = np.where((foxa2_fako < cutoff_foxa2) & (pax6_fako > cutoff_pax6))\n",
    "index_foxa2_fako[0].size, index_pax6_fako[0].size"
   ]
  },
  {
   "cell_type": "code",
   "execution_count": null,
   "id": "2368103a-a163-40c3-932c-9b764a2bb525",
   "metadata": {},
   "outputs": [],
   "source": [
    "foxa2_pxko = foxa2_sels[index_pxko]\n",
    "pax6_pxko = pax6_sels[index_pxko]\n",
    "index_foxa2_pxko = np.where((foxa2_pxko > cutoff_foxa2) & (pax6_pxko < cutoff_pax6))\n",
    "index_pax6_pxko = np.where((foxa2_pxko < cutoff_foxa2) & (pax6_pxko > cutoff_pax6))\n",
    "index_pax6_pxko[0].size, index_foxa2_pxko[0].size"
   ]
  },
  {
   "cell_type": "code",
   "execution_count": null,
   "id": "1ef65a6f-a3d8-483f-9438-e0bef302628b",
   "metadata": {},
   "outputs": [],
   "source": [
    "#fig, ax = plt.subplots(nrows=1, ncols=2, figsize=(10, 3.5))\n",
    "#ax = axes.ravel()\n",
    "#ax[0].imshow(, cmap='gray')\n",
    "#ax[0].set_title('Original')\n",
    "#ax[0].axis('off')\n",
    "plt.hist(C4.ravel(), bins=200)\n",
    "plt.axvline(cutoff_pax6, color='r')\n",
    "#plt.hist(a, bins='auto')  # arguments are passed to np.histogram\n",
    "#plt.title(\"Histogram with 'auto' bins\")\n",
    "plt.ylim([0, 500000])\n",
    "#plt.xlim([0, 16])\n",
    "#plt.ylim([0, 2])\n",
    "plt.show()\n"
   ]
  },
  {
   "cell_type": "code",
   "execution_count": null,
   "id": "3099fb5f-6c12-4a51-95ef-92153a656565",
   "metadata": {},
   "outputs": [],
   "source": [
    "plt.hist(C2.ravel(), bins=200)\n",
    "plt.axvline(cutoff_fako, color='r')\n",
    "plt.ylim([0, 100000])\n",
    "#plt.hist(a, bins='auto')  # arguments are passed to np.histogram\n",
    "#plt.title(\"Histogram with 'auto' bins\")\n",
    "plt.show()"
   ]
  },
  {
   "cell_type": "code",
   "execution_count": null,
   "id": "ac6a8b89-f2eb-43bb-8088-9f5ff40c3106",
   "metadata": {},
   "outputs": [],
   "source": []
  },
  {
   "cell_type": "code",
   "execution_count": 24,
   "id": "6fa389cd-99d7-46b1-a681-ce7d7f10455b",
   "metadata": {},
   "outputs": [
    {
     "data": {
      "text/html": [
       "<div>\n",
       "<style scoped>\n",
       "    .dataframe tbody tr th:only-of-type {\n",
       "        vertical-align: middle;\n",
       "    }\n",
       "\n",
       "    .dataframe tbody tr th {\n",
       "        vertical-align: top;\n",
       "    }\n",
       "\n",
       "    .dataframe thead th {\n",
       "        text-align: right;\n",
       "    }\n",
       "</style>\n",
       "<table border=\"1\" class=\"dataframe\">\n",
       "  <thead>\n",
       "    <tr style=\"text-align: right;\">\n",
       "      <th></th>\n",
       "      <th>image</th>\n",
       "      <th>cyst_index</th>\n",
       "      <th>cyst_size</th>\n",
       "      <th>nb_fxko_global</th>\n",
       "      <th>nb_pxko_global</th>\n",
       "      <th>nb_foxa2_global</th>\n",
       "      <th>nb_pax6_global</th>\n",
       "      <th>cutoff_fxko_image</th>\n",
       "      <th>cutoff_pxko_image</th>\n",
       "      <th>cutoff_foxa2_image</th>\n",
       "      <th>...</th>\n",
       "      <th>cutoff_foxa2</th>\n",
       "      <th>cutoff_pax6</th>\n",
       "      <th>quantile95_fako_image</th>\n",
       "      <th>quantile95_pxko_image</th>\n",
       "      <th>quantile95_foxa2_image</th>\n",
       "      <th>quantile95_pax6_image</th>\n",
       "      <th>quantile95_fako</th>\n",
       "      <th>quantile95_pxko</th>\n",
       "      <th>quantile95_foxa2</th>\n",
       "      <th>quantile95_pax6</th>\n",
       "    </tr>\n",
       "  </thead>\n",
       "  <tbody>\n",
       "  </tbody>\n",
       "</table>\n",
       "<p>0 rows × 35 columns</p>\n",
       "</div>"
      ],
      "text/plain": [
       "Empty DataFrame\n",
       "Columns: [image, cyst_index, cyst_size, nb_fxko_global, nb_pxko_global, nb_foxa2_global, nb_pax6_global, cutoff_fxko_image, cutoff_pxko_image, cutoff_foxa2_image, cutoff_pax6_image, nb_fxko_cyst, nb_pxko_cyst, nb_foxa2_cyst, nb_pax6_cyst, nb_double_cyst, genotype_total, nb_fxko, nb_pxko, fxko_nb_foxa2, fxko_nb_pax6, pxko_nb_foxa2, pxko_nb_pax6, cutoff_fxko, cutoff_pxko, cutoff_foxa2, cutoff_pax6, quantile95_fako_image, quantile95_pxko_image, quantile95_foxa2_image, quantile95_pax6_image, quantile95_fako, quantile95_pxko, quantile95_foxa2, quantile95_pax6]\n",
       "Index: []\n",
       "\n",
       "[0 rows x 35 columns]"
      ]
     },
     "execution_count": 24,
     "metadata": {},
     "output_type": "execute_result"
    }
   ],
   "source": [
    "import pandas as pd\n",
    "from skimage import measure\n",
    "from skimage.morphology import disk\n",
    "from skimage.filters import threshold_otsu, rank\n",
    "from skimage import measure\n",
    "from skimage.morphology import disk\n",
    "from skimage.filters import threshold_otsu, rank\n",
    "import pyclesperanto_prototype as cle\n",
    "from skimage import filters\n",
    "from skimage.filters import try_all_threshold\n",
    "import napari_simpleitk_image_processing as nsitk\n",
    "\n",
    "from skimage import measure\n",
    "data = {\"image\": [], \"cyst_index\": [], \"cyst_size\": [], \n",
    "         \"nb_fxko_global\": [], \"nb_pxko_global\": [], \"nb_foxa2_global\": [], \"nb_pax6_global\": [],\n",
    "         \"cutoff_fxko_image\": [],  \"cutoff_pxko_image\": [], \"cutoff_foxa2_image\": [], \"cutoff_pax6_image\": [],\n",
    "        \"nb_fxko_cyst\": [], \"nb_pxko_cyst\": [], \"nb_foxa2_cyst\": [], \"nb_pax6_cyst\": [], \"nb_double_cyst\": [],\n",
    "        \"genotype_total\": [],  \"nb_fxko\": [], \"nb_pxko\": [], \"fxko_nb_foxa2\": [], \"fxko_nb_pax6\": [],  \n",
    "        \"pxko_nb_foxa2\": [], \"pxko_nb_pax6\": [],\n",
    "        \"cutoff_fxko\": [],  \"cutoff_pxko\": [],  \"cutoff_foxa2\": [],  \"cutoff_pax6\": [],\n",
    "        \"quantile95_fako_image\": [], \"quantile95_pxko_image\": [], \"quantile95_foxa2_image\":[], \"quantile95_pax6_image\":[], \n",
    "        \"quantile95_fako\":[], \"quantile95_pxko\":[], \"quantile95_foxa2\":[], \"quantile95_pax6\":[]\n",
    "       }\n",
    "df = pd.DataFrame(data)\n",
    "df"
   ]
  },
  {
   "cell_type": "code",
   "execution_count": 25,
   "id": "6ea13122-2ff9-4c7b-844d-c1448f8744e3",
   "metadata": {},
   "outputs": [
    {
     "name": "stdout",
     "output_type": "stream",
     "text": [
      "241011_10x_d4-P6-FA2_iF-iP_dox_D7_25_01_isotropic\n",
      "241011_10x_d4-P6-FA2_iF-iP_dox_D7_26_01_isotropic\n",
      "241011_10x_d4-P6-FA2_iF-iP_dox_D7_27_01_isotropic\n",
      "241011_10x_d4-P6-FA2_iF-iP_dox_D7_28_01_isotropic\n",
      "241011_10x_d4-P6-FA2_iF-iP_dox_D8_29_01_isotropic\n",
      "241011_10x_d4-P6-FA2_iF-iP_dox_D8_30_01_isotropic\n",
      "241011_10x_d4-P6-FA2_iF-iP_dox_D8_31_01_isotropic\n",
      "241011_10x_d4-P6-FA2_iF-iP_dox_D8_32_01_isotropic\n",
      "241011_10x_d4-P6-FA2_iF-iP_dox_D9_33_01_isotropic\n",
      "241011_10x_d4-P6-FA2_iF-iP_dox_D9_34_01_isotropic\n",
      "241011_10x_d4-P6-FA2_iF-iP_dox_D9_35_01_isotropic\n",
      "241011_10x_d4-P6-FA2_iF-iP_dox_D9_36_01_isotropic\n",
      "241011_10x_d4-P6-FA2_iF-iP_noRA_D1_1_01_isotropic\n",
      "241011_10x_d4-P6-FA2_iF-iP_noRA_D1_2_01_isotropic\n",
      "241011_10x_d4-P6-FA2_iF-iP_noRA_D1_3_01_isotropic\n",
      "241011_10x_d4-P6-FA2_iF-iP_noRA_D1_4_01_isotropic\n",
      "241011_10x_d4-P6-FA2_iF-iP_noRA_D2_5_01_isotropic\n",
      "241011_10x_d4-P6-FA2_iF-iP_noRA_D2_6_01_isotropic\n",
      "241011_10x_d4-P6-FA2_iF-iP_noRA_D2_7_01_isotropic\n",
      "241011_10x_d4-P6-FA2_iF-iP_noRA_D2_8_01_isotropic\n",
      "241011_10x_d4-P6-FA2_iF-iP_noRA_D3_10_01_isotropic\n",
      "241011_10x_d4-P6-FA2_iF-iP_noRA_D3_11_01_isotropic\n",
      "241011_10x_d4-P6-FA2_iF-iP_noRA_D3_12_01_isotropic\n",
      "241011_10x_d4-P6-FA2_iF-iP_noRA_D3_9_01_isotropic\n",
      "241011_10x_d4-P6-FA2_iF-iP_RA_D4_13_01_isotropic\n",
      "241011_10x_d4-P6-FA2_iF-iP_RA_D4_14_01_isotropic\n",
      "241011_10x_d4-P6-FA2_iF-iP_RA_D4_15_01_isotropic\n",
      "241011_10x_d4-P6-FA2_iF-iP_RA_D4_16_01_isotropic\n",
      "241011_10x_d4-P6-FA2_iF-iP_RA_D5_17_01_isotropic\n",
      "241011_10x_d4-P6-FA2_iF-iP_RA_D5_18_01_isotropic\n",
      "241011_10x_d4-P6-FA2_iF-iP_RA_D5_19_01_isotropic\n",
      "241011_10x_d4-P6-FA2_iF-iP_RA_D5_20_01_isotropic\n",
      "241011_10x_d4-P6-FA2_iF-iP_RA_D6_21_01_isotropic\n",
      "241011_10x_d4-P6-FA2_iF-iP_RA_D6_22_01_isotropic\n",
      "241011_10x_d4-P6-FA2_iF-iP_RA_D6_23_01_isotropic\n",
      "241011_10x_d4-P6-FA2_iF-iP_RA_D6_24_01_isotropic\n"
     ]
    }
   ],
   "source": [
    "for nm in os.listdir(imageDir):\n",
    "    if \"_C5_CystMask.tiff\" in nm:\n",
    "        #print(nm)\n",
    "        fileName = nm.replace('_C5_CystMask.tiff','')\n",
    "        #files += [nm]\n",
    "        print(fileName)\n",
    "        #make_composite_C5(newName, ImageDir, outDir)\n",
    "        \n",
    "        mask = imread(os.path.join(imageDir, str(fileName + \"_C5_CystMask.tiff\"))) # mask segmeted cysts\n",
    "        C1 = imread(os.path.join(imageDir, str(fileName + \"_C1.tif\"))) # FoxA2, nuclei\n",
    "        C2 = imread(os.path.join(imageDir, str(fileName + \"_C2.tif\"))) # FoxA2-KO genotype Scarlet, nuclei\n",
    "        C3 = imread(os.path.join(imageDir, str(fileName + \"_C3.tif\"))) # Pax6-KO genotype \n",
    "        C4 = imread(os.path.join(imageDir, str(fileName + \"_C4.tif\"))) # Pax6, nuclei\n",
    "        \n",
    "        C1 = C1 / np.quantile(C1, 0.95)\n",
    "        C2 = C2 / np.quantile(C2, 0.95)\n",
    "        C3 = C3 / np.quantile(C3, 0.95)\n",
    "        C4 = C4 / np.quantile(C4, 0.95)\n",
    "        \n",
    "        labels_mask, nb_cyst = measure.label(mask, return_num = True)\n",
    "        \n",
    "        #cutoff_fako_image = threshold_otsu(C2)\n",
    "        #cutoff_pxko_image = threshold_otsu(C3)\n",
    "        #cutoff_foxa2_image = threshold_otsu(C1)\n",
    "        #cutoff_pax6_image = threshold_otsu(C4)\n",
    "        cutoff_fako_image = filters.threshold_mean(C2)\n",
    "        cutoff_pxko_image = filters.threshold_mean(C3)\n",
    "        cutoff_foxa2_image = filters.threshold_mean(C1)\n",
    "        cutoff_pax6_image = filters.threshold_mean(C4)\n",
    "        \n",
    "        \n",
    "        quantile95_fako_image = np.quantile(C2, 0.95)\n",
    "        quantile95_pxko_image = np.quantile(C3, 0.95)\n",
    "        quantile95_foxa2_image = np.quantile(C1, 0.95)\n",
    "        quantile95_pax6_image = np.quantile(C4, 0.95)\n",
    "        \n",
    "        \n",
    "        for i in range(nb_cyst+1):\n",
    "            if i > 0:\n",
    "                cyst_index = np.where(labels_mask == i)\n",
    "                \n",
    "                genotype_pxko = C3[cyst_index]\n",
    "                genotype_fako = C2[cyst_index]\n",
    "                pax6 = C4[cyst_index]\n",
    "                foxa2 = C1[cyst_index]\n",
    "                                \n",
    "                # counting using the image-based thresholds\n",
    "                index_fako_global = np.where((genotype_fako > cutoff_fako_image) & (genotype_pxko < cutoff_pxko_image))\n",
    "                index_pxko_global = np.where((genotype_pxko > cutoff_pxko_image) & (genotype_fako < cutoff_fako_image))\n",
    "                index_foxa2_global = np.where((foxa2 > cutoff_foxa2_image) & (pax6 < cutoff_pax6_image))\n",
    "                index_pax6_global = np.where((foxa2 < cutoff_foxa2_image) & (pax6 > cutoff_pax6_image))\n",
    "                \n",
    "                ## calculate the cyst-based thresholds\n",
    "                #cutoff_fako = threshold_otsu(genotype_fako)\n",
    "                #cutoff_pxko = threshold_otsu(genotype_pxko)\n",
    "                #cutoff_foxa2 = threshold_otsu(foxa2)\n",
    "                #cutoff_pax6 = threshold_otsu(pax6)\n",
    "                cutoff_fako = filters.threshold_mean(genotype_fako)\n",
    "                cutoff_pxko = filters.threshold_mean(genotype_pxko)\n",
    "                cutoff_foxa2 = filters.threshold_mean(foxa2)\n",
    "                cutoff_pax6 = filters.threshold_mean(pax6)\n",
    "                \n",
    "                \n",
    "                quantile95_fako = np.quantile(genotype_fako, 0.95)\n",
    "                quantile95_pxko = np.quantile(genotype_pxko, 0.95)\n",
    "                quantile95_foxa2 = np.quantile(foxa2, 0.95)\n",
    "                quantile95_pax6 = np.quantile(pax6, 0.95)\n",
    "                \n",
    "                # count the foxa2+ and pax6+ voxels in the whole cyst\n",
    "                index_fako_cyst = np.where((genotype_fako > cutoff_fako) & (genotype_pxko < cutoff_pxko))\n",
    "                index_pxko_cyst = np.where((genotype_pxko > cutoff_pxko) & (genotype_fako < cutoff_fako))\n",
    "                \n",
    "                index_foxa2_cyst = np.where((foxa2 > cutoff_foxa2) & (pax6 < cutoff_pax6))\n",
    "                index_pax6_cyst = np.where((foxa2 < cutoff_foxa2) & (pax6 > cutoff_pax6))\n",
    "                index_double_cyst = np.where((foxa2 >= cutoff_foxa2) & (pax6 >= cutoff_pax6))\n",
    "                \n",
    "                #sels = np.where((genotype_pxko > cutoff_pxko) | (genotype_fako > cutoff_fako))\n",
    "                #genotype_pxko_sels = genotype_pxko[sels]\n",
    "                #genotype_fako_sels = genotype_fako[sels]\n",
    "                #pax6_sels = pax6[sels]\n",
    "                #foxa2_sels = foxa2[sels]\n",
    "                \n",
    "                # specify the FoxA2-KO and Pax6-KO genotype voxels \n",
    "                #index_pxko = np.where(genotype_pxko_sels > genotype_fako_sels)\n",
    "                #index_fako = np.where(genotype_pxko_sels < genotype_fako_sels)\n",
    "                #index_pxko[0].size/(index_pxko[0].size + index_fako[0].size)\n",
    "                \n",
    "                foxa2_fako = foxa2[index_fako_cyst]\n",
    "                pax6_fako = pax6[index_fako_cyst]\n",
    "                foxa2_pxko = foxa2[index_pxko_cyst]\n",
    "                pax6_pxko = pax6[index_pxko_cyst]\n",
    "                \n",
    "                index_foxa2_fako = np.where((foxa2_fako > cutoff_foxa2) & (pax6_fako < cutoff_pax6))\n",
    "                index_pax6_fako = np.where((foxa2_fako < cutoff_foxa2) & (pax6_fako > cutoff_pax6))\n",
    "                #index_foxa2_fako[0].size, index_pax6_fako[0].size\n",
    "                \n",
    "                index_foxa2_pxko = np.where((foxa2_pxko > cutoff_foxa2) & (pax6_pxko < cutoff_pax6))\n",
    "                index_pax6_pxko = np.where((foxa2_pxko < cutoff_foxa2) & (pax6_pxko > cutoff_pax6))\n",
    "                #index_pax6_pxko[0].size, index_foxa2_pxko[0].size\n",
    "                \n",
    "                #print(index_foxa2_fako[0].size, index_pax6_pxko[0].size)\n",
    "                \n",
    "                genotype_total = index_fako_cyst[0].size + index_pxko_cyst[0].size\n",
    "                \n",
    "                if (genotype_total) > 100:\n",
    "                    df.loc[len(df)] = [fileName, i,  \n",
    "                                        cyst_index[0].size,\n",
    "                                        index_fako_global[0].size, index_pxko_global[0].size, index_foxa2_global[0].size, index_pax6_global[0].size,\n",
    "                                        cutoff_fako_image, cutoff_pxko_image, cutoff_foxa2_image, cutoff_pax6_image,\n",
    "                                        index_fako_cyst[0].size, index_pxko_cyst[0].size, index_foxa2_cyst[0].size, index_pax6_cyst[0].size, index_double_cyst[0].size,\n",
    "                                        genotype_total,\n",
    "                                        index_fako_cyst[0].size,  \n",
    "                                        index_pxko_cyst[0].size,\n",
    "                                        index_foxa2_fako[0].size,  index_pax6_fako[0].size, \n",
    "                                        index_foxa2_pxko[0].size,  index_pax6_pxko[0].size, \n",
    "                                        cutoff_fako, cutoff_pxko, cutoff_foxa2, cutoff_pax6,\n",
    "                                        quantile95_fako_image, quantile95_pxko_image, quantile95_foxa2_image, quantile95_pax6_image, \n",
    "                                        quantile95_fako, quantile95_pxko, quantile95_foxa2, quantile95_pax6\n",
    "                                        ]\n",
    "                                    "
   ]
  },
  {
   "cell_type": "code",
   "execution_count": 26,
   "id": "0670bdcc-b6f4-40f7-9665-46268d4c6703",
   "metadata": {},
   "outputs": [
    {
     "data": {
      "text/html": [
       "<div>\n",
       "<style scoped>\n",
       "    .dataframe tbody tr th:only-of-type {\n",
       "        vertical-align: middle;\n",
       "    }\n",
       "\n",
       "    .dataframe tbody tr th {\n",
       "        vertical-align: top;\n",
       "    }\n",
       "\n",
       "    .dataframe thead th {\n",
       "        text-align: right;\n",
       "    }\n",
       "</style>\n",
       "<table border=\"1\" class=\"dataframe\">\n",
       "  <thead>\n",
       "    <tr style=\"text-align: right;\">\n",
       "      <th></th>\n",
       "      <th>image</th>\n",
       "      <th>cyst_index</th>\n",
       "      <th>cyst_size</th>\n",
       "      <th>nb_fxko_global</th>\n",
       "      <th>nb_pxko_global</th>\n",
       "      <th>nb_foxa2_global</th>\n",
       "      <th>nb_pax6_global</th>\n",
       "      <th>cutoff_fxko_image</th>\n",
       "      <th>cutoff_pxko_image</th>\n",
       "      <th>cutoff_foxa2_image</th>\n",
       "      <th>...</th>\n",
       "      <th>cutoff_foxa2</th>\n",
       "      <th>cutoff_pax6</th>\n",
       "      <th>quantile95_fako_image</th>\n",
       "      <th>quantile95_pxko_image</th>\n",
       "      <th>quantile95_foxa2_image</th>\n",
       "      <th>quantile95_pax6_image</th>\n",
       "      <th>quantile95_fako</th>\n",
       "      <th>quantile95_pxko</th>\n",
       "      <th>quantile95_foxa2</th>\n",
       "      <th>quantile95_pax6</th>\n",
       "    </tr>\n",
       "  </thead>\n",
       "  <tbody>\n",
       "    <tr>\n",
       "      <th>0</th>\n",
       "      <td>241011_10x_d4-P6-FA2_iF-iP_dox_D7_25_01_isotropic</td>\n",
       "      <td>1</td>\n",
       "      <td>5396</td>\n",
       "      <td>4856</td>\n",
       "      <td>0</td>\n",
       "      <td>156</td>\n",
       "      <td>65</td>\n",
       "      <td>0.259251</td>\n",
       "      <td>0.134503</td>\n",
       "      <td>0.260696</td>\n",
       "      <td>...</td>\n",
       "      <td>2.109133</td>\n",
       "      <td>0.464634</td>\n",
       "      <td>1.0</td>\n",
       "      <td>1.0</td>\n",
       "      <td>1.0</td>\n",
       "      <td>1.0</td>\n",
       "      <td>4.610772</td>\n",
       "      <td>0.009068</td>\n",
       "      <td>4.620632</td>\n",
       "      <td>0.723602</td>\n",
       "    </tr>\n",
       "    <tr>\n",
       "      <th>1</th>\n",
       "      <td>241011_10x_d4-P6-FA2_iF-iP_dox_D7_25_01_isotropic</td>\n",
       "      <td>2</td>\n",
       "      <td>32016</td>\n",
       "      <td>19778</td>\n",
       "      <td>91</td>\n",
       "      <td>255</td>\n",
       "      <td>670</td>\n",
       "      <td>0.259251</td>\n",
       "      <td>0.134503</td>\n",
       "      <td>0.260696</td>\n",
       "      <td>...</td>\n",
       "      <td>3.399961</td>\n",
       "      <td>0.767006</td>\n",
       "      <td>1.0</td>\n",
       "      <td>1.0</td>\n",
       "      <td>1.0</td>\n",
       "      <td>1.0</td>\n",
       "      <td>7.634146</td>\n",
       "      <td>1.093114</td>\n",
       "      <td>9.002912</td>\n",
       "      <td>1.450311</td>\n",
       "    </tr>\n",
       "    <tr>\n",
       "      <th>2</th>\n",
       "      <td>241011_10x_d4-P6-FA2_iF-iP_dox_D7_25_01_isotropic</td>\n",
       "      <td>3</td>\n",
       "      <td>54432</td>\n",
       "      <td>2473</td>\n",
       "      <td>19648</td>\n",
       "      <td>39</td>\n",
       "      <td>942</td>\n",
       "      <td>0.259251</td>\n",
       "      <td>0.134503</td>\n",
       "      <td>0.260696</td>\n",
       "      <td>...</td>\n",
       "      <td>1.833630</td>\n",
       "      <td>1.000407</td>\n",
       "      <td>1.0</td>\n",
       "      <td>1.0</td>\n",
       "      <td>1.0</td>\n",
       "      <td>1.0</td>\n",
       "      <td>3.365854</td>\n",
       "      <td>1.785902</td>\n",
       "      <td>5.818636</td>\n",
       "      <td>1.622516</td>\n",
       "    </tr>\n",
       "    <tr>\n",
       "      <th>3</th>\n",
       "      <td>241011_10x_d4-P6-FA2_iF-iP_dox_D7_25_01_isotropic</td>\n",
       "      <td>4</td>\n",
       "      <td>7252</td>\n",
       "      <td>7237</td>\n",
       "      <td>0</td>\n",
       "      <td>53</td>\n",
       "      <td>13</td>\n",
       "      <td>0.259251</td>\n",
       "      <td>0.134503</td>\n",
       "      <td>0.260696</td>\n",
       "      <td>...</td>\n",
       "      <td>2.230927</td>\n",
       "      <td>0.461234</td>\n",
       "      <td>1.0</td>\n",
       "      <td>1.0</td>\n",
       "      <td>1.0</td>\n",
       "      <td>1.0</td>\n",
       "      <td>4.699187</td>\n",
       "      <td>0.006457</td>\n",
       "      <td>4.367013</td>\n",
       "      <td>0.611801</td>\n",
       "    </tr>\n",
       "    <tr>\n",
       "      <th>4</th>\n",
       "      <td>241011_10x_d4-P6-FA2_iF-iP_dox_D7_25_01_isotropic</td>\n",
       "      <td>5</td>\n",
       "      <td>80532</td>\n",
       "      <td>10164</td>\n",
       "      <td>51348</td>\n",
       "      <td>459</td>\n",
       "      <td>8039</td>\n",
       "      <td>0.259251</td>\n",
       "      <td>0.134503</td>\n",
       "      <td>0.260696</td>\n",
       "      <td>...</td>\n",
       "      <td>1.226187</td>\n",
       "      <td>0.747635</td>\n",
       "      <td>1.0</td>\n",
       "      <td>1.0</td>\n",
       "      <td>1.0</td>\n",
       "      <td>1.0</td>\n",
       "      <td>2.406504</td>\n",
       "      <td>2.041511</td>\n",
       "      <td>4.064434</td>\n",
       "      <td>1.322981</td>\n",
       "    </tr>\n",
       "    <tr>\n",
       "      <th>...</th>\n",
       "      <td>...</td>\n",
       "      <td>...</td>\n",
       "      <td>...</td>\n",
       "      <td>...</td>\n",
       "      <td>...</td>\n",
       "      <td>...</td>\n",
       "      <td>...</td>\n",
       "      <td>...</td>\n",
       "      <td>...</td>\n",
       "      <td>...</td>\n",
       "      <td>...</td>\n",
       "      <td>...</td>\n",
       "      <td>...</td>\n",
       "      <td>...</td>\n",
       "      <td>...</td>\n",
       "      <td>...</td>\n",
       "      <td>...</td>\n",
       "      <td>...</td>\n",
       "      <td>...</td>\n",
       "      <td>...</td>\n",
       "      <td>...</td>\n",
       "    </tr>\n",
       "    <tr>\n",
       "      <th>2223</th>\n",
       "      <td>241011_10x_d4-P6-FA2_iF-iP_RA_D6_24_01_isotropic</td>\n",
       "      <td>55</td>\n",
       "      <td>38144</td>\n",
       "      <td>31845</td>\n",
       "      <td>102</td>\n",
       "      <td>112</td>\n",
       "      <td>594</td>\n",
       "      <td>0.234250</td>\n",
       "      <td>0.203326</td>\n",
       "      <td>0.244639</td>\n",
       "      <td>...</td>\n",
       "      <td>0.745029</td>\n",
       "      <td>1.214042</td>\n",
       "      <td>1.0</td>\n",
       "      <td>1.0</td>\n",
       "      <td>1.0</td>\n",
       "      <td>1.0</td>\n",
       "      <td>3.232472</td>\n",
       "      <td>0.844316</td>\n",
       "      <td>1.283214</td>\n",
       "      <td>2.307087</td>\n",
       "    </tr>\n",
       "    <tr>\n",
       "      <th>2224</th>\n",
       "      <td>241011_10x_d4-P6-FA2_iF-iP_RA_D6_24_01_isotropic</td>\n",
       "      <td>57</td>\n",
       "      <td>8500</td>\n",
       "      <td>0</td>\n",
       "      <td>8403</td>\n",
       "      <td>67</td>\n",
       "      <td>564</td>\n",
       "      <td>0.234250</td>\n",
       "      <td>0.203326</td>\n",
       "      <td>0.244639</td>\n",
       "      <td>...</td>\n",
       "      <td>0.618620</td>\n",
       "      <td>1.327185</td>\n",
       "      <td>1.0</td>\n",
       "      <td>1.0</td>\n",
       "      <td>1.0</td>\n",
       "      <td>1.0</td>\n",
       "      <td>0.092251</td>\n",
       "      <td>4.968252</td>\n",
       "      <td>0.946612</td>\n",
       "      <td>2.598425</td>\n",
       "    </tr>\n",
       "    <tr>\n",
       "      <th>2225</th>\n",
       "      <td>241011_10x_d4-P6-FA2_iF-iP_RA_D6_24_01_isotropic</td>\n",
       "      <td>58</td>\n",
       "      <td>1368</td>\n",
       "      <td>7</td>\n",
       "      <td>742</td>\n",
       "      <td>49</td>\n",
       "      <td>0</td>\n",
       "      <td>0.234250</td>\n",
       "      <td>0.203326</td>\n",
       "      <td>0.244639</td>\n",
       "      <td>...</td>\n",
       "      <td>0.730295</td>\n",
       "      <td>0.511722</td>\n",
       "      <td>1.0</td>\n",
       "      <td>1.0</td>\n",
       "      <td>1.0</td>\n",
       "      <td>1.0</td>\n",
       "      <td>0.439114</td>\n",
       "      <td>4.921659</td>\n",
       "      <td>1.077259</td>\n",
       "      <td>0.846457</td>\n",
       "    </tr>\n",
       "    <tr>\n",
       "      <th>2226</th>\n",
       "      <td>241011_10x_d4-P6-FA2_iF-iP_RA_D6_24_01_isotropic</td>\n",
       "      <td>59</td>\n",
       "      <td>2036</td>\n",
       "      <td>0</td>\n",
       "      <td>1270</td>\n",
       "      <td>0</td>\n",
       "      <td>0</td>\n",
       "      <td>0.234250</td>\n",
       "      <td>0.203326</td>\n",
       "      <td>0.244639</td>\n",
       "      <td>...</td>\n",
       "      <td>1.579622</td>\n",
       "      <td>1.113911</td>\n",
       "      <td>1.0</td>\n",
       "      <td>1.0</td>\n",
       "      <td>1.0</td>\n",
       "      <td>1.0</td>\n",
       "      <td>0.487085</td>\n",
       "      <td>3.263595</td>\n",
       "      <td>3.313655</td>\n",
       "      <td>1.923228</td>\n",
       "    </tr>\n",
       "    <tr>\n",
       "      <th>2227</th>\n",
       "      <td>241011_10x_d4-P6-FA2_iF-iP_RA_D6_24_01_isotropic</td>\n",
       "      <td>60</td>\n",
       "      <td>1208</td>\n",
       "      <td>6</td>\n",
       "      <td>856</td>\n",
       "      <td>9</td>\n",
       "      <td>0</td>\n",
       "      <td>0.234250</td>\n",
       "      <td>0.203326</td>\n",
       "      <td>0.244639</td>\n",
       "      <td>...</td>\n",
       "      <td>1.248065</td>\n",
       "      <td>0.325695</td>\n",
       "      <td>1.0</td>\n",
       "      <td>1.0</td>\n",
       "      <td>1.0</td>\n",
       "      <td>1.0</td>\n",
       "      <td>0.616236</td>\n",
       "      <td>1.523282</td>\n",
       "      <td>2.117916</td>\n",
       "      <td>0.450098</td>\n",
       "    </tr>\n",
       "  </tbody>\n",
       "</table>\n",
       "<p>2228 rows × 35 columns</p>\n",
       "</div>"
      ],
      "text/plain": [
       "                                                  image  cyst_index  \\\n",
       "0     241011_10x_d4-P6-FA2_iF-iP_dox_D7_25_01_isotropic           1   \n",
       "1     241011_10x_d4-P6-FA2_iF-iP_dox_D7_25_01_isotropic           2   \n",
       "2     241011_10x_d4-P6-FA2_iF-iP_dox_D7_25_01_isotropic           3   \n",
       "3     241011_10x_d4-P6-FA2_iF-iP_dox_D7_25_01_isotropic           4   \n",
       "4     241011_10x_d4-P6-FA2_iF-iP_dox_D7_25_01_isotropic           5   \n",
       "...                                                 ...         ...   \n",
       "2223   241011_10x_d4-P6-FA2_iF-iP_RA_D6_24_01_isotropic          55   \n",
       "2224   241011_10x_d4-P6-FA2_iF-iP_RA_D6_24_01_isotropic          57   \n",
       "2225   241011_10x_d4-P6-FA2_iF-iP_RA_D6_24_01_isotropic          58   \n",
       "2226   241011_10x_d4-P6-FA2_iF-iP_RA_D6_24_01_isotropic          59   \n",
       "2227   241011_10x_d4-P6-FA2_iF-iP_RA_D6_24_01_isotropic          60   \n",
       "\n",
       "      cyst_size  nb_fxko_global  nb_pxko_global  nb_foxa2_global  \\\n",
       "0          5396            4856               0              156   \n",
       "1         32016           19778              91              255   \n",
       "2         54432            2473           19648               39   \n",
       "3          7252            7237               0               53   \n",
       "4         80532           10164           51348              459   \n",
       "...         ...             ...             ...              ...   \n",
       "2223      38144           31845             102              112   \n",
       "2224       8500               0            8403               67   \n",
       "2225       1368               7             742               49   \n",
       "2226       2036               0            1270                0   \n",
       "2227       1208               6             856                9   \n",
       "\n",
       "      nb_pax6_global  cutoff_fxko_image  cutoff_pxko_image  \\\n",
       "0                 65           0.259251           0.134503   \n",
       "1                670           0.259251           0.134503   \n",
       "2                942           0.259251           0.134503   \n",
       "3                 13           0.259251           0.134503   \n",
       "4               8039           0.259251           0.134503   \n",
       "...              ...                ...                ...   \n",
       "2223             594           0.234250           0.203326   \n",
       "2224             564           0.234250           0.203326   \n",
       "2225               0           0.234250           0.203326   \n",
       "2226               0           0.234250           0.203326   \n",
       "2227               0           0.234250           0.203326   \n",
       "\n",
       "      cutoff_foxa2_image  ...  cutoff_foxa2  cutoff_pax6  \\\n",
       "0               0.260696  ...      2.109133     0.464634   \n",
       "1               0.260696  ...      3.399961     0.767006   \n",
       "2               0.260696  ...      1.833630     1.000407   \n",
       "3               0.260696  ...      2.230927     0.461234   \n",
       "4               0.260696  ...      1.226187     0.747635   \n",
       "...                  ...  ...           ...          ...   \n",
       "2223            0.244639  ...      0.745029     1.214042   \n",
       "2224            0.244639  ...      0.618620     1.327185   \n",
       "2225            0.244639  ...      0.730295     0.511722   \n",
       "2226            0.244639  ...      1.579622     1.113911   \n",
       "2227            0.244639  ...      1.248065     0.325695   \n",
       "\n",
       "      quantile95_fako_image  quantile95_pxko_image  quantile95_foxa2_image  \\\n",
       "0                       1.0                    1.0                     1.0   \n",
       "1                       1.0                    1.0                     1.0   \n",
       "2                       1.0                    1.0                     1.0   \n",
       "3                       1.0                    1.0                     1.0   \n",
       "4                       1.0                    1.0                     1.0   \n",
       "...                     ...                    ...                     ...   \n",
       "2223                    1.0                    1.0                     1.0   \n",
       "2224                    1.0                    1.0                     1.0   \n",
       "2225                    1.0                    1.0                     1.0   \n",
       "2226                    1.0                    1.0                     1.0   \n",
       "2227                    1.0                    1.0                     1.0   \n",
       "\n",
       "      quantile95_pax6_image  quantile95_fako  quantile95_pxko  \\\n",
       "0                       1.0         4.610772         0.009068   \n",
       "1                       1.0         7.634146         1.093114   \n",
       "2                       1.0         3.365854         1.785902   \n",
       "3                       1.0         4.699187         0.006457   \n",
       "4                       1.0         2.406504         2.041511   \n",
       "...                     ...              ...              ...   \n",
       "2223                    1.0         3.232472         0.844316   \n",
       "2224                    1.0         0.092251         4.968252   \n",
       "2225                    1.0         0.439114         4.921659   \n",
       "2226                    1.0         0.487085         3.263595   \n",
       "2227                    1.0         0.616236         1.523282   \n",
       "\n",
       "      quantile95_foxa2  quantile95_pax6  \n",
       "0             4.620632         0.723602  \n",
       "1             9.002912         1.450311  \n",
       "2             5.818636         1.622516  \n",
       "3             4.367013         0.611801  \n",
       "4             4.064434         1.322981  \n",
       "...                ...              ...  \n",
       "2223          1.283214         2.307087  \n",
       "2224          0.946612         2.598425  \n",
       "2225          1.077259         0.846457  \n",
       "2226          3.313655         1.923228  \n",
       "2227          2.117916         0.450098  \n",
       "\n",
       "[2228 rows x 35 columns]"
      ]
     },
     "execution_count": 26,
     "metadata": {},
     "output_type": "execute_result"
    }
   ],
   "source": [
    "df "
   ]
  },
  {
   "cell_type": "code",
   "execution_count": 27,
   "id": "ba63fea4-4f8b-484c-aef3-3206a67b390f",
   "metadata": {},
   "outputs": [
    {
     "data": {
      "text/plain": [
       "('../images_data/results/TetOnF_TetOnP_chim_d3_4_5_genotype_FoxA2_Pax6',\n",
       " '../images_data/d3-4-6_10x_TetOnF_TetOnP_chim_fulldataset/d3-4-6_stain-FA2-Px6/d4')"
      ]
     },
     "execution_count": 27,
     "metadata": {},
     "output_type": "execute_result"
    }
   ],
   "source": [
    "outDir, imageDir"
   ]
  },
  {
   "cell_type": "code",
   "execution_count": 28,
   "id": "ef3b7bf8-fa78-4ca9-81b3-d1d8819faece",
   "metadata": {},
   "outputs": [],
   "source": [
    "df.to_csv(os.path.join(outDir, \"cyst_size_genotype_FoxA2_Pax6_cystThresholds_globalThreshold_quantile_normalization_refineGenotype_thresholdMean_v2.csv\"), index=True, header=True)"
   ]
  },
  {
   "cell_type": "code",
   "execution_count": null,
   "id": "c14233a1-1928-4afe-9bc2-56cc0f86c080",
   "metadata": {},
   "outputs": [],
   "source": []
  },
  {
   "cell_type": "code",
   "execution_count": null,
   "id": "e7adfe1a-1011-4d98-944e-8aa00838a68d",
   "metadata": {},
   "outputs": [],
   "source": []
  },
  {
   "cell_type": "code",
   "execution_count": null,
   "id": "5d9c1662-d812-4e83-afc6-af4f4e47c417",
   "metadata": {},
   "outputs": [],
   "source": []
  },
  {
   "cell_type": "code",
   "execution_count": null,
   "id": "65ea5b8f-bc0d-4d8b-9669-dcc31b51af54",
   "metadata": {},
   "outputs": [],
   "source": []
  },
  {
   "cell_type": "code",
   "execution_count": null,
   "id": "dcd7f438-c5c9-4e3f-a840-b5b615692301",
   "metadata": {},
   "outputs": [],
   "source": []
  },
  {
   "cell_type": "code",
   "execution_count": null,
   "id": "4722f1d4-95e5-4917-8cb9-becb5dfb3d8f",
   "metadata": {},
   "outputs": [],
   "source": []
  },
  {
   "cell_type": "code",
   "execution_count": null,
   "id": "4dbc614c-77c3-408e-88a8-e1b0bd5ad880",
   "metadata": {},
   "outputs": [],
   "source": [
    "############################################################\n",
    "###\n",
    "### TetOn-FoxA2 & TetOn-Pax6 day6 stain DV patterning\n",
    "### quantifying the TetOn-FoxA2 & TetOn-Pax6 genotypes and the selected markers Nk22-Shh voxels based on the masked and cyst-level background \n",
    "###\n",
    "############################################################"
   ]
  },
  {
   "cell_type": "code",
   "execution_count": 12,
   "id": "275f1a42-7da5-4a14-b743-07bafd454da9",
   "metadata": {},
   "outputs": [],
   "source": [
    "imageDir = \"../images_data/d3-4-6_10x_TetOnF_TetOnP_chim_fulldataset/d6_stain-DV-patterning\"\n",
    "outDir = \"../images_data/results/TetOnF_TetOnP_chim_d6_genotype_stainDVpatterning\"\n",
    "\n",
    "if not os.path.exists(outDir):\n",
    "    os.mkdir(outDir)\n",
    "#os.path.exists(outDir)"
   ]
  },
  {
   "cell_type": "code",
   "execution_count": 13,
   "id": "2070ea0b-15e6-4903-b2b0-12f80e8511bf",
   "metadata": {},
   "outputs": [],
   "source": [
    "from skimage import filters"
   ]
  },
  {
   "cell_type": "code",
   "execution_count": 14,
   "id": "aafae61e-07b5-45a6-be0d-b70f0f033f8c",
   "metadata": {},
   "outputs": [],
   "source": [
    "#fileName = '241023_10x_d3-2umZ_1-FS-PG_RA_FA2-Px6_C7_13_01_isotropic'\n",
    "#fileName = \"241010_10x_d6-Nk22-Shh_iF-iP_RA_D4_13_01_isotropic\"\n",
    "#fileName = \"241010_10x_d6-Nk22-Shh_iF-iP_noRA_D3_9_01_isotropic\"\n",
    "#fileName = \"241010_10x_d6-Nk22-Shh_iF-iP_RA_D5_19_01_isotropic\"\n",
    "fileName = \"241010_10x_d6-Nk22-Shh_iF-iP_RA_D4_13_01_isotropic\"\n",
    "fileName = \"241010_10x_d6-Nk22-Shh_iF-iP_RA_D4_13_01_isotropic\""
   ]
  },
  {
   "cell_type": "code",
   "execution_count": 15,
   "id": "d90baee7-39bb-4f13-98a0-3edb3d828055",
   "metadata": {},
   "outputs": [],
   "source": [
    "mask = imread(os.path.join(imageDir, str(fileName + \"_C5_CystMask.tiff\"))) # mask segmeted cysts\n",
    "C1 = imread(os.path.join(imageDir, str(fileName + \"_C1.tif\"))) # FoxA2, nuclei\n",
    "C2 = imread(os.path.join(imageDir, str(fileName + \"_C2.tif\"))) # FoxA2-KO genotype Scarlet, nuclei\n",
    "C3 = imread(os.path.join(imageDir, str(fileName + \"_C3.tif\"))) # Pax6-KO genotype\n",
    "C4 = imread(os.path.join(imageDir, str(fileName + \"_C4.tif\"))) # Pax6 or other markers"
   ]
  },
  {
   "cell_type": "code",
   "execution_count": 16,
   "id": "6b057a8b-8bdb-4949-808d-07303fbfa249",
   "metadata": {},
   "outputs": [
    {
     "name": "stdout",
     "output_type": "stream",
     "text": [
      "559.0 188.0\n"
     ]
    }
   ],
   "source": [
    "print(np.quantile(C1, 0.95), np.quantile(C4, 0.95))\n",
    "#C1 = C1 / np.quantile(C1, 0.95)\n",
    "C2 = C2 / np.quantile(C2, 0.95)\n",
    "C3 = C3 / np.quantile(C3, 0.95)\n",
    "#C4 = C4 / np.quantile(C4, 0.95)"
   ]
  },
  {
   "cell_type": "code",
   "execution_count": 11,
   "id": "e2b0c60c-6837-4c0c-8fbe-fdbb559f7323",
   "metadata": {},
   "outputs": [
    {
     "name": "stdout",
     "output_type": "stream",
     "text": [
      "0.8818781350672316 0.8200841346153847 258 120\n"
     ]
    }
   ],
   "source": [
    "cutoff_pxko = filters.threshold_otsu(C3)\n",
    "cutoff_fako = filters.threshold_otsu(C2)\n",
    "\n",
    "cutoff_foxa2 = filters.threshold_otsu(C1)\n",
    "cutoff_pax6 = filters.threshold_otsu(C4)\n",
    "print(cutoff_pxko, cutoff_fako, cutoff_foxa2, cutoff_pax6)"
   ]
  },
  {
   "cell_type": "code",
   "execution_count": 12,
   "id": "4f7c7451-6cf0-43f6-ada3-a61b599e4075",
   "metadata": {},
   "outputs": [
    {
     "name": "stderr",
     "output_type": "stream",
     "text": [
      "/groups/tanaka/People/current/jiwang/local/anaconda3/envs/image_py3.9/lib/python3.9/site-packages/pyclesperanto_prototype/_tier9/_imshow.py:35: UserWarning: cle.imshow is deprecated, use stackview.imshow instead.\n",
      "  warnings.warn(\"cle.imshow is deprecated, use stackview.imshow instead.\")\n"
     ]
    },
    {
     "data": {
      "image/png": "[encoded data removed]",
      "text/plain": [
       "<Figure size 640x480 with 1 Axes>"
      ]
     },
     "metadata": {},
     "output_type": "display_data"
    }
   ],
   "source": [
    "import pyclesperanto_prototype as cle\n",
    "marker_binary = C4 > 350\n",
    "## visualize the 3D images https://haesleinhuepf.github.io/BioImageAnalysisNotebooks/16_3d_image_visualization/inspecting_3d_images.html\n",
    "another_slice = cle.create_2d_xy(marker_binary)\n",
    "cle.copy_slice(marker_binary, another_slice, slice_index = 44)\n",
    "# show result\n",
    "cle.imshow(another_slice)\n"
   ]
  },
  {
   "cell_type": "code",
   "execution_count": 27,
   "id": "8083d2e8-34c7-42f7-857b-0bd22d1c01af",
   "metadata": {},
   "outputs": [
    {
     "data": {
      "image/png": "[encoded data removed]",
      "text/plain": [
       "<Figure size 640x480 with 1 Axes>"
      ]
     },
     "metadata": {},
     "output_type": "display_data"
    }
   ],
   "source": [
    "marker_binary = C1 > 1000\n",
    "## visualize the 3D images https://haesleinhuepf.github.io/BioImageAnalysisNotebooks/16_3d_image_visualization/inspecting_3d_images.html\n",
    "another_slice = cle.create_2d_xy(marker_binary)\n",
    "cle.copy_slice(marker_binary, another_slice, slice_index = 35)\n",
    "# show result\n",
    "cle.imshow(another_slice)"
   ]
  },
  {
   "cell_type": "code",
   "execution_count": 21,
   "id": "fa916a29-2819-45bf-9bd6-72c6e4d36238",
   "metadata": {},
   "outputs": [
    {
     "name": "stderr",
     "output_type": "stream",
     "text": [
      "/groups/tanaka/People/current/jiwang/local/anaconda3/envs/image_py3.9/lib/python3.9/site-packages/skimage/filters/thresholding.py:561: RuntimeWarning: divide by zero encountered in divide\n",
      "  higher = (csum_intensity[-1] - csum_intensity[:-1]) / csumh[:-1]\n"
     ]
    },
    {
     "name": "stdout",
     "output_type": "stream",
     "text": [
      "0.7489062499999999 0.8818781350672316\n"
     ]
    },
    {
     "data": {
      "image/png": "[encoded data removed]",
      "text/plain": [
       "<Figure size 1200x500 with 2 Axes>"
      ]
     },
     "metadata": {},
     "output_type": "display_data"
    }
   ],
   "source": [
    "cutoff_fako = filters.threshold_isodata(C2)\n",
    "cutoff_pxko = filters.threshold_isodata(C3)\n",
    "\n",
    "fig, axes = plt.subplots(ncols=2, figsize=(12, 5))\n",
    "ax = axes.ravel()\n",
    "\n",
    "ax[0].hist(C2.ravel(), bins=5000)\n",
    "ax[0].set_xlim([0, 1.5])\n",
    "ax[0].axvline(cutoff_fako, color='r')\n",
    "\n",
    "ax[1].hist(C3.ravel(), bins=5000)\n",
    "ax[1].set_xlim([0, 1.5])\n",
    "ax[1].axvline(cutoff_pxko, color='r')\n",
    "print(cutoff_fako, cutoff_pxko)"
   ]
  },
  {
   "cell_type": "code",
   "execution_count": null,
   "id": "1ea61a07-ba4f-4c58-9bd2-683d4f170085",
   "metadata": {},
   "outputs": [],
   "source": []
  },
  {
   "cell_type": "code",
   "execution_count": 15,
   "id": "93e78c69-ec3c-47e8-94cc-8ef290c95c32",
   "metadata": {},
   "outputs": [],
   "source": [
    "labels_mask, nb_cyst = measure.label(mask, return_num = True)"
   ]
  },
  {
   "cell_type": "code",
   "execution_count": 16,
   "id": "8876baf6-6cbe-4ff7-84a3-73c9b435d45b",
   "metadata": {},
   "outputs": [],
   "source": [
    "cyst_index = 5\n",
    "[z, rows, columns] = np.where(labels_mask == cyst_index)\n",
    "z1 = min(z)\n",
    "z2 = max(z)\n",
    "row1 = min(rows)\n",
    "row2 = max(rows)\n",
    "col1 = min(columns)\n",
    "col2 = max(columns)"
   ]
  },
  {
   "cell_type": "code",
   "execution_count": 26,
   "id": "2805c5dc-c68e-4ad1-a699-fe481287fd1f",
   "metadata": {},
   "outputs": [],
   "source": [
    "# crop the orgnoid and save foxa2 and dapi\n",
    "cyst_sel = np.where(labels_mask == cyst_index)\n",
    "#xx = np.where(labels_mask == cyst_index)\n",
    "xx = np.where(labels_mask == cyst_index, C4, 0)\n",
    "newImage_nkx = xx[z1:z2, row1:row2, col1:col2]"
   ]
  },
  {
   "cell_type": "code",
   "execution_count": 27,
   "id": "25fe65e9-51fd-4a1a-8142-cc8d8460ca2f",
   "metadata": {},
   "outputs": [
    {
     "data": {
      "text/plain": [
       "((91, 499, 499), 28316, (37, 33, 47))"
      ]
     },
     "execution_count": 27,
     "metadata": {},
     "output_type": "execute_result"
    }
   ],
   "source": [
    "xx.shape, cyst_sel[0].size, newImage_nkx.shape"
   ]
  },
  {
   "cell_type": "code",
   "execution_count": 28,
   "id": "e4f7f681-ecaf-4e2b-989c-0c7b7c9b3cac",
   "metadata": {},
   "outputs": [
    {
     "data": {
      "text/plain": [
       "((91, 499, 499), (91, 499, 499))"
      ]
     },
     "execution_count": 28,
     "metadata": {},
     "output_type": "execute_result"
    }
   ],
   "source": [
    "C1.shape, C2.shape"
   ]
  },
  {
   "cell_type": "code",
   "execution_count": 31,
   "id": "a3d7831a-5c6a-4166-b866-e123e779e6d8",
   "metadata": {},
   "outputs": [
    {
     "name": "stdout",
     "output_type": "stream",
     "text": [
      "(37, 33, 47)\n"
     ]
    },
    {
     "data": {
      "image/png": "[encoded data removed]",
      "text/plain": [
       "<Figure size 640x480 with 2 Axes>"
      ]
     },
     "metadata": {},
     "output_type": "display_data"
    }
   ],
   "source": [
    "print(newImage_nkx.shape)\n",
    "projection_z = cle.maximum_z_projection(C4)\n",
    "cle.imshow(projection_z, labels = False, colorbar = True)"
   ]
  },
  {
   "cell_type": "code",
   "execution_count": null,
   "id": "1d5e96ce-1ff9-4cae-8554-1bc3363c4ed1",
   "metadata": {},
   "outputs": [],
   "source": [
    "xx = np.where(labels_mask == cyst_index, C4, 0)\n",
    "newImage_dapi = xx[z1:z2, row1:row2, col1:col2]\n",
    "                \n",
    "fig, axes = plt.subplots(2, 2, figsize=(10, 8), sharex=True, sharey=True)\n",
    "ax = axes.ravel()\n",
    "\n",
    "ax[0].imshow(formattedcoeff)\n",
    "ax[0].axis('off')\n",
    "ax[0].set_title('Original')\n",
    "\n",
    "ax[1].imshow(preprocessed, cmap=plt.cm.gray)\n",
    "                ax[1].axis('off')\n",
    "                ax[1].set_title('processed image')\n",
    "\n",
    "                ax[2].imshow(formattedcoeff, cmap=plt.cm.gray)\n",
    "                ax[2].autoscale(False)\n",
    "                ax[2].plot(coordinates[:, 1], coordinates[:, 0], 'r.')\n",
    "                ax[2].axis('off')\n",
    "                ax[2].set_title('Peak local max')\n",
    "\n",
    "                ax[3].imshow(split_objects)\n",
    "                ax[3].autoscale(False)\n",
    "                #ax[3].plot(coordinates[:, 1], coordinates[:, 0], 'r.')\n",
    "                ax[3].axis('off')\n",
    "                ax[3].set_title('watershed segmentation')\n",
    "\n",
    "                fig.tight_layout()\n",
    "                \n",
    "                plt.savefig(os.path.join(outDir, str(fileName + \"_\" + str(cyst_index) +  \"locaMaximum_watershedSegmentation.pdf\")))                \n",
    "                \n",
    "                \n"
   ]
  },
  {
   "cell_type": "code",
   "execution_count": null,
   "id": "4d88d80a-1306-4215-9ba8-acebcd3cc658",
   "metadata": {},
   "outputs": [],
   "source": []
  },
  {
   "cell_type": "code",
   "execution_count": 20,
   "id": "9e8eb20c-70ef-4b01-af5d-32e148a9a816",
   "metadata": {},
   "outputs": [
    {
     "data": {
      "text/plain": [
       "<matplotlib.lines.Line2D at 0x2b4dde182400>"
      ]
     },
     "execution_count": 20,
     "metadata": {},
     "output_type": "execute_result"
    },
    {
     "data": {
      "image/png": "[encoded data removed]",
      "text/plain": [
       "<Figure size 1200x500 with 2 Axes>"
      ]
     },
     "metadata": {},
     "output_type": "display_data"
    }
   ],
   "source": [
    "fig, axes = plt.subplots(ncols=2, figsize=(12, 5))\n",
    "ax = axes.ravel()\n",
    "\n",
    "ax[0].hist(C1.ravel(), bins=5000)\n",
    "ax[0].set_xlim([0, 2000])\n",
    "ax[0].axvline(cutoff_foxa2, color='r')\n",
    "\n",
    "ax[1].hist(C4.ravel(), bins=500)\n",
    "ax[1].set_xlim([0, 1000])\n",
    "ax[1].axvline(cutoff_pax6, color='r')"
   ]
  },
  {
   "cell_type": "code",
   "execution_count": 19,
   "id": "9b0a9de2-348c-49f2-80f1-51f5cdaea70c",
   "metadata": {},
   "outputs": [
    {
     "name": "stdout",
     "output_type": "stream",
     "text": [
      "0.217919893818234 3.9711513157894736 [ 0.56486716 38.17849431] [0.50469062 1.73843189]\n"
     ]
    }
   ],
   "source": []
  },
  {
   "cell_type": "code",
   "execution_count": 21,
   "id": "868ef777-8e92-4707-9ba1-b719278843c7",
   "metadata": {},
   "outputs": [
    {
     "name": "stdout",
     "output_type": "stream",
     "text": [
      "0.8818781350672316 0.8200841346153847 [  257 29138] [ 98 331]\n"
     ]
    },
    {
     "data": {
      "text/plain": [
       "<matplotlib.lines.Line2D at 0x2b4dee42cc40>"
      ]
     },
     "execution_count": 21,
     "metadata": {},
     "output_type": "execute_result"
    },
    {
     "data": {
      "image/png": "[encoded data removed]",
      "text/plain": [
       "<Figure size 1200x500 with 2 Axes>"
      ]
     },
     "metadata": {},
     "output_type": "display_data"
    }
   ],
   "source": [
    "cutoff_foxa2 = filters.threshold_multiotsu(C1, classes=3, nbins= 512)\n",
    "cutoff_pax6 = filters.threshold_multiotsu(C4, classes=3, nbins = 512)\n",
    "print(cutoff_pxko, cutoff_fako, cutoff_foxa2, cutoff_pax6)\n",
    "\n",
    "fig, axes = plt.subplots(ncols=2, figsize=(12, 5))\n",
    "ax = axes.ravel()\n",
    "\n",
    "ax[0].hist(C1.ravel(), bins=5000)\n",
    "ax[0].set_xlim([0, 2000])\n",
    "ax[0].axvline(cutoff_foxa2[0], color='r')\n",
    "ax[0].axvline(cutoff_foxa2[1], color='r')\n",
    "\n",
    "ax[1].hist(C4.ravel(), bins=500)\n",
    "ax[1].set_xlim([0, 1000])\n",
    "ax[1].axvline(cutoff_pax6[0], color='r')\n",
    "ax[1].axvline(cutoff_pax6[1], color='r')"
   ]
  },
  {
   "cell_type": "code",
   "execution_count": 131,
   "id": "73b3b97f-8810-437f-a8cb-52b6beb4adb3",
   "metadata": {},
   "outputs": [
    {
     "name": "stdout",
     "output_type": "stream",
     "text": [
      "0.185891532264405 0.1334043821285734\n"
     ]
    }
   ],
   "source": [
    "cutoff_fako = filters.threshold_mean(C2)\n",
    "cutoff_pxko = filters.threshold_mean(C3)\n",
    "print(cutoff_fako, cutoff_pxko)"
   ]
  },
  {
   "cell_type": "code",
   "execution_count": 132,
   "id": "e444d690-4daf-4a9e-a489-960dc305558a",
   "metadata": {},
   "outputs": [
    {
     "data": {
      "text/plain": [
       "<matplotlib.lines.Line2D at 0x2b3df960bd00>"
      ]
     },
     "execution_count": 132,
     "metadata": {},
     "output_type": "execute_result"
    },
    {
     "data": {
      "image/png": "[encoded data removed]",
      "text/plain": [
       "<Figure size 800x250 with 2 Axes>"
      ]
     },
     "metadata": {},
     "output_type": "display_data"
    }
   ],
   "source": [
    "fig, axes = plt.subplots(ncols=2, figsize=(8, 2.5))\n",
    "ax = axes.ravel()\n",
    "\n",
    "ax[0].hist(C2.ravel(), bins=1000)\n",
    "ax[0].set_xlim([0, 1.0])\n",
    "ax[0].axvline(cutoff_fako, color='r')\n",
    "\n",
    "ax[1].hist(C3.ravel(), bins=500)\n",
    "ax[1].set_xlim([0, 1.0])\n",
    "ax[1].axvline(cutoff_pxko, color='r')"
   ]
  },
  {
   "cell_type": "code",
   "execution_count": 133,
   "id": "52fa8ed8-b704-47b0-96dc-e452bbaf161c",
   "metadata": {},
   "outputs": [
    {
     "data": {
      "text/plain": [
       "1.060446090969751"
      ]
     },
     "execution_count": 133,
     "metadata": {},
     "output_type": "execute_result"
    }
   ],
   "source": [
    "filters.threshold_multiotsu(C1, classes=3, nbins = 512)[1]"
   ]
  },
  {
   "cell_type": "code",
   "execution_count": 29,
   "id": "d84b98eb-a7dc-40b6-b91b-68f45598658b",
   "metadata": {},
   "outputs": [
    {
     "name": "stdout",
     "output_type": "stream",
     "text": [
      "[ 0.56486716 38.17849431] [ 0.33963586  1.01532976 38.17849431] [0.51937801 1.76291088]\n"
     ]
    }
   ],
   "source": [
    "fileName = \"241010_10x_d6-Nk22-Shh_iF-iP_RA_D4_13_01_isotropic\"\n",
    "\n",
    "mask = imread(os.path.join(imageDir, str(fileName + \"_C5_CystMask.tiff\"))) # mask segmeted cysts\n",
    "C1 = imread(os.path.join(imageDir, str(fileName + \"_C1.tif\"))) # FoxA2, nuclei\n",
    "C2 = imread(os.path.join(imageDir, str(fileName + \"_C2.tif\"))) # FoxA2-KO genotype Scarlet, nuclei\n",
    "C3 = imread(os.path.join(imageDir, str(fileName + \"_C3.tif\"))) # Pax6-KO genotype\n",
    "C4 = imread(os.path.join(imageDir, str(fileName + \"_C4.tif\"))) # Pax6 or other markers\n",
    "\n",
    "C1 = C1 / np.quantile(C1, 0.95)\n",
    "C2 = C2 / np.quantile(C2, 0.95)\n",
    "C3 = C3 / np.quantile(C3, 0.95)\n",
    "C4 = C4 / np.quantile(C4, 0.95)\n",
    "\n",
    "cutoff_foxa2 = filters.threshold_multiotsu(C1, classes=3, nbins= 512)\n",
    "cutoff_nkx = filters.threshold_multiotsu(C1, classes=4, nbins= 512)\n",
    "cutoff_shh = filters.threshold_multiotsu(C4, classes=3, nbins = 256)\n",
    "#cutoff_shh = filters.threshold_multiotsu(C4, classes=4, nbins = 256)\n",
    "\n",
    "print(cutoff_foxa2, cutoff_nkx, cutoff_shh)"
   ]
  },
  {
   "cell_type": "code",
   "execution_count": 23,
   "id": "4a08c8be-40bd-40f8-9a08-432764f34aae",
   "metadata": {},
   "outputs": [
    {
     "data": {
      "text/plain": [
       "<matplotlib.lines.Line2D at 0x2b97b30b2820>"
      ]
     },
     "execution_count": 23,
     "metadata": {},
     "output_type": "execute_result"
    },
    {
     "data": {
      "image/png": "[encoded data removed]",
      "text/plain": [
       "<Figure size 1200x1000 with 4 Axes>"
      ]
     },
     "metadata": {},
     "output_type": "display_data"
    }
   ],
   "source": [
    "fig, axes = plt.subplots(nrows=2, ncols=2, figsize=(12, 10))\n",
    "ax = axes.ravel()\n",
    "\n",
    "ax[0].hist(C1.ravel(), bins=2048)\n",
    "ax[0].set_xlim([0, 4])\n",
    "ax[0].axvline(cutoff_foxa2[0], color='r')\n",
    "ax[0].axvline(cutoff_foxa2[1], color='r')\n",
    "\n",
    "ax[1].hist(C1.ravel(), bins=2048)\n",
    "ax[1].set_xlim([0, 4.0])\n",
    "ax[1].axvline(cutoff_nkx[0], color='r')\n",
    "ax[1].axvline(cutoff_nkx[1], color='r')\n",
    "ax[1].axvline(cutoff_nkx[2], color='r')\n",
    "\n",
    "\n",
    "ax[2].hist(C4.ravel(), bins=256)\n",
    "ax[2].set_xlim([0, 4.0])\n",
    "ax[2].axvline(cutoff_pax6[0], color='r')\n",
    "ax[2].axvline(cutoff_pax6[1], color='r')\n",
    "\n",
    "ax[3].hist(C4.ravel(), bins=256)\n",
    "ax[3].set_xlim([0, 4.0])\n",
    "ax[3].axvline(cutoff_shh[0], color='r')\n",
    "ax[3].axvline(cutoff_shh[1], color='r')\n",
    "ax[3].axvline(cutoff_shh[2], color='r')"
   ]
  },
  {
   "cell_type": "code",
   "execution_count": 31,
   "id": "29f06361-a4ce-4b43-b1db-e60759e12c40",
   "metadata": {},
   "outputs": [
    {
     "name": "stdout",
     "output_type": "stream",
     "text": [
      "[0.26147988 0.58402372 1.09835038] [0.47147142 1.42526289]\n"
     ]
    },
    {
     "data": {
      "text/plain": [
       "<matplotlib.lines.Line2D at 0x2b97b3f40190>"
      ]
     },
     "execution_count": 31,
     "metadata": {},
     "output_type": "execute_result"
    },
    {
     "data": {
      "image/png": "[encoded data removed]",
      "text/plain": [
       "<Figure size 1200x500 with 2 Axes>"
      ]
     },
     "metadata": {},
     "output_type": "display_data"
    }
   ],
   "source": [
    "fileName = \"241010_10x_d6-Nk22-Shh_iF-iP_RA_D4_14_01_isotropic\"\n",
    "\n",
    "mask = imread(os.path.join(imageDir, str(fileName + \"_C5_CystMask.tiff\"))) # mask segmeted cysts\n",
    "C1 = imread(os.path.join(imageDir, str(fileName + \"_C1.tif\"))) # FoxA2, nuclei\n",
    "C2 = imread(os.path.join(imageDir, str(fileName + \"_C2.tif\"))) # FoxA2-KO genotype Scarlet, nuclei\n",
    "C3 = imread(os.path.join(imageDir, str(fileName + \"_C3.tif\"))) # Pax6-KO genotype\n",
    "C4 = imread(os.path.join(imageDir, str(fileName + \"_C4.tif\"))) # Pax6 or other markers\n",
    "\n",
    "C1 = C1 / np.quantile(C1, 0.95)\n",
    "C2 = C2 / np.quantile(C2, 0.95)\n",
    "C3 = C3 / np.quantile(C3, 0.95)\n",
    "C4 = C4 / np.quantile(C4, 0.95)\n",
    "\n",
    "cutoff_foxa2 = filters.threshold_multiotsu(C1, classes=4, nbins= 512)\n",
    "cutoff_pax6 = filters.threshold_multiotsu(C4, classes=3, nbins = 256)\n",
    "print(cutoff_foxa2, cutoff_pax6)\n",
    "\n",
    "fig, axes = plt.subplots(ncols=2, figsize=(12, 5))\n",
    "ax = axes.ravel()\n",
    "\n",
    "ax[0].hist(C1.ravel(), bins=1000)\n",
    "ax[0].set_xlim([0, 4])\n",
    "ax[0].axvline(cutoff_foxa2[0], color='r')\n",
    "ax[0].axvline(cutoff_foxa2[1], color='r')\n",
    "ax[0].axvline(cutoff_foxa2[2], color='r')\n",
    "\n",
    "ax[1].hist(C4.ravel(), bins=500)\n",
    "ax[1].set_xlim([0, 4.0])\n",
    "ax[1].axvline(cutoff_pax6[0], color='r')\n",
    "ax[1].axvline(cutoff_pax6[1], color='r')"
   ]
  },
  {
   "cell_type": "code",
   "execution_count": 45,
   "id": "063d6e9d-f35f-4bb8-a5b4-b1a7e116a7ad",
   "metadata": {},
   "outputs": [
    {
     "name": "stdout",
     "output_type": "stream",
     "text": [
      "[0.25157752 0.64620893 1.29735076] [0.3902394  1.00769514]\n"
     ]
    },
    {
     "data": {
      "text/plain": [
       "<matplotlib.lines.Line2D at 0x2b97da4909d0>"
      ]
     },
     "execution_count": 45,
     "metadata": {},
     "output_type": "execute_result"
    },
    {
     "data": {
      "image/png": "[encoded data removed]",
      "text/plain": [
       "<Figure size 1200x500 with 2 Axes>"
      ]
     },
     "metadata": {},
     "output_type": "display_data"
    }
   ],
   "source": [
    "fileName = \"241010_10x_d6-Nk22-Shh_iF-iP_RA_D4_15_01_isotropic\"\n",
    "\n",
    "mask = imread(os.path.join(imageDir, str(fileName + \"_C5_CystMask.tiff\"))) # mask segmeted cysts\n",
    "C1 = imread(os.path.join(imageDir, str(fileName + \"_C1.tif\"))) # FoxA2, nuclei\n",
    "C2 = imread(os.path.join(imageDir, str(fileName + \"_C2.tif\"))) # FoxA2-KO genotype Scarlet, nuclei\n",
    "C3 = imread(os.path.join(imageDir, str(fileName + \"_C3.tif\"))) # Pax6-KO genotype\n",
    "C4 = imread(os.path.join(imageDir, str(fileName + \"_C4.tif\"))) # Pax6 or other markers\n",
    "\n",
    "C1 = C1 / np.quantile(C1, 0.95)\n",
    "C2 = C2 / np.quantile(C2, 0.95)\n",
    "C3 = C3 / np.quantile(C3, 0.95)\n",
    "C4 = C4 / np.quantile(C4, 0.95)\n",
    "\n",
    "C4 = C4[np.where(C4 < 2.5)]\n",
    "                \n",
    "cutoff_foxa2 = filters.threshold_multiotsu(C1, classes=4, nbins= 512)\n",
    "cutoff_pax6 = filters.threshold_multiotsu(C4, classes=3, nbins = 512)\n",
    "cutoff_shh = filters.threshold_multiotsu(C4, classes=4, nbins = 512)\n",
    "print(cutoff_foxa2, cutoff_pax6, cutoff_shh)\n",
    "\n",
    "fig, axes = plt.subplots(ncols=2, figsize=(12, 5))\n",
    "ax = axes.ravel()\n",
    "\n",
    "ax[0].hist(C1.ravel(), bins=1000)\n",
    "ax[0].set_xlim([0, 4])\n",
    "ax[0].axvline(cutoff_foxa2[0], color='r')\n",
    "ax[0].axvline(cutoff_foxa2[1], color='r')\n",
    "ax[0].axvline(cutoff_foxa2[2], color='r')\n",
    "\n",
    "ax[1].hist(C4.ravel(), bins=512)\n",
    "ax[1].set_xlim([0, 2.5])\n",
    "ax[1].axvline(cutoff_pax6[0], color='r')\n",
    "ax[1].axvline(cutoff_pax6[1], color='r')\n",
    "ax[1].axvline(cutoff_shh[0], color='b')\n",
    "ax[1].axvline(cutoff_shh[1], color='b')\n",
    "ax[1].axvline(cutoff_shh[2], color='b')"
   ]
  },
  {
   "cell_type": "code",
   "execution_count": 53,
   "id": "83f0861a-c3f5-4ff3-948d-fc64f7a1c43c",
   "metadata": {},
   "outputs": [],
   "source": [
    "fileName = \"241010_10x_d6-Nk22-Shh_iF-iP_RA_D4_13_01_isotropic\"\n",
    "\n",
    "mask = imread(os.path.join(imageDir, str(fileName + \"_C5_CystMask.tiff\"))) # mask segmeted cysts\n",
    "C1 = imread(os.path.join(imageDir, str(fileName + \"_C1.tif\"))) # FoxA2, nuclei\n",
    "C2 = imread(os.path.join(imageDir, str(fileName + \"_C2.tif\"))) # FoxA2-KO genotype Scarlet, nuclei\n",
    "C3 = imread(os.path.join(imageDir, str(fileName + \"_C3.tif\"))) # Pax6-KO genotype\n",
    "C4 = imread(os.path.join(imageDir, str(fileName + \"_C4.tif\"))) # Pax6 or other markers"
   ]
  },
  {
   "cell_type": "code",
   "execution_count": 57,
   "id": "b237aea8-976d-47bb-98c1-0d2a82031d80",
   "metadata": {},
   "outputs": [
    {
     "data": {
      "text/plain": [
       "1.3829787234042554"
      ]
     },
     "execution_count": 57,
     "metadata": {},
     "output_type": "execute_result"
    }
   ],
   "source": [
    "260/np.quantile(C4, 0.95)"
   ]
  },
  {
   "cell_type": "code",
   "execution_count": 50,
   "id": "82eab697-05f0-4f83-86f1-f7270246b82e",
   "metadata": {},
   "outputs": [
    {
     "name": "stdout",
     "output_type": "stream",
     "text": [
      "[ 0.33963586  1.01532976 38.17849431] [0.48116481 1.304407  ] [0.20675075 0.5103578  0.93073679 1.64304563]\n"
     ]
    },
    {
     "data": {
      "text/plain": [
       "<matplotlib.lines.Line2D at 0x2b97c26d4be0>"
      ]
     },
     "execution_count": 50,
     "metadata": {},
     "output_type": "execute_result"
    },
    {
     "data": {
      "image/png": "[encoded data removed]",
      "text/plain": [
       "<Figure size 1200x500 with 2 Axes>"
      ]
     },
     "metadata": {},
     "output_type": "display_data"
    }
   ],
   "source": [
    "fileName = \"241010_10x_d6-Nk22-Shh_iF-iP_RA_D4_13_01_isotropic\"\n",
    "\n",
    "mask = imread(os.path.join(imageDir, str(fileName + \"_C5_CystMask.tiff\"))) # mask segmeted cysts\n",
    "C1 = imread(os.path.join(imageDir, str(fileName + \"_C1.tif\"))) # FoxA2, nuclei\n",
    "C2 = imread(os.path.join(imageDir, str(fileName + \"_C2.tif\"))) # FoxA2-KO genotype Scarlet, nuclei\n",
    "C3 = imread(os.path.join(imageDir, str(fileName + \"_C3.tif\"))) # Pax6-KO genotype\n",
    "C4 = imread(os.path.join(imageDir, str(fileName + \"_C4.tif\"))) # Pax6 or other markers\n",
    "\n",
    "C1 = C1 / np.quantile(C1, 0.95)\n",
    "C2 = C2 / np.quantile(C2, 0.95)\n",
    "C3 = C3 / np.quantile(C3, 0.95)\n",
    "C4 = C4 / np.quantile(C4, 0.95)\n",
    "\n",
    "C4 = C4[np.where(C4 < 3)]\n",
    "                \n",
    "cutoff_foxa2 = filters.threshold_multiotsu(C1, classes=4, nbins= 512)\n",
    "cutoff_pax6 = filters.threshold_multiotsu(C4, classes=3, nbins = 512)\n",
    "cutoff_shh = filters.threshold_multiotsu(C4, classes=4, nbins = 512)\n",
    "print(cutoff_foxa2, cutoff_pax6, cutoff_shh)\n",
    "\n",
    "fig, axes = plt.subplots(ncols=2, figsize=(12, 5))\n",
    "ax = axes.ravel()\n",
    "\n",
    "ax[0].hist(C1.ravel(), bins=1000)\n",
    "ax[0].set_xlim([0, 4])\n",
    "ax[0].axvline(cutoff_foxa2[0], color='r')\n",
    "ax[0].axvline(cutoff_foxa2[1], color='r')\n",
    "ax[0].axvline(cutoff_foxa2[2], color='r')\n",
    "\n",
    "ax[1].hist(C4.ravel(), bins=512)\n",
    "#ax[1].set_xlim([0, 2.5])\n",
    "ax[1].axvline(cutoff_pax6[0], color='r')\n",
    "ax[1].axvline(cutoff_pax6[1], color='r')\n",
    "ax[1].axvline(cutoff_shh[0], color='b')\n",
    "ax[1].axvline(cutoff_shh[1], color='b')\n",
    "ax[1].axvline(cutoff_shh[2], color='b')\n",
    "ax[1].axvline(cutoff_shh[3], color='b')"
   ]
  },
  {
   "cell_type": "code",
   "execution_count": 59,
   "id": "79abfd8f-d5f5-400b-8a58-2c199c48eece",
   "metadata": {},
   "outputs": [
    {
     "name": "stdout",
     "output_type": "stream",
     "text": [
      "500.0 188.0\n",
      "[ 0.37514453  0.82291797 57.54088672] [0.44613323 1.28105261] [0.2943297  0.67967711 1.43285613]\n"
     ]
    },
    {
     "data": {
      "text/plain": [
       "<matplotlib.lines.Line2D at 0x2b97b9817eb0>"
      ]
     },
     "execution_count": 59,
     "metadata": {},
     "output_type": "execute_result"
    },
    {
     "data": {
      "image/png": "[encoded data removed]",
      "text/plain": [
       "<Figure size 1200x500 with 2 Axes>"
      ]
     },
     "metadata": {},
     "output_type": "display_data"
    }
   ],
   "source": [
    "fileName = \"241010_10x_d6-Nk22-Shh_iF-iP_dox_D7_25_01_isotropic\"\n",
    "\n",
    "mask = imread(os.path.join(imageDir, str(fileName + \"_C5_CystMask.tiff\"))) # mask segmeted cysts\n",
    "C1 = imread(os.path.join(imageDir, str(fileName + \"_C1.tif\"))) # FoxA2, nuclei\n",
    "C2 = imread(os.path.join(imageDir, str(fileName + \"_C2.tif\"))) # FoxA2-KO genotype Scarlet, nuclei\n",
    "C3 = imread(os.path.join(imageDir, str(fileName + \"_C3.tif\"))) # Pax6-KO genotype\n",
    "C4 = imread(os.path.join(imageDir, str(fileName + \"_C4.tif\"))) # Pax6 or other markers\n",
    "\n",
    "print(np.quantile(C1, 0.95), np.quantile(C4, 0.95))\n",
    "C1 = C1 / np.quantile(C1, 0.95)\n",
    "C2 = C2 / np.quantile(C2, 0.95)\n",
    "C3 = C3 / np.quantile(C3, 0.95)\n",
    "C4 = C4 / np.quantile(C4, 0.95)\n",
    "\n",
    "C4 = C4[np.where(C4 < 3)]\n",
    "                \n",
    "cutoff_foxa2 = filters.threshold_multiotsu(C1, classes=4, nbins= 512)\n",
    "cutoff_pax6 = filters.threshold_multiotsu(C4, classes=3, nbins = 512)\n",
    "cutoff_shh = filters.threshold_multiotsu(C4, classes=4, nbins = 512)\n",
    "print(cutoff_foxa2, cutoff_pax6, cutoff_shh)\n",
    "\n",
    "fig, axes = plt.subplots(ncols=2, figsize=(12, 5))\n",
    "ax = axes.ravel()\n",
    "\n",
    "ax[0].hist(C1.ravel(), bins=1000)\n",
    "ax[0].set_xlim([0, 4])\n",
    "ax[0].axvline(cutoff_foxa2[0], color='r')\n",
    "ax[0].axvline(cutoff_foxa2[1], color='r')\n",
    "ax[0].axvline(cutoff_foxa2[2], color='r')\n",
    "\n",
    "ax[1].hist(C4.ravel(), bins=512)\n",
    "#ax[1].set_xlim([0, 2.5])\n",
    "ax[1].axvline(cutoff_pax6[0], color='r')\n",
    "ax[1].axvline(cutoff_pax6[1], color='r')\n",
    "ax[1].axvline(cutoff_shh[0], color='b')\n",
    "ax[1].axvline(cutoff_shh[1], color='b')\n",
    "ax[1].axvline(cutoff_shh[2], color='b')\n",
    "#ax[1].axvline(cutoff_shh[3], color='b')"
   ]
  },
  {
   "cell_type": "code",
   "execution_count": 65,
   "id": "4b6791cd-b184-4d15-ac7e-0f5bc8ef6295",
   "metadata": {},
   "outputs": [
    {
     "data": {
      "text/plain": [
       "1.202127659574468"
      ]
     },
     "execution_count": 65,
     "metadata": {},
     "output_type": "execute_result"
    }
   ],
   "source": [
    "226/188"
   ]
  },
  {
   "cell_type": "code",
   "execution_count": 29,
   "id": "ad673d16-1009-42d9-a939-c53e7bc6a4a1",
   "metadata": {},
   "outputs": [
    {
     "data": {
      "text/plain": [
       "array([0.01794872, 0.01923077, 0.01923077, ..., 0.02307692, 0.02051282,\n",
       "       0.01794872])"
      ]
     },
     "execution_count": 29,
     "metadata": {},
     "output_type": "execute_result"
    }
   ],
   "source": [
    "C1.ravel()"
   ]
  },
  {
   "cell_type": "code",
   "execution_count": 35,
   "id": "e012b2c4-ab6d-494f-b47a-a4fadb7f8a02",
   "metadata": {},
   "outputs": [
    {
     "name": "stdout",
     "output_type": "stream",
     "text": [
      "[0.37514453 0.82291797] [0.48261407 1.66061856]\n"
     ]
    },
    {
     "data": {
      "text/plain": [
       "<matplotlib.lines.Line2D at 0x2b97b66a1e20>"
      ]
     },
     "execution_count": 35,
     "metadata": {},
     "output_type": "execute_result"
    },
    {
     "data": {
      "image/png": "[encoded data removed]",
      "text/plain": [
       "<Figure size 1200x500 with 2 Axes>"
      ]
     },
     "metadata": {},
     "output_type": "display_data"
    }
   ],
   "source": [
    "fileName = \"241010_10x_d6-Nk22-Shh_iF-iP_dox_D7_25_01_isotropic\"\n",
    "\n",
    "mask = imread(os.path.join(imageDir, str(fileName + \"_C5_CystMask.tiff\"))) # mask segmeted cysts\n",
    "C1 = imread(os.path.join(imageDir, str(fileName + \"_C1.tif\"))) # FoxA2, nuclei\n",
    "C2 = imread(os.path.join(imageDir, str(fileName + \"_C2.tif\"))) # FoxA2-KO genotype Scarlet, nuclei\n",
    "C3 = imread(os.path.join(imageDir, str(fileName + \"_C3.tif\"))) # Pax6-KO genotype\n",
    "C4 = imread(os.path.join(imageDir, str(fileName + \"_C4.tif\"))) # Pax6 or other markers\n",
    "\n",
    "C1 = C1 / np.quantile(C1, 0.95)\n",
    "C2 = C2 / np.quantile(C2, 0.95)\n",
    "C3 = C3 / np.quantile(C3, 0.95)\n",
    "C4 = C4 / np.quantile(C4, 0.95)\n",
    "\n",
    "cutoff_foxa2 = filters.threshold_multiotsu(C1, classes=3, nbins= 512)\n",
    "cutoff_pax6 = filters.threshold_multiotsu(C4, classes=3, nbins = 512)\n",
    "print(cutoff_foxa2, cutoff_pax6)\n",
    "\n",
    "fig, axes = plt.subplots(ncols=2, figsize=(12, 5))\n",
    "ax = axes.ravel()\n",
    "\n",
    "ax[0].hist(C1.ravel(), bins=1000)\n",
    "ax[0].set_xlim([0, 4])\n",
    "ax[0].axvline(cutoff_foxa2[0], color='r')\n",
    "ax[0].axvline(cutoff_foxa2[1], color='r')\n",
    "#ax[0].axvline(cutoff_foxa2[2], color='r')\n",
    "\n",
    "ax[1].hist(C4.ravel(), bins=500)\n",
    "ax[1].set_xlim([0, 4.0])\n",
    "ax[1].axvline(cutoff_pax6[0], color='r')\n",
    "ax[1].axvline(cutoff_pax6[1], color='r')"
   ]
  },
  {
   "cell_type": "code",
   "execution_count": 36,
   "id": "1dee824c-bf09-4f5e-ba0c-7e4629689092",
   "metadata": {},
   "outputs": [
    {
     "data": {
      "text/plain": [
       "array([0., 1., 2.])"
      ]
     },
     "execution_count": 36,
     "metadata": {},
     "output_type": "execute_result"
    }
   ],
   "source": [
    "nkx = []\n",
    "nkx = np.append(nkx, [0, 1, 2])\n",
    "nkx"
   ]
  },
  {
   "cell_type": "code",
   "execution_count": null,
   "id": "01fd9543-fdba-4cae-a243-1e48571bd3a4",
   "metadata": {},
   "outputs": [],
   "source": [
    "## Test the multiotsu parameters and try to find the optimal"
   ]
  },
  {
   "cell_type": "code",
   "execution_count": 75,
   "id": "5b607086-751b-4246-926f-1b52c4b140b1",
   "metadata": {},
   "outputs": [
    {
     "data": {
      "text/html": [
       "<div>\n",
       "<style scoped>\n",
       "    .dataframe tbody tr th:only-of-type {\n",
       "        vertical-align: middle;\n",
       "    }\n",
       "\n",
       "    .dataframe tbody tr th {\n",
       "        vertical-align: top;\n",
       "    }\n",
       "\n",
       "    .dataframe thead th {\n",
       "        text-align: right;\n",
       "    }\n",
       "</style>\n",
       "<table border=\"1\" class=\"dataframe\">\n",
       "  <thead>\n",
       "    <tr style=\"text-align: right;\">\n",
       "      <th></th>\n",
       "      <th>image</th>\n",
       "      <th>cutoff_nkx_mutliotsu3_1</th>\n",
       "      <th>cutoff_nkx_mutliotsu3_2</th>\n",
       "      <th>cutoff_nkx_mutliotsu4_1</th>\n",
       "      <th>cutoff_nkx_mutliotsu4_2</th>\n",
       "      <th>cutoff_nkx_mutliotsu4_3</th>\n",
       "      <th>cutoff_shh_mutliotsu3_1</th>\n",
       "      <th>cutoff_shh_mutliotsu3_2</th>\n",
       "      <th>cutoff_shh_mutliotsu4_1</th>\n",
       "      <th>cutoff_shh_mutliotsu4_2</th>\n",
       "      <th>cutoff_shh_mutliotsu4_3</th>\n",
       "    </tr>\n",
       "  </thead>\n",
       "  <tbody>\n",
       "  </tbody>\n",
       "</table>\n",
       "</div>"
      ],
      "text/plain": [
       "Empty DataFrame\n",
       "Columns: [image, cutoff_nkx_mutliotsu3_1, cutoff_nkx_mutliotsu3_2, cutoff_nkx_mutliotsu4_1, cutoff_nkx_mutliotsu4_2, cutoff_nkx_mutliotsu4_3, cutoff_shh_mutliotsu3_1, cutoff_shh_mutliotsu3_2, cutoff_shh_mutliotsu4_1, cutoff_shh_mutliotsu4_2, cutoff_shh_mutliotsu4_3]\n",
       "Index: []"
      ]
     },
     "execution_count": 75,
     "metadata": {},
     "output_type": "execute_result"
    }
   ],
   "source": [
    "data = {\"image\": [], \n",
    "        \"cutoff_nkx_mutliotsu3_1\":[], \"cutoff_nkx_mutliotsu3_2\":[],\n",
    "        \"cutoff_nkx_mutliotsu4_1\":[], \"cutoff_nkx_mutliotsu4_2\":[],\"cutoff_nkx_mutliotsu4_3\":[],\n",
    "        \"cutoff_shh_mutliotsu3_1\":[], \"cutoff_shh_mutliotsu3_2\":[],\n",
    "        \"cutoff_shh_mutliotsu4_1\":[], \"cutoff_shh_mutliotsu4_2\":[],\"cutoff_shh_mutliotsu4_3\":[]\n",
    "       }\n",
    "df = pd.DataFrame(data)\n",
    "df"
   ]
  },
  {
   "cell_type": "code",
   "execution_count": null,
   "id": "9131ad62-c7d8-48b3-8a56-2bdecebeac16",
   "metadata": {},
   "outputs": [],
   "source": []
  },
  {
   "cell_type": "code",
   "execution_count": 69,
   "id": "f72b691f-29ad-4e3f-bacb-c66fd3060045",
   "metadata": {},
   "outputs": [
    {
     "data": {
      "text/html": [
       "<div>\n",
       "<style scoped>\n",
       "    .dataframe tbody tr th:only-of-type {\n",
       "        vertical-align: middle;\n",
       "    }\n",
       "\n",
       "    .dataframe tbody tr th {\n",
       "        vertical-align: top;\n",
       "    }\n",
       "\n",
       "    .dataframe thead th {\n",
       "        text-align: right;\n",
       "    }\n",
       "</style>\n",
       "<table border=\"1\" class=\"dataframe\">\n",
       "  <thead>\n",
       "    <tr style=\"text-align: right;\">\n",
       "      <th></th>\n",
       "      <th>image</th>\n",
       "      <th>cutoff_nkx_mutliotsu3_1</th>\n",
       "      <th>cutoff_nkx_mutliotsu3_2</th>\n",
       "      <th>cutoff_nkx_mutliotsu4_1</th>\n",
       "      <th>cutoff_nkx_mutliotsu4_2</th>\n",
       "      <th>cutoff_nkx_mutliotsu4_3</th>\n",
       "      <th>cutoff_shh_mutliotsu3_1</th>\n",
       "      <th>cutoff_shh_mutliotsu3_2</th>\n",
       "      <th>cutoff_shh_mutliotsu4_1</th>\n",
       "      <th>cutoff_shh_mutliotsu4_2</th>\n",
       "      <th>cutoff_shh_mutliotsu4_3</th>\n",
       "    </tr>\n",
       "  </thead>\n",
       "  <tbody>\n",
       "    <tr>\n",
       "      <th>0</th>\n",
       "      <td>241010_10x_d6-Nk22-Shh_iF-iP_RA_D4_13_01_isotr...</td>\n",
       "      <td>0.5648671595483006</td>\n",
       "      <td>38.17849431182916</td>\n",
       "      <td>0.33963585923524153</td>\n",
       "      <td>1.0153297601744187</td>\n",
       "      <td>38.17849431182916</td>\n",
       "      <td>0.4782455119680851</td>\n",
       "      <td>1.295649102393617</td>\n",
       "      <td>0.2914104055851064</td>\n",
       "      <td>0.7234665890957448</td>\n",
       "      <td>1.494161402925532</td>\n",
       "    </tr>\n",
       "    <tr>\n",
       "      <th>1</th>\n",
       "      <td>241010_10x_d6-Nk22-Shh_iF-iP_RA_D5_19_01_isotr...</td>\n",
       "      <td>0.35585450956405695</td>\n",
       "      <td>1.060446090969751</td>\n",
       "      <td>0.28224046374555156</td>\n",
       "      <td>0.6818595696174377</td>\n",
       "      <td>1.3654185665035588</td>\n",
       "      <td>0.44762352748691103</td>\n",
       "      <td>1.2286690117801045</td>\n",
       "      <td>0.29607738874345546</td>\n",
       "      <td>0.7157436191099477</td>\n",
       "      <td>1.4501595222513086</td>\n",
       "    </tr>\n",
       "    <tr>\n",
       "      <th>2</th>\n",
       "      <td>241010_10x_d6-Nk22-Shh_iF-iP_RA_D4_16_01_isotr...</td>\n",
       "      <td>0.29772393023081534</td>\n",
       "      <td>0.8582778308603116</td>\n",
       "      <td>0.24898011278477214</td>\n",
       "      <td>0.6064347740557553</td>\n",
       "      <td>1.1751126442595923</td>\n",
       "      <td>0.44584880891393447</td>\n",
       "      <td>1.2861408171106556</td>\n",
       "      <td>0.294129418545082</td>\n",
       "      <td>0.6909339779713115</td>\n",
       "      <td>1.4495309298155736</td>\n",
       "    </tr>\n",
       "    <tr>\n",
       "      <th>3</th>\n",
       "      <td>241010_10x_d6-Nk22-Shh_iF-iP_RA_D5_17_01_isotr...</td>\n",
       "      <td>0.41380972125232773</td>\n",
       "      <td>1.0729257594273744</td>\n",
       "      <td>0.2490307117085661</td>\n",
       "      <td>0.5785887307960894</td>\n",
       "      <td>1.237704768971136</td>\n",
       "      <td>0.4551674107142857</td>\n",
       "      <td>1.213984375</td>\n",
       "      <td>0.29172991071428567</td>\n",
       "      <td>0.7119977678571427</td>\n",
       "      <td>1.4474665178571429</td>\n",
       "    </tr>\n",
       "    <tr>\n",
       "      <th>4</th>\n",
       "      <td>241010_10x_d6-Nk22-Shh_iF-iP_RA_D4_15_01_isotr...</td>\n",
       "      <td>0.3107722355769231</td>\n",
       "      <td>0.9520482772435896</td>\n",
       "      <td>0.2515775240384615</td>\n",
       "      <td>0.6462089342948718</td>\n",
       "      <td>1.2973507612179487</td>\n",
       "      <td>0.4344822961373391</td>\n",
       "      <td>1.2162687768240343</td>\n",
       "      <td>0.28279238197424894</td>\n",
       "      <td>0.7145252145922746</td>\n",
       "      <td>1.4729747854077253</td>\n",
       "    </tr>\n",
       "    <tr>\n",
       "      <th>5</th>\n",
       "      <td>241010_10x_d6-Nk22-Shh_iF-iP_RA_D4_14_01_isotr...</td>\n",
       "      <td>0.33121908723021576</td>\n",
       "      <td>0.889132756294964</td>\n",
       "      <td>0.2614798785971223</td>\n",
       "      <td>0.5840237185251799</td>\n",
       "      <td>1.0983503821942446</td>\n",
       "      <td>0.42352265995260663</td>\n",
       "      <td>1.053336048578199</td>\n",
       "      <td>0.30689055094786727</td>\n",
       "      <td>0.715102932464455</td>\n",
       "      <td>1.4032323755924172</td>\n",
       "    </tr>\n",
       "    <tr>\n",
       "      <th>6</th>\n",
       "      <td>241010_10x_d6-Nk22-Shh_iF-iP_RA_D5_18_01_isotr...</td>\n",
       "      <td>0.6186435722305389</td>\n",
       "      <td>76.06279823166167</td>\n",
       "      <td>0.4435991298652694</td>\n",
       "      <td>1.143776899326347</td>\n",
       "      <td>76.06279823166167</td>\n",
       "      <td>0.44313557942708326</td>\n",
       "      <td>1.2255655924479165</td>\n",
       "      <td>0.31467692057291663</td>\n",
       "      <td>0.74676513671875</td>\n",
       "      <td>1.4708048502604165</td>\n",
       "    </tr>\n",
       "    <tr>\n",
       "      <th>7</th>\n",
       "      <td>241010_10x_d6-Nk22-Shh_iF-iP_RA_D5_20_01_isotr...</td>\n",
       "      <td>0.30697828864777627</td>\n",
       "      <td>0.9481188912302727</td>\n",
       "      <td>0.2568891790710187</td>\n",
       "      <td>0.637566411854376</td>\n",
       "      <td>1.2887248363522241</td>\n",
       "      <td>0.43113839285714284</td>\n",
       "      <td>1.2138020833333334</td>\n",
       "      <td>0.2909598214285714</td>\n",
       "      <td>0.7114955357142858</td>\n",
       "      <td>1.4474330357142857</td>\n",
       "    </tr>\n",
       "    <tr>\n",
       "      <th>8</th>\n",
       "      <td>241010_10x_d6-Nk22-Shh_iF-iP_RA_D6_21_01_isotr...</td>\n",
       "      <td>0.540491937183811</td>\n",
       "      <td>43.64493966062395</td>\n",
       "      <td>0.32496969856661045</td>\n",
       "      <td>0.9715364144182124</td>\n",
       "      <td>43.64493966062395</td>\n",
       "      <td>0.4594103224734043</td>\n",
       "      <td>1.310328706781915</td>\n",
       "      <td>0.2845640791223405</td>\n",
       "      <td>0.7041950631648937</td>\n",
       "      <td>1.4735185339095747</td>\n",
       "    </tr>\n",
       "    <tr>\n",
       "      <th>9</th>\n",
       "      <td>241010_10x_d6-Nk22-Shh_iF-iP_RA_D6_22_01_isotr...</td>\n",
       "      <td>0.30599068866723256</td>\n",
       "      <td>0.8218146487691003</td>\n",
       "      <td>0.30599068866723256</td>\n",
       "      <td>0.6498733287351444</td>\n",
       "      <td>1.1656972888370118</td>\n",
       "      <td>0.4252786915204678</td>\n",
       "      <td>1.0077896564327484</td>\n",
       "      <td>0.2971262792397661</td>\n",
       "      <td>0.6815835160818713</td>\n",
       "      <td>1.2757447002923976</td>\n",
       "    </tr>\n",
       "    <tr>\n",
       "      <th>10</th>\n",
       "      <td>241010_10x_d6-Nk22-Shh_iF-iP_RA_D6_23_01_isotr...</td>\n",
       "      <td>0.4185495250550661</td>\n",
       "      <td>1.0835297930433185</td>\n",
       "      <td>0.4185495250550661</td>\n",
       "      <td>1.0835297930433185</td>\n",
       "      <td>71.40519313280103</td>\n",
       "      <td>0.4471405480295566</td>\n",
       "      <td>1.170123922413793</td>\n",
       "      <td>0.3072082820197044</td>\n",
       "      <td>0.727005080049261</td>\n",
       "      <td>1.4150053879310343</td>\n",
       "    </tr>\n",
       "    <tr>\n",
       "      <th>11</th>\n",
       "      <td>241010_10x_d6-Nk22-Shh_iF-iP_RA_D6_24_01_isotr...</td>\n",
       "      <td>0.3240782271984012</td>\n",
       "      <td>0.9576997978742732</td>\n",
       "      <td>0.27038148392078487</td>\n",
       "      <td>0.6462586868640987</td>\n",
       "      <td>1.2584015602289242</td>\n",
       "      <td>0.4346606552863437</td>\n",
       "      <td>1.26302656938326</td>\n",
       "      <td>0.29465514867841414</td>\n",
       "      <td>0.7263387940528634</td>\n",
       "      <td>1.4847019548458151</td>\n",
       "    </tr>\n",
       "    <tr>\n",
       "      <th>12</th>\n",
       "      <td>241010_10x_d6-Nk22-Shh_iF-iP_dox_D7_25_01_isot...</td>\n",
       "      <td>0.37514453125</td>\n",
       "      <td>0.82291796875</td>\n",
       "      <td>0.37514453125</td>\n",
       "      <td>0.82291796875</td>\n",
       "      <td>57.54088671875</td>\n",
       "      <td>0.4432139295212766</td>\n",
       "      <td>1.2722947140957446</td>\n",
       "      <td>0.30308759973404253</td>\n",
       "      <td>0.7001122007978724</td>\n",
       "      <td>1.4474526263297873</td>\n",
       "    </tr>\n",
       "    <tr>\n",
       "      <th>13</th>\n",
       "      <td>241010_10x_d6-Nk22-Shh_iF-iP_dox_D7_26_01_isot...</td>\n",
       "      <td>0.6125130753138075</td>\n",
       "      <td>24.945672071129707</td>\n",
       "      <td>0.36918148535564854</td>\n",
       "      <td>0.8558446652719665</td>\n",
       "      <td>24.945672071129707</td>\n",
       "      <td>0.4371491392215569</td>\n",
       "      <td>1.147712387724551</td>\n",
       "      <td>0.29736620508982037</td>\n",
       "      <td>0.6817692739520959</td>\n",
       "      <td>1.4039811002994014</td>\n",
       "    </tr>\n",
       "    <tr>\n",
       "      <th>14</th>\n",
       "      <td>241010_10x_d6-Nk22-Shh_iF-iP_dox_D7_27_01_isot...</td>\n",
       "      <td>0.3131318933823529</td>\n",
       "      <td>0.8519390829248366</td>\n",
       "      <td>0.26261871936274506</td>\n",
       "      <td>0.5993732128267973</td>\n",
       "      <td>1.0708295036764706</td>\n",
       "      <td>0.4237048695388349</td>\n",
       "      <td>1.2050496814320388</td>\n",
       "      <td>0.30708624089805825</td>\n",
       "      <td>0.7269133040048543</td>\n",
       "      <td>1.4499488015776698</td>\n",
       "    </tr>\n",
       "    <tr>\n",
       "      <th>15</th>\n",
       "      <td>241010_10x_d6-Nk22-Shh_iF-iP_dox_D7_28_01_isot...</td>\n",
       "      <td>0.3263792720526756</td>\n",
       "      <td>0.8473378057065217</td>\n",
       "      <td>0.283560762437291</td>\n",
       "      <td>0.6403816758988294</td>\n",
       "      <td>1.1399309547449834</td>\n",
       "      <td>0.42418049291237114</td>\n",
       "      <td>1.1236811372422681</td>\n",
       "      <td>0.2959387081185567</td>\n",
       "      <td>0.7039807506443299</td>\n",
       "      <td>1.4384564271907216</td>\n",
       "    </tr>\n",
       "    <tr>\n",
       "      <th>16</th>\n",
       "      <td>241010_10x_d6-Nk22-Shh_iF-iP_dox_D8_29_01_isot...</td>\n",
       "      <td>0.3337178667153996</td>\n",
       "      <td>0.8830980445906432</td>\n",
       "      <td>0.26236979166666663</td>\n",
       "      <td>0.5905709368908382</td>\n",
       "      <td>1.0543334247076024</td>\n",
       "      <td>0.4716242009943181</td>\n",
       "      <td>1.2989280007102275</td>\n",
       "      <td>0.3084938742897727</td>\n",
       "      <td>0.7396240234375</td>\n",
       "      <td>1.5203191583806819</td>\n",
       "    </tr>\n",
       "    <tr>\n",
       "      <th>17</th>\n",
       "      <td>241010_10x_d6-Nk22-Shh_iF-iP_dox_D8_30_01_isot...</td>\n",
       "      <td>0.344138671875</td>\n",
       "      <td>0.824021484375</td>\n",
       "      <td>0.27304492187499996</td>\n",
       "      <td>0.592966796875</td>\n",
       "      <td>1.010642578125</td>\n",
       "      <td>0.44831986860795453</td>\n",
       "      <td>1.1707541725852275</td>\n",
       "      <td>0.28518954190340906</td>\n",
       "      <td>0.6580588600852273</td>\n",
       "      <td>1.3455366654829546</td>\n",
       "    </tr>\n",
       "    <tr>\n",
       "      <th>18</th>\n",
       "      <td>241010_10x_d6-Nk22-Shh_iF-iP_dox_D8_31_01_isot...</td>\n",
       "      <td>0.37752453512396694</td>\n",
       "      <td>0.828570506198347</td>\n",
       "      <td>0.37752453512396694</td>\n",
       "      <td>0.828570506198347</td>\n",
       "      <td>63.373611828512395</td>\n",
       "      <td>0.4474559294871795</td>\n",
       "      <td>1.2635616987179488</td>\n",
       "      <td>0.30755208333333334</td>\n",
       "      <td>0.715604967948718</td>\n",
       "      <td>1.473417467948718</td>\n",
       "    </tr>\n",
       "    <tr>\n",
       "      <th>19</th>\n",
       "      <td>241010_10x_d6-Nk22-Shh_iF-iP_dox_D8_32_01_isot...</td>\n",
       "      <td>0.3486471211080586</td>\n",
       "      <td>0.8753970638736264</td>\n",
       "      <td>0.28929501488095233</td>\n",
       "      <td>0.6157315991300366</td>\n",
       "      <td>1.0831294356684982</td>\n",
       "      <td>0.436279296875</td>\n",
       "      <td>1.1588930876358696</td>\n",
       "      <td>0.30807362432065216</td>\n",
       "      <td>0.704345703125</td>\n",
       "      <td>1.4386145550271738</td>\n",
       "    </tr>\n",
       "    <tr>\n",
       "      <th>20</th>\n",
       "      <td>241010_10x_d6-Nk22-Shh_iF-iP_dox_D9_33_01_isot...</td>\n",
       "      <td>0.63059375</td>\n",
       "      <td>27.534406249999996</td>\n",
       "      <td>0.37915625</td>\n",
       "      <td>0.8820312499999999</td>\n",
       "      <td>31.054531249999997</td>\n",
       "      <td>0.4321469907407407</td>\n",
       "      <td>1.039014274691358</td>\n",
       "      <td>0.30377121913580246</td>\n",
       "      <td>0.7122395833333334</td>\n",
       "      <td>1.4241415895061729</td>\n",
       "    </tr>\n",
       "    <tr>\n",
       "      <th>21</th>\n",
       "      <td>241010_10x_d6-Nk22-Shh_iF-iP_dox_D9_34_01_isot...</td>\n",
       "      <td>0.32264257812499997</td>\n",
       "      <td>0.832470703125</td>\n",
       "      <td>0.32264257812499997</td>\n",
       "      <td>0.5775566406249999</td>\n",
       "      <td>1.087384765625</td>\n",
       "      <td>0.43637319711538464</td>\n",
       "      <td>1.2288697630494505</td>\n",
       "      <td>0.3081752232142857</td>\n",
       "      <td>0.7044235061813187</td>\n",
       "      <td>1.4619569883241759</td>\n",
       "    </tr>\n",
       "    <tr>\n",
       "      <th>22</th>\n",
       "      <td>241010_10x_d6-Nk22-Shh_iF-iP_dox_D9_35_01_isot...</td>\n",
       "      <td>0.322476222826087</td>\n",
       "      <td>1.0152683423913045</td>\n",
       "      <td>0.2711582880434783</td>\n",
       "      <td>0.6560427989130435</td>\n",
       "      <td>1.2633050271739132</td>\n",
       "      <td>0.42409717793367346</td>\n",
       "      <td>1.1702706473214284</td>\n",
       "      <td>0.30750757334183676</td>\n",
       "      <td>0.7738659917091837</td>\n",
       "      <td>1.5200394610969385</td>\n",
       "    </tr>\n",
       "    <tr>\n",
       "      <th>23</th>\n",
       "      <td>241010_10x_d6-Nk22-Shh_iF-iP_dox_D9_36_01_isot...</td>\n",
       "      <td>0.31586442563420625</td>\n",
       "      <td>0.8932510101268412</td>\n",
       "      <td>0.2615221588584288</td>\n",
       "      <td>0.6079541095540097</td>\n",
       "      <td>1.1174128605769231</td>\n",
       "      <td>0.4229935297356828</td>\n",
       "      <td>1.2396923182819384</td>\n",
       "      <td>0.2829880231277533</td>\n",
       "      <td>0.7030045429515419</td>\n",
       "      <td>1.4730348292951545</td>\n",
       "    </tr>\n",
       "  </tbody>\n",
       "</table>\n",
       "</div>"
      ],
      "text/plain": [
       "                                                image cutoff_nkx_mutliotsu3_1  \\\n",
       "0   241010_10x_d6-Nk22-Shh_iF-iP_RA_D4_13_01_isotr...      0.5648671595483006   \n",
       "1   241010_10x_d6-Nk22-Shh_iF-iP_RA_D5_19_01_isotr...     0.35585450956405695   \n",
       "2   241010_10x_d6-Nk22-Shh_iF-iP_RA_D4_16_01_isotr...     0.29772393023081534   \n",
       "3   241010_10x_d6-Nk22-Shh_iF-iP_RA_D5_17_01_isotr...     0.41380972125232773   \n",
       "4   241010_10x_d6-Nk22-Shh_iF-iP_RA_D4_15_01_isotr...      0.3107722355769231   \n",
       "5   241010_10x_d6-Nk22-Shh_iF-iP_RA_D4_14_01_isotr...     0.33121908723021576   \n",
       "6   241010_10x_d6-Nk22-Shh_iF-iP_RA_D5_18_01_isotr...      0.6186435722305389   \n",
       "7   241010_10x_d6-Nk22-Shh_iF-iP_RA_D5_20_01_isotr...     0.30697828864777627   \n",
       "8   241010_10x_d6-Nk22-Shh_iF-iP_RA_D6_21_01_isotr...       0.540491937183811   \n",
       "9   241010_10x_d6-Nk22-Shh_iF-iP_RA_D6_22_01_isotr...     0.30599068866723256   \n",
       "10  241010_10x_d6-Nk22-Shh_iF-iP_RA_D6_23_01_isotr...      0.4185495250550661   \n",
       "11  241010_10x_d6-Nk22-Shh_iF-iP_RA_D6_24_01_isotr...      0.3240782271984012   \n",
       "12  241010_10x_d6-Nk22-Shh_iF-iP_dox_D7_25_01_isot...           0.37514453125   \n",
       "13  241010_10x_d6-Nk22-Shh_iF-iP_dox_D7_26_01_isot...      0.6125130753138075   \n",
       "14  241010_10x_d6-Nk22-Shh_iF-iP_dox_D7_27_01_isot...      0.3131318933823529   \n",
       "15  241010_10x_d6-Nk22-Shh_iF-iP_dox_D7_28_01_isot...      0.3263792720526756   \n",
       "16  241010_10x_d6-Nk22-Shh_iF-iP_dox_D8_29_01_isot...      0.3337178667153996   \n",
       "17  241010_10x_d6-Nk22-Shh_iF-iP_dox_D8_30_01_isot...          0.344138671875   \n",
       "18  241010_10x_d6-Nk22-Shh_iF-iP_dox_D8_31_01_isot...     0.37752453512396694   \n",
       "19  241010_10x_d6-Nk22-Shh_iF-iP_dox_D8_32_01_isot...      0.3486471211080586   \n",
       "20  241010_10x_d6-Nk22-Shh_iF-iP_dox_D9_33_01_isot...              0.63059375   \n",
       "21  241010_10x_d6-Nk22-Shh_iF-iP_dox_D9_34_01_isot...     0.32264257812499997   \n",
       "22  241010_10x_d6-Nk22-Shh_iF-iP_dox_D9_35_01_isot...       0.322476222826087   \n",
       "23  241010_10x_d6-Nk22-Shh_iF-iP_dox_D9_36_01_isot...     0.31586442563420625   \n",
       "\n",
       "   cutoff_nkx_mutliotsu3_2 cutoff_nkx_mutliotsu4_1 cutoff_nkx_mutliotsu4_2  \\\n",
       "0        38.17849431182916     0.33963585923524153      1.0153297601744187   \n",
       "1        1.060446090969751     0.28224046374555156      0.6818595696174377   \n",
       "2       0.8582778308603116     0.24898011278477214      0.6064347740557553   \n",
       "3       1.0729257594273744      0.2490307117085661      0.5785887307960894   \n",
       "4       0.9520482772435896      0.2515775240384615      0.6462089342948718   \n",
       "5        0.889132756294964      0.2614798785971223      0.5840237185251799   \n",
       "6        76.06279823166167      0.4435991298652694       1.143776899326347   \n",
       "7       0.9481188912302727      0.2568891790710187       0.637566411854376   \n",
       "8        43.64493966062395     0.32496969856661045      0.9715364144182124   \n",
       "9       0.8218146487691003     0.30599068866723256      0.6498733287351444   \n",
       "10      1.0835297930433185      0.4185495250550661      1.0835297930433185   \n",
       "11      0.9576997978742732     0.27038148392078487      0.6462586868640987   \n",
       "12           0.82291796875           0.37514453125           0.82291796875   \n",
       "13      24.945672071129707     0.36918148535564854      0.8558446652719665   \n",
       "14      0.8519390829248366     0.26261871936274506      0.5993732128267973   \n",
       "15      0.8473378057065217       0.283560762437291      0.6403816758988294   \n",
       "16      0.8830980445906432     0.26236979166666663      0.5905709368908382   \n",
       "17          0.824021484375     0.27304492187499996          0.592966796875   \n",
       "18       0.828570506198347     0.37752453512396694       0.828570506198347   \n",
       "19      0.8753970638736264     0.28929501488095233      0.6157315991300366   \n",
       "20      27.534406249999996              0.37915625      0.8820312499999999   \n",
       "21          0.832470703125     0.32264257812499997      0.5775566406249999   \n",
       "22      1.0152683423913045      0.2711582880434783      0.6560427989130435   \n",
       "23      0.8932510101268412      0.2615221588584288      0.6079541095540097   \n",
       "\n",
       "   cutoff_nkx_mutliotsu4_3 cutoff_shh_mutliotsu3_1 cutoff_shh_mutliotsu3_2  \\\n",
       "0        38.17849431182916      0.4782455119680851       1.295649102393617   \n",
       "1       1.3654185665035588     0.44762352748691103      1.2286690117801045   \n",
       "2       1.1751126442595923     0.44584880891393447      1.2861408171106556   \n",
       "3        1.237704768971136      0.4551674107142857             1.213984375   \n",
       "4       1.2973507612179487      0.4344822961373391      1.2162687768240343   \n",
       "5       1.0983503821942446     0.42352265995260663       1.053336048578199   \n",
       "6        76.06279823166167     0.44313557942708326      1.2255655924479165   \n",
       "7       1.2887248363522241     0.43113839285714284      1.2138020833333334   \n",
       "8        43.64493966062395      0.4594103224734043       1.310328706781915   \n",
       "9       1.1656972888370118      0.4252786915204678      1.0077896564327484   \n",
       "10       71.40519313280103      0.4471405480295566       1.170123922413793   \n",
       "11      1.2584015602289242      0.4346606552863437        1.26302656938326   \n",
       "12          57.54088671875      0.4432139295212766      1.2722947140957446   \n",
       "13      24.945672071129707      0.4371491392215569       1.147712387724551   \n",
       "14      1.0708295036764706      0.4237048695388349      1.2050496814320388   \n",
       "15      1.1399309547449834     0.42418049291237114      1.1236811372422681   \n",
       "16      1.0543334247076024      0.4716242009943181      1.2989280007102275   \n",
       "17          1.010642578125     0.44831986860795453      1.1707541725852275   \n",
       "18      63.373611828512395      0.4474559294871795      1.2635616987179488   \n",
       "19      1.0831294356684982          0.436279296875      1.1588930876358696   \n",
       "20      31.054531249999997      0.4321469907407407       1.039014274691358   \n",
       "21          1.087384765625     0.43637319711538464      1.2288697630494505   \n",
       "22      1.2633050271739132     0.42409717793367346      1.1702706473214284   \n",
       "23      1.1174128605769231      0.4229935297356828      1.2396923182819384   \n",
       "\n",
       "   cutoff_shh_mutliotsu4_1 cutoff_shh_mutliotsu4_2 cutoff_shh_mutliotsu4_3  \n",
       "0       0.2914104055851064      0.7234665890957448       1.494161402925532  \n",
       "1      0.29607738874345546      0.7157436191099477      1.4501595222513086  \n",
       "2        0.294129418545082      0.6909339779713115      1.4495309298155736  \n",
       "3      0.29172991071428567      0.7119977678571427      1.4474665178571429  \n",
       "4      0.28279238197424894      0.7145252145922746      1.4729747854077253  \n",
       "5      0.30689055094786727       0.715102932464455      1.4032323755924172  \n",
       "6      0.31467692057291663        0.74676513671875      1.4708048502604165  \n",
       "7       0.2909598214285714      0.7114955357142858      1.4474330357142857  \n",
       "8       0.2845640791223405      0.7041950631648937      1.4735185339095747  \n",
       "9       0.2971262792397661      0.6815835160818713      1.2757447002923976  \n",
       "10      0.3072082820197044       0.727005080049261      1.4150053879310343  \n",
       "11     0.29465514867841414      0.7263387940528634      1.4847019548458151  \n",
       "12     0.30308759973404253      0.7001122007978724      1.4474526263297873  \n",
       "13     0.29736620508982037      0.6817692739520959      1.4039811002994014  \n",
       "14     0.30708624089805825      0.7269133040048543      1.4499488015776698  \n",
       "15      0.2959387081185567      0.7039807506443299      1.4384564271907216  \n",
       "16      0.3084938742897727         0.7396240234375      1.5203191583806819  \n",
       "17     0.28518954190340906      0.6580588600852273      1.3455366654829546  \n",
       "18     0.30755208333333334       0.715604967948718       1.473417467948718  \n",
       "19     0.30807362432065216          0.704345703125      1.4386145550271738  \n",
       "20     0.30377121913580246      0.7122395833333334      1.4241415895061729  \n",
       "21      0.3081752232142857      0.7044235061813187      1.4619569883241759  \n",
       "22     0.30750757334183676      0.7738659917091837      1.5200394610969385  \n",
       "23      0.2829880231277533      0.7030045429515419      1.4730348292951545  "
      ]
     },
     "execution_count": 69,
     "metadata": {},
     "output_type": "execute_result"
    }
   ],
   "source": [
    "df"
   ]
  },
  {
   "cell_type": "code",
   "execution_count": 70,
   "id": "cd71b8ff-7e5b-4797-8826-c22a850b9fa9",
   "metadata": {},
   "outputs": [],
   "source": [
    "df.to_csv(os.path.join(outDir, \"image_gloablThresholds_multiotsu_Nkx_ShhfilteringLargeValues.csv\"), index=True, header=True)"
   ]
  },
  {
   "cell_type": "code",
   "execution_count": null,
   "id": "8d5d1def-b368-4a46-8dc8-9939a7ae0cdf",
   "metadata": {},
   "outputs": [],
   "source": []
  },
  {
   "cell_type": "code",
   "execution_count": null,
   "id": "73e05db0-6dc1-4d2b-960b-78589791df8e",
   "metadata": {},
   "outputs": [],
   "source": [
    "cutoff_foxa2 = filters.threshold_multiotsu(image= None, hist = nkx, classes=3)\n",
    "cutoff_pax6 = filters.threshold_multiotsu(image = None, hist = shh, classes=4)"
   ]
  },
  {
   "cell_type": "code",
   "execution_count": null,
   "id": "67f12dc6-44df-40c7-aee6-320c37b81ca1",
   "metadata": {},
   "outputs": [],
   "source": [
    "print(cutoff_foxa2, cutoff_pax6)"
   ]
  },
  {
   "cell_type": "code",
   "execution_count": null,
   "id": "ad767e92-3eca-4cf0-9627-a01a37054aad",
   "metadata": {},
   "outputs": [],
   "source": [
    "fig, axes = plt.subplots(ncols=2, figsize=(12, 5))\n",
    "ax = axes.ravel()\n",
    "\n",
    "ax[0].hist(nkx, bins=1000)\n",
    "ax[0].set_xlim([0, 4])\n",
    "ax[0].axvline(cutoff_foxa2[0], color='r')\n",
    "ax[0].axvline(cutoff_foxa2[1], color='r')\n",
    "#ax[0].axvline(cutoff_foxa2[2], color='r')\n",
    "ax[1].hist(shh, bins=500)\n",
    "ax[1].set_xlim([0, 4.0])\n",
    "ax[1].axvline(cutoff_pax6[0], color='r')\n",
    "ax[1].axvline(cutoff_pax6[1], color='r')\n",
    "ax[1].axvline(cutoff_pax6[2], color='r')"
   ]
  },
  {
   "cell_type": "code",
   "execution_count": null,
   "id": "00668e8c-d118-46f5-a09a-bc5ce94b9081",
   "metadata": {},
   "outputs": [],
   "source": []
  },
  {
   "cell_type": "code",
   "execution_count": null,
   "id": "ca8d5324-6436-49e0-b125-a5871afa6125",
   "metadata": {},
   "outputs": [],
   "source": []
  },
  {
   "cell_type": "code",
   "execution_count": 22,
   "id": "6e869c14-336d-4ba5-b28a-e4cd2612765a",
   "metadata": {},
   "outputs": [],
   "source": [
    "imageDir = \"../images_data/d3-4-6_10x_TetOnF_TetOnP_chim_fulldataset/d6_stain-DV-patterning\"\n",
    "outDir = \"../images_data/results/TetOnF_TetOnP_chim_d6_genotype_stainDVpatterning\"\n",
    "\n",
    "if not os.path.exists(outDir):\n",
    "    os.mkdir(outDir)\n",
    "#os.path.exists(outDir)"
   ]
  },
  {
   "cell_type": "code",
   "execution_count": 23,
   "id": "c872655c-db3d-4581-b884-5de65d0e3ee3",
   "metadata": {},
   "outputs": [],
   "source": [
    "#### test global threshold method (not working well) and manual thrshold "
   ]
  },
  {
   "cell_type": "code",
   "execution_count": 24,
   "id": "9a7625c1-94bf-4d42-949c-6102d1f68f11",
   "metadata": {},
   "outputs": [
    {
     "name": "stdout",
     "output_type": "stream",
     "text": [
      "241010_10x_d6-Nk22-Shh_iF-iP_RA_D4_13_01_isotropic\n",
      "241010_10x_d6-Nk22-Shh_iF-iP_RA_D5_19_01_isotropic\n",
      "241010_10x_d6-Nk22-Shh_iF-iP_RA_D4_16_01_isotropic\n",
      "241010_10x_d6-Nk22-Shh_iF-iP_RA_D5_17_01_isotropic\n",
      "241010_10x_d6-Nk22-Shh_iF-iP_RA_D4_15_01_isotropic\n",
      "241010_10x_d6-Nk22-Shh_iF-iP_RA_D4_14_01_isotropic\n",
      "241010_10x_d6-Nk22-Shh_iF-iP_RA_D5_18_01_isotropic\n",
      "241010_10x_d6-Nk22-Shh_iF-iP_RA_D5_20_01_isotropic\n",
      "241010_10x_d6-Nk22-Shh_iF-iP_RA_D6_21_01_isotropic\n",
      "241010_10x_d6-Nk22-Shh_iF-iP_RA_D6_22_01_isotropic\n",
      "241010_10x_d6-Nk22-Shh_iF-iP_RA_D6_23_01_isotropic\n",
      "241010_10x_d6-Nk22-Shh_iF-iP_RA_D6_24_01_isotropic\n",
      "241010_10x_d6-Nk22-Shh_iF-iP_dox_D7_25_01_isotropic\n",
      "241010_10x_d6-Nk22-Shh_iF-iP_dox_D7_26_01_isotropic\n",
      "241010_10x_d6-Nk22-Shh_iF-iP_dox_D7_27_01_isotropic\n",
      "241010_10x_d6-Nk22-Shh_iF-iP_dox_D7_28_01_isotropic\n",
      "241010_10x_d6-Nk22-Shh_iF-iP_dox_D8_29_01_isotropic\n",
      "241010_10x_d6-Nk22-Shh_iF-iP_dox_D8_30_01_isotropic\n",
      "241010_10x_d6-Nk22-Shh_iF-iP_dox_D8_31_01_isotropic\n",
      "241010_10x_d6-Nk22-Shh_iF-iP_dox_D8_32_01_isotropic\n",
      "241010_10x_d6-Nk22-Shh_iF-iP_dox_D9_33_01_isotropic\n",
      "241010_10x_d6-Nk22-Shh_iF-iP_dox_D9_34_01_isotropic\n",
      "241010_10x_d6-Nk22-Shh_iF-iP_dox_D9_35_01_isotropic\n",
      "241010_10x_d6-Nk22-Shh_iF-iP_dox_D9_36_01_isotropic\n",
      "241010_10x_d6-Nk22-Shh_iF-iP_noRA_D1_1_01_isotropic\n",
      "241010_10x_d6-Nk22-Shh_iF-iP_noRA_D1_2_01_isotropic\n",
      "241010_10x_d6-Nk22-Shh_iF-iP_noRA_D1_3_01_isotropic\n",
      "241010_10x_d6-Nk22-Shh_iF-iP_noRA_D1_4_01_isotropic\n",
      "241010_10x_d6-Nk22-Shh_iF-iP_noRA_D2_5_01_isotropic\n",
      "241010_10x_d6-Nk22-Shh_iF-iP_noRA_D2_6_01_isotropic\n",
      "241010_10x_d6-Nk22-Shh_iF-iP_noRA_D2_7_01_isotropic\n",
      "241010_10x_d6-Nk22-Shh_iF-iP_noRA_D2_8_01_isotropic\n",
      "241010_10x_d6-Nk22-Shh_iF-iP_noRA_D3_10_01_isotropic\n",
      "241010_10x_d6-Nk22-Shh_iF-iP_noRA_D3_11_01_isotropic\n",
      "241010_10x_d6-Nk22-Shh_iF-iP_noRA_D3_12_01_isotropic\n",
      "241010_10x_d6-Nk22-Shh_iF-iP_noRA_D3_9_01_isotropic\n"
     ]
    }
   ],
   "source": [
    "import pandas as pd\n",
    "from skimage import measure\n",
    "from skimage.morphology import disk\n",
    "from skimage.filters import threshold_otsu, rank\n",
    "from skimage import measure\n",
    "from skimage.morphology import disk\n",
    "from skimage.filters import threshold_otsu, rank\n",
    "import pyclesperanto_prototype as cle\n",
    "from skimage import filters\n",
    "from skimage.filters import try_all_threshold\n",
    "import napari_simpleitk_image_processing as nsitk\n",
    "\n",
    "\n",
    "from skimage import measure\n",
    "\n",
    "data = {\"image\": [], \"cyst_index\": [], \"cyst_size\": [], \n",
    "        \"cutoff_fxko_global_otsu\": [],  \"cutoff_pxko_global_otsu\": [], \"nb_fxko_global_otsu\": [], \"nb_pxko_global_otsu\": [],\n",
    "        \"cutoff_fxko_cyst_otsu\": [],  \"cutoff_pxko_cyst_otsu\": [], \"nb_fxko_cyst_otsu\": [], \"nb_pxko_cyst_otsu\": [],\n",
    "        \"cutoff_fxko_cyst_mean\": [],  \"cutoff_pxko_cyst_mean\": [], \"nb_fxko_cyst_mean\": [], \"nb_pxko_cyst_mean\": [],\n",
    "        \"cutoff_fxko_cyst_li\": [],  \"cutoff_pxko_cyst_li\": [], \"nb_fxko_cyst_li\": [], \"nb_pxko_cyst_li\": [],\n",
    "        \n",
    "        \"cutoff_nkx_global_multiotsu\": [], \"cutoff_shh_global_multiotsu\": [], \"nb_nkx_global_multiotsu\": [], \"nb_shh_global_multiotsu\": [],\n",
    "        \"cutoff_nkx_global_multiotsu_2\": [], \"cutoff_shh_global_multiotsu_2\": [], \"nb_nkx_global_multiotsu_2\": [], \"nb_shh_global_multiotsu_2\": [], \n",
    "        \"cutoff_nkx_cyst_otsu\": [], \"cutoff_shh_cyst_otsu\": [], \"nb_nkx_cyst_otsu\": [], \"nb_shh_cyst_otsu\": [], \n",
    "        \"nb_total_genotype\":[],  \"nb_total_fxko\":[],  \"nb_total_pxko\":[],\n",
    "        \"nb_nkx_fxko\": [], \"nb_shh_fxko\": [],\n",
    "        \"nb_nkx_pxko\": [], \"nb_shh_pxko\": []\n",
    "        \n",
    "       }\n",
    "\n",
    "df = pd.DataFrame(data)\n",
    "df\n",
    "\n",
    "\n",
    "for nm in os.listdir(imageDir):\n",
    "    if \"_C5_CystMask.tiff\" in nm:\n",
    "        #print(nm)\n",
    "        fileName = nm.replace('_C5_CystMask.tiff','')\n",
    "        #files += [nm]\n",
    "        print(fileName)\n",
    "        #make_composite_C5(newName, ImageDir, outDir)\n",
    "        \n",
    "        mask = imread(os.path.join(imageDir, str(fileName + \"_C5_CystMask.tiff\"))) # mask segmeted cysts\n",
    "        C1 = imread(os.path.join(imageDir, str(fileName + \"_C1.tif\"))) # Nkx22, nuclei\n",
    "        C2 = imread(os.path.join(imageDir, str(fileName + \"_C2.tif\"))) # FoxA2-TetOn genotype Scarlet, nuclei\n",
    "        C3 = imread(os.path.join(imageDir, str(fileName + \"_C3.tif\"))) # Pax6-TetON genotype \n",
    "        C4 = imread(os.path.join(imageDir, str(fileName + \"_C4.tif\"))) # Shh, nuclei\n",
    "        \n",
    "        #C1 = C1 / np.quantile(C1, 0.95)\n",
    "        C2 = C2 / np.quantile(C2, 0.95)\n",
    "        C3 = C3 / np.quantile(C3, 0.95)\n",
    "        #C4 = C4 / np.quantile(C4, 0.95)\n",
    "        \n",
    "        labels_mask, nb_cyst = measure.label(mask, return_num = True)\n",
    "        \n",
    "        cutoff_fako_global_otsu = filters.threshold_otsu(C2)\n",
    "        cutoff_pxko_global_otsu = filters.threshold_otsu(C3)\n",
    "        \n",
    "        \n",
    "        C1_filtered = C1[np.where(C1 < 3000)]\n",
    "        C4_filtered = C4[np.where(C4 < 1500)]\n",
    "        #cutoff_foxa2_global_multiotsu = filters.threshold_multiotsu(C1_filtered, classes=3, nbins= 512)[1]\n",
    "        #cutoff_pax6_global_multiotsu = filters.threshold_multiotsu(C4_filtered, classes=3, nbins = 256)[1]\n",
    "        \n",
    "        cutoff_foxa2_global_multiotsu = 1000\n",
    "        cutoff_pax6_global_multiotsu = 300\n",
    "        \n",
    "        cutoff_foxa2_global_multiotsu_2 = filters.threshold_multiotsu(C1_filtered, classes=3, nbins= 512)[1]\n",
    "        cutoff_pax6_global_multiotsu_2 = filters.threshold_multiotsu(C4_filtered, classes=3, nbins = 256)[1]\n",
    "        \n",
    "        \n",
    "        for i in range(nb_cyst+1):\n",
    "            if i > 0:\n",
    "                cyst_index = np.where(labels_mask == i)\n",
    "                \n",
    "                keep = [fileName, i, cyst_index[0].size]\n",
    "                \n",
    "                genotype_fako = C2[cyst_index]\n",
    "                genotype_pxko = C3[cyst_index]\n",
    "                foxa2 = C1[cyst_index]\n",
    "                pax6 = C4[cyst_index]\n",
    "                \n",
    "                ##### plot max projection \n",
    "                [z, rows, columns] = np.where(labels_mask == cyst_index)\n",
    "                z1 = min(z)\n",
    "                z2 = max(z)\n",
    "                row1 = min(rows)\n",
    "                row2 = max(rows)\n",
    "                col1 = min(columns)\n",
    "                col2 = max(columns)\n",
    "\n",
    "                df = pd.DataFrame(columns = col_names)\n",
    "                \n",
    "                # crop the orgnoid and save foxa2 and dapi\n",
    "                xx = np.where(labels_mask == cyst_index, C1, 0)\n",
    "                newImage_foxa2 = xx[z1:z2, row1:row2, col1:col2]\n",
    "                xx = None\n",
    "\n",
    "                xx = np.where(labels_mask == cyst_index, C4, 0)\n",
    "                newImage_dapi = xx[z1:z2, row1:row2, col1:col2]\n",
    "                \n",
    "                fig, axes = plt.subplots(2, 2, figsize=(10, 8), sharex=True, sharey=True)\n",
    "                ax = axes.ravel()\n",
    "\n",
    "                ax[0].imshow(formattedcoeff)\n",
    "                ax[0].axis('off')\n",
    "                ax[0].set_title('Original')\n",
    "\n",
    "                ax[1].imshow(preprocessed, cmap=plt.cm.gray)\n",
    "                ax[1].axis('off')\n",
    "                ax[1].set_title('processed image')\n",
    "\n",
    "                ax[2].imshow(formattedcoeff, cmap=plt.cm.gray)\n",
    "                ax[2].autoscale(False)\n",
    "                ax[2].plot(coordinates[:, 1], coordinates[:, 0], 'r.')\n",
    "                ax[2].axis('off')\n",
    "                ax[2].set_title('Peak local max')\n",
    "\n",
    "                ax[3].imshow(split_objects)\n",
    "                ax[3].autoscale(False)\n",
    "                #ax[3].plot(coordinates[:, 1], coordinates[:, 0], 'r.')\n",
    "                ax[3].axis('off')\n",
    "                ax[3].set_title('watershed segmentation')\n",
    "\n",
    "                fig.tight_layout()\n",
    "                \n",
    "                plt.savefig(os.path.join(outDir, str(fileName + \"_\" + str(cyst_index) +  \"locaMaximum_watershedSegmentation.pdf\")))\n",
    "                #plt.show()\n",
    "                                                     \n",
    "                \n",
    "                # counting genotype using the global thresholds\n",
    "                index_fako_global = np.where((genotype_fako > cutoff_fako_global_otsu) & (genotype_pxko < cutoff_pxko_global_otsu))\n",
    "                index_pxko_global = np.where((genotype_pxko > cutoff_pxko_global_otsu) & (genotype_fako < cutoff_fako_global_otsu))\n",
    "                keep = keep + [cutoff_fako_global_otsu, cutoff_pxko_global_otsu, index_fako_global[0].size, index_pxko_global[0].size ]\n",
    "                \n",
    "                # counting genotype using the cyst threshold\n",
    "                ## calculate the cyst-based thresholds\n",
    "                #cutoff_fako = threshold_otsu(genotype_fako)\n",
    "                #cutoff_pxko = threshold_otsu(genotype_pxko)\n",
    "                cutoff_fako = filters.threshold_otsu(genotype_fako)\n",
    "                cutoff_pxko = filters.threshold_otsu(genotype_pxko)\n",
    "                index_fako = np.where((genotype_fako > cutoff_fako) & (genotype_pxko < cutoff_pxko))\n",
    "                index_pxko = np.where((genotype_pxko > cutoff_pxko) & (genotype_fako < cutoff_fako))\n",
    "                keep = keep + [cutoff_fako, cutoff_pxko, index_fako[0].size, index_pxko[0].size]\n",
    "                \n",
    "                cutoff_fako = filters.threshold_mean(genotype_fako)\n",
    "                cutoff_pxko = filters.threshold_mean(genotype_pxko)\n",
    "                index_fako = np.where((genotype_fako > cutoff_fako) & (genotype_pxko < cutoff_pxko))\n",
    "                index_pxko = np.where((genotype_pxko > cutoff_pxko) & (genotype_fako < cutoff_fako))\n",
    "                keep = keep + [cutoff_fako, cutoff_pxko, index_fako[0].size, index_pxko[0].size]\n",
    "                \n",
    "                cutoff_fako = filters.threshold_li(genotype_fako)\n",
    "                cutoff_pxko = filters.threshold_li(genotype_pxko)\n",
    "                index_fako = np.where((genotype_fako > cutoff_fako) & (genotype_pxko < cutoff_pxko))\n",
    "                index_pxko = np.where((genotype_pxko > cutoff_pxko) & (genotype_fako < cutoff_fako))\n",
    "                keep = keep + [cutoff_fako, cutoff_pxko, index_fako[0].size, index_pxko[0].size]\n",
    "                \n",
    "                \n",
    "                ## counting Nkx22 and Shh (that do not exclude each other) using gloabl threshold\n",
    "                index_foxa2_global = np.where((foxa2 > cutoff_foxa2_global_multiotsu)) # Nkx22 \n",
    "                index_pax6_global = np.where((pax6 > cutoff_pax6_global_multiotsu))## Shh\n",
    "                keep = keep + [cutoff_foxa2_global_multiotsu, cutoff_pax6_global_multiotsu, index_foxa2_global[0].size, index_pax6_global[0].size ]\n",
    "                \n",
    "                index_foxa2_global_2 = np.where((foxa2 > cutoff_foxa2_global_multiotsu_2)) # Nkx22 \n",
    "                index_pax6_global_2 = np.where((pax6 > cutoff_pax6_global_multiotsu_2))## Shh\n",
    "                keep = keep + [cutoff_foxa2_global_multiotsu_2, cutoff_pax6_global_multiotsu_2, index_foxa2_global_2[0].size, index_pax6_global_2[0].size ]\n",
    "                \n",
    "                cutoff_foxa2 = filters.threshold_mean(foxa2)\n",
    "                cutoff_pax6 = filters.threshold_mean(pax6) \n",
    "                \n",
    "                index_foxa2_cyst = np.where(foxa2 > cutoff_foxa2)\n",
    "                index_pax6_cyst = np.where(pax6 > cutoff_pax6)\n",
    "                keep = keep + [cutoff_foxa2, cutoff_pax6, index_foxa2_cyst[0].size, index_pax6_cyst[0].size ]\n",
    "                \n",
    "                # count the foxa2+ and pax6+ voxels in the whole cyst but avoid cross-channel comparison\n",
    "                #index_fako_cyst = np.where((genotype_fako > cutoff_fako) & (genotype_fako > genotype_pxko))\n",
    "                #index_pxko_cyst = np.where((genotype_pxko > cutoff_pxko) & (genotype_fako < genotype_pxko))\n",
    "                index_fako_cyst = np.where((genotype_fako > cutoff_fako) & (genotype_pxko < cutoff_pxko))\n",
    "                index_pxko_cyst = np.where((genotype_pxko > cutoff_pxko) & (genotype_fako < cutoff_fako))\n",
    "                \n",
    "                #genotype_total = index_fako_cyst[0].size + index_pxko_cyst[0].size\n",
    "                genotype_total = index_fako_cyst[0].size + index_pxko_cyst[0].size\n",
    "                \n",
    "                foxa2_fako = foxa2[index_fako_cyst]\n",
    "                pax6_fako = pax6[index_fako_cyst]\n",
    "                foxa2_pxko = foxa2[index_pxko_cyst]\n",
    "                pax6_pxko = pax6[index_pxko_cyst]\n",
    "                \n",
    "                index_foxa2_fako = np.where(foxa2_fako > cutoff_foxa2_global_multiotsu)\n",
    "                index_pax6_fako = np.where(pax6_fako > cutoff_pax6_global_multiotsu)\n",
    "                \n",
    "                index_foxa2_pxko = np.where(foxa2_pxko > cutoff_foxa2_global_multiotsu)\n",
    "                index_pax6_pxko = np.where(pax6_pxko > cutoff_pax6_global_multiotsu)\n",
    "                \n",
    "                #print(index_foxa2_fako[0].size, index_pax6_pxko[0].size)\n",
    "                keep = keep + [ genotype_total, index_fako_cyst[0].size, index_pxko_cyst[0].size,\n",
    "                                        index_foxa2_fako[0].size,  index_pax6_fako[0].size,  \n",
    "                                        index_foxa2_pxko[0].size,  index_pax6_pxko[0].size\n",
    "                              ]\n",
    "                \n",
    "                \n",
    "                if (cyst_index[0].size) > 1000:\n",
    "                    df.loc[len(df)] = keep\n",
    "                    "
   ]
  },
  {
   "cell_type": "code",
   "execution_count": 26,
   "id": "425b478d-8eb1-47f7-8b37-4da3240d501b",
   "metadata": {},
   "outputs": [],
   "source": [
    "df.to_csv(os.path.join(outDir, \"cyst_size_genotype_cystThresholdsMultiple_Nkx22_Shh_image_manualThresholds_shh300_nkx1000_v5.csv\"), index=True, header=True)"
   ]
  },
  {
   "cell_type": "code",
   "execution_count": null,
   "id": "8fef7789-cb1f-4814-b10c-a9a3e8a4c465",
   "metadata": {},
   "outputs": [],
   "source": []
  },
  {
   "cell_type": "code",
   "execution_count": null,
   "id": "4194edf9-0864-4c7e-929d-cdc66f77dd50",
   "metadata": {},
   "outputs": [],
   "source": []
  },
  {
   "cell_type": "code",
   "execution_count": null,
   "id": "0b4c0594-2616-4bbf-a807-0b02b67ba635",
   "metadata": {},
   "outputs": [],
   "source": [
    "############################################################\n",
    "### test many global and cyst-based thresholding methods\n",
    "### not used at the end\n",
    "############################################################"
   ]
  },
  {
   "cell_type": "code",
   "execution_count": 71,
   "id": "7433487b-ba1d-49b0-9516-080aa36db3c3",
   "metadata": {},
   "outputs": [
    {
     "data": {
      "text/html": [
       "<div>\n",
       "<style scoped>\n",
       "    .dataframe tbody tr th:only-of-type {\n",
       "        vertical-align: middle;\n",
       "    }\n",
       "\n",
       "    .dataframe tbody tr th {\n",
       "        vertical-align: top;\n",
       "    }\n",
       "\n",
       "    .dataframe thead th {\n",
       "        text-align: right;\n",
       "    }\n",
       "</style>\n",
       "<table border=\"1\" class=\"dataframe\">\n",
       "  <thead>\n",
       "    <tr style=\"text-align: right;\">\n",
       "      <th></th>\n",
       "      <th>image</th>\n",
       "      <th>cyst_index</th>\n",
       "      <th>cyst_size</th>\n",
       "      <th>cutoff_fxko_global_otsu</th>\n",
       "      <th>cutoff_pxko_global_otsu</th>\n",
       "      <th>nb_fxko_global_otsu</th>\n",
       "      <th>nb_pxko_global_otsu</th>\n",
       "      <th>cutoff_fxko_global_mean</th>\n",
       "      <th>cutoff_pxko_global_mean</th>\n",
       "      <th>nb_fxko_global_mean</th>\n",
       "      <th>...</th>\n",
       "      <th>nb_nkx_cyst_li</th>\n",
       "      <th>nb_shh_cyst_li</th>\n",
       "      <th>cutoff_nkx_cyst_yen</th>\n",
       "      <th>cutoff_shh_cyst_yen</th>\n",
       "      <th>nb_nkx_cyst_yen</th>\n",
       "      <th>nb_shh_cyst_yen</th>\n",
       "      <th>cutoff_nkx_cyst_isodata</th>\n",
       "      <th>cutoff_shh_cyst_isodata</th>\n",
       "      <th>nb_nkx_cyst_isodata</th>\n",
       "      <th>nb_shh_cyst_isodata</th>\n",
       "    </tr>\n",
       "  </thead>\n",
       "  <tbody>\n",
       "  </tbody>\n",
       "</table>\n",
       "<p>0 rows × 87 columns</p>\n",
       "</div>"
      ],
      "text/plain": [
       "Empty DataFrame\n",
       "Columns: [image, cyst_index, cyst_size, cutoff_fxko_global_otsu, cutoff_pxko_global_otsu, nb_fxko_global_otsu, nb_pxko_global_otsu, cutoff_fxko_global_mean, cutoff_pxko_global_mean, nb_fxko_global_mean, nb_pxko_global_mean, cutoff_fxko_global_li, cutoff_pxko_global_li, nb_fxko_global_li, nb_pxko_global_li, cutoff_fxko_global_yen, cutoff_pxko_global_yen, nb_fxko_global_yen, nb_pxko_global_yen, cutoff_fxko_global_isodata, cutoff_pxko_global_isodata, nb_fxko_global_isodata, nb_pxko_global_isodata, cutoff_fxko_cyst_otsu, cutoff_pxko_cyst_otsu, nb_fxko_cyst_otsu, nb_pxko_cyst_otsu, cutoff_fxko_cyst_mean, cutoff_pxko_cyst_mean, nb_fxko_cyst_mean, nb_pxko_cyst_mean, cutoff_fxko_cyst_li, cutoff_pxko_cyst_li, nb_fxko_cyst_li, nb_pxko_cyst_li, cutoff_fxko_cyst_yen, cutoff_pxko_cyst_yen, nb_fxko_cyst_yen, nb_pxko_cyst_yen, cutoff_fxko_cyst_isodata, cutoff_pxko_cyst_isodata, nb_fxko_cyst_isodata, nb_pxko_cyst_isodata, cutoff_nkx_global_multiotsu, cutoff_shh_global_multiotsu, nb_nkx_global_multiotsu, nb_shh_global_multiotsu, cutoff_nkx_global_otsu, cutoff_shh_global_otsu, nb_nkx_global_otsu, nb_shh_global_otsu, cutoff_nkx_global_mean, cutoff_shh_global_mean, nb_nkx_global_mean, nb_shh_global_mean, cutoff_nkx_global_li, cutoff_shh_global_li, nb_nkx_global_li, nb_shh_global_li, cutoff_nkx_global_yen, cutoff_shh_global_yen, nb_nkx_global_yen, nb_shh_global_yen, cutoff_nkx_global_isodata, cutoff_shh_global_isodata, nb_nkx_global_isodata, nb_shh_global_isodata, cutoff_nkx_cyst_otsu, cutoff_shh_cyst_otsu, nb_nkx_cyst_otsu, nb_shh_cyst_otsu, cutoff_nkx_cyst_mean, cutoff_shh_cyst_mean, nb_nkx_cyst_mean, nb_shh_cyst_mean, cutoff_nkx_cyst_li, cutoff_shh_cyst_li, nb_nkx_cyst_li, nb_shh_cyst_li, cutoff_nkx_cyst_yen, cutoff_shh_cyst_yen, nb_nkx_cyst_yen, nb_shh_cyst_yen, cutoff_nkx_cyst_isodata, cutoff_shh_cyst_isodata, nb_nkx_cyst_isodata, nb_shh_cyst_isodata]\n",
       "Index: []\n",
       "\n",
       "[0 rows x 87 columns]"
      ]
     },
     "execution_count": 71,
     "metadata": {},
     "output_type": "execute_result"
    }
   ],
   "source": [
    "import pandas as pd\n",
    "from skimage import measure\n",
    "from skimage.morphology import disk\n",
    "from skimage.filters import threshold_otsu, rank\n",
    "from skimage import measure\n",
    "from skimage.morphology import disk\n",
    "from skimage.filters import threshold_otsu, rank\n",
    "import pyclesperanto_prototype as cle\n",
    "from skimage import filters\n",
    "from skimage.filters import try_all_threshold\n",
    "import napari_simpleitk_image_processing as nsitk\n",
    "\n",
    "from skimage import measure\n",
    "\n",
    "data = {\"image\": [], \"cyst_index\": [], \"cyst_size\": [], \n",
    "        \n",
    "        \"cutoff_fxko_global_otsu\": [],  \"cutoff_pxko_global_otsu\": [], \"nb_fxko_global_otsu\": [], \"nb_pxko_global_otsu\": [],\n",
    "        \"cutoff_fxko_global_mean\": [],  \"cutoff_pxko_global_mean\": [], \"nb_fxko_global_mean\": [], \"nb_pxko_global_mean\": [],\n",
    "        \"cutoff_fxko_global_li\": [],  \"cutoff_pxko_global_li\": [], \"nb_fxko_global_li\": [], \"nb_pxko_global_li\": [],\n",
    "        \"cutoff_fxko_global_yen\": [],  \"cutoff_pxko_global_yen\": [], \"nb_fxko_global_yen\": [], \"nb_pxko_global_yen\": [],\n",
    "        \"cutoff_fxko_global_isodata\": [],  \"cutoff_pxko_global_isodata\": [], \"nb_fxko_global_isodata\": [], \"nb_pxko_global_isodata\": [],\n",
    "        \n",
    "        \"cutoff_fxko_cyst_otsu\": [],  \"cutoff_pxko_cyst_otsu\": [], \"nb_fxko_cyst_otsu\": [], \"nb_pxko_cyst_otsu\": [],\n",
    "        \"cutoff_fxko_cyst_mean\": [],  \"cutoff_pxko_cyst_mean\": [], \"nb_fxko_cyst_mean\": [], \"nb_pxko_cyst_mean\": [],\n",
    "        \"cutoff_fxko_cyst_li\": [],  \"cutoff_pxko_cyst_li\": [], \"nb_fxko_cyst_li\": [], \"nb_pxko_cyst_li\": [],\n",
    "        \"cutoff_fxko_cyst_yen\": [],  \"cutoff_pxko_cyst_yen\": [], \"nb_fxko_cyst_yen\": [], \"nb_pxko_cyst_yen\": [],\n",
    "        \"cutoff_fxko_cyst_isodata\": [],  \"cutoff_pxko_cyst_isodata\": [], \"nb_fxko_cyst_isodata\": [], \"nb_pxko_cyst_isodata\": [],\n",
    "        \n",
    "        \"cutoff_nkx_global_multiotsu\": [], \"cutoff_shh_global_multiotsu\": [], \"nb_nkx_global_multiotsu\": [], \"nb_shh_global_multiotsu\": [],\n",
    "        \"cutoff_nkx_global_otsu\": [], \"cutoff_shh_global_otsu\": [], \"nb_nkx_global_otsu\": [], \"nb_shh_global_otsu\": [],\n",
    "        \"cutoff_nkx_global_mean\": [], \"cutoff_shh_global_mean\": [], \"nb_nkx_global_mean\": [], \"nb_shh_global_mean\": [],\n",
    "        \"cutoff_nkx_global_li\": [], \"cutoff_shh_global_li\": [], \"nb_nkx_global_li\": [], \"nb_shh_global_li\": [],\n",
    "        \"cutoff_nkx_global_yen\": [], \"cutoff_shh_global_yen\": [], \"nb_nkx_global_yen\": [], \"nb_shh_global_yen\": [],\n",
    "        \"cutoff_nkx_global_isodata\": [], \"cutoff_shh_global_isodata\": [], \"nb_nkx_global_isodata\": [], \"nb_shh_global_isodata\": [],\n",
    "        \n",
    "        \"cutoff_nkx_cyst_otsu\": [], \"cutoff_shh_cyst_otsu\": [], \"nb_nkx_cyst_otsu\": [], \"nb_shh_cyst_otsu\": [],\n",
    "        \"cutoff_nkx_cyst_mean\": [], \"cutoff_shh_cyst_mean\": [], \"nb_nkx_cyst_mean\": [], \"nb_shh_cyst_mean\": [],\n",
    "        \"cutoff_nkx_cyst_li\": [], \"cutoff_shh_cyst_li\": [], \"nb_nkx_cyst_li\": [], \"nb_shh_cyst_li\": [],\n",
    "        \"cutoff_nkx_cyst_yen\": [], \"cutoff_shh_cyst_yen\": [], \"nb_nkx_cyst_yen\": [], \"nb_shh_cyst_yen\": [],\n",
    "        \"cutoff_nkx_cyst_isodata\": [], \"cutoff_shh_cyst_isodata\": [], \"nb_nkx_cyst_isodata\": [], \"nb_shh_cyst_isodata\": [],\n",
    "        \n",
    "        \n",
    "        \n",
    "        #\"genotype_total\": [], \n",
    "        #\"fxko_nb_foxa2\": [], \"fxko_nb_pax6\": [],  \"pxko_nb_foxa2\": [], \"pxko_nb_pax6\": []\n",
    "        \n",
    "       }\n",
    "df = pd.DataFrame(data)\n",
    "df"
   ]
  },
  {
   "cell_type": "code",
   "execution_count": 72,
   "id": "409e8e9a-9149-49c0-9bcd-26b02bcb1880",
   "metadata": {},
   "outputs": [
    {
     "name": "stdout",
     "output_type": "stream",
     "text": [
      "241010_10x_d6-Nk22-Shh_iF-iP_RA_D4_13_01_isotropic\n"
     ]
    },
    {
     "name": "stderr",
     "output_type": "stream",
     "text": [
      "/groups/tanaka/People/current/jiwang/local/anaconda3/envs/image_py3.9/lib/python3.9/site-packages/skimage/filters/thresholding.py:561: RuntimeWarning: divide by zero encountered in divide\n",
      "  higher = (csum_intensity[-1] - csum_intensity[:-1]) / csumh[:-1]\n"
     ]
    },
    {
     "name": "stdout",
     "output_type": "stream",
     "text": [
      "241010_10x_d6-Nk22-Shh_iF-iP_RA_D5_19_01_isotropic\n"
     ]
    },
    {
     "name": "stderr",
     "output_type": "stream",
     "text": [
      "/groups/tanaka/People/current/jiwang/local/anaconda3/envs/image_py3.9/lib/python3.9/site-packages/skimage/filters/thresholding.py:561: RuntimeWarning: divide by zero encountered in divide\n",
      "  higher = (csum_intensity[-1] - csum_intensity[:-1]) / csumh[:-1]\n"
     ]
    },
    {
     "name": "stdout",
     "output_type": "stream",
     "text": [
      "241010_10x_d6-Nk22-Shh_iF-iP_RA_D4_16_01_isotropic\n"
     ]
    },
    {
     "name": "stderr",
     "output_type": "stream",
     "text": [
      "/groups/tanaka/People/current/jiwang/local/anaconda3/envs/image_py3.9/lib/python3.9/site-packages/skimage/filters/thresholding.py:466: RuntimeWarning: divide by zero encountered in log\n",
      "  crit = np.log(((P1_sq[:-1] * P2_sq[1:]) ** -1) * (P1[:-1] * (1.0 - P1[:-1])) ** 2)\n"
     ]
    },
    {
     "name": "stdout",
     "output_type": "stream",
     "text": [
      "241010_10x_d6-Nk22-Shh_iF-iP_RA_D5_17_01_isotropic\n"
     ]
    },
    {
     "name": "stderr",
     "output_type": "stream",
     "text": [
      "/groups/tanaka/People/current/jiwang/local/anaconda3/envs/image_py3.9/lib/python3.9/site-packages/skimage/filters/thresholding.py:561: RuntimeWarning: divide by zero encountered in divide\n",
      "  higher = (csum_intensity[-1] - csum_intensity[:-1]) / csumh[:-1]\n",
      "/groups/tanaka/People/current/jiwang/local/anaconda3/envs/image_py3.9/lib/python3.9/site-packages/skimage/filters/thresholding.py:466: RuntimeWarning: divide by zero encountered in log\n",
      "  crit = np.log(((P1_sq[:-1] * P2_sq[1:]) ** -1) * (P1[:-1] * (1.0 - P1[:-1])) ** 2)\n"
     ]
    },
    {
     "name": "stdout",
     "output_type": "stream",
     "text": [
      "241010_10x_d6-Nk22-Shh_iF-iP_RA_D4_15_01_isotropic\n"
     ]
    },
    {
     "name": "stderr",
     "output_type": "stream",
     "text": [
      "/groups/tanaka/People/current/jiwang/local/anaconda3/envs/image_py3.9/lib/python3.9/site-packages/skimage/filters/thresholding.py:561: RuntimeWarning: divide by zero encountered in divide\n",
      "  higher = (csum_intensity[-1] - csum_intensity[:-1]) / csumh[:-1]\n"
     ]
    },
    {
     "name": "stdout",
     "output_type": "stream",
     "text": [
      "241010_10x_d6-Nk22-Shh_iF-iP_RA_D4_14_01_isotropic\n"
     ]
    },
    {
     "name": "stderr",
     "output_type": "stream",
     "text": [
      "/groups/tanaka/People/current/jiwang/local/anaconda3/envs/image_py3.9/lib/python3.9/site-packages/skimage/filters/thresholding.py:466: RuntimeWarning: divide by zero encountered in log\n",
      "  crit = np.log(((P1_sq[:-1] * P2_sq[1:]) ** -1) * (P1[:-1] * (1.0 - P1[:-1])) ** 2)\n",
      "/groups/tanaka/People/current/jiwang/local/anaconda3/envs/image_py3.9/lib/python3.9/site-packages/skimage/filters/thresholding.py:561: RuntimeWarning: divide by zero encountered in divide\n",
      "  higher = (csum_intensity[-1] - csum_intensity[:-1]) / csumh[:-1]\n"
     ]
    },
    {
     "name": "stdout",
     "output_type": "stream",
     "text": [
      "241010_10x_d6-Nk22-Shh_iF-iP_RA_D5_18_01_isotropic\n"
     ]
    },
    {
     "name": "stderr",
     "output_type": "stream",
     "text": [
      "/groups/tanaka/People/current/jiwang/local/anaconda3/envs/image_py3.9/lib/python3.9/site-packages/skimage/filters/thresholding.py:561: RuntimeWarning: divide by zero encountered in divide\n",
      "  higher = (csum_intensity[-1] - csum_intensity[:-1]) / csumh[:-1]\n",
      "/groups/tanaka/People/current/jiwang/local/anaconda3/envs/image_py3.9/lib/python3.9/site-packages/skimage/filters/thresholding.py:466: RuntimeWarning: divide by zero encountered in log\n",
      "  crit = np.log(((P1_sq[:-1] * P2_sq[1:]) ** -1) * (P1[:-1] * (1.0 - P1[:-1])) ** 2)\n"
     ]
    },
    {
     "name": "stdout",
     "output_type": "stream",
     "text": [
      "241010_10x_d6-Nk22-Shh_iF-iP_RA_D5_20_01_isotropic\n"
     ]
    },
    {
     "name": "stderr",
     "output_type": "stream",
     "text": [
      "/groups/tanaka/People/current/jiwang/local/anaconda3/envs/image_py3.9/lib/python3.9/site-packages/skimage/filters/thresholding.py:561: RuntimeWarning: divide by zero encountered in divide\n",
      "  higher = (csum_intensity[-1] - csum_intensity[:-1]) / csumh[:-1]\n"
     ]
    },
    {
     "name": "stdout",
     "output_type": "stream",
     "text": [
      "241010_10x_d6-Nk22-Shh_iF-iP_RA_D6_21_01_isotropic\n"
     ]
    },
    {
     "name": "stderr",
     "output_type": "stream",
     "text": [
      "/groups/tanaka/People/current/jiwang/local/anaconda3/envs/image_py3.9/lib/python3.9/site-packages/skimage/filters/thresholding.py:466: RuntimeWarning: divide by zero encountered in log\n",
      "  crit = np.log(((P1_sq[:-1] * P2_sq[1:]) ** -1) * (P1[:-1] * (1.0 - P1[:-1])) ** 2)\n",
      "/groups/tanaka/People/current/jiwang/local/anaconda3/envs/image_py3.9/lib/python3.9/site-packages/skimage/filters/thresholding.py:561: RuntimeWarning: divide by zero encountered in divide\n",
      "  higher = (csum_intensity[-1] - csum_intensity[:-1]) / csumh[:-1]\n"
     ]
    },
    {
     "name": "stdout",
     "output_type": "stream",
     "text": [
      "241010_10x_d6-Nk22-Shh_iF-iP_RA_D6_22_01_isotropic\n"
     ]
    },
    {
     "name": "stderr",
     "output_type": "stream",
     "text": [
      "/groups/tanaka/People/current/jiwang/local/anaconda3/envs/image_py3.9/lib/python3.9/site-packages/skimage/filters/thresholding.py:561: RuntimeWarning: divide by zero encountered in divide\n",
      "  higher = (csum_intensity[-1] - csum_intensity[:-1]) / csumh[:-1]\n",
      "/groups/tanaka/People/current/jiwang/local/anaconda3/envs/image_py3.9/lib/python3.9/site-packages/skimage/filters/thresholding.py:466: RuntimeWarning: divide by zero encountered in log\n",
      "  crit = np.log(((P1_sq[:-1] * P2_sq[1:]) ** -1) * (P1[:-1] * (1.0 - P1[:-1])) ** 2)\n"
     ]
    },
    {
     "name": "stdout",
     "output_type": "stream",
     "text": [
      "241010_10x_d6-Nk22-Shh_iF-iP_RA_D6_23_01_isotropic\n"
     ]
    },
    {
     "name": "stderr",
     "output_type": "stream",
     "text": [
      "/groups/tanaka/People/current/jiwang/local/anaconda3/envs/image_py3.9/lib/python3.9/site-packages/skimage/filters/thresholding.py:466: RuntimeWarning: divide by zero encountered in log\n",
      "  crit = np.log(((P1_sq[:-1] * P2_sq[1:]) ** -1) * (P1[:-1] * (1.0 - P1[:-1])) ** 2)\n",
      "/groups/tanaka/People/current/jiwang/local/anaconda3/envs/image_py3.9/lib/python3.9/site-packages/skimage/filters/thresholding.py:561: RuntimeWarning: divide by zero encountered in divide\n",
      "  higher = (csum_intensity[-1] - csum_intensity[:-1]) / csumh[:-1]\n"
     ]
    },
    {
     "name": "stdout",
     "output_type": "stream",
     "text": [
      "241010_10x_d6-Nk22-Shh_iF-iP_RA_D6_24_01_isotropic\n"
     ]
    },
    {
     "name": "stderr",
     "output_type": "stream",
     "text": [
      "/groups/tanaka/People/current/jiwang/local/anaconda3/envs/image_py3.9/lib/python3.9/site-packages/skimage/filters/thresholding.py:561: RuntimeWarning: divide by zero encountered in divide\n",
      "  higher = (csum_intensity[-1] - csum_intensity[:-1]) / csumh[:-1]\n",
      "/groups/tanaka/People/current/jiwang/local/anaconda3/envs/image_py3.9/lib/python3.9/site-packages/skimage/filters/thresholding.py:466: RuntimeWarning: divide by zero encountered in log\n",
      "  crit = np.log(((P1_sq[:-1] * P2_sq[1:]) ** -1) * (P1[:-1] * (1.0 - P1[:-1])) ** 2)\n"
     ]
    },
    {
     "name": "stdout",
     "output_type": "stream",
     "text": [
      "241010_10x_d6-Nk22-Shh_iF-iP_dox_D7_25_01_isotropic\n"
     ]
    },
    {
     "name": "stderr",
     "output_type": "stream",
     "text": [
      "/groups/tanaka/People/current/jiwang/local/anaconda3/envs/image_py3.9/lib/python3.9/site-packages/skimage/filters/thresholding.py:561: RuntimeWarning: divide by zero encountered in divide\n",
      "  higher = (csum_intensity[-1] - csum_intensity[:-1]) / csumh[:-1]\n",
      "/groups/tanaka/People/current/jiwang/local/anaconda3/envs/image_py3.9/lib/python3.9/site-packages/skimage/filters/thresholding.py:466: RuntimeWarning: divide by zero encountered in log\n",
      "  crit = np.log(((P1_sq[:-1] * P2_sq[1:]) ** -1) * (P1[:-1] * (1.0 - P1[:-1])) ** 2)\n"
     ]
    },
    {
     "name": "stdout",
     "output_type": "stream",
     "text": [
      "241010_10x_d6-Nk22-Shh_iF-iP_dox_D7_26_01_isotropic\n"
     ]
    },
    {
     "name": "stderr",
     "output_type": "stream",
     "text": [
      "/groups/tanaka/People/current/jiwang/local/anaconda3/envs/image_py3.9/lib/python3.9/site-packages/skimage/filters/thresholding.py:466: RuntimeWarning: divide by zero encountered in log\n",
      "  crit = np.log(((P1_sq[:-1] * P2_sq[1:]) ** -1) * (P1[:-1] * (1.0 - P1[:-1])) ** 2)\n",
      "/groups/tanaka/People/current/jiwang/local/anaconda3/envs/image_py3.9/lib/python3.9/site-packages/skimage/filters/thresholding.py:561: RuntimeWarning: divide by zero encountered in divide\n",
      "  higher = (csum_intensity[-1] - csum_intensity[:-1]) / csumh[:-1]\n"
     ]
    },
    {
     "name": "stdout",
     "output_type": "stream",
     "text": [
      "241010_10x_d6-Nk22-Shh_iF-iP_dox_D7_27_01_isotropic\n"
     ]
    },
    {
     "name": "stderr",
     "output_type": "stream",
     "text": [
      "/groups/tanaka/People/current/jiwang/local/anaconda3/envs/image_py3.9/lib/python3.9/site-packages/skimage/filters/thresholding.py:561: RuntimeWarning: divide by zero encountered in divide\n",
      "  higher = (csum_intensity[-1] - csum_intensity[:-1]) / csumh[:-1]\n",
      "/groups/tanaka/People/current/jiwang/local/anaconda3/envs/image_py3.9/lib/python3.9/site-packages/skimage/filters/thresholding.py:466: RuntimeWarning: divide by zero encountered in log\n",
      "  crit = np.log(((P1_sq[:-1] * P2_sq[1:]) ** -1) * (P1[:-1] * (1.0 - P1[:-1])) ** 2)\n"
     ]
    },
    {
     "name": "stdout",
     "output_type": "stream",
     "text": [
      "241010_10x_d6-Nk22-Shh_iF-iP_dox_D7_28_01_isotropic\n"
     ]
    },
    {
     "name": "stderr",
     "output_type": "stream",
     "text": [
      "/groups/tanaka/People/current/jiwang/local/anaconda3/envs/image_py3.9/lib/python3.9/site-packages/skimage/filters/thresholding.py:466: RuntimeWarning: divide by zero encountered in log\n",
      "  crit = np.log(((P1_sq[:-1] * P2_sq[1:]) ** -1) * (P1[:-1] * (1.0 - P1[:-1])) ** 2)\n",
      "/groups/tanaka/People/current/jiwang/local/anaconda3/envs/image_py3.9/lib/python3.9/site-packages/skimage/filters/thresholding.py:561: RuntimeWarning: divide by zero encountered in divide\n",
      "  higher = (csum_intensity[-1] - csum_intensity[:-1]) / csumh[:-1]\n"
     ]
    },
    {
     "name": "stdout",
     "output_type": "stream",
     "text": [
      "241010_10x_d6-Nk22-Shh_iF-iP_dox_D8_29_01_isotropic\n"
     ]
    },
    {
     "name": "stderr",
     "output_type": "stream",
     "text": [
      "/groups/tanaka/People/current/jiwang/local/anaconda3/envs/image_py3.9/lib/python3.9/site-packages/skimage/filters/thresholding.py:561: RuntimeWarning: divide by zero encountered in divide\n",
      "  higher = (csum_intensity[-1] - csum_intensity[:-1]) / csumh[:-1]\n",
      "/groups/tanaka/People/current/jiwang/local/anaconda3/envs/image_py3.9/lib/python3.9/site-packages/skimage/filters/thresholding.py:466: RuntimeWarning: divide by zero encountered in log\n",
      "  crit = np.log(((P1_sq[:-1] * P2_sq[1:]) ** -1) * (P1[:-1] * (1.0 - P1[:-1])) ** 2)\n"
     ]
    },
    {
     "name": "stdout",
     "output_type": "stream",
     "text": [
      "241010_10x_d6-Nk22-Shh_iF-iP_dox_D8_30_01_isotropic\n"
     ]
    },
    {
     "name": "stderr",
     "output_type": "stream",
     "text": [
      "/groups/tanaka/People/current/jiwang/local/anaconda3/envs/image_py3.9/lib/python3.9/site-packages/skimage/filters/thresholding.py:561: RuntimeWarning: divide by zero encountered in divide\n",
      "  higher = (csum_intensity[-1] - csum_intensity[:-1]) / csumh[:-1]\n"
     ]
    },
    {
     "name": "stdout",
     "output_type": "stream",
     "text": [
      "241010_10x_d6-Nk22-Shh_iF-iP_dox_D8_31_01_isotropic\n"
     ]
    },
    {
     "name": "stderr",
     "output_type": "stream",
     "text": [
      "/groups/tanaka/People/current/jiwang/local/anaconda3/envs/image_py3.9/lib/python3.9/site-packages/skimage/filters/thresholding.py:561: RuntimeWarning: divide by zero encountered in divide\n",
      "  higher = (csum_intensity[-1] - csum_intensity[:-1]) / csumh[:-1]\n"
     ]
    },
    {
     "name": "stdout",
     "output_type": "stream",
     "text": [
      "241010_10x_d6-Nk22-Shh_iF-iP_dox_D8_32_01_isotropic\n"
     ]
    },
    {
     "name": "stderr",
     "output_type": "stream",
     "text": [
      "/groups/tanaka/People/current/jiwang/local/anaconda3/envs/image_py3.9/lib/python3.9/site-packages/skimage/filters/thresholding.py:561: RuntimeWarning: divide by zero encountered in divide\n",
      "  higher = (csum_intensity[-1] - csum_intensity[:-1]) / csumh[:-1]\n"
     ]
    },
    {
     "name": "stdout",
     "output_type": "stream",
     "text": [
      "241010_10x_d6-Nk22-Shh_iF-iP_dox_D9_33_01_isotropic\n"
     ]
    },
    {
     "name": "stderr",
     "output_type": "stream",
     "text": [
      "/groups/tanaka/People/current/jiwang/local/anaconda3/envs/image_py3.9/lib/python3.9/site-packages/skimage/filters/thresholding.py:466: RuntimeWarning: divide by zero encountered in log\n",
      "  crit = np.log(((P1_sq[:-1] * P2_sq[1:]) ** -1) * (P1[:-1] * (1.0 - P1[:-1])) ** 2)\n",
      "/groups/tanaka/People/current/jiwang/local/anaconda3/envs/image_py3.9/lib/python3.9/site-packages/skimage/filters/thresholding.py:561: RuntimeWarning: divide by zero encountered in divide\n",
      "  higher = (csum_intensity[-1] - csum_intensity[:-1]) / csumh[:-1]\n"
     ]
    },
    {
     "name": "stdout",
     "output_type": "stream",
     "text": [
      "241010_10x_d6-Nk22-Shh_iF-iP_dox_D9_34_01_isotropic\n"
     ]
    },
    {
     "name": "stderr",
     "output_type": "stream",
     "text": [
      "/groups/tanaka/People/current/jiwang/local/anaconda3/envs/image_py3.9/lib/python3.9/site-packages/skimage/filters/thresholding.py:466: RuntimeWarning: divide by zero encountered in log\n",
      "  crit = np.log(((P1_sq[:-1] * P2_sq[1:]) ** -1) * (P1[:-1] * (1.0 - P1[:-1])) ** 2)\n",
      "/groups/tanaka/People/current/jiwang/local/anaconda3/envs/image_py3.9/lib/python3.9/site-packages/skimage/filters/thresholding.py:561: RuntimeWarning: divide by zero encountered in divide\n",
      "  higher = (csum_intensity[-1] - csum_intensity[:-1]) / csumh[:-1]\n"
     ]
    },
    {
     "name": "stdout",
     "output_type": "stream",
     "text": [
      "241010_10x_d6-Nk22-Shh_iF-iP_dox_D9_35_01_isotropic\n"
     ]
    },
    {
     "name": "stderr",
     "output_type": "stream",
     "text": [
      "/groups/tanaka/People/current/jiwang/local/anaconda3/envs/image_py3.9/lib/python3.9/site-packages/skimage/filters/thresholding.py:466: RuntimeWarning: divide by zero encountered in log\n",
      "  crit = np.log(((P1_sq[:-1] * P2_sq[1:]) ** -1) * (P1[:-1] * (1.0 - P1[:-1])) ** 2)\n",
      "/groups/tanaka/People/current/jiwang/local/anaconda3/envs/image_py3.9/lib/python3.9/site-packages/skimage/filters/thresholding.py:561: RuntimeWarning: divide by zero encountered in divide\n",
      "  higher = (csum_intensity[-1] - csum_intensity[:-1]) / csumh[:-1]\n"
     ]
    },
    {
     "name": "stdout",
     "output_type": "stream",
     "text": [
      "241010_10x_d6-Nk22-Shh_iF-iP_dox_D9_36_01_isotropic\n"
     ]
    },
    {
     "name": "stderr",
     "output_type": "stream",
     "text": [
      "/groups/tanaka/People/current/jiwang/local/anaconda3/envs/image_py3.9/lib/python3.9/site-packages/skimage/filters/thresholding.py:561: RuntimeWarning: divide by zero encountered in divide\n",
      "  higher = (csum_intensity[-1] - csum_intensity[:-1]) / csumh[:-1]\n",
      "/groups/tanaka/People/current/jiwang/local/anaconda3/envs/image_py3.9/lib/python3.9/site-packages/skimage/filters/thresholding.py:466: RuntimeWarning: divide by zero encountered in log\n",
      "  crit = np.log(((P1_sq[:-1] * P2_sq[1:]) ** -1) * (P1[:-1] * (1.0 - P1[:-1])) ** 2)\n"
     ]
    },
    {
     "name": "stdout",
     "output_type": "stream",
     "text": [
      "241010_10x_d6-Nk22-Shh_iF-iP_noRA_D1_1_01_isotropic\n"
     ]
    },
    {
     "name": "stderr",
     "output_type": "stream",
     "text": [
      "/groups/tanaka/People/current/jiwang/local/anaconda3/envs/image_py3.9/lib/python3.9/site-packages/skimage/filters/thresholding.py:561: RuntimeWarning: divide by zero encountered in divide\n",
      "  higher = (csum_intensity[-1] - csum_intensity[:-1]) / csumh[:-1]\n",
      "/groups/tanaka/People/current/jiwang/local/anaconda3/envs/image_py3.9/lib/python3.9/site-packages/skimage/filters/thresholding.py:466: RuntimeWarning: divide by zero encountered in log\n",
      "  crit = np.log(((P1_sq[:-1] * P2_sq[1:]) ** -1) * (P1[:-1] * (1.0 - P1[:-1])) ** 2)\n"
     ]
    },
    {
     "name": "stdout",
     "output_type": "stream",
     "text": [
      "241010_10x_d6-Nk22-Shh_iF-iP_noRA_D1_2_01_isotropic\n"
     ]
    },
    {
     "name": "stderr",
     "output_type": "stream",
     "text": [
      "/groups/tanaka/People/current/jiwang/local/anaconda3/envs/image_py3.9/lib/python3.9/site-packages/skimage/filters/thresholding.py:466: RuntimeWarning: divide by zero encountered in log\n",
      "  crit = np.log(((P1_sq[:-1] * P2_sq[1:]) ** -1) * (P1[:-1] * (1.0 - P1[:-1])) ** 2)\n",
      "/groups/tanaka/People/current/jiwang/local/anaconda3/envs/image_py3.9/lib/python3.9/site-packages/skimage/filters/thresholding.py:561: RuntimeWarning: divide by zero encountered in divide\n",
      "  higher = (csum_intensity[-1] - csum_intensity[:-1]) / csumh[:-1]\n"
     ]
    },
    {
     "name": "stdout",
     "output_type": "stream",
     "text": [
      "241010_10x_d6-Nk22-Shh_iF-iP_noRA_D1_3_01_isotropic\n"
     ]
    },
    {
     "name": "stderr",
     "output_type": "stream",
     "text": [
      "/groups/tanaka/People/current/jiwang/local/anaconda3/envs/image_py3.9/lib/python3.9/site-packages/skimage/filters/thresholding.py:466: RuntimeWarning: divide by zero encountered in log\n",
      "  crit = np.log(((P1_sq[:-1] * P2_sq[1:]) ** -1) * (P1[:-1] * (1.0 - P1[:-1])) ** 2)\n",
      "/groups/tanaka/People/current/jiwang/local/anaconda3/envs/image_py3.9/lib/python3.9/site-packages/skimage/filters/thresholding.py:561: RuntimeWarning: divide by zero encountered in divide\n",
      "  higher = (csum_intensity[-1] - csum_intensity[:-1]) / csumh[:-1]\n"
     ]
    },
    {
     "name": "stdout",
     "output_type": "stream",
     "text": [
      "241010_10x_d6-Nk22-Shh_iF-iP_noRA_D1_4_01_isotropic\n"
     ]
    },
    {
     "name": "stderr",
     "output_type": "stream",
     "text": [
      "/groups/tanaka/People/current/jiwang/local/anaconda3/envs/image_py3.9/lib/python3.9/site-packages/skimage/filters/thresholding.py:466: RuntimeWarning: divide by zero encountered in log\n",
      "  crit = np.log(((P1_sq[:-1] * P2_sq[1:]) ** -1) * (P1[:-1] * (1.0 - P1[:-1])) ** 2)\n",
      "/groups/tanaka/People/current/jiwang/local/anaconda3/envs/image_py3.9/lib/python3.9/site-packages/skimage/filters/thresholding.py:561: RuntimeWarning: divide by zero encountered in divide\n",
      "  higher = (csum_intensity[-1] - csum_intensity[:-1]) / csumh[:-1]\n"
     ]
    },
    {
     "name": "stdout",
     "output_type": "stream",
     "text": [
      "241010_10x_d6-Nk22-Shh_iF-iP_noRA_D2_5_01_isotropic\n"
     ]
    },
    {
     "name": "stderr",
     "output_type": "stream",
     "text": [
      "/groups/tanaka/People/current/jiwang/local/anaconda3/envs/image_py3.9/lib/python3.9/site-packages/skimage/filters/thresholding.py:466: RuntimeWarning: divide by zero encountered in log\n",
      "  crit = np.log(((P1_sq[:-1] * P2_sq[1:]) ** -1) * (P1[:-1] * (1.0 - P1[:-1])) ** 2)\n",
      "/groups/tanaka/People/current/jiwang/local/anaconda3/envs/image_py3.9/lib/python3.9/site-packages/skimage/filters/thresholding.py:561: RuntimeWarning: divide by zero encountered in divide\n",
      "  higher = (csum_intensity[-1] - csum_intensity[:-1]) / csumh[:-1]\n"
     ]
    },
    {
     "name": "stdout",
     "output_type": "stream",
     "text": [
      "241010_10x_d6-Nk22-Shh_iF-iP_noRA_D2_6_01_isotropic\n"
     ]
    },
    {
     "name": "stderr",
     "output_type": "stream",
     "text": [
      "/groups/tanaka/People/current/jiwang/local/anaconda3/envs/image_py3.9/lib/python3.9/site-packages/skimage/filters/thresholding.py:466: RuntimeWarning: divide by zero encountered in log\n",
      "  crit = np.log(((P1_sq[:-1] * P2_sq[1:]) ** -1) * (P1[:-1] * (1.0 - P1[:-1])) ** 2)\n",
      "/groups/tanaka/People/current/jiwang/local/anaconda3/envs/image_py3.9/lib/python3.9/site-packages/skimage/filters/thresholding.py:561: RuntimeWarning: divide by zero encountered in divide\n",
      "  higher = (csum_intensity[-1] - csum_intensity[:-1]) / csumh[:-1]\n"
     ]
    },
    {
     "name": "stdout",
     "output_type": "stream",
     "text": [
      "241010_10x_d6-Nk22-Shh_iF-iP_noRA_D2_7_01_isotropic\n"
     ]
    },
    {
     "name": "stderr",
     "output_type": "stream",
     "text": [
      "/groups/tanaka/People/current/jiwang/local/anaconda3/envs/image_py3.9/lib/python3.9/site-packages/skimage/filters/thresholding.py:466: RuntimeWarning: divide by zero encountered in log\n",
      "  crit = np.log(((P1_sq[:-1] * P2_sq[1:]) ** -1) * (P1[:-1] * (1.0 - P1[:-1])) ** 2)\n",
      "/groups/tanaka/People/current/jiwang/local/anaconda3/envs/image_py3.9/lib/python3.9/site-packages/skimage/filters/thresholding.py:561: RuntimeWarning: divide by zero encountered in divide\n",
      "  higher = (csum_intensity[-1] - csum_intensity[:-1]) / csumh[:-1]\n"
     ]
    },
    {
     "name": "stdout",
     "output_type": "stream",
     "text": [
      "241010_10x_d6-Nk22-Shh_iF-iP_noRA_D2_8_01_isotropic\n"
     ]
    },
    {
     "name": "stderr",
     "output_type": "stream",
     "text": [
      "/groups/tanaka/People/current/jiwang/local/anaconda3/envs/image_py3.9/lib/python3.9/site-packages/skimage/filters/thresholding.py:466: RuntimeWarning: divide by zero encountered in log\n",
      "  crit = np.log(((P1_sq[:-1] * P2_sq[1:]) ** -1) * (P1[:-1] * (1.0 - P1[:-1])) ** 2)\n",
      "/groups/tanaka/People/current/jiwang/local/anaconda3/envs/image_py3.9/lib/python3.9/site-packages/skimage/filters/thresholding.py:561: RuntimeWarning: divide by zero encountered in divide\n",
      "  higher = (csum_intensity[-1] - csum_intensity[:-1]) / csumh[:-1]\n"
     ]
    },
    {
     "name": "stdout",
     "output_type": "stream",
     "text": [
      "241010_10x_d6-Nk22-Shh_iF-iP_noRA_D3_10_01_isotropic\n"
     ]
    },
    {
     "name": "stderr",
     "output_type": "stream",
     "text": [
      "/groups/tanaka/People/current/jiwang/local/anaconda3/envs/image_py3.9/lib/python3.9/site-packages/skimage/filters/thresholding.py:466: RuntimeWarning: divide by zero encountered in log\n",
      "  crit = np.log(((P1_sq[:-1] * P2_sq[1:]) ** -1) * (P1[:-1] * (1.0 - P1[:-1])) ** 2)\n",
      "/groups/tanaka/People/current/jiwang/local/anaconda3/envs/image_py3.9/lib/python3.9/site-packages/skimage/filters/thresholding.py:561: RuntimeWarning: divide by zero encountered in divide\n",
      "  higher = (csum_intensity[-1] - csum_intensity[:-1]) / csumh[:-1]\n"
     ]
    },
    {
     "name": "stdout",
     "output_type": "stream",
     "text": [
      "241010_10x_d6-Nk22-Shh_iF-iP_noRA_D3_11_01_isotropic\n"
     ]
    },
    {
     "name": "stderr",
     "output_type": "stream",
     "text": [
      "/groups/tanaka/People/current/jiwang/local/anaconda3/envs/image_py3.9/lib/python3.9/site-packages/skimage/filters/thresholding.py:466: RuntimeWarning: divide by zero encountered in log\n",
      "  crit = np.log(((P1_sq[:-1] * P2_sq[1:]) ** -1) * (P1[:-1] * (1.0 - P1[:-1])) ** 2)\n",
      "/groups/tanaka/People/current/jiwang/local/anaconda3/envs/image_py3.9/lib/python3.9/site-packages/skimage/filters/thresholding.py:561: RuntimeWarning: divide by zero encountered in divide\n",
      "  higher = (csum_intensity[-1] - csum_intensity[:-1]) / csumh[:-1]\n"
     ]
    },
    {
     "name": "stdout",
     "output_type": "stream",
     "text": [
      "241010_10x_d6-Nk22-Shh_iF-iP_noRA_D3_12_01_isotropic\n"
     ]
    },
    {
     "name": "stderr",
     "output_type": "stream",
     "text": [
      "/groups/tanaka/People/current/jiwang/local/anaconda3/envs/image_py3.9/lib/python3.9/site-packages/skimage/filters/thresholding.py:466: RuntimeWarning: divide by zero encountered in log\n",
      "  crit = np.log(((P1_sq[:-1] * P2_sq[1:]) ** -1) * (P1[:-1] * (1.0 - P1[:-1])) ** 2)\n",
      "/groups/tanaka/People/current/jiwang/local/anaconda3/envs/image_py3.9/lib/python3.9/site-packages/skimage/filters/thresholding.py:561: RuntimeWarning: divide by zero encountered in divide\n",
      "  higher = (csum_intensity[-1] - csum_intensity[:-1]) / csumh[:-1]\n"
     ]
    },
    {
     "name": "stdout",
     "output_type": "stream",
     "text": [
      "241010_10x_d6-Nk22-Shh_iF-iP_noRA_D3_9_01_isotropic\n"
     ]
    },
    {
     "name": "stderr",
     "output_type": "stream",
     "text": [
      "/groups/tanaka/People/current/jiwang/local/anaconda3/envs/image_py3.9/lib/python3.9/site-packages/skimage/filters/thresholding.py:561: RuntimeWarning: divide by zero encountered in divide\n",
      "  higher = (csum_intensity[-1] - csum_intensity[:-1]) / csumh[:-1]\n",
      "/groups/tanaka/People/current/jiwang/local/anaconda3/envs/image_py3.9/lib/python3.9/site-packages/skimage/filters/thresholding.py:466: RuntimeWarning: divide by zero encountered in log\n",
      "  crit = np.log(((P1_sq[:-1] * P2_sq[1:]) ** -1) * (P1[:-1] * (1.0 - P1[:-1])) ** 2)\n"
     ]
    }
   ],
   "source": [
    "for nm in os.listdir(imageDir):\n",
    "    if \"_C5_CystMask.tiff\" in nm:\n",
    "        #print(nm)\n",
    "        fileName = nm.replace('_C5_CystMask.tiff','')\n",
    "        #files += [nm]\n",
    "        print(fileName)\n",
    "        #make_composite_C5(newName, ImageDir, outDir)\n",
    "        \n",
    "        mask = imread(os.path.join(imageDir, str(fileName + \"_C5_CystMask.tiff\"))) # mask segmeted cysts\n",
    "        C1 = imread(os.path.join(imageDir, str(fileName + \"_C1.tif\"))) # Nkx22, nuclei\n",
    "        C2 = imread(os.path.join(imageDir, str(fileName + \"_C2.tif\"))) # FoxA2-TetOn genotype Scarlet, nuclei\n",
    "        C3 = imread(os.path.join(imageDir, str(fileName + \"_C3.tif\"))) # Pax6-TetON genotype \n",
    "        C4 = imread(os.path.join(imageDir, str(fileName + \"_C4.tif\"))) # Shh, nuclei\n",
    "        \n",
    "        C1 = C1 / np.quantile(C1, 0.95)\n",
    "        C2 = C2 / np.quantile(C2, 0.95)\n",
    "        C3 = C3 / np.quantile(C3, 0.95)\n",
    "        C4 = C4 / np.quantile(C4, 0.95)\n",
    "        \n",
    "        labels_mask, nb_cyst = measure.label(mask, return_num = True)\n",
    "        \n",
    "        #cutoff_fako_image = threshold_otsu(C2)\n",
    "        #cutoff_pxko_image = threshold_otsu(C3)\n",
    "        #cutoff_foxa2_image = threshold_otsu(C1)\n",
    "        #cutoff_pax6_image = threshold_otsu(C4)\n",
    "        cutoff_fako_global_otsu = filters.threshold_otsu(C2)\n",
    "        cutoff_pxko_global_otsu = filters.threshold_otsu(C3)\n",
    "        \n",
    "        cutoff_fako_global_mean = filters.threshold_mean(C2)\n",
    "        cutoff_pxko_global_mean = filters.threshold_mean(C3)\n",
    "        \n",
    "        cutoff_fako_global_li = filters.threshold_li(C2)\n",
    "        cutoff_pxko_global_li = filters.threshold_li(C3)\n",
    "        \n",
    "        cutoff_fako_global_yen = filters.threshold_yen(C2)\n",
    "        cutoff_pxko_global_yen = filters.threshold_yen(C3)\n",
    "        \n",
    "        cutoff_fako_global_isodata = filters.threshold_isodata(C2)\n",
    "        cutoff_pxko_global_isodata = filters.threshold_isodata(C3)\n",
    "        \n",
    "        \n",
    "        #cutoff_foxa2_global_multiotsu = filters.threshold_multiotsu(C1, classes=3, nbins = 512)[1]\n",
    "        #cutoff_pax6_global_multiotsu = filters.threshold_multiotsu(C4, classes=3, nbins = 512)[1]\n",
    "        \n",
    "        cutoff_foxa2_global_multiotsu = 1.015299\n",
    "        cutoff_pax6_global_multiotsu = 1.228769\n",
    "        \n",
    "        \n",
    "        cutoff_foxa2_global_otsu = filters.threshold_otsu(C1)\n",
    "        cutoff_pax6_global_otsu = filters.threshold_otsu(C4)\n",
    "        \n",
    "        cutoff_foxa2_global_mean = filters.threshold_mean(C1)\n",
    "        cutoff_pax6_global_mean = filters.threshold_mean(C4)\n",
    "        \n",
    "        cutoff_foxa2_global_li = filters.threshold_li(C1)\n",
    "        cutoff_pax6_global_li = filters.threshold_li(C4)\n",
    "        \n",
    "        cutoff_foxa2_global_yen = filters.threshold_yen(C1)\n",
    "        cutoff_pax6_global_yen = filters.threshold_yen(C4)\n",
    "        \n",
    "        cutoff_foxa2_global_isodata = filters.threshold_isodata(C1)\n",
    "        cutoff_pax6_global_isodata = filters.threshold_isodata(C4)\n",
    "        \n",
    "        #quantile95_fako_image = np.quantile(C2, 0.95)\n",
    "        #quantile95_pxko_image = np.quantile(C3, 0.95)\n",
    "        #quantile95_foxa2_image = np.quantile(C1, 0.95)\n",
    "        #quantile95_pax6_image = np.quantile(C4, 0.95)\n",
    "        \n",
    "        for i in range(nb_cyst+1):\n",
    "            if i > 0:\n",
    "                cyst_index = np.where(labels_mask == i)\n",
    "                \n",
    "                keep = [fileName, i, cyst_index[0].size]\n",
    "                \n",
    "                genotype_fako = C2[cyst_index]\n",
    "                genotype_pxko = C3[cyst_index]\n",
    "                foxa2 = C1[cyst_index]\n",
    "                pax6 = C4[cyst_index]\n",
    "                \n",
    "                # counting genotype using the global thresholds\n",
    "                #index_fako_global = np.where((genotype_fako > cutoff_fako_image) & (genotype_fako > genotype_pxko))\n",
    "                #index_pxko_global = np.where((genotype_pxko > cutoff_pxko_image) & (genotype_fako < genotype_pxko))\n",
    "                index_fako_global = np.where((genotype_fako > cutoff_fako_global_otsu) & (genotype_pxko < cutoff_pxko_global_otsu))\n",
    "                index_pxko_global = np.where((genotype_pxko > cutoff_pxko_global_otsu) & (genotype_fako < cutoff_fako_global_otsu))\n",
    "                keep = keep + [cutoff_fako_global_otsu, cutoff_pxko_global_otsu, index_fako_global[0].size, index_pxko_global[0].size ]\n",
    "                \n",
    "                index_fako_global = np.where((genotype_fako > cutoff_fako_global_mean) & (genotype_pxko < cutoff_pxko_global_mean))\n",
    "                index_pxko_global = np.where((genotype_pxko > cutoff_pxko_global_mean) & (genotype_fako < cutoff_fako_global_mean))\n",
    "                keep = keep + [cutoff_fako_global_mean, cutoff_pxko_global_mean, index_fako_global[0].size, index_pxko_global[0].size ]\n",
    "                \n",
    "                index_fako_global = np.where((genotype_fako > cutoff_fako_global_li) & (genotype_pxko < cutoff_pxko_global_li))\n",
    "                index_pxko_global = np.where((genotype_pxko > cutoff_pxko_global_li) & (genotype_fako < cutoff_fako_global_li))\n",
    "                keep = keep + [cutoff_fako_global_li, cutoff_pxko_global_li, index_fako_global[0].size, index_pxko_global[0].size ]\n",
    "                \n",
    "                index_fako_global = np.where((genotype_fako > cutoff_fako_global_yen) & (genotype_pxko < cutoff_pxko_global_yen))\n",
    "                index_pxko_global = np.where((genotype_pxko > cutoff_pxko_global_yen) & (genotype_fako < cutoff_fako_global_yen))\n",
    "                keep = keep + [cutoff_fako_global_yen, cutoff_pxko_global_yen, index_fako_global[0].size, index_pxko_global[0].size ]\n",
    "                \n",
    "                index_fako_global = np.where((genotype_fako > cutoff_fako_global_isodata) & (genotype_pxko < cutoff_pxko_global_isodata))\n",
    "                index_pxko_global = np.where((genotype_pxko > cutoff_pxko_global_isodata) & (genotype_fako < cutoff_fako_global_isodata))\n",
    "                keep = keep + [cutoff_fako_global_isodata, cutoff_pxko_global_isodata, index_fako_global[0].size, index_pxko_global[0].size ]\n",
    "                \n",
    "                # counting genotype using the cyst threshold\n",
    "                ## calculate the cyst-based thresholds\n",
    "                #cutoff_fako = threshold_otsu(genotype_fako)\n",
    "                #cutoff_pxko = threshold_otsu(genotype_pxko)\n",
    "                cutoff_fako = filters.threshold_otsu(genotype_fako)\n",
    "                cutoff_pxko = filters.threshold_otsu(genotype_pxko)\n",
    "                index_fako = np.where((genotype_fako > cutoff_fako) & (genotype_pxko < cutoff_pxko))\n",
    "                index_pxko = np.where((genotype_pxko > cutoff_pxko) & (genotype_fako < cutoff_fako))\n",
    "                keep = keep + [cutoff_fako, cutoff_pxko, index_fako[0].size, index_pxko[0].size]\n",
    "                \n",
    "                cutoff_fako = filters.threshold_mean(genotype_fako)\n",
    "                cutoff_pxko = filters.threshold_mean(genotype_pxko)\n",
    "                index_fako = np.where((genotype_fako > cutoff_fako) & (genotype_pxko < cutoff_pxko))\n",
    "                index_pxko = np.where((genotype_pxko > cutoff_pxko) & (genotype_fako < cutoff_fako))\n",
    "                keep = keep + [cutoff_fako, cutoff_pxko, index_fako[0].size, index_pxko[0].size]\n",
    "                \n",
    "                cutoff_fako = filters.threshold_li(genotype_fako)\n",
    "                cutoff_pxko = filters.threshold_li(genotype_pxko)\n",
    "                index_fako = np.where((genotype_fako > cutoff_fako) & (genotype_pxko < cutoff_pxko))\n",
    "                index_pxko = np.where((genotype_pxko > cutoff_pxko) & (genotype_fako < cutoff_fako))\n",
    "                keep = keep + [cutoff_fako, cutoff_pxko, index_fako[0].size, index_pxko[0].size]\n",
    "                \n",
    "                cutoff_fako = filters.threshold_yen(genotype_fako)\n",
    "                cutoff_pxko = filters.threshold_yen(genotype_pxko)\n",
    "                index_fako = np.where((genotype_fako > cutoff_fako) & (genotype_pxko < cutoff_pxko))\n",
    "                index_pxko = np.where((genotype_pxko > cutoff_pxko) & (genotype_fako < cutoff_fako))\n",
    "                keep = keep + [cutoff_fako, cutoff_pxko, index_fako[0].size, index_pxko[0].size]\n",
    "                \n",
    "                cutoff_fako = filters.threshold_isodata(genotype_fako)\n",
    "                cutoff_pxko = filters.threshold_isodata(genotype_pxko)\n",
    "                index_fako = np.where((genotype_fako > cutoff_fako) & (genotype_pxko < cutoff_pxko))\n",
    "                index_pxko = np.where((genotype_pxko > cutoff_pxko) & (genotype_fako < cutoff_fako))\n",
    "                keep = keep + [cutoff_fako, cutoff_pxko, index_fako[0].size, index_pxko[0].size]\n",
    "                \n",
    "                \n",
    "                ## counting Nkx22 and Shh (that do not exclude each other) using gloabl threshold\n",
    "                index_foxa2_global = np.where((foxa2 > cutoff_foxa2_global_multiotsu)) # Nkx22 \n",
    "                index_pax6_global = np.where((pax6 > cutoff_pax6_global_multiotsu))## Shh\n",
    "                keep = keep + [cutoff_foxa2_global_multiotsu, cutoff_pax6_global_multiotsu, index_foxa2_global[0].size, index_pax6_global[0].size ]\n",
    "                \n",
    "                index_foxa2_global = np.where((foxa2 > cutoff_foxa2_global_otsu)) # Nkx22 \n",
    "                index_pax6_global = np.where((pax6 > cutoff_pax6_global_otsu))## Shh\n",
    "                keep = keep + [cutoff_foxa2_global_otsu, cutoff_pax6_global_otsu, index_foxa2_global[0].size, index_pax6_global[0].size ]\n",
    "                \n",
    "                index_foxa2_global = np.where((foxa2 > cutoff_foxa2_global_mean)) # Nkx22 \n",
    "                index_pax6_global = np.where((pax6 > cutoff_pax6_global_mean))## Shh\n",
    "                keep = keep + [cutoff_foxa2_global_mean, cutoff_pax6_global_mean, index_foxa2_global[0].size, index_pax6_global[0].size ]\n",
    "                \n",
    "                index_foxa2_global = np.where((foxa2 > cutoff_foxa2_global_li)) # Nkx22 \n",
    "                index_pax6_global = np.where((pax6 > cutoff_pax6_global_li))## Shh\n",
    "                keep = keep + [cutoff_foxa2_global_li, cutoff_pax6_global_li, index_foxa2_global[0].size, index_pax6_global[0].size ]\n",
    "                \n",
    "                index_foxa2_global = np.where((foxa2 > cutoff_foxa2_global_yen)) # Nkx22 \n",
    "                index_pax6_global = np.where((pax6 > cutoff_pax6_global_yen))## Shh\n",
    "                keep = keep + [cutoff_foxa2_global_yen, cutoff_pax6_global_yen, index_foxa2_global[0].size, index_pax6_global[0].size ]\n",
    "                \n",
    "                index_foxa2_global = np.where((foxa2 > cutoff_foxa2_global_isodata)) # Nkx22 \n",
    "                index_pax6_global = np.where((pax6 > cutoff_pax6_global_isodata))## Shh\n",
    "                keep = keep + [cutoff_foxa2_global_isodata, cutoff_pax6_global_isodata, index_foxa2_global[0].size, index_pax6_global[0].size ]\n",
    "                \n",
    "                ## counting Nkx22 and Shh using cyst-based thresholds   \n",
    "                cutoff_foxa2 = filters.threshold_otsu(foxa2)\n",
    "                cutoff_pax6 = filters.threshold_otsu(pax6) \n",
    "                index_foxa2_cyst = np.where(foxa2 > cutoff_foxa2)\n",
    "                index_pax6_cyst = np.where(pax6 > cutoff_pax6)\n",
    "                keep = keep + [cutoff_foxa2, cutoff_pax6, index_foxa2_cyst[0].size, index_pax6_cyst[0].size ]\n",
    "                \n",
    "                cutoff_foxa2 = filters.threshold_mean(foxa2)\n",
    "                cutoff_pax6 = filters.threshold_mean(pax6) \n",
    "                index_foxa2_cyst = np.where(foxa2 > cutoff_foxa2)\n",
    "                index_pax6_cyst = np.where(pax6 > cutoff_pax6)\n",
    "                keep = keep + [cutoff_foxa2, cutoff_pax6, index_foxa2_cyst[0].size, index_pax6_cyst[0].size ]\n",
    "                \n",
    "                cutoff_foxa2 = filters.threshold_li(foxa2)\n",
    "                cutoff_pax6 = filters.threshold_li(pax6) \n",
    "                index_foxa2_cyst = np.where(foxa2 > cutoff_foxa2)\n",
    "                index_pax6_cyst = np.where(pax6 > cutoff_pax6)\n",
    "                keep = keep + [cutoff_foxa2, cutoff_pax6, index_foxa2_cyst[0].size, index_pax6_cyst[0].size ]\n",
    "                \n",
    "                cutoff_foxa2 = filters.threshold_yen(foxa2)\n",
    "                cutoff_pax6 = filters.threshold_yen(pax6) \n",
    "                index_foxa2_cyst = np.where(foxa2 > cutoff_foxa2)\n",
    "                index_pax6_cyst = np.where(pax6 > cutoff_pax6)\n",
    "                keep = keep + [cutoff_foxa2, cutoff_pax6, index_foxa2_cyst[0].size, index_pax6_cyst[0].size ]\n",
    "                \n",
    "                cutoff_foxa2 = filters.threshold_isodata(foxa2)\n",
    "                cutoff_pax6 = filters.threshold_isodata(pax6) \n",
    "                index_foxa2_cyst = np.where(foxa2 > cutoff_foxa2)\n",
    "                index_pax6_cyst = np.where(pax6 > cutoff_pax6)\n",
    "                keep = keep + [cutoff_foxa2, cutoff_pax6, index_foxa2_cyst[0].size, index_pax6_cyst[0].size ]\n",
    "                \n",
    "                #cutoff_foxa2 = filters.threshold_otsu(foxa2)\n",
    "                #cutoff_pax6 = filters.threshold_otsu(pax6) \n",
    "                #index_foxa2_cyst_otsu = np.where(foxa2 > cutoff_foxa2)\n",
    "                #index_pax6_cyst_otsu = np.where(pax6 > cutoff_pax6)\n",
    "                \n",
    "                \n",
    "                #cutoff_fako = filters.threshold_mean(genotype_fako) # genotype FoxA2-TetOn\n",
    "                #cutoff_pxko = filters.threshold_mean(genotype_pxko) # genotype Pax6-TetOn\n",
    "                #cutoff_foxa2 = filters.threshold_mean(foxa2) # Nkx22\n",
    "                #cutoff_pax6 = filters.threshold_mean(pax6) # Shh\n",
    "                \n",
    "                #quantile95_fako = np.quantile(genotype_fako, 0.95)\n",
    "                #quantile95_pxko = np.quantile(genotype_pxko, 0.95)\n",
    "                #quantile95_foxa2 = np.quantile(foxa2, 0.95)\n",
    "                #quantile95_pax6 = np.quantile(pax6, 0.95)\n",
    "                \n",
    "                # count the foxa2+ and pax6+ voxels in the whole cyst but avoid cross-channel comparison\n",
    "                #index_fako_cyst = np.where((genotype_fako > cutoff_fako) & (genotype_fako > genotype_pxko))\n",
    "                #index_pxko_cyst = np.where((genotype_pxko > cutoff_pxko) & (genotype_fako < genotype_pxko))\n",
    "                #index_fako_cyst = np.where((genotype_fako > cutoff_fako) & (genotype_pxko < cutoff_pxko))\n",
    "                #index_pxko_cyst = np.where((genotype_pxko > cutoff_pxko) & (genotype_fako < cutoff_fako))\n",
    "                \n",
    "                #foxa2_fako = foxa2[index_fako_cyst]\n",
    "                #pax6_fako = pax6[index_fako_cyst]\n",
    "                #foxa2_pxko = foxa2[index_pxko_cyst]\n",
    "                #pax6_pxko = pax6[index_pxko_cyst]\n",
    "                \n",
    "                #index_foxa2_fako = np.where(foxa2_fako > cutoff_foxa2)\n",
    "                #index_pax6_fako = np.where(pax6_fako > cutoff_pax6)\n",
    "                #index_foxa2_fako[0].size, index_pax6_fako[0].size\n",
    "                \n",
    "                #index_foxa2_pxko = np.where(foxa2_pxko > cutoff_foxa2)\n",
    "                #index_pax6_pxko = np.where(pax6_pxko > cutoff_pax6)\n",
    "                #index_pax6_pxko[0].size, index_foxa2_pxko[0].size\n",
    "                \n",
    "                #print(index_foxa2_fako[0].size, index_pax6_pxko[0].size)\n",
    "                #genotype_total = index_fako_cyst[0].size + index_pxko_cyst[0].size\n",
    "                \n",
    "                if (cyst_index[0].size) > 1000:\n",
    "                    df.loc[len(df)] = keep\n",
    "                    #df.loc[len(df)] = [fileName, i,  \n",
    "                    #                    cyst_index[0].size,\n",
    "                    #                    index_fako_global[0].size, index_pxko_global[0].size, index_foxa2_global[0].size, index_pax6_global[0].size,\n",
    "                    #                    cutoff_fako_image, cutoff_pxko_image, \n",
    "                    #                    cutoff_foxa2_image, cutoff_pax6_image, cutoff_foxa2_image_bg, cutoff_pax6_image_bg, \n",
    "                    #                    index_fako_cyst[0].size, index_pxko_cyst[0].size, cutoff_fako, cutoff_pxko,\n",
    "                    #                    index_foxa2_cyst[0].size, index_pax6_cyst[0].size, \n",
    "                    #                    #genotype_total,\n",
    "                    #                    #index_foxa2_fako[0].size,  index_pax6_fako[0].size, \n",
    "                    #                    #index_foxa2_pxko[0].size,  index_pax6_pxko[0].size, \n",
    "                    #                     cutoff_foxa2, cutoff_pax6,\n",
    "                    #                    quantile95_fako_image, quantile95_pxko_image, quantile95_foxa2_image, quantile95_pax6_image, \n",
    "                    #                    quantile95_fako, quantile95_pxko, quantile95_foxa2, quantile95_pax6\n",
    "                    #                    ]\n",
    "                                    "
   ]
  },
  {
   "cell_type": "code",
   "execution_count": 73,
   "id": "6bf3eaa6-5ec7-452a-8868-259cb57a545a",
   "metadata": {},
   "outputs": [
    {
     "data": {
      "text/html": [
       "<div>\n",
       "<style scoped>\n",
       "    .dataframe tbody tr th:only-of-type {\n",
       "        vertical-align: middle;\n",
       "    }\n",
       "\n",
       "    .dataframe tbody tr th {\n",
       "        vertical-align: top;\n",
       "    }\n",
       "\n",
       "    .dataframe thead th {\n",
       "        text-align: right;\n",
       "    }\n",
       "</style>\n",
       "<table border=\"1\" class=\"dataframe\">\n",
       "  <thead>\n",
       "    <tr style=\"text-align: right;\">\n",
       "      <th></th>\n",
       "      <th>image</th>\n",
       "      <th>cyst_index</th>\n",
       "      <th>cyst_size</th>\n",
       "      <th>cutoff_fxko_global_otsu</th>\n",
       "      <th>cutoff_pxko_global_otsu</th>\n",
       "      <th>nb_fxko_global_otsu</th>\n",
       "      <th>nb_pxko_global_otsu</th>\n",
       "      <th>cutoff_fxko_global_mean</th>\n",
       "      <th>cutoff_pxko_global_mean</th>\n",
       "      <th>nb_fxko_global_mean</th>\n",
       "      <th>...</th>\n",
       "      <th>nb_nkx_cyst_li</th>\n",
       "      <th>nb_shh_cyst_li</th>\n",
       "      <th>cutoff_nkx_cyst_yen</th>\n",
       "      <th>cutoff_shh_cyst_yen</th>\n",
       "      <th>nb_nkx_cyst_yen</th>\n",
       "      <th>nb_shh_cyst_yen</th>\n",
       "      <th>cutoff_nkx_cyst_isodata</th>\n",
       "      <th>cutoff_shh_cyst_isodata</th>\n",
       "      <th>nb_nkx_cyst_isodata</th>\n",
       "      <th>nb_shh_cyst_isodata</th>\n",
       "    </tr>\n",
       "  </thead>\n",
       "  <tbody>\n",
       "    <tr>\n",
       "      <th>0</th>\n",
       "      <td>241010_10x_d6-Nk22-Shh_iF-iP_RA_D4_13_01_isotr...</td>\n",
       "      <td>1</td>\n",
       "      <td>19508</td>\n",
       "      <td>0.820084</td>\n",
       "      <td>0.881878</td>\n",
       "      <td>0</td>\n",
       "      <td>10921</td>\n",
       "      <td>0.168155</td>\n",
       "      <td>0.133151</td>\n",
       "      <td>0</td>\n",
       "      <td>...</td>\n",
       "      <td>13804</td>\n",
       "      <td>9051</td>\n",
       "      <td>0.535338</td>\n",
       "      <td>0.610767</td>\n",
       "      <td>12462</td>\n",
       "      <td>8010</td>\n",
       "      <td>0.545317</td>\n",
       "      <td>0.619161</td>\n",
       "      <td>12236</td>\n",
       "      <td>7822</td>\n",
       "    </tr>\n",
       "    <tr>\n",
       "      <th>1</th>\n",
       "      <td>241010_10x_d6-Nk22-Shh_iF-iP_RA_D4_13_01_isotr...</td>\n",
       "      <td>2</td>\n",
       "      <td>43980</td>\n",
       "      <td>0.820084</td>\n",
       "      <td>0.881878</td>\n",
       "      <td>1019</td>\n",
       "      <td>26644</td>\n",
       "      <td>0.168155</td>\n",
       "      <td>0.133151</td>\n",
       "      <td>997</td>\n",
       "      <td>...</td>\n",
       "      <td>19740</td>\n",
       "      <td>25557</td>\n",
       "      <td>0.507655</td>\n",
       "      <td>0.825549</td>\n",
       "      <td>41301</td>\n",
       "      <td>21003</td>\n",
       "      <td>0.802322</td>\n",
       "      <td>0.792636</td>\n",
       "      <td>16739</td>\n",
       "      <td>22266</td>\n",
       "    </tr>\n",
       "    <tr>\n",
       "      <th>2</th>\n",
       "      <td>241010_10x_d6-Nk22-Shh_iF-iP_RA_D4_13_01_isotr...</td>\n",
       "      <td>3</td>\n",
       "      <td>61544</td>\n",
       "      <td>0.820084</td>\n",
       "      <td>0.881878</td>\n",
       "      <td>26933</td>\n",
       "      <td>1503</td>\n",
       "      <td>0.168155</td>\n",
       "      <td>0.133151</td>\n",
       "      <td>20997</td>\n",
       "      <td>...</td>\n",
       "      <td>19455</td>\n",
       "      <td>36291</td>\n",
       "      <td>1.942021</td>\n",
       "      <td>1.539873</td>\n",
       "      <td>4652</td>\n",
       "      <td>2610</td>\n",
       "      <td>1.281956</td>\n",
       "      <td>0.771464</td>\n",
       "      <td>15063</td>\n",
       "      <td>32273</td>\n",
       "    </tr>\n",
       "    <tr>\n",
       "      <th>3</th>\n",
       "      <td>241010_10x_d6-Nk22-Shh_iF-iP_RA_D4_13_01_isotr...</td>\n",
       "      <td>4</td>\n",
       "      <td>3048</td>\n",
       "      <td>0.820084</td>\n",
       "      <td>0.881878</td>\n",
       "      <td>0</td>\n",
       "      <td>1653</td>\n",
       "      <td>0.168155</td>\n",
       "      <td>0.133151</td>\n",
       "      <td>0</td>\n",
       "      <td>...</td>\n",
       "      <td>2047</td>\n",
       "      <td>1396</td>\n",
       "      <td>0.411477</td>\n",
       "      <td>0.270591</td>\n",
       "      <td>1839</td>\n",
       "      <td>875</td>\n",
       "      <td>0.404265</td>\n",
       "      <td>0.243164</td>\n",
       "      <td>1886</td>\n",
       "      <td>1242</td>\n",
       "    </tr>\n",
       "    <tr>\n",
       "      <th>4</th>\n",
       "      <td>241010_10x_d6-Nk22-Shh_iF-iP_RA_D4_13_01_isotr...</td>\n",
       "      <td>5</td>\n",
       "      <td>28316</td>\n",
       "      <td>0.820084</td>\n",
       "      <td>0.881878</td>\n",
       "      <td>29</td>\n",
       "      <td>19455</td>\n",
       "      <td>0.168155</td>\n",
       "      <td>0.133151</td>\n",
       "      <td>255</td>\n",
       "      <td>...</td>\n",
       "      <td>10781</td>\n",
       "      <td>15398</td>\n",
       "      <td>1.298821</td>\n",
       "      <td>0.790444</td>\n",
       "      <td>2652</td>\n",
       "      <td>13290</td>\n",
       "      <td>0.964470</td>\n",
       "      <td>0.768814</td>\n",
       "      <td>8679</td>\n",
       "      <td>13708</td>\n",
       "    </tr>\n",
       "    <tr>\n",
       "      <th>...</th>\n",
       "      <td>...</td>\n",
       "      <td>...</td>\n",
       "      <td>...</td>\n",
       "      <td>...</td>\n",
       "      <td>...</td>\n",
       "      <td>...</td>\n",
       "      <td>...</td>\n",
       "      <td>...</td>\n",
       "      <td>...</td>\n",
       "      <td>...</td>\n",
       "      <td>...</td>\n",
       "      <td>...</td>\n",
       "      <td>...</td>\n",
       "      <td>...</td>\n",
       "      <td>...</td>\n",
       "      <td>...</td>\n",
       "      <td>...</td>\n",
       "      <td>...</td>\n",
       "      <td>...</td>\n",
       "      <td>...</td>\n",
       "      <td>...</td>\n",
       "    </tr>\n",
       "    <tr>\n",
       "      <th>1775</th>\n",
       "      <td>241010_10x_d6-Nk22-Shh_iF-iP_noRA_D3_9_01_isot...</td>\n",
       "      <td>56</td>\n",
       "      <td>12488</td>\n",
       "      <td>1.285292</td>\n",
       "      <td>1.444323</td>\n",
       "      <td>7855</td>\n",
       "      <td>0</td>\n",
       "      <td>0.192570</td>\n",
       "      <td>0.163669</td>\n",
       "      <td>12066</td>\n",
       "      <td>...</td>\n",
       "      <td>9307</td>\n",
       "      <td>7669</td>\n",
       "      <td>0.805100</td>\n",
       "      <td>0.970895</td>\n",
       "      <td>9465</td>\n",
       "      <td>7027</td>\n",
       "      <td>0.977265</td>\n",
       "      <td>0.994404</td>\n",
       "      <td>7705</td>\n",
       "      <td>6837</td>\n",
       "    </tr>\n",
       "    <tr>\n",
       "      <th>1776</th>\n",
       "      <td>241010_10x_d6-Nk22-Shh_iF-iP_noRA_D3_9_01_isot...</td>\n",
       "      <td>57</td>\n",
       "      <td>12976</td>\n",
       "      <td>1.285292</td>\n",
       "      <td>1.444323</td>\n",
       "      <td>1415</td>\n",
       "      <td>4380</td>\n",
       "      <td>0.192570</td>\n",
       "      <td>0.163669</td>\n",
       "      <td>4910</td>\n",
       "      <td>...</td>\n",
       "      <td>10451</td>\n",
       "      <td>8549</td>\n",
       "      <td>0.464373</td>\n",
       "      <td>0.514367</td>\n",
       "      <td>10154</td>\n",
       "      <td>7560</td>\n",
       "      <td>0.475344</td>\n",
       "      <td>0.499125</td>\n",
       "      <td>9981</td>\n",
       "      <td>7713</td>\n",
       "    </tr>\n",
       "    <tr>\n",
       "      <th>1777</th>\n",
       "      <td>241010_10x_d6-Nk22-Shh_iF-iP_noRA_D3_9_01_isot...</td>\n",
       "      <td>58</td>\n",
       "      <td>28036</td>\n",
       "      <td>1.285292</td>\n",
       "      <td>1.444323</td>\n",
       "      <td>10690</td>\n",
       "      <td>6317</td>\n",
       "      <td>0.192570</td>\n",
       "      <td>0.163669</td>\n",
       "      <td>7748</td>\n",
       "      <td>...</td>\n",
       "      <td>11476</td>\n",
       "      <td>20434</td>\n",
       "      <td>1.502369</td>\n",
       "      <td>0.927339</td>\n",
       "      <td>6560</td>\n",
       "      <td>20278</td>\n",
       "      <td>1.269074</td>\n",
       "      <td>1.050805</td>\n",
       "      <td>9791</td>\n",
       "      <td>18437</td>\n",
       "    </tr>\n",
       "    <tr>\n",
       "      <th>1778</th>\n",
       "      <td>241010_10x_d6-Nk22-Shh_iF-iP_noRA_D3_9_01_isot...</td>\n",
       "      <td>59</td>\n",
       "      <td>67656</td>\n",
       "      <td>1.285292</td>\n",
       "      <td>1.444323</td>\n",
       "      <td>39368</td>\n",
       "      <td>5911</td>\n",
       "      <td>0.192570</td>\n",
       "      <td>0.163669</td>\n",
       "      <td>33919</td>\n",
       "      <td>...</td>\n",
       "      <td>33176</td>\n",
       "      <td>40282</td>\n",
       "      <td>1.167685</td>\n",
       "      <td>1.095020</td>\n",
       "      <td>29821</td>\n",
       "      <td>27503</td>\n",
       "      <td>1.199974</td>\n",
       "      <td>0.962016</td>\n",
       "      <td>28888</td>\n",
       "      <td>33429</td>\n",
       "    </tr>\n",
       "    <tr>\n",
       "      <th>1779</th>\n",
       "      <td>241010_10x_d6-Nk22-Shh_iF-iP_noRA_D3_9_01_isot...</td>\n",
       "      <td>60</td>\n",
       "      <td>15072</td>\n",
       "      <td>1.285292</td>\n",
       "      <td>1.444323</td>\n",
       "      <td>122</td>\n",
       "      <td>10043</td>\n",
       "      <td>0.192570</td>\n",
       "      <td>0.163669</td>\n",
       "      <td>11</td>\n",
       "      <td>...</td>\n",
       "      <td>10797</td>\n",
       "      <td>9489</td>\n",
       "      <td>1.026346</td>\n",
       "      <td>0.834440</td>\n",
       "      <td>2402</td>\n",
       "      <td>7934</td>\n",
       "      <td>0.706256</td>\n",
       "      <td>0.814549</td>\n",
       "      <td>9687</td>\n",
       "      <td>8218</td>\n",
       "    </tr>\n",
       "  </tbody>\n",
       "</table>\n",
       "<p>1780 rows × 87 columns</p>\n",
       "</div>"
      ],
      "text/plain": [
       "                                                  image  cyst_index  \\\n",
       "0     241010_10x_d6-Nk22-Shh_iF-iP_RA_D4_13_01_isotr...           1   \n",
       "1     241010_10x_d6-Nk22-Shh_iF-iP_RA_D4_13_01_isotr...           2   \n",
       "2     241010_10x_d6-Nk22-Shh_iF-iP_RA_D4_13_01_isotr...           3   \n",
       "3     241010_10x_d6-Nk22-Shh_iF-iP_RA_D4_13_01_isotr...           4   \n",
       "4     241010_10x_d6-Nk22-Shh_iF-iP_RA_D4_13_01_isotr...           5   \n",
       "...                                                 ...         ...   \n",
       "1775  241010_10x_d6-Nk22-Shh_iF-iP_noRA_D3_9_01_isot...          56   \n",
       "1776  241010_10x_d6-Nk22-Shh_iF-iP_noRA_D3_9_01_isot...          57   \n",
       "1777  241010_10x_d6-Nk22-Shh_iF-iP_noRA_D3_9_01_isot...          58   \n",
       "1778  241010_10x_d6-Nk22-Shh_iF-iP_noRA_D3_9_01_isot...          59   \n",
       "1779  241010_10x_d6-Nk22-Shh_iF-iP_noRA_D3_9_01_isot...          60   \n",
       "\n",
       "      cyst_size  cutoff_fxko_global_otsu  cutoff_pxko_global_otsu  \\\n",
       "0         19508                 0.820084                 0.881878   \n",
       "1         43980                 0.820084                 0.881878   \n",
       "2         61544                 0.820084                 0.881878   \n",
       "3          3048                 0.820084                 0.881878   \n",
       "4         28316                 0.820084                 0.881878   \n",
       "...         ...                      ...                      ...   \n",
       "1775      12488                 1.285292                 1.444323   \n",
       "1776      12976                 1.285292                 1.444323   \n",
       "1777      28036                 1.285292                 1.444323   \n",
       "1778      67656                 1.285292                 1.444323   \n",
       "1779      15072                 1.285292                 1.444323   \n",
       "\n",
       "      nb_fxko_global_otsu  nb_pxko_global_otsu  cutoff_fxko_global_mean  \\\n",
       "0                       0                10921                 0.168155   \n",
       "1                    1019                26644                 0.168155   \n",
       "2                   26933                 1503                 0.168155   \n",
       "3                       0                 1653                 0.168155   \n",
       "4                      29                19455                 0.168155   \n",
       "...                   ...                  ...                      ...   \n",
       "1775                 7855                    0                 0.192570   \n",
       "1776                 1415                 4380                 0.192570   \n",
       "1777                10690                 6317                 0.192570   \n",
       "1778                39368                 5911                 0.192570   \n",
       "1779                  122                10043                 0.192570   \n",
       "\n",
       "      cutoff_pxko_global_mean  nb_fxko_global_mean  ...  nb_nkx_cyst_li  \\\n",
       "0                    0.133151                    0  ...           13804   \n",
       "1                    0.133151                  997  ...           19740   \n",
       "2                    0.133151                20997  ...           19455   \n",
       "3                    0.133151                    0  ...            2047   \n",
       "4                    0.133151                  255  ...           10781   \n",
       "...                       ...                  ...  ...             ...   \n",
       "1775                 0.163669                12066  ...            9307   \n",
       "1776                 0.163669                 4910  ...           10451   \n",
       "1777                 0.163669                 7748  ...           11476   \n",
       "1778                 0.163669                33919  ...           33176   \n",
       "1779                 0.163669                   11  ...           10797   \n",
       "\n",
       "      nb_shh_cyst_li  cutoff_nkx_cyst_yen  cutoff_shh_cyst_yen  \\\n",
       "0               9051             0.535338             0.610767   \n",
       "1              25557             0.507655             0.825549   \n",
       "2              36291             1.942021             1.539873   \n",
       "3               1396             0.411477             0.270591   \n",
       "4              15398             1.298821             0.790444   \n",
       "...              ...                  ...                  ...   \n",
       "1775            7669             0.805100             0.970895   \n",
       "1776            8549             0.464373             0.514367   \n",
       "1777           20434             1.502369             0.927339   \n",
       "1778           40282             1.167685             1.095020   \n",
       "1779            9489             1.026346             0.834440   \n",
       "\n",
       "      nb_nkx_cyst_yen  nb_shh_cyst_yen  cutoff_nkx_cyst_isodata  \\\n",
       "0               12462             8010                 0.545317   \n",
       "1               41301            21003                 0.802322   \n",
       "2                4652             2610                 1.281956   \n",
       "3                1839              875                 0.404265   \n",
       "4                2652            13290                 0.964470   \n",
       "...               ...              ...                      ...   \n",
       "1775             9465             7027                 0.977265   \n",
       "1776            10154             7560                 0.475344   \n",
       "1777             6560            20278                 1.269074   \n",
       "1778            29821            27503                 1.199974   \n",
       "1779             2402             7934                 0.706256   \n",
       "\n",
       "      cutoff_shh_cyst_isodata  nb_nkx_cyst_isodata  nb_shh_cyst_isodata  \n",
       "0                    0.619161                12236                 7822  \n",
       "1                    0.792636                16739                22266  \n",
       "2                    0.771464                15063                32273  \n",
       "3                    0.243164                 1886                 1242  \n",
       "4                    0.768814                 8679                13708  \n",
       "...                       ...                  ...                  ...  \n",
       "1775                 0.994404                 7705                 6837  \n",
       "1776                 0.499125                 9981                 7713  \n",
       "1777                 1.050805                 9791                18437  \n",
       "1778                 0.962016                28888                33429  \n",
       "1779                 0.814549                 9687                 8218  \n",
       "\n",
       "[1780 rows x 87 columns]"
      ]
     },
     "execution_count": 73,
     "metadata": {},
     "output_type": "execute_result"
    }
   ],
   "source": [
    "df "
   ]
  },
  {
   "cell_type": "code",
   "execution_count": 74,
   "id": "7403caf3-7cbe-4290-a5d9-c624b378af43",
   "metadata": {},
   "outputs": [],
   "source": [
    "df.to_csv(os.path.join(outDir, \"cyst_size_genotype_Nkx22_Shh_global_manual.csv\"), index=True, header=True)"
   ]
  },
  {
   "cell_type": "code",
   "execution_count": null,
   "id": "c19195a3-a639-4151-bba4-b1bf0cea1a9b",
   "metadata": {},
   "outputs": [],
   "source": []
  },
  {
   "cell_type": "code",
   "execution_count": null,
   "id": "2cc72a6c-29d8-4649-a658-5cf3fa81a97d",
   "metadata": {},
   "outputs": [],
   "source": []
  },
  {
   "cell_type": "code",
   "execution_count": null,
   "id": "10aac19d-3c5e-42b7-9783-cfd8a125450f",
   "metadata": {},
   "outputs": [],
   "source": []
  }
 ],
 "metadata": {
  "kernelspec": {
   "display_name": "Python [conda env:image_py3.9]",
   "language": "python",
   "name": "conda-env-image_py3.9-py"
  },
  "language_info": {
   "codemirror_mode": {
    "name": "ipython",
    "version": 3
   },
   "file_extension": ".py",
   "mimetype": "text/x-python",
   "name": "python",
   "nbconvert_exporter": "python",
   "pygments_lexer": "ipython3",
   "version": "3.9.19"
  }
 },
 "nbformat": 4,
 "nbformat_minor": 5
}
