{
 "cells": [
  {
   "cell_type": "code",
   "execution_count": 1,
   "id": "f7338d4d-f404-477f-81a8-69654f7c6a07",
   "metadata": {},
   "outputs": [],
   "source": [
    "## original code from https://biapol.github.io/Image-data-science-with-Python-and-Napari-EPFL2022/day2d_image_segmentation/12_Segmentation_3D.html\n",
    "## env setting to see https://github.com/clEsperanto/pyclesperanto_prototype/tree/master"
   ]
  },
  {
   "cell_type": "code",
   "execution_count": 2,
   "id": "95c3316e-0ae6-43a9-b5d2-03887d56b090",
   "metadata": {},
   "outputs": [],
   "source": [
    "from skimage.io import imread\n",
    "from skimage.io import imsave\n",
    "from skimage import filters\n",
    "from skimage import morphology\n",
    "from pyclesperanto_prototype import imshow\n",
    "import pyclesperanto_prototype as cle\n",
    "import matplotlib.pyplot as plt"
   ]
  },
  {
   "cell_type": "code",
   "execution_count": 3,
   "id": "67558da2-c483-425d-b13a-80e768d016fa",
   "metadata": {},
   "outputs": [],
   "source": [
    "import napari\n",
    "from napari.utils import nbscreenshot"
   ]
  },
  {
   "cell_type": "code",
   "execution_count": 4,
   "id": "c7310633-d0c0-485b-a42a-00ae47d78ea5",
   "metadata": {},
   "outputs": [],
   "source": [
    "import numpy as np\n",
    "import matplotlib\n",
    "import matplotlib.pyplot as plt\n",
    "import pandas as pd\n",
    "from skimage import measure"
   ]
  },
  {
   "cell_type": "code",
   "execution_count": 5,
   "id": "a387c1e5-4aa9-466e-9bd7-883b0f3671ae",
   "metadata": {},
   "outputs": [
    {
     "data": {
      "text/plain": [
       "'/groups/tanaka/People/current/jiwang/projects/RA_competence/scripts'"
      ]
     },
     "execution_count": 5,
     "metadata": {},
     "output_type": "execute_result"
    }
   ],
   "source": [
    "import os\n",
    "os.getcwd()"
   ]
  },
  {
   "cell_type": "code",
   "execution_count": 6,
   "id": "a5e4e447-279b-492a-bdf5-f78225d41e3b",
   "metadata": {},
   "outputs": [
    {
     "data": {
      "text/plain": [
       "['Oclgrind Simulator']"
      ]
     },
     "execution_count": 6,
     "metadata": {},
     "output_type": "execute_result"
    }
   ],
   "source": [
    "cle.available_device_names()"
   ]
  },
  {
   "cell_type": "code",
   "execution_count": 7,
   "id": "9851aa73-846a-4f62-944d-a31b140a629e",
   "metadata": {},
   "outputs": [
    {
     "name": "stderr",
     "output_type": "stream",
     "text": [
      "/groups/tanaka/People/current/jiwang/local/anaconda3/envs/image_py3.9/lib/python3.9/site-packages/pyclesperanto_prototype/_tier0/_device.py:77: UserWarning: No OpenCL device found with TX in their name. Using Oclgrind Simulator instead.\n",
      "  warnings.warn(f\"No OpenCL device found with {name} in their name. Using {device.name} instead.\")\n"
     ]
    },
    {
     "data": {
      "text/plain": [
       "<Oclgrind Simulator on Platform: Oclgrind (2 refs)>"
      ]
     },
     "execution_count": 7,
     "metadata": {},
     "output_type": "execute_result"
    }
   ],
   "source": [
    "# For 3D processing, powerful graphics\n",
    "# processing units might be necessary\n",
    "cle.select_device('TX')"
   ]
  },
  {
   "cell_type": "code",
   "execution_count": 8,
   "id": "7f44fe4e-a315-4a85-8904-a78c1ff13121",
   "metadata": {},
   "outputs": [],
   "source": [
    "def show(image_to_show, labels=False):\n",
    "    \"\"\"\n",
    "    This function generates three projections: in X-, Y- and Z-direction and shows them.\n",
    "    \"\"\"\n",
    "    projection_x = cle.maximum_x_projection(image_to_show)\n",
    "    projection_y = cle.maximum_y_projection(image_to_show)\n",
    "    projection_z = cle.maximum_z_projection(image_to_show)\n",
    "\n",
    "    fig, axs = plt.subplots(1, 3, figsize=(15, 15))\n",
    "    cle.imshow(projection_x, plot=axs[0], labels=labels)\n",
    "    cle.imshow(projection_y, plot=axs[1], labels=labels)\n",
    "    cle.imshow(projection_z, plot=axs[2], labels=labels)\n",
    "    plt.show()\n"
   ]
  },
  {
   "cell_type": "code",
   "execution_count": null,
   "id": "ffaa78e9-6a7b-4bf2-b602-07bc0792ddcc",
   "metadata": {},
   "outputs": [],
   "source": []
  },
  {
   "cell_type": "code",
   "execution_count": null,
   "id": "b7d3a587-deaa-4851-a32a-ee31772513b6",
   "metadata": {},
   "outputs": [],
   "source": []
  },
  {
   "cell_type": "code",
   "execution_count": 8,
   "id": "71db0445-72e8-46e3-bebb-fd8af2f60df5",
   "metadata": {},
   "outputs": [],
   "source": [
    "#################################################################\n",
    "#################################################################\n",
    "## RA control samples to check the FoxA2/Pax6 ratios\n",
    "#################################################################\n",
    "#################################################################"
   ]
  },
  {
   "cell_type": "code",
   "execution_count": 9,
   "id": "e69076bb-0f9b-4618-a68e-600d57027e02",
   "metadata": {},
   "outputs": [],
   "source": [
    "imageDir = \"../images_data/d4_WT\""
   ]
  },
  {
   "cell_type": "code",
   "execution_count": 10,
   "id": "1dda59ca-5897-45a5-a82b-9b326c988d30",
   "metadata": {},
   "outputs": [],
   "source": [
    "outDir = \"../images_data/results/test_WT_FoxA2_pct\"\n",
    "if not os.path.exists(outDir):\n",
    "    os.mkdir(outDir)\n",
    "#os.path.exists(outDir)"
   ]
  },
  {
   "cell_type": "code",
   "execution_count": 11,
   "id": "60fce79d-f8cd-4bcd-8cc3-9b5d7a726632",
   "metadata": {},
   "outputs": [],
   "source": [
    "fileName = '20220726_d4_10x_RA-18h_E2_121_1745_isotropic'"
   ]
  },
  {
   "cell_type": "code",
   "execution_count": 14,
   "id": "63399beb-13d0-479d-9f95-2cac06271688",
   "metadata": {},
   "outputs": [],
   "source": [
    "mask = imread(os.path.join(imageDir, str(fileName + \"_C4_CystMask.tiff\"))) # mask segmeted cysts\n",
    "C3 = imread(os.path.join(imageDir, str(fileName + \"_C3.tif\"))) # FoxA2, nuclei\n",
    "C2 = imread(os.path.join(imageDir, str(fileName + \"_C2.tif\"))) # Pax6, nuclei\n",
    "\n",
    "#C3 = C3 / np.quantile(C3, 0.95)\n",
    "#C2 = C2 / np.quantile(C2, 0.95)"
   ]
  },
  {
   "cell_type": "code",
   "execution_count": 18,
   "id": "4ce85c5d-a202-4699-a210-2d1496a5ed19",
   "metadata": {},
   "outputs": [],
   "source": [
    "from skimage import measure\n",
    "import pandas as pd\n",
    "from skimage.filters import threshold_otsu, rank\n",
    "import pyclesperanto_prototype as cle\n",
    "from skimage import filters\n",
    "from skimage.filters import try_all_threshold\n",
    "import napari_simpleitk_image_processing as nsitk\n",
    "\n",
    "## try the local thresholding \n",
    "## https://scikit-image.org/docs/stable/auto_examples/applications/plot_thresholding_guide.html\n",
    "## threshold_local or skimage.filters.rank.otsu"
   ]
  },
  {
   "cell_type": "code",
   "execution_count": null,
   "id": "72bdcbf1-8d3e-4b72-820c-c70d65a19fb0",
   "metadata": {},
   "outputs": [],
   "source": [
    "labels_mask, nb_cyst = measure.label(mask, return_num = True)"
   ]
  },
  {
   "cell_type": "code",
   "execution_count": null,
   "id": "cb72aff0-a269-4e75-858a-62529dea6b44",
   "metadata": {},
   "outputs": [
    {
     "data": {
      "text/plain": [
       "27"
      ]
     },
     "execution_count": 17,
     "metadata": {},
     "output_type": "execute_result"
    }
   ],
   "source": [
    "nb_cyst"
   ]
  },
  {
   "cell_type": "code",
   "execution_count": 82,
   "id": "27e55412-938f-4a94-a9c2-640d030403c0",
   "metadata": {},
   "outputs": [
    {
     "data": {
      "text/plain": [
       "40508"
      ]
     },
     "execution_count": 82,
     "metadata": {},
     "output_type": "execute_result"
    }
   ],
   "source": [
    "cyst_index = np.where(labels_mask == 2)\n",
    "cyst_index[0].size\n",
    "#genotype_wt = C3[cyst_index]\n",
    "#genotype_ko = C2[cyst_index]"
   ]
  },
  {
   "cell_type": "code",
   "execution_count": 83,
   "id": "041fbcc2-37ef-4de1-994d-c8d1b03a4d8e",
   "metadata": {},
   "outputs": [],
   "source": [
    "foxa2 = C3[cyst_index]\n",
    "pax6 = C2[cyst_index]\n",
    "\n",
    "foxa2_blur = filters.gaussian(foxa2, sigma=1.0)\n",
    "pax6_blur = filters.gaussian(pax6, sigma=1.0)"
   ]
  },
  {
   "cell_type": "code",
   "execution_count": 84,
   "id": "f09d3110-90a6-4785-b6c0-56eb89146693",
   "metadata": {},
   "outputs": [
    {
     "name": "stdout",
     "output_type": "stream",
     "text": [
      "2.0603932584269664 12.28093274111675 2.094923647915625 12.183763005104478\n"
     ]
    }
   ],
   "source": [
    "cutoff_foxa2 = threshold_otsu(foxa2)\n",
    "cutoff_pax6 = threshold_otsu(pax6)\n",
    "cutoff_foxa2_blur = threshold_otsu(foxa2_blur)\n",
    "cutoff_pax6_blur = threshold_otsu(pax6_blur)\n",
    "print(cutoff_foxa2, cutoff_pax6, cutoff_foxa2_blur, cutoff_pax6_blur)"
   ]
  },
  {
   "cell_type": "code",
   "execution_count": 85,
   "id": "2b550020-caab-4566-940e-b025633a2667",
   "metadata": {},
   "outputs": [
    {
     "name": "stdout",
     "output_type": "stream",
     "text": [
      "0.1438619484491044\n",
      "0.1438619484491044\n",
      "0.10499820208558072\n"
     ]
    }
   ],
   "source": [
    "xx = np.where((foxa2 > cutoff_foxa2) & (pax6 < cutoff_pax6))\n",
    "yy = np.where((foxa2 < cutoff_foxa2 ) & (pax6 > cutoff_pax6))\n",
    "zz = np.where((foxa2 > cutoff_foxa2 ) & (pax6 > cutoff_pax6))\n",
    "#print(zz[0].size/(xx[0].size + yy[0].size + zz[0].size))\n",
    "print(xx[0].size/(xx[0].size + yy[0].size + zz[0].size))\n",
    "\n",
    "xx = np.where((foxa2 > cutoff_foxa2) & (pax6 < cutoff_pax6))\n",
    "yy = np.where((foxa2 < cutoff_foxa2 ) & (pax6 > cutoff_pax6))\n",
    "zz1 = np.where((foxa2 > cutoff_foxa2 ) & (pax6 > cutoff_pax6) & (foxa2 > pax6))\n",
    "zz2 = np.where((foxa2 > cutoff_foxa2 ) & (pax6 > cutoff_pax6) & (foxa2 < pax6))\n",
    "#print(zz[0].size/(xx[0].size + yy[0].size + zz[0].size))\n",
    "print((xx[0].size + zz1[0].size)/(xx[0].size + yy[0].size + zz1[0].size + zz2[0].size))\n",
    "#print(zz1[0].size, zz2[0].size)\n",
    "\n",
    "xx = np.where((foxa2_blur > cutoff_foxa2_blur) & (pax6_blur < cutoff_pax6_blur))\n",
    "yy = np.where((foxa2_blur < cutoff_foxa2_blur ) & (pax6_blur > cutoff_pax6_blur))\n",
    "zz = np.where((foxa2_blur > cutoff_foxa2_blur ) & (pax6_blur > cutoff_pax6_blur))\n",
    "#print(zz[0].size/(xx[0].size + yy[0].size + zz[0].size))\n",
    "print(xx[0].size/(xx[0].size + yy[0].size + zz[0].size))\n",
    "\n",
    "## either one positive \n",
    "#sels = np.where((foxa2 > cutoff_foxa2) | (pax6 > cutoff_pax6))\n",
    "#pax6_sels = pax6[sels]\n",
    "#foxa2_sels = foxa2[sels]\n",
    "# specify the FoxA2-KO and Pax6-KO genotype voxels \n",
    "#index_foxa2 = np.where(foxa2_sels >= pax6_sels)\n",
    "#index_pax6 = np.where(foxa2_sels < pax6_sels)\n",
    "#print(index_foxa2[0].size/(index_foxa2[0].size + index_pax6[0].size))"
   ]
  },
  {
   "cell_type": "code",
   "execution_count": 86,
   "id": "c38f76df-e185-4631-9280-37589d627b6b",
   "metadata": {},
   "outputs": [
    {
     "name": "stdout",
     "output_type": "stream",
     "text": [
      "2.0603932584269664 12.28093274111675 2.067557908817686 12.183763005104478\n",
      "0.1438619484491044\n",
      "0.1438619484491044\n",
      "0.11138878971795788\n"
     ]
    }
   ],
   "source": [
    "cutoff_foxa2 = filters.threshold_isodata(foxa2)\n",
    "cutoff_pax6 = filters.threshold_isodata(pax6)\n",
    "cutoff_foxa2_blur = filters.threshold_isodata(foxa2_blur)\n",
    "cutoff_pax6_blur = filters.threshold_isodata(pax6_blur)\n",
    "print(cutoff_foxa2, cutoff_pax6, cutoff_foxa2_blur, cutoff_pax6_blur)\n",
    "xx = np.where((foxa2 > cutoff_foxa2) & (pax6 < cutoff_pax6))\n",
    "yy = np.where((foxa2 < cutoff_foxa2 ) & (pax6 > cutoff_pax6))\n",
    "zz = np.where((foxa2 > cutoff_foxa2 ) & (pax6 > cutoff_pax6))\n",
    "#print(zz[0].size/(xx[0].size + yy[0].size + zz[0].size))\n",
    "print(xx[0].size/(xx[0].size + yy[0].size + zz[0].size))\n",
    "\n",
    "xx = np.where((foxa2 > cutoff_foxa2) & (pax6 < cutoff_pax6))\n",
    "yy = np.where((foxa2 < cutoff_foxa2 ) & (pax6 > cutoff_pax6))\n",
    "zz1 = np.where((foxa2 > cutoff_foxa2 ) & (pax6 > cutoff_pax6) & (foxa2 > pax6))\n",
    "zz2 = np.where((foxa2 > cutoff_foxa2 ) & (pax6 > cutoff_pax6) & (foxa2 < pax6))\n",
    "#print(zz[0].size/(xx[0].size + yy[0].size + zz[0].size))\n",
    "print((xx[0].size + zz1[0].size)/(xx[0].size + yy[0].size + zz1[0].size + zz2[0].size))\n",
    "#print(zz1[0].size, zz2[0].size)\n",
    "\n",
    "xx = np.where((foxa2_blur > cutoff_foxa2_blur) & (pax6_blur < cutoff_pax6_blur))\n",
    "yy = np.where((foxa2_blur < cutoff_foxa2_blur ) & (pax6_blur > cutoff_pax6_blur))\n",
    "zz = np.where((foxa2_blur > cutoff_foxa2_blur ) & (pax6_blur > cutoff_pax6_blur))\n",
    "#print(zz[0].size/(xx[0].size + yy[0].size + zz[0].size))\n",
    "print(xx[0].size/(xx[0].size + yy[0].size + zz[0].size))"
   ]
  },
  {
   "cell_type": "code",
   "execution_count": 87,
   "id": "56dfd1b8-2dd2-4288-9635-9e63dba90d49",
   "metadata": {},
   "outputs": [
    {
     "name": "stdout",
     "output_type": "stream",
     "text": [
      "1.8810858637601733 9.855629027130883 1.9019925167853553 10.034888387555059\n"
     ]
    }
   ],
   "source": [
    "cutoff_foxa2 = filters.threshold_li(foxa2)\n",
    "cutoff_pax6 = filters.threshold_li(pax6)\n",
    "cutoff_foxa2_blur = filters.threshold_li(foxa2_blur)\n",
    "cutoff_pax6_blur = filters.threshold_li(pax6_blur)\n",
    "print(cutoff_foxa2, cutoff_pax6, cutoff_foxa2_blur, cutoff_pax6_blur)"
   ]
  },
  {
   "cell_type": "code",
   "execution_count": 89,
   "id": "a1dc0fce-8e73-4e1c-91ca-7e9ab9c2e7a1",
   "metadata": {},
   "outputs": [
    {
     "name": "stdout",
     "output_type": "stream",
     "text": [
      "0.08885737917995983\n",
      "0.5651302605210421\n",
      "0.08885737917995983\n",
      "0.07236444265269099\n"
     ]
    }
   ],
   "source": [
    "xx = np.where((foxa2 > cutoff_foxa2) & (pax6 < cutoff_pax6))\n",
    "yy = np.where((foxa2 < cutoff_foxa2 ) & (pax6 > cutoff_pax6))\n",
    "zz = np.where((foxa2 > cutoff_foxa2 ) & (pax6 > cutoff_pax6))\n",
    "#print(zz[0].size/(xx[0].size + yy[0].size + zz[0].size))\n",
    "print(xx[0].size/(xx[0].size + yy[0].size + zz[0].size))\n",
    "#print(zz[0].size)\n",
    "print(xx[0].size/(xx[0].size + yy[0].size))\n",
    "\n",
    "xx = np.where((foxa2 > cutoff_foxa2) & (pax6 < cutoff_pax6))\n",
    "yy = np.where((foxa2 < cutoff_foxa2 ) & (pax6 > cutoff_pax6))\n",
    "zz1 = np.where((foxa2 > cutoff_foxa2 ) & (pax6 > cutoff_pax6) & (foxa2 > pax6))\n",
    "zz2 = np.where((foxa2 > cutoff_foxa2 ) & (pax6 > cutoff_pax6) & (foxa2 < pax6))\n",
    "#print(zz[0].size/(xx[0].size + yy[0].size + zz[0].size))\n",
    "print((xx[0].size + zz1[0].size)/(xx[0].size + yy[0].size + zz1[0].size + zz2[0].size))\n",
    "#print(zz1[0].size, zz2[0].size)\n",
    "\n",
    "\n",
    "xx = np.where((foxa2_blur > cutoff_foxa2_blur) & (pax6_blur < cutoff_pax6_blur))\n",
    "yy = np.where((foxa2_blur < cutoff_foxa2_blur ) & (pax6_blur > cutoff_pax6_blur))\n",
    "zz = np.where((foxa2_blur > cutoff_foxa2_blur ) & (pax6_blur > cutoff_pax6_blur))\n",
    "#print(zz[0].size/(xx[0].size + yy[0].size + zz[0].size))\n",
    "print(xx[0].size/(xx[0].size + yy[0].size + zz[0].size))\n"
   ]
  },
  {
   "cell_type": "code",
   "execution_count": null,
   "id": "f53b6f27-7e4a-4b35-b2d8-c62d1b417c34",
   "metadata": {},
   "outputs": [],
   "source": []
  },
  {
   "cell_type": "code",
   "execution_count": null,
   "id": "53ee7975-122b-4488-b8ad-76936a7697d2",
   "metadata": {},
   "outputs": [],
   "source": []
  },
  {
   "cell_type": "code",
   "execution_count": 13,
   "id": "d9299127-19d5-42f3-98f5-20bcfb053c03",
   "metadata": {},
   "outputs": [
    {
     "data": {
      "text/html": [
       "<div>\n",
       "<style scoped>\n",
       "    .dataframe tbody tr th:only-of-type {\n",
       "        vertical-align: middle;\n",
       "    }\n",
       "\n",
       "    .dataframe tbody tr th {\n",
       "        vertical-align: top;\n",
       "    }\n",
       "\n",
       "    .dataframe thead th {\n",
       "        text-align: right;\n",
       "    }\n",
       "</style>\n",
       "<table border=\"1\" class=\"dataframe\">\n",
       "  <thead>\n",
       "    <tr style=\"text-align: right;\">\n",
       "      <th></th>\n",
       "      <th>image</th>\n",
       "      <th>cyst_index</th>\n",
       "      <th>cyst_size</th>\n",
       "      <th>cutoff_otsu_cyst_foxa2</th>\n",
       "      <th>cutoff_otsu_cyst_pax6</th>\n",
       "      <th>nb_foxa2_otsu_cyst</th>\n",
       "      <th>nb_pax6_otsu_cyst</th>\n",
       "      <th>nb_double_otsu_cyst</th>\n",
       "      <th>cutoff_otsu_global_foxa2</th>\n",
       "      <th>cutoff_otsu_global_pax6</th>\n",
       "      <th>...</th>\n",
       "      <th>nb_pax6_mean_cyst</th>\n",
       "      <th>nb_double_mean_cyst</th>\n",
       "      <th>cutoff_li_global_foxa2</th>\n",
       "      <th>cutoff_li_global_pax6</th>\n",
       "      <th>nb_foxa2_li_global</th>\n",
       "      <th>nb_pax6_li_global</th>\n",
       "      <th>nb_double_li_global</th>\n",
       "      <th>nb_foxa2_localThreshold</th>\n",
       "      <th>nb_pax6_localThreshold</th>\n",
       "      <th>nb_double_localThreshold</th>\n",
       "    </tr>\n",
       "  </thead>\n",
       "  <tbody>\n",
       "  </tbody>\n",
       "</table>\n",
       "<p>0 rows × 31 columns</p>\n",
       "</div>"
      ],
      "text/plain": [
       "Empty DataFrame\n",
       "Columns: [image, cyst_index, cyst_size, cutoff_otsu_cyst_foxa2, cutoff_otsu_cyst_pax6, nb_foxa2_otsu_cyst, nb_pax6_otsu_cyst, nb_double_otsu_cyst, cutoff_otsu_global_foxa2, cutoff_otsu_global_pax6, nb_foxa2_otsu_global, nb_pax6_otsu_global, nb_double_otsu_global, cutoff_li_cyst_foxa2, cutoff_li_cyst_pax6, nb_foxa2_li_cyst, nb_pax6_li_cyst, nb_double_li_cyst, cutoff_mean_cyst_foxa2, cutoff_mean_cyst_pax6, nb_foxa2_mean_cyst, nb_pax6_mean_cyst, nb_double_mean_cyst, cutoff_li_global_foxa2, cutoff_li_global_pax6, nb_foxa2_li_global, nb_pax6_li_global, nb_double_li_global, nb_foxa2_localThreshold, nb_pax6_localThreshold, nb_double_localThreshold]\n",
       "Index: []\n",
       "\n",
       "[0 rows x 31 columns]"
      ]
     },
     "execution_count": 13,
     "metadata": {},
     "output_type": "execute_result"
    }
   ],
   "source": [
    "import pandas as pd\n",
    "from skimage import measure\n",
    "from skimage.filters import threshold_otsu, rank\n",
    "\n",
    "data = {\"image\": [], \"cyst_index\": [], \"cyst_size\": [],  \n",
    "        \"cutoff_otsu_cyst_foxa2\": [],  \"cutoff_otsu_cyst_pax6\": [], \"nb_foxa2_otsu_cyst\": [], \"nb_pax6_otsu_cyst\": [],  \"nb_double_otsu_cyst\": [],\n",
    "        \"cutoff_otsu_global_foxa2\": [],  \"cutoff_otsu_global_pax6\": [], \"nb_foxa2_otsu_global\": [], \"nb_pax6_otsu_global\": [],  \"nb_double_otsu_global\": [],\n",
    "        \"cutoff_li_cyst_foxa2\": [],  \"cutoff_li_cyst_pax6\": [], \"nb_foxa2_li_cyst\": [], \"nb_pax6_li_cyst\": [],  \"nb_double_li_cyst\": [],\n",
    "        \"cutoff_mean_cyst_foxa2\": [],  \"cutoff_mean_cyst_pax6\": [], \"nb_foxa2_mean_cyst\": [], \"nb_pax6_mean_cyst\": [],  \"nb_double_mean_cyst\": [],\n",
    "        \"cutoff_li_global_foxa2\": [],  \"cutoff_li_global_pax6\": [], \"nb_foxa2_li_global\": [], \"nb_pax6_li_global\": [],  \"nb_double_li_global\": [],\n",
    "        \"nb_foxa2_localThreshold\": [], \"nb_pax6_localThreshold\": [],  \"nb_double_localThreshold\": []\n",
    "        \n",
    "       }\n",
    "df = pd.DataFrame(data)\n",
    "df"
   ]
  },
  {
   "cell_type": "code",
   "execution_count": 14,
   "id": "7a40c02d-2dc5-4a19-bb93-313488801d53",
   "metadata": {},
   "outputs": [
    {
     "name": "stdout",
     "output_type": "stream",
     "text": [
      "20220726_d4_10x_RA-18h_E2_121_1745_isotropic\n",
      "20220726_d4_10x_RA-18h_E2_122_1746_isotropic\n",
      "20220726_d4_10x_RA-18h_E2_123_1747_isotropic\n",
      "20220726_d4_10x_RA-18h_E2_124_1748_isotropic\n",
      "20220726_d4_10x_RA-18h_F2_161_1785_isotropic\n",
      "20220726_d4_10x_RA-18h_F2_162_1786_isotropic\n",
      "20220726_d4_10x_RA-18h_F2_163_1787_isotropic\n",
      "20220726_d4_10x_RA-18h_F2_164_1788_isotropic\n",
      "20220726_d4_10x_RA-18h_G2_201_1825_isotropic\n",
      "20220726_d4_10x_RA-18h_G2_202_1826_isotropic\n",
      "20220726_d4_10x_RA-18h_G2_203_1827_isotropic\n",
      "20220726_d4_10x_RA-18h_G2_204_1828_isotropic\n"
     ]
    }
   ],
   "source": [
    "for nm in os.listdir(imageDir):\n",
    "    if \"_C4_CystMask.tiff\" in nm:\n",
    "        #print(nm)\n",
    "        fileName = nm.replace('_C4_CystMask.tiff','')\n",
    "        #files += [nm]\n",
    "        print(fileName)\n",
    "        #make_composite_C5(newName, ImageDir, outDir)\n",
    "        \n",
    "        mask = imread(os.path.join(imageDir, str(fileName + \"_C4_CystMask.tiff\"))) # mask segmeted cysts\n",
    "        C3 = imread(os.path.join(imageDir, str(fileName + \"_C3.tif\"))) # FoxA2, nuclei\n",
    "        C2 = imread(os.path.join(imageDir, str(fileName + \"_C2.tif\"))) # Pax6, nuclei\n",
    "        \n",
    "        #C3_blur = filters.gaussian(C3, sigma=1.0)\n",
    "        #C2_blur = filters.gaussian(C2, sigma=1.0)\n",
    "        \n",
    "        #C3 = C3 / np.quantile(C3, 0.99)\n",
    "        #C2 = C2 / np.quantile(C2, 0.99)\n",
    "        \n",
    "        cutoff_global_otsu_foxa2 = threshold_otsu(C3)\n",
    "        cutoff_global_otsu_pax6 = threshold_otsu(C2)\n",
    "        cutoff_global_li_foxa2 = filters.threshold_li(C3)\n",
    "        cutoff_global_li_pax6 = filters.threshold_li(C2)\n",
    "        \n",
    "        #image = ski.data.page()\n",
    "\n",
    "        block_size = 51\n",
    "        local_thresh_C3 = filters.threshold_local(C3, block_size, offset=0)\n",
    "        binary_local_C3 = C3 > local_thresh_C3\n",
    "        local_thresh_C2 = filters.threshold_local(C2, block_size, offset=0)\n",
    "        binary_local_C2 = C2 > local_thresh_C2\n",
    "        \n",
    "        \n",
    "        #mask = imread(os.path.join(CPoutDir, str(fileName + \"_C4_CystMask.tiff\"))) # mask segmeted cysts\n",
    "        #C1 = imread(os.path.join(CPoutDir, str(fileName + \"_C3_FoxA2mask.tiff\"))) # FoxA2, nuclei\n",
    "        #C2 = imread(os.path.join(CPoutDir, str(fileName + \"_C2_Pax6mask.tiff\"))) # Pax6, nuclei\n",
    "        \n",
    "        labels_mask, nb_cyst = measure.label(mask, return_num = True)\n",
    "\n",
    "        for i in range(nb_cyst+1):\n",
    "            if i > 0:\n",
    "                #print(i) # prints: -1, 0, 1, 2, 3, 4,\n",
    "                cyst_index = np.where(labels_mask == i)\n",
    "                \n",
    "                keep = [fileName, i, cyst_index[0].size]\n",
    "                \n",
    "                foxa2 = C3[cyst_index]\n",
    "                pax6 = C2[cyst_index]\n",
    "                \n",
    "                #foxa2_blur = C3_blur[cyst_index]\n",
    "                #pax6_blur = C2_blur[cyst_index]\n",
    "                \n",
    "                ## cutoff of FoxA2 and Pax6 in each cyst with otsu \n",
    "                cutoff_foxa2 = threshold_otsu(foxa2)\n",
    "                cutoff_pax6 = threshold_otsu(pax6)\n",
    "                \n",
    "                ## define the FoxA2+ only, Pax6+ only, and double positive with cyst otsu \n",
    "                xx = np.where((foxa2 > cutoff_foxa2) & (pax6 < cutoff_pax6)) #  \n",
    "                yy = np.where((foxa2 < cutoff_foxa2 ) & (pax6 > cutoff_pax6))\n",
    "                zz = np.where((foxa2 > cutoff_foxa2 ) & (pax6 > cutoff_pax6))\n",
    "                \n",
    "                keep = keep + [cutoff_foxa2, cutoff_pax6, xx[0].size, yy[0].size, zz[0].size]\n",
    "                \n",
    "                xx = np.where((foxa2 > cutoff_global_otsu_foxa2) & (pax6 < cutoff_global_otsu_pax6)) #  \n",
    "                yy = np.where((foxa2 < cutoff_global_otsu_foxa2) & (pax6 > cutoff_global_otsu_pax6))\n",
    "                zz = np.where((foxa2 > cutoff_global_otsu_foxa2) & (pax6 > cutoff_global_otsu_pax6))\n",
    "                \n",
    "                keep = keep + [cutoff_global_otsu_foxa2, cutoff_global_otsu_pax6, xx[0].size, yy[0].size, zz[0].size]\n",
    "                \n",
    "                ## cutoff of FoxA2 and Pax6 in each cyst with li \n",
    "                cutoff_foxa2 = filters.threshold_li(foxa2)\n",
    "                cutoff_pax6 = filters.threshold_li(pax6)\n",
    "                \n",
    "                xx = np.where((foxa2 > cutoff_foxa2) & (pax6 < cutoff_pax6)) #  \n",
    "                yy = np.where((foxa2 < cutoff_foxa2 ) & (pax6 > cutoff_pax6))\n",
    "                zz = np.where((foxa2 > cutoff_foxa2 ) & (pax6 > cutoff_pax6))\n",
    "                \n",
    "                keep = keep + [cutoff_foxa2, cutoff_pax6, xx[0].size, yy[0].size, zz[0].size]\n",
    "                \n",
    "                ## cutoff of FoxA2 and Pax6 in each cyst with mean thresholding\n",
    "                cutoff_foxa2 = filters.threshold_mean(foxa2)\n",
    "                cutoff_pax6 = filters.threshold_mean(pax6)\n",
    "                xx = np.where((foxa2 > cutoff_foxa2) & (pax6 < cutoff_pax6)) #  \n",
    "                yy = np.where((foxa2 < cutoff_foxa2 ) & (pax6 > cutoff_pax6))\n",
    "                zz = np.where((foxa2 > cutoff_foxa2 ) & (pax6 > cutoff_pax6))\n",
    "                \n",
    "                keep = keep + [cutoff_foxa2, cutoff_pax6, xx[0].size, yy[0].size, zz[0].size]\n",
    "                \n",
    "                xx = np.where((foxa2 > cutoff_global_li_foxa2) & (pax6 < cutoff_global_li_pax6)) #  \n",
    "                yy = np.where((foxa2 < cutoff_global_li_foxa2) & (pax6 > cutoff_global_li_pax6))\n",
    "                zz = np.where((foxa2 > cutoff_global_li_foxa2) & (pax6 > cutoff_global_li_pax6))\n",
    "                \n",
    "                \n",
    "                keep = keep + [cutoff_global_li_foxa2, cutoff_global_li_pax6, xx[0].size, yy[0].size, zz[0].size]\n",
    "                \n",
    "                ## local thresholding\n",
    "                foxa2 = binary_local_C3[cyst_index]\n",
    "                pax6 = binary_local_C2[cyst_index]\n",
    "                \n",
    "                xx = np.where((foxa2 > 0) & (pax6 < 1)) #  \n",
    "                yy = np.where((foxa2 < 1) & (pax6 > 0))\n",
    "                zz = np.where((foxa2 > 0) & (pax6 > 0))\n",
    "                \n",
    "                keep = keep + [xx[0].size, yy[0].size, zz[0].size]\n",
    "                \n",
    "                df.loc[len(df)] = keep\n",
    "                "
   ]
  },
  {
   "cell_type": "code",
   "execution_count": 15,
   "id": "9124a37b-608d-4289-bd51-405c8562944b",
   "metadata": {},
   "outputs": [],
   "source": [
    "outDir\n",
    "df.to_csv(os.path.join(outDir, \"wt_FoxA2_Pax6_voxel_counts_global_cyst_otsu_li_mean_localThreshold.csv\"), index=True, header=True)"
   ]
  },
  {
   "cell_type": "code",
   "execution_count": null,
   "id": "e6556a41-ccb0-4636-a353-c1caa17e6415",
   "metadata": {},
   "outputs": [],
   "source": []
  },
  {
   "cell_type": "code",
   "execution_count": null,
   "id": "9cd99641-2c77-4384-81ba-b9da9eb65dd9",
   "metadata": {},
   "outputs": [],
   "source": [
    "df = pd.read_csv(os.path.join(outDir, \"wt_FoxA2_Pax6.csv\"), index_col = 0)\n",
    "df"
   ]
  },
  {
   "cell_type": "code",
   "execution_count": null,
   "id": "77820e8b-e1b6-4580-8417-12ff831da758",
   "metadata": {},
   "outputs": [],
   "source": [
    "df.plot(kind='scatter', x = 'total', y =  'pct_foxa2')"
   ]
  },
  {
   "cell_type": "code",
   "execution_count": null,
   "id": "02a0e47f-b68e-40b4-ae93-94d5ef4cabda",
   "metadata": {},
   "outputs": [],
   "source": [
    "df.plot(kind='scatter', x = 'cyst_size', y =  'pct_foxa2')"
   ]
  },
  {
   "cell_type": "code",
   "execution_count": null,
   "id": "f3930119-0b54-4551-bcda-4019afdf07c3",
   "metadata": {},
   "outputs": [],
   "source": [
    "sel = np.where(df[[\"total\"]] > 5000)\n",
    "df = df.iloc[sel[0], ]\n",
    "df.plot(kind='scatter', x = 'cyst_size', y =  'pct_foxa2')"
   ]
  },
  {
   "cell_type": "code",
   "execution_count": null,
   "id": "8fdc6ad9-fce3-4408-96c7-ac5035b95733",
   "metadata": {},
   "outputs": [],
   "source": [
    "np.mean(df[['pct_foxa2']])"
   ]
  },
  {
   "cell_type": "code",
   "execution_count": null,
   "id": "b7ea66f3-42f8-4640-8042-ba13001f5af2",
   "metadata": {},
   "outputs": [],
   "source": [
    "np.std(df[['pct_foxa2']])"
   ]
  },
  {
   "cell_type": "code",
   "execution_count": null,
   "id": "d177df5f-bf6c-453c-ad9a-57a98a6b2044",
   "metadata": {},
   "outputs": [],
   "source": [
    "#rng = np.random.RandomState(10)  # deterministic random data\n",
    "#a = np.hstack((rng.normal(size=1000),\n",
    "#               rng.normal(loc=5, scale=2, size=1000)))\n",
    "a = df[['pct_foxa2']]\n",
    "plt.hist(a, bins='auto')  # arguments are passed to np.histogram\n",
    "plt.title(\"Histogram with 'auto' bins\")\n",
    "plt.show()"
   ]
  },
  {
   "cell_type": "code",
   "execution_count": null,
   "id": "776ce7eb-e25b-4f7e-b690-75aacaa2f9f4",
   "metadata": {},
   "outputs": [],
   "source": []
  },
  {
   "cell_type": "code",
   "execution_count": null,
   "id": "09dafde4-1f87-4ead-94b3-1a361acd92d1",
   "metadata": {},
   "outputs": [],
   "source": []
  },
  {
   "cell_type": "code",
   "execution_count": null,
   "id": "f3dc34f3-bd0a-4b6a-9846-6507c0c7658c",
   "metadata": {},
   "outputs": [],
   "source": [
    "#################################################################\n",
    "#################################################################\n",
    "## quantify the Olig2 in WT samples with RA \n",
    "#################################################################\n",
    "#################################################################"
   ]
  },
  {
   "cell_type": "code",
   "execution_count": 9,
   "id": "f508dabf-c2cd-4055-b7c9-907dda2726c6",
   "metadata": {},
   "outputs": [],
   "source": [
    "import pandas as pd\n",
    "from skimage import measure\n",
    "from skimage.morphology import disk\n",
    "#from skimage.filters import threshold_otsu, rank\n",
    "import pyclesperanto_prototype as cle\n",
    "from skimage import filters\n",
    "from skimage.filters import try_all_threshold\n",
    "import napari_simpleitk_image_processing as nsitk"
   ]
  },
  {
   "cell_type": "code",
   "execution_count": 10,
   "id": "551e41c4-856c-427f-9830-4a7823d06526",
   "metadata": {},
   "outputs": [],
   "source": [
    "imageDir = \"../images_data/d6_10x_WT-Olig2\"\n",
    "outDir = \"../images_data/results/WT_d6_stain_DVpatterning\"\n",
    "\n",
    "if not os.path.exists(outDir):\n",
    "    os.mkdir(outDir)\n",
    "#os.path.exists(outDir)"
   ]
  },
  {
   "cell_type": "code",
   "execution_count": 11,
   "id": "27f87cae-2865-4f14-b280-56c74d05a44c",
   "metadata": {},
   "outputs": [],
   "source": [
    "#fileName = '241023_10x_d3-2umZ_1-FS-PG_RA_FA2-Px6_C7_13_01_isotropic'\n",
    "fileName = \"20220309_FoxA2KOpatterning_10x_Wt_RA_mix2_E2_149_409_isotropic\""
   ]
  },
  {
   "cell_type": "code",
   "execution_count": 14,
   "id": "d8313212-4c0f-4bda-b4e2-58f51566497a",
   "metadata": {},
   "outputs": [],
   "source": [
    "mask = imread(os.path.join(imageDir, str(fileName + \"_C4_AllCystMask.tiff\"))) # mask segmeted cysts\n",
    "C3 = imread(os.path.join(imageDir, str(fileName + \"_C3.tif\"))) # Olig2"
   ]
  },
  {
   "cell_type": "code",
   "execution_count": 17,
   "id": "4123ede0-3fba-46f5-84f9-98752e4e8055",
   "metadata": {},
   "outputs": [
    {
     "name": "stdout",
     "output_type": "stream",
     "text": [
      "340.0 6085\n"
     ]
    }
   ],
   "source": [
    "print(np.quantile(C3, 0.95), np.max(C3))"
   ]
  },
  {
   "cell_type": "code",
   "execution_count": 18,
   "id": "55d57bd9-4273-4ac4-a3fc-e80a2210be27",
   "metadata": {},
   "outputs": [
    {
     "data": {
      "text/plain": [
       "34"
      ]
     },
     "execution_count": 18,
     "metadata": {},
     "output_type": "execute_result"
    }
   ],
   "source": [
    "labels_mask, nb_cyst = measure.label(mask, return_num = True)\n",
    "nb_cyst"
   ]
  },
  {
   "cell_type": "code",
   "execution_count": 22,
   "id": "3cbf9d86-c0cf-4ad7-a696-482fdf114b89",
   "metadata": {},
   "outputs": [
    {
     "name": "stdout",
     "output_type": "stream",
     "text": [
      "296 158.42657821365125\n"
     ]
    }
   ],
   "source": [
    "cutoff_pax6 = filters.threshold_otsu(C3)\n",
    "cutoff_pax62 = filters.threshold_li(C3)\n",
    "print(cutoff_pax6, cutoff_pax62)"
   ]
  },
  {
   "cell_type": "code",
   "execution_count": null,
   "id": "71b12d24-ca2e-4ada-880d-97db6d52e812",
   "metadata": {},
   "outputs": [],
   "source": [
    "cutoff_marker2 = filters.threshold_multiotsu(C3, classes=3, nbins = 512)\n",
    "cutoff_marker3 = filters.threshold_multiotsu(C3, classes=4, nbins = 512)\n",
    "print(cutoff_marker2, cutoff_marker3)"
   ]
  },
  {
   "cell_type": "code",
   "execution_count": null,
   "id": "64dae36f-629d-4f1a-b7b0-5316ce09ea9d",
   "metadata": {},
   "outputs": [],
   "source": [
    "import pyclesperanto_prototype as cle\n",
    "marker_binary = C3 > 485\n",
    "## visualize the 3D images https://haesleinhuepf.github.io/BioImageAnalysisNotebooks/16_3d_image_visualization/inspecting_3d_images.html\n",
    "another_slice = cle.create_2d_xy(marker_binary)\n",
    "cle.copy_slice(marker_binary, another_slice, slice_index = 46)\n",
    "# show result\n",
    "cle.imshow(another_slice)"
   ]
  },
  {
   "cell_type": "code",
   "execution_count": null,
   "id": "4263ca5f-1432-47f5-86b5-5d0cfec47699",
   "metadata": {},
   "outputs": [],
   "source": [
    "fig, axes = plt.subplots(ncols=2, figsize=(12, 5))\n",
    "ax = axes.ravel()\n",
    "\n",
    "ax[0].hist(C1.ravel(), bins=2000)\n",
    "ax[0].set_xlim([0, 3])\n",
    "ax[0].axvline(cutoff_foxa2, color='r')\n",
    "\n",
    "ax[1].hist(C4.ravel(), bins=512)\n",
    "ax[1].set_xlim([0, 300])\n",
    "ax[1].axvline(cutoff_pax6, color='r')\n",
    "ax[1].axvline(cutoff_marker2[0], color='b')\n",
    "ax[1].axvline(cutoff_marker2[1], color='b')\n",
    "ax[1].axvline(cutoff_marker3[0], color='g')\n",
    "ax[1].axvline(cutoff_marker3[1], color='g')\n",
    "ax[1].axvline(cutoff_marker3[2], color='g')"
   ]
  },
  {
   "cell_type": "code",
   "execution_count": 23,
   "id": "0936fc88-1ca1-466e-8bae-12ff5604e4d4",
   "metadata": {},
   "outputs": [
    {
     "data": {
      "text/html": [
       "<div>\n",
       "<style scoped>\n",
       "    .dataframe tbody tr th:only-of-type {\n",
       "        vertical-align: middle;\n",
       "    }\n",
       "\n",
       "    .dataframe tbody tr th {\n",
       "        vertical-align: top;\n",
       "    }\n",
       "\n",
       "    .dataframe thead th {\n",
       "        text-align: right;\n",
       "    }\n",
       "</style>\n",
       "<table border=\"1\" class=\"dataframe\">\n",
       "  <thead>\n",
       "    <tr style=\"text-align: right;\">\n",
       "      <th></th>\n",
       "      <th>image</th>\n",
       "      <th>cyst_index</th>\n",
       "      <th>cyst_size</th>\n",
       "      <th>nb_marker_global</th>\n",
       "      <th>cutoff_marker_image</th>\n",
       "      <th>nb_marker_cyst</th>\n",
       "      <th>cutoff_marker</th>\n",
       "    </tr>\n",
       "  </thead>\n",
       "  <tbody>\n",
       "  </tbody>\n",
       "</table>\n",
       "</div>"
      ],
      "text/plain": [
       "Empty DataFrame\n",
       "Columns: [image, cyst_index, cyst_size, nb_marker_global, cutoff_marker_image, nb_marker_cyst, cutoff_marker]\n",
       "Index: []"
      ]
     },
     "execution_count": 23,
     "metadata": {},
     "output_type": "execute_result"
    }
   ],
   "source": [
    "import pandas as pd\n",
    "from skimage import measure\n",
    "from skimage.morphology import disk\n",
    "from skimage.filters import threshold_otsu, rank\n",
    "from skimage import measure\n",
    "from skimage.morphology import disk\n",
    "from skimage.filters import threshold_otsu, rank\n",
    "import pyclesperanto_prototype as cle\n",
    "from skimage import filters\n",
    "from skimage.filters import try_all_threshold\n",
    "import napari_simpleitk_image_processing as nsitk\n",
    "\n",
    "from skimage import measure\n",
    "\n",
    "data = {\"image\": [], \"cyst_index\": [], \"cyst_size\": [], \n",
    "        \"nb_marker_global\": [],  \"cutoff_marker_image\": [],\n",
    "         \"nb_marker_cyst\": [], \"cutoff_marker\": []\n",
    "       }\n",
    "\n",
    "df = pd.DataFrame(data)\n",
    "df"
   ]
  },
  {
   "cell_type": "code",
   "execution_count": 24,
   "id": "b9ee81a2-91e3-4b29-b030-6a0272983643",
   "metadata": {},
   "outputs": [
    {
     "name": "stdout",
     "output_type": "stream",
     "text": [
      "20220309_FoxA2KOpatterning_10x_Wt_NoRA_mix2_E1_145_406_isotropic 46\n",
      "20220309_FoxA2KOpatterning_10x_Wt_NoRA_mix2_E1_146_407_isotropic 33\n",
      "20220309_FoxA2KOpatterning_10x_Wt_NoRA_mix2_E1_147_408_isotropic 47\n",
      "20220309_FoxA2KOpatterning_10x_Wt_NoRA_mix2_F1_193_442_isotropic 50\n",
      "20220309_FoxA2KOpatterning_10x_Wt_NoRA_mix2_F1_194_443_isotropic 44\n",
      "20220309_FoxA2KOpatterning_10x_Wt_NoRA_mix2_F1_195_444_isotropic 37\n",
      "20220309_FoxA2KOpatterning_10x_Wt_NoRA_mix2_G1_241_478_isotropic 42\n",
      "20220309_FoxA2KOpatterning_10x_Wt_NoRA_mix2_G1_242_479_isotropic 35\n",
      "20220309_FoxA2KOpatterning_10x_Wt_NoRA_mix2_G1_243_480_isotropic 48\n",
      "20220309_FoxA2KOpatterning_10x_Wt_RA_mix2_E2_149_409_isotropic 34\n",
      "20220309_FoxA2KOpatterning_10x_Wt_RA_mix2_E2_150_410_isotropic 24\n",
      "20220309_FoxA2KOpatterning_10x_Wt_RA_mix2_E2_151_411_isotropic 30\n",
      "20220309_FoxA2KOpatterning_10x_Wt_RA_mix2_F2_197_445_isotropic 23\n",
      "20220309_FoxA2KOpatterning_10x_Wt_RA_mix2_F2_198_446_isotropic 26\n",
      "20220309_FoxA2KOpatterning_10x_Wt_RA_mix2_F2_199_447_isotropic 34\n",
      "20220309_FoxA2KOpatterning_10x_Wt_RA_mix2_G2_245_481_isotropic 28\n",
      "20220309_FoxA2KOpatterning_10x_Wt_RA_mix2_G2_246_482_isotropic 28\n",
      "20220309_FoxA2KOpatterning_10x_Wt_RA_mix2_G2_247_483_isotropic 47\n"
     ]
    }
   ],
   "source": [
    "for nm in os.listdir(imageDir):\n",
    "    if \"_C4_AllCystMask.tiff\" in nm:\n",
    "        #print(nm)\n",
    "        fileName = nm.replace('_C4_AllCystMask.tiff','')\n",
    "        #files += [nm]\n",
    "        #print(fileName)\n",
    "        #make_composite_C5(newName, ImageDir, outDir)\n",
    "        if \"_mix2_\" in fileName:\n",
    "            mask = imread(os.path.join(imageDir, str(fileName + \"_C4_AllCystMask.tiff\"))) # mask segmeted cysts\n",
    "            C3 = imread(os.path.join(imageDir, str(fileName + \"_C3.tif\"))) # Pax6-KO genotype \n",
    "            \n",
    "            labels_mask, nb_cyst = measure.label(mask, return_num = True)\n",
    "            cutoff_marker_image = 780\n",
    "            \n",
    "            print(fileName, nb_cyst)\n",
    "        else:\n",
    "            #cutoff_pax6_image = filters.threshold_multiotsu(C4, classes=3, nbins = 512)[1]\n",
    "            continue\n",
    "            \n",
    "        for i in range(nb_cyst+1):\n",
    "            if i > 0:\n",
    "                cyst_index = np.where(labels_mask == i)\n",
    "                \n",
    "                marker = C3[cyst_index]\n",
    "                \n",
    "                index_marker_global = np.where(marker > cutoff_marker_image)\n",
    "                #index_pax6_global = np.where(pax6 > cutoff_pax6_image)\n",
    "                \n",
    "                #cutoff_fako = filters.threshold_otsu(genotype_fako)\n",
    "                #cutoff_pxko = filters.threshold_otsu(genotype_pxko)\n",
    "                cutoff_marker = filters.threshold_otsu(marker)\n",
    "                #cutoff_pax6 = filters.threshold_otsu(pax6)\n",
    "                \n",
    "                index_marker_cyst = np.where(marker > cutoff_marker)\n",
    "                #index_pax6_cyst = np.where(pax6 > cutoff_pax6)\n",
    "                \n",
    "                \n",
    "                #quantile95_fako = np.quantile(genotype_fako, 0.95)\n",
    "                #quantile95_pxko = np.quantile(genotype_pxko, 0.95)\n",
    "                #quantile95_foxa2 = np.quantile(foxa2, 0.95)\n",
    "                #quantile95_pax6 = np.quantile(pax6, 0.95)\n",
    "                \n",
    "                if (cyst_index[0].size) > 1000:\n",
    "                    df.loc[len(df)] = [fileName, i,  \n",
    "                                        cyst_index[0].size,\n",
    "                                        index_marker_global[0].size, cutoff_marker_image, \n",
    "                                        index_marker_cyst[0].size, cutoff_marker\n",
    "                                        ]\n",
    "                                    "
   ]
  },
  {
   "cell_type": "code",
   "execution_count": 26,
   "id": "28a2d4ab-f675-449c-8a18-0441586c93e3",
   "metadata": {},
   "outputs": [],
   "source": [
    "df.to_csv(os.path.join(outDir, \"WT_d6_cyst_size_manualOlig2global_v2.csv\"), index=True, header=True)"
   ]
  },
  {
   "cell_type": "code",
   "execution_count": null,
   "id": "64ffc1e8-5cbb-42f0-9fa7-12e0bd4fce71",
   "metadata": {},
   "outputs": [],
   "source": []
  }
 ],
 "metadata": {
  "kernelspec": {
   "display_name": "Python [conda env:image_py3.9]",
   "language": "python",
   "name": "conda-env-image_py3.9-py"
  },
  "language_info": {
   "codemirror_mode": {
    "name": "ipython",
    "version": 3
   },
   "file_extension": ".py",
   "mimetype": "text/x-python",
   "name": "python",
   "nbconvert_exporter": "python",
   "pygments_lexer": "ipython3",
   "version": "3.9.19"
  }
 },
 "nbformat": 4,
 "nbformat_minor": 5
}
